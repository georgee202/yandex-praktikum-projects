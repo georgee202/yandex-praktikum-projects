{
 "cells": [
  {
   "cell_type": "markdown",
   "metadata": {},
   "source": [
    "# Выбор локации для скважины"
   ]
  },
  {
   "cell_type": "markdown",
   "metadata": {},
   "source": [
    "Добывающей компании «ГлавРосГосНефть» нужно решить, где бурить новую скважину.\n",
    "\n",
    "Предоставлены пробы нефти в трёх регионах: в каждом 10 000 месторождений, где измерили качество нефти и объём её запасов. \n",
    "\n",
    "**Цель исследования**: построить модель для определения региона, где добыча принесёт наибольшую прибыль и проанализировать возможную прибыль и риски техникой Bootstrap."
   ]
  },
  {
   "cell_type": "markdown",
   "metadata": {},
   "source": [
    "## Загрузка и подготовка данных"
   ]
  },
  {
   "cell_type": "code",
   "execution_count": 1,
   "metadata": {},
   "outputs": [],
   "source": [
    "import pandas as pd\n",
    "import numpy as np\n",
    "from sklearn.model_selection import train_test_split\n",
    "from sklearn.linear_model import LinearRegression\n",
    "from sklearn.metrics import mean_squared_error"
   ]
  },
  {
   "cell_type": "code",
   "execution_count": 2,
   "metadata": {},
   "outputs": [],
   "source": [
    "INCOME_PER_UNIT = 450000   #доход за единицу\n",
    "POINTS = 500               #кол-во точек для разработки\n",
    "BEST_POINTS = 200          #кол-во лучших точек для разработки\n",
    "\n",
    "#BUDGET = 10e10             #бюджет\n",
    "\n",
    "BUDGET = 1e10 #код ревьюера\n",
    "\n",
    "NUM = 1000                 #кол-во выборок"
   ]
  },
  {
   "cell_type": "code",
   "execution_count": 3,
   "metadata": {},
   "outputs": [],
   "source": [
    "data_1 = pd.read_csv('/datasets/geo_data_0.csv')\n",
    "data_2 = pd.read_csv('/datasets/geo_data_1.csv')\n",
    "data_3 = pd.read_csv('/datasets/geo_data_2.csv')"
   ]
  },
  {
   "cell_type": "markdown",
   "metadata": {},
   "source": [
    "### Изучение данных первого региона "
   ]
  },
  {
   "cell_type": "code",
   "execution_count": 4,
   "metadata": {},
   "outputs": [
    {
     "name": "stdout",
     "output_type": "stream",
     "text": [
      "<class 'pandas.core.frame.DataFrame'>\n",
      "RangeIndex: 100000 entries, 0 to 99999\n",
      "Data columns (total 5 columns):\n",
      " #   Column   Non-Null Count   Dtype  \n",
      "---  ------   --------------   -----  \n",
      " 0   id       100000 non-null  object \n",
      " 1   f0       100000 non-null  float64\n",
      " 2   f1       100000 non-null  float64\n",
      " 3   f2       100000 non-null  float64\n",
      " 4   product  100000 non-null  float64\n",
      "dtypes: float64(4), object(1)\n",
      "memory usage: 3.8+ MB\n"
     ]
    }
   ],
   "source": [
    "data_1.info()"
   ]
  },
  {
   "cell_type": "code",
   "execution_count": 5,
   "metadata": {},
   "outputs": [
    {
     "data": {
      "text/html": [
       "<div>\n",
       "<style scoped>\n",
       "    .dataframe tbody tr th:only-of-type {\n",
       "        vertical-align: middle;\n",
       "    }\n",
       "\n",
       "    .dataframe tbody tr th {\n",
       "        vertical-align: top;\n",
       "    }\n",
       "\n",
       "    .dataframe thead th {\n",
       "        text-align: right;\n",
       "    }\n",
       "</style>\n",
       "<table border=\"1\" class=\"dataframe\">\n",
       "  <thead>\n",
       "    <tr style=\"text-align: right;\">\n",
       "      <th></th>\n",
       "      <th>id</th>\n",
       "      <th>f0</th>\n",
       "      <th>f1</th>\n",
       "      <th>f2</th>\n",
       "      <th>product</th>\n",
       "    </tr>\n",
       "  </thead>\n",
       "  <tbody>\n",
       "    <tr>\n",
       "      <th>0</th>\n",
       "      <td>txEyH</td>\n",
       "      <td>0.705745</td>\n",
       "      <td>-0.497823</td>\n",
       "      <td>1.221170</td>\n",
       "      <td>105.280062</td>\n",
       "    </tr>\n",
       "    <tr>\n",
       "      <th>1</th>\n",
       "      <td>2acmU</td>\n",
       "      <td>1.334711</td>\n",
       "      <td>-0.340164</td>\n",
       "      <td>4.365080</td>\n",
       "      <td>73.037750</td>\n",
       "    </tr>\n",
       "    <tr>\n",
       "      <th>2</th>\n",
       "      <td>409Wp</td>\n",
       "      <td>1.022732</td>\n",
       "      <td>0.151990</td>\n",
       "      <td>1.419926</td>\n",
       "      <td>85.265647</td>\n",
       "    </tr>\n",
       "    <tr>\n",
       "      <th>3</th>\n",
       "      <td>iJLyR</td>\n",
       "      <td>-0.032172</td>\n",
       "      <td>0.139033</td>\n",
       "      <td>2.978566</td>\n",
       "      <td>168.620776</td>\n",
       "    </tr>\n",
       "    <tr>\n",
       "      <th>4</th>\n",
       "      <td>Xdl7t</td>\n",
       "      <td>1.988431</td>\n",
       "      <td>0.155413</td>\n",
       "      <td>4.751769</td>\n",
       "      <td>154.036647</td>\n",
       "    </tr>\n",
       "  </tbody>\n",
       "</table>\n",
       "</div>"
      ],
      "text/plain": [
       "      id        f0        f1        f2     product\n",
       "0  txEyH  0.705745 -0.497823  1.221170  105.280062\n",
       "1  2acmU  1.334711 -0.340164  4.365080   73.037750\n",
       "2  409Wp  1.022732  0.151990  1.419926   85.265647\n",
       "3  iJLyR -0.032172  0.139033  2.978566  168.620776\n",
       "4  Xdl7t  1.988431  0.155413  4.751769  154.036647"
      ]
     },
     "execution_count": 5,
     "metadata": {},
     "output_type": "execute_result"
    }
   ],
   "source": [
    "data_1.head()"
   ]
  },
  {
   "cell_type": "code",
   "execution_count": 6,
   "metadata": {},
   "outputs": [
    {
     "data": {
      "text/plain": [
       "0"
      ]
     },
     "execution_count": 6,
     "metadata": {},
     "output_type": "execute_result"
    }
   ],
   "source": [
    "data_1.duplicated().sum()"
   ]
  },
  {
   "cell_type": "code",
   "execution_count": 7,
   "metadata": {},
   "outputs": [
    {
     "data": {
      "text/plain": [
       "id         0\n",
       "f0         0\n",
       "f1         0\n",
       "f2         0\n",
       "product    0\n",
       "dtype: int64"
      ]
     },
     "execution_count": 7,
     "metadata": {},
     "output_type": "execute_result"
    }
   ],
   "source": [
    "data_1.isna().sum()"
   ]
  },
  {
   "cell_type": "markdown",
   "metadata": {},
   "source": [
    "В 1 регионе все данные в порядке, столбцы соостветвуют своим правильным типам данных, отсутсвуют дубликаты и пустые значения."
   ]
  },
  {
   "cell_type": "markdown",
   "metadata": {},
   "source": [
    "### Изучение данных второго региона "
   ]
  },
  {
   "cell_type": "code",
   "execution_count": 8,
   "metadata": {},
   "outputs": [
    {
     "name": "stdout",
     "output_type": "stream",
     "text": [
      "<class 'pandas.core.frame.DataFrame'>\n",
      "RangeIndex: 100000 entries, 0 to 99999\n",
      "Data columns (total 5 columns):\n",
      " #   Column   Non-Null Count   Dtype  \n",
      "---  ------   --------------   -----  \n",
      " 0   id       100000 non-null  object \n",
      " 1   f0       100000 non-null  float64\n",
      " 2   f1       100000 non-null  float64\n",
      " 3   f2       100000 non-null  float64\n",
      " 4   product  100000 non-null  float64\n",
      "dtypes: float64(4), object(1)\n",
      "memory usage: 3.8+ MB\n"
     ]
    }
   ],
   "source": [
    "data_2.info()"
   ]
  },
  {
   "cell_type": "code",
   "execution_count": 9,
   "metadata": {},
   "outputs": [
    {
     "data": {
      "text/html": [
       "<div>\n",
       "<style scoped>\n",
       "    .dataframe tbody tr th:only-of-type {\n",
       "        vertical-align: middle;\n",
       "    }\n",
       "\n",
       "    .dataframe tbody tr th {\n",
       "        vertical-align: top;\n",
       "    }\n",
       "\n",
       "    .dataframe thead th {\n",
       "        text-align: right;\n",
       "    }\n",
       "</style>\n",
       "<table border=\"1\" class=\"dataframe\">\n",
       "  <thead>\n",
       "    <tr style=\"text-align: right;\">\n",
       "      <th></th>\n",
       "      <th>id</th>\n",
       "      <th>f0</th>\n",
       "      <th>f1</th>\n",
       "      <th>f2</th>\n",
       "      <th>product</th>\n",
       "    </tr>\n",
       "  </thead>\n",
       "  <tbody>\n",
       "    <tr>\n",
       "      <th>0</th>\n",
       "      <td>kBEdx</td>\n",
       "      <td>-15.001348</td>\n",
       "      <td>-8.276000</td>\n",
       "      <td>-0.005876</td>\n",
       "      <td>3.179103</td>\n",
       "    </tr>\n",
       "    <tr>\n",
       "      <th>1</th>\n",
       "      <td>62mP7</td>\n",
       "      <td>14.272088</td>\n",
       "      <td>-3.475083</td>\n",
       "      <td>0.999183</td>\n",
       "      <td>26.953261</td>\n",
       "    </tr>\n",
       "    <tr>\n",
       "      <th>2</th>\n",
       "      <td>vyE1P</td>\n",
       "      <td>6.263187</td>\n",
       "      <td>-5.948386</td>\n",
       "      <td>5.001160</td>\n",
       "      <td>134.766305</td>\n",
       "    </tr>\n",
       "    <tr>\n",
       "      <th>3</th>\n",
       "      <td>KcrkZ</td>\n",
       "      <td>-13.081196</td>\n",
       "      <td>-11.506057</td>\n",
       "      <td>4.999415</td>\n",
       "      <td>137.945408</td>\n",
       "    </tr>\n",
       "    <tr>\n",
       "      <th>4</th>\n",
       "      <td>AHL4O</td>\n",
       "      <td>12.702195</td>\n",
       "      <td>-8.147433</td>\n",
       "      <td>5.004363</td>\n",
       "      <td>134.766305</td>\n",
       "    </tr>\n",
       "  </tbody>\n",
       "</table>\n",
       "</div>"
      ],
      "text/plain": [
       "      id         f0         f1        f2     product\n",
       "0  kBEdx -15.001348  -8.276000 -0.005876    3.179103\n",
       "1  62mP7  14.272088  -3.475083  0.999183   26.953261\n",
       "2  vyE1P   6.263187  -5.948386  5.001160  134.766305\n",
       "3  KcrkZ -13.081196 -11.506057  4.999415  137.945408\n",
       "4  AHL4O  12.702195  -8.147433  5.004363  134.766305"
      ]
     },
     "execution_count": 9,
     "metadata": {},
     "output_type": "execute_result"
    }
   ],
   "source": [
    "data_2.head()"
   ]
  },
  {
   "cell_type": "code",
   "execution_count": 10,
   "metadata": {},
   "outputs": [
    {
     "data": {
      "text/plain": [
       "0"
      ]
     },
     "execution_count": 10,
     "metadata": {},
     "output_type": "execute_result"
    }
   ],
   "source": [
    "data_2.duplicated().sum()"
   ]
  },
  {
   "cell_type": "code",
   "execution_count": 11,
   "metadata": {},
   "outputs": [
    {
     "data": {
      "text/plain": [
       "id         0\n",
       "f0         0\n",
       "f1         0\n",
       "f2         0\n",
       "product    0\n",
       "dtype: int64"
      ]
     },
     "execution_count": 11,
     "metadata": {},
     "output_type": "execute_result"
    }
   ],
   "source": [
    "data_2.isna().sum()"
   ]
  },
  {
   "cell_type": "markdown",
   "metadata": {},
   "source": [
    "Во 2 регионе также все данные в порядке, столбцы соостветвуют своим правильным типам данных, отсутсвуют дубликаты и пустые значения."
   ]
  },
  {
   "cell_type": "markdown",
   "metadata": {},
   "source": [
    "### Изучение данных третьего региона "
   ]
  },
  {
   "cell_type": "code",
   "execution_count": 12,
   "metadata": {},
   "outputs": [
    {
     "name": "stdout",
     "output_type": "stream",
     "text": [
      "<class 'pandas.core.frame.DataFrame'>\n",
      "RangeIndex: 100000 entries, 0 to 99999\n",
      "Data columns (total 5 columns):\n",
      " #   Column   Non-Null Count   Dtype  \n",
      "---  ------   --------------   -----  \n",
      " 0   id       100000 non-null  object \n",
      " 1   f0       100000 non-null  float64\n",
      " 2   f1       100000 non-null  float64\n",
      " 3   f2       100000 non-null  float64\n",
      " 4   product  100000 non-null  float64\n",
      "dtypes: float64(4), object(1)\n",
      "memory usage: 3.8+ MB\n"
     ]
    }
   ],
   "source": [
    "data_3.info()"
   ]
  },
  {
   "cell_type": "code",
   "execution_count": 13,
   "metadata": {},
   "outputs": [
    {
     "data": {
      "text/html": [
       "<div>\n",
       "<style scoped>\n",
       "    .dataframe tbody tr th:only-of-type {\n",
       "        vertical-align: middle;\n",
       "    }\n",
       "\n",
       "    .dataframe tbody tr th {\n",
       "        vertical-align: top;\n",
       "    }\n",
       "\n",
       "    .dataframe thead th {\n",
       "        text-align: right;\n",
       "    }\n",
       "</style>\n",
       "<table border=\"1\" class=\"dataframe\">\n",
       "  <thead>\n",
       "    <tr style=\"text-align: right;\">\n",
       "      <th></th>\n",
       "      <th>id</th>\n",
       "      <th>f0</th>\n",
       "      <th>f1</th>\n",
       "      <th>f2</th>\n",
       "      <th>product</th>\n",
       "    </tr>\n",
       "  </thead>\n",
       "  <tbody>\n",
       "    <tr>\n",
       "      <th>0</th>\n",
       "      <td>fwXo0</td>\n",
       "      <td>-1.146987</td>\n",
       "      <td>0.963328</td>\n",
       "      <td>-0.828965</td>\n",
       "      <td>27.758673</td>\n",
       "    </tr>\n",
       "    <tr>\n",
       "      <th>1</th>\n",
       "      <td>WJtFt</td>\n",
       "      <td>0.262778</td>\n",
       "      <td>0.269839</td>\n",
       "      <td>-2.530187</td>\n",
       "      <td>56.069697</td>\n",
       "    </tr>\n",
       "    <tr>\n",
       "      <th>2</th>\n",
       "      <td>ovLUW</td>\n",
       "      <td>0.194587</td>\n",
       "      <td>0.289035</td>\n",
       "      <td>-5.586433</td>\n",
       "      <td>62.871910</td>\n",
       "    </tr>\n",
       "    <tr>\n",
       "      <th>3</th>\n",
       "      <td>q6cA6</td>\n",
       "      <td>2.236060</td>\n",
       "      <td>-0.553760</td>\n",
       "      <td>0.930038</td>\n",
       "      <td>114.572842</td>\n",
       "    </tr>\n",
       "    <tr>\n",
       "      <th>4</th>\n",
       "      <td>WPMUX</td>\n",
       "      <td>-0.515993</td>\n",
       "      <td>1.716266</td>\n",
       "      <td>5.899011</td>\n",
       "      <td>149.600746</td>\n",
       "    </tr>\n",
       "  </tbody>\n",
       "</table>\n",
       "</div>"
      ],
      "text/plain": [
       "      id        f0        f1        f2     product\n",
       "0  fwXo0 -1.146987  0.963328 -0.828965   27.758673\n",
       "1  WJtFt  0.262778  0.269839 -2.530187   56.069697\n",
       "2  ovLUW  0.194587  0.289035 -5.586433   62.871910\n",
       "3  q6cA6  2.236060 -0.553760  0.930038  114.572842\n",
       "4  WPMUX -0.515993  1.716266  5.899011  149.600746"
      ]
     },
     "execution_count": 13,
     "metadata": {},
     "output_type": "execute_result"
    }
   ],
   "source": [
    "data_3.head()"
   ]
  },
  {
   "cell_type": "code",
   "execution_count": 14,
   "metadata": {},
   "outputs": [
    {
     "data": {
      "text/plain": [
       "0"
      ]
     },
     "execution_count": 14,
     "metadata": {},
     "output_type": "execute_result"
    }
   ],
   "source": [
    "data_3.duplicated().sum()"
   ]
  },
  {
   "cell_type": "code",
   "execution_count": 15,
   "metadata": {},
   "outputs": [
    {
     "data": {
      "text/plain": [
       "id         0\n",
       "f0         0\n",
       "f1         0\n",
       "f2         0\n",
       "product    0\n",
       "dtype: int64"
      ]
     },
     "execution_count": 15,
     "metadata": {},
     "output_type": "execute_result"
    }
   ],
   "source": [
    "data_3.isna().sum()"
   ]
  },
  {
   "cell_type": "markdown",
   "metadata": {},
   "source": [
    "В 3 регионе также все данные в порядке, столбцы соостветвуют своим правильным типам данных, отсутсвуют дубликаты и пустые значения."
   ]
  },
  {
   "cell_type": "markdown",
   "metadata": {},
   "source": [
    "**Вывод:** дополнительной предобработки данные не требуют. "
   ]
  },
  {
   "cell_type": "markdown",
   "metadata": {},
   "source": [
    "## Обучение и проверка модели"
   ]
  },
  {
   "cell_type": "markdown",
   "metadata": {},
   "source": [
    "### Деление данных на выборки"
   ]
  },
  {
   "cell_type": "markdown",
   "metadata": {},
   "source": [
    "#### Регион 1"
   ]
  },
  {
   "cell_type": "code",
   "execution_count": 16,
   "metadata": {},
   "outputs": [
    {
     "name": "stdout",
     "output_type": "stream",
     "text": [
      "Размер тренировочной выборки: (75000, 5)\n",
      "Размер валидационной выборки: (25000, 5)\n"
     ]
    }
   ],
   "source": [
    "data_1_train, data_1_valid = train_test_split(data_1, test_size=0.25, random_state=12345)\n",
    "print('Размер тренировочной выборки:', data_1_train.shape)\n",
    "print('Размер валидационной выборки:', data_1_valid.shape)"
   ]
  },
  {
   "cell_type": "code",
   "execution_count": 17,
   "metadata": {},
   "outputs": [],
   "source": [
    "features_train_1 = data_1_train.drop(['id', 'product'], axis=1)\n",
    "target_train_1 = data_1_train['product']\n",
    "features_valid_1 = data_1_valid.drop(['id', 'product'], axis=1)\n",
    "target_valid_1 = data_1_valid['product']"
   ]
  },
  {
   "cell_type": "markdown",
   "metadata": {},
   "source": [
    "#### Регион 2"
   ]
  },
  {
   "cell_type": "code",
   "execution_count": 18,
   "metadata": {},
   "outputs": [
    {
     "name": "stdout",
     "output_type": "stream",
     "text": [
      "Размер тренировочной выборки: (75000, 5)\n",
      "Размер валидационной выборки: (25000, 5)\n"
     ]
    }
   ],
   "source": [
    "data_2_train, data_2_valid = train_test_split(data_2, test_size=0.25, random_state=12345)\n",
    "print('Размер тренировочной выборки:', data_2_train.shape)\n",
    "print('Размер валидационной выборки:', data_2_valid.shape)"
   ]
  },
  {
   "cell_type": "code",
   "execution_count": 19,
   "metadata": {},
   "outputs": [],
   "source": [
    "features_train_2 = data_2_train.drop(['id', 'product'], axis=1)\n",
    "target_train_2 = data_2_train['product']\n",
    "features_valid_2 = data_2_valid.drop(['id', 'product'], axis=1)\n",
    "target_valid_2 = data_2_valid['product']"
   ]
  },
  {
   "cell_type": "markdown",
   "metadata": {},
   "source": [
    "#### Регион 3"
   ]
  },
  {
   "cell_type": "code",
   "execution_count": 20,
   "metadata": {},
   "outputs": [
    {
     "name": "stdout",
     "output_type": "stream",
     "text": [
      "Размер тренировочной выборки: (75000, 5)\n",
      "Размер валидационной выборки: (25000, 5)\n"
     ]
    }
   ],
   "source": [
    "data_3_train, data_3_valid = train_test_split(data_3, test_size=0.25, random_state=12345)\n",
    "print('Размер тренировочной выборки:', data_3_train.shape)\n",
    "print('Размер валидационной выборки:', data_3_valid.shape)"
   ]
  },
  {
   "cell_type": "code",
   "execution_count": 21,
   "metadata": {},
   "outputs": [],
   "source": [
    "features_train_3 = data_3_train.drop(['id', 'product'], axis=1)\n",
    "target_train_3 = data_3_train['product']\n",
    "features_valid_3 = data_3_valid.drop(['id', 'product'], axis=1)\n",
    "target_valid_3 = data_3_valid['product']"
   ]
  },
  {
   "cell_type": "markdown",
   "metadata": {},
   "source": [
    "### Обучение модели и расчет метрик"
   ]
  },
  {
   "cell_type": "code",
   "execution_count": 22,
   "metadata": {},
   "outputs": [],
   "source": [
    "def learning_model(features_train, features_valid, target_train, target_valid):\n",
    "    model = LinearRegression()\n",
    "    model.fit(features_train, target_train)\n",
    "    predicted = model.predict(features_valid)\n",
    "    rmse = mean_squared_error(target_valid, predicted)**0.5\n",
    "    print('Среднеквадратичная ошибка RMSE:', rmse)\n",
    "    print('Cредний запас предсказанного сырья:', predicted.mean())\n",
    "    return model, predicted, rmse"
   ]
  },
  {
   "cell_type": "markdown",
   "metadata": {},
   "source": [
    "#### Регион 1"
   ]
  },
  {
   "cell_type": "code",
   "execution_count": 23,
   "metadata": {},
   "outputs": [
    {
     "name": "stdout",
     "output_type": "stream",
     "text": [
      "Среднеквадратичная ошибка RMSE: 37.5794217150813\n",
      "Cредний запас предсказанного сырья: 92.59256778438035\n"
     ]
    }
   ],
   "source": [
    "model_1, predicted_1, rmse_1 = learning_model(features_train_1, features_valid_1, target_train_1, target_valid_1)"
   ]
  },
  {
   "cell_type": "markdown",
   "metadata": {},
   "source": [
    "#### Регион 2"
   ]
  },
  {
   "cell_type": "code",
   "execution_count": 24,
   "metadata": {},
   "outputs": [
    {
     "name": "stdout",
     "output_type": "stream",
     "text": [
      "Среднеквадратичная ошибка RMSE: 0.893099286775617\n",
      "Cредний запас предсказанного сырья: 68.728546895446\n"
     ]
    }
   ],
   "source": [
    "model_2, predicted_2, rmse_2 = learning_model(features_train_2, features_valid_2, target_train_2, target_valid_2)"
   ]
  },
  {
   "cell_type": "markdown",
   "metadata": {},
   "source": [
    "#### Регион 3"
   ]
  },
  {
   "cell_type": "code",
   "execution_count": 25,
   "metadata": {},
   "outputs": [
    {
     "name": "stdout",
     "output_type": "stream",
     "text": [
      "Среднеквадратичная ошибка RMSE: 40.02970873393434\n",
      "Cредний запас предсказанного сырья: 94.96504596800489\n"
     ]
    }
   ],
   "source": [
    "model_3, predicted_3, rmse_3 = learning_model(features_train_3, features_valid_3, target_train_3, target_valid_3)"
   ]
  },
  {
   "cell_type": "markdown",
   "metadata": {},
   "source": [
    "**Вывод:** мы обучили модели и предсказали запасы сырья для всех 3 регионов. Заметны отличия во 2 регионе. Тогда как в 1 и 3 регионе средний запас предсказанного сырья равняется около 93, то во 2 он составляет ~ 69. И среднеквадратичная ошибка во 2 регионе так же сильно отличается, она достаточно небольшая (меньше 1). "
   ]
  },
  {
   "cell_type": "markdown",
   "metadata": {},
   "source": [
    "## Подготовка к расчёту прибыли"
   ]
  },
  {
   "cell_type": "markdown",
   "metadata": {},
   "source": [
    "### Ключевые значения"
   ]
  },
  {
   "cell_type": "markdown",
   "metadata": {},
   "source": [
    "### Рассчет достаточного объём сырья для безубыточной разработки и сравнение со средним"
   ]
  },
  {
   "cell_type": "code",
   "execution_count": 26,
   "metadata": {},
   "outputs": [
    {
     "data": {
      "text/plain": [
       "'111.11111111111111 тыс. баррелей.'"
      ]
     },
     "execution_count": 26,
     "metadata": {},
     "output_type": "execute_result"
    }
   ],
   "source": [
    "suff_volume = BUDGET/BEST_POINTS/INCOME_PER_UNIT\n",
    "f'{suff_volume} тыс. баррелей.'"
   ]
  },
  {
   "cell_type": "markdown",
   "metadata": {},
   "source": [
    "#### Регион 1"
   ]
  },
  {
   "cell_type": "code",
   "execution_count": 27,
   "metadata": {},
   "outputs": [
    {
     "name": "stdout",
     "output_type": "stream",
     "text": [
      "Разница составляет 18.6111111111111 тыс. баррелей.\n"
     ]
    }
   ],
   "source": [
    "print(f'Разница составляет {suff_volume-data_1[\"product\"].mean()} тыс. баррелей.')"
   ]
  },
  {
   "cell_type": "markdown",
   "metadata": {},
   "source": [
    "#### Регион 2"
   ]
  },
  {
   "cell_type": "code",
   "execution_count": 28,
   "metadata": {},
   "outputs": [
    {
     "name": "stdout",
     "output_type": "stream",
     "text": [
      "Разница составляет 42.2861111111111 тыс. баррелей.\n"
     ]
    }
   ],
   "source": [
    "print(f'Разница составляет {suff_volume-data_2[\"product\"].mean()} тыс. баррелей.')"
   ]
  },
  {
   "cell_type": "markdown",
   "metadata": {},
   "source": [
    "#### Регион 3"
   ]
  },
  {
   "cell_type": "code",
   "execution_count": 29,
   "metadata": {},
   "outputs": [
    {
     "name": "stdout",
     "output_type": "stream",
     "text": [
      "Разница составляет 16.11111111111107 тыс. баррелей.\n"
     ]
    }
   ],
   "source": [
    "print(f'Разница составляет {suff_volume-data_3[\"product\"].mean()} тыс. баррелей.')"
   ]
  },
  {
   "cell_type": "markdown",
   "metadata": {},
   "source": [
    "**Вывод:** объём сырья для безубыточной разработки новой скважины, чтобы быть достаточным, должен составлять не менее 111.(1) тыс. баррелей.\n",
    "* Разница между достаточным объемом сырья и средним запасом для 1 региона составляет 18.6111111111111 тыс. баррелей.\n",
    "* Разница между достаточным объемом сырья и средним запасом для 2 региона составляет 42.2861111111111 тыс. баррелей.\n",
    "* Разница между достаточным объемом сырья и средним запасом для 3 региона составляет 16.11111111111107 тыс. баррелей."
   ]
  },
  {
   "cell_type": "markdown",
   "metadata": {},
   "source": [
    "## Расчёт прибыли и рисков "
   ]
  },
  {
   "cell_type": "markdown",
   "metadata": {},
   "source": [
    "### Функция для расчёта прибыли по выбранным скважинам и предсказаниям модели"
   ]
  },
  {
   "cell_type": "markdown",
   "metadata": {},
   "source": [
    "* Выбераем скважины с максимальными значениями предсказаний. \n",
    "* Суммируем целевое значение объёма сырья, соответствующее этим предсказаниям.\n",
    "* Рассчитываем прибыль для полученного объёма сырья."
   ]
  },
  {
   "cell_type": "code",
   "execution_count": 30,
   "metadata": {},
   "outputs": [],
   "source": [
    "def revenue(target, predictions, count):\n",
    "    probs_sorted = pd.Series(predictions, index=target.index).sort_values(ascending=False)[:count]    \n",
    "    selected = target[probs_sorted.index].sum() \n",
    "    profit_pred = selected * INCOME_PER_UNIT - BUDGET\n",
    "    return profit_pred"
   ]
  },
  {
   "cell_type": "markdown",
   "metadata": {},
   "source": [
    "#### Регион 1"
   ]
  },
  {
   "cell_type": "code",
   "execution_count": 31,
   "metadata": {},
   "outputs": [
    {
     "name": "stdout",
     "output_type": "stream",
     "text": [
      "Прибыль для полученного объёма сырья: 3320826043.1398506 тыс. рублей.\n"
     ]
    }
   ],
   "source": [
    "profit_pred = revenue(target_valid_1, predicted_1, BEST_POINTS)\n",
    "print('Прибыль для полученного объёма сырья:', profit_pred, 'тыс. рублей.')"
   ]
  },
  {
   "cell_type": "markdown",
   "metadata": {},
   "source": [
    "#### Регион 2"
   ]
  },
  {
   "cell_type": "code",
   "execution_count": 32,
   "metadata": {},
   "outputs": [
    {
     "name": "stdout",
     "output_type": "stream",
     "text": [
      "Прибыль для полученного объёма сырья: 2415086696.681511 тыс. рублей.\n"
     ]
    }
   ],
   "source": [
    "profit_pred = revenue(target_valid_2, predicted_2, BEST_POINTS)\n",
    "print('Прибыль для полученного объёма сырья:', profit_pred, 'тыс. рублей.')"
   ]
  },
  {
   "cell_type": "markdown",
   "metadata": {},
   "source": [
    "#### Регион 3"
   ]
  },
  {
   "cell_type": "code",
   "execution_count": 33,
   "metadata": {},
   "outputs": [
    {
     "name": "stdout",
     "output_type": "stream",
     "text": [
      "Прибыль для полученного объёма сырья: 2710349963.5998325 тыс. рублей.\n"
     ]
    }
   ],
   "source": [
    "profit_pred = revenue(target_valid_3, predicted_3, BEST_POINTS)\n",
    "print('Прибыль для полученного объёма сырья:', profit_pred, 'тыс. рублей.')"
   ]
  },
  {
   "cell_type": "markdown",
   "metadata": {},
   "source": [
    "### Bootstrap с 1000 выборок"
   ]
  },
  {
   "cell_type": "code",
   "execution_count": 34,
   "metadata": {},
   "outputs": [
    {
     "name": "stdout",
     "output_type": "stream",
     "text": [
      "Регион 1\n",
      "Средняя прибыль: 600735244.2611653\n",
      "95%-доверительный интервал: от 12948331.135115242 до 1231163605.7914982\n",
      "Риск убытков: 2.0%\n",
      "\n",
      "Регион 2\n",
      "Средняя прибыль: 663958995.2601906\n",
      "95%-доверительный интервал: от 206476361.25177094 до 1191197684.7488434\n",
      "Риск убытков: 0.1%\n",
      "\n",
      "Регион 3\n",
      "Средняя прибыль: 597381047.9005232\n",
      "95%-доверительный интервал: от 1734929.5311760982 до 1246217960.1652355\n",
      "Риск убытков: 2.5%\n",
      "\n"
     ]
    }
   ],
   "source": [
    "targets = [target_valid_1, target_valid_2, target_valid_3]\n",
    "predictions = [pd.Series(predicted_1, index=target_valid_1.index), pd.Series(predicted_2, index=target_valid_2.index), pd.Series(predicted_3, index=target_valid_3.index)]\n",
    "state = np.random.RandomState(12345)\n",
    "\n",
    "for i in range(3):\n",
    "    values = []\n",
    "    for _ in range(NUM):\n",
    "        target_subsample = targets[i].sample(n=POINTS, replace=True, random_state=state)\n",
    "        predictions_subsample = predictions[i][target_subsample.index]\n",
    "        values.append(revenue(target_subsample, predictions_subsample, BEST_POINTS))\n",
    "    \n",
    "    values = pd.Series(values)\n",
    "    lower = values.quantile(.025)\n",
    "    upper = values.quantile(.975)\n",
    "    val_mean = values.mean()\n",
    "    risk_losses = sum(values<0) / values.count()*100\n",
    "    \n",
    "    print(f'Регион {i+1}')\n",
    "    print('Средняя прибыль:', val_mean)\n",
    "    print(f'95%-доверительный интервал: от {lower} до {upper}')\n",
    "    print(f'Риск убытков: {risk_losses}%')\n",
    "    print()"
   ]
  },
  {
   "cell_type": "markdown",
   "metadata": {},
   "source": [
    "Судя по наименьшим рискам подходит регион 1 и 3. Однако средняя прибыль значительно выше во 2 регионе, риски не настолько велики в этом регионе, чтобы ради них жертвовать большей прибыли. Оптимально остановится на регионе 2."
   ]
  },
  {
   "cell_type": "markdown",
   "metadata": {},
   "source": [
    "## Вывод"
   ]
  },
  {
   "cell_type": "markdown",
   "metadata": {},
   "source": [
    "* На начальном этапе исследования были подготовлены данные, которые не требовали предобработки. Затем для каждого региона данные были разбиты на тренировочную и валидационную выборку в соотношении 3:1 соответственно. Для каждого региона обучена модель, для этого использовалась линейная регрессия. \n",
    "* Посчитаны осоновные метрики: RMSE, cредний запас предсказанного сырья. Заметны отличия во 2 регионе. Тогда как в 1 и 3 регионе средний запас предсказанного сырья равняется около 93, то во 2 он составляет ~ 69. И среднеквадратичная ошибка во 2 регионе так же сильно отличается, она достаточно небольшая (меньше 1).\n",
    "* Был сделан вывод, что объём сырья для безубыточной разработки новой скважины, чтобы быть достаточным, должен составлять не менее 111.(1) тыс. баррелей.\n",
    "* Была посчитна разница между достаточным объемом сырья и средним запасом для каждого региона.\n",
    "* Функция для расчёта прибыли по выбранным скважинам и предсказаниям модели показала прибыль для полученного объёма сырья для каждого региона.\n",
    "* С помощью техники Bootstrap с 1000 выборок было найдено распределение прибыли, средняя прибыль, 95%-й доверительный интервал и риск убытков.\n",
    "* По факторам рисков и средней прибыли было принято решение **выбрать 2 регион** для разработки скважин."
   ]
  }
 ],
 "metadata": {
  "ExecuteTimeLog": [
   {
    "duration": 51,
    "start_time": "2023-04-17T18:24:00.340Z"
   },
   {
    "duration": 1136,
    "start_time": "2023-04-17T18:24:03.981Z"
   },
   {
    "duration": 3,
    "start_time": "2023-04-17T18:24:05.724Z"
   },
   {
    "duration": 3,
    "start_time": "2023-04-17T18:24:07.801Z"
   },
   {
    "duration": 2169,
    "start_time": "2023-04-17T18:24:08.178Z"
   },
   {
    "duration": 16,
    "start_time": "2023-04-17T18:24:10.349Z"
   },
   {
    "duration": 17,
    "start_time": "2023-04-17T18:24:19.607Z"
   },
   {
    "duration": 55,
    "start_time": "2023-04-17T18:24:41.907Z"
   },
   {
    "duration": 58,
    "start_time": "2023-04-17T18:24:49.574Z"
   },
   {
    "duration": 12,
    "start_time": "2023-04-17T18:25:26.402Z"
   },
   {
    "duration": 15,
    "start_time": "2023-04-17T18:28:18.947Z"
   },
   {
    "duration": 15,
    "start_time": "2023-04-17T18:28:19.806Z"
   },
   {
    "duration": 13,
    "start_time": "2023-04-17T18:28:22.014Z"
   },
   {
    "duration": 11,
    "start_time": "2023-04-17T18:28:22.504Z"
   },
   {
    "duration": 49,
    "start_time": "2023-04-17T18:28:23.604Z"
   },
   {
    "duration": 23,
    "start_time": "2023-04-17T18:28:24.682Z"
   },
   {
    "duration": 16,
    "start_time": "2023-04-17T18:28:25.778Z"
   },
   {
    "duration": 10,
    "start_time": "2023-04-17T18:28:26.319Z"
   },
   {
    "duration": 52,
    "start_time": "2023-04-17T18:28:26.808Z"
   },
   {
    "duration": 10,
    "start_time": "2023-04-17T18:28:27.306Z"
   },
   {
    "duration": 57,
    "start_time": "2023-04-17T18:30:59.804Z"
   },
   {
    "duration": 31,
    "start_time": "2023-04-17T18:51:56.586Z"
   },
   {
    "duration": 7,
    "start_time": "2023-04-17T18:51:59.314Z"
   },
   {
    "duration": 25,
    "start_time": "2023-04-17T18:52:01.929Z"
   },
   {
    "duration": 7,
    "start_time": "2023-04-17T18:52:05.611Z"
   },
   {
    "duration": 25,
    "start_time": "2023-04-17T18:52:09.233Z"
   },
   {
    "duration": 7,
    "start_time": "2023-04-17T18:52:11.819Z"
   },
   {
    "duration": 30,
    "start_time": "2023-04-17T18:55:05.917Z"
   },
   {
    "duration": 20,
    "start_time": "2023-04-17T18:55:11.502Z"
   },
   {
    "duration": 20,
    "start_time": "2023-04-17T18:55:14.227Z"
   },
   {
    "duration": 52,
    "start_time": "2023-04-17T19:05:48.946Z"
   },
   {
    "duration": 24,
    "start_time": "2023-04-17T19:06:08.382Z"
   },
   {
    "duration": 16,
    "start_time": "2023-04-17T19:06:10.384Z"
   },
   {
    "duration": 19,
    "start_time": "2023-04-17T19:06:12.438Z"
   },
   {
    "duration": 3,
    "start_time": "2023-04-17T20:41:17.340Z"
   },
   {
    "duration": 3,
    "start_time": "2023-04-17T20:41:20.430Z"
   },
   {
    "duration": 4,
    "start_time": "2023-04-17T20:41:26.012Z"
   },
   {
    "duration": 3,
    "start_time": "2023-04-17T21:05:50.080Z"
   },
   {
    "duration": 76,
    "start_time": "2023-04-17T21:05:52.028Z"
   },
   {
    "duration": 15,
    "start_time": "2023-04-17T21:06:20.506Z"
   },
   {
    "duration": 3,
    "start_time": "2023-04-17T21:07:12.818Z"
   },
   {
    "duration": 25,
    "start_time": "2023-04-17T21:07:19.913Z"
   },
   {
    "duration": 4,
    "start_time": "2023-04-17T21:08:46.714Z"
   },
   {
    "duration": 8,
    "start_time": "2023-04-17T21:08:49.228Z"
   },
   {
    "duration": 12,
    "start_time": "2023-04-17T21:08:56.713Z"
   },
   {
    "duration": 7,
    "start_time": "2023-04-17T21:09:07.957Z"
   },
   {
    "duration": 9,
    "start_time": "2023-04-17T21:09:10.603Z"
   },
   {
    "duration": 8,
    "start_time": "2023-04-17T21:09:23.281Z"
   },
   {
    "duration": 13,
    "start_time": "2023-04-17T21:22:39.828Z"
   },
   {
    "duration": 12,
    "start_time": "2023-04-17T21:23:02.951Z"
   },
   {
    "duration": 12,
    "start_time": "2023-04-17T21:23:41.333Z"
   },
   {
    "duration": 13,
    "start_time": "2023-04-17T21:25:20.072Z"
   },
   {
    "duration": 19,
    "start_time": "2023-04-17T21:26:05.774Z"
   },
   {
    "duration": 4932,
    "start_time": "2023-04-17T21:28:51.079Z"
   },
   {
    "duration": 4,
    "start_time": "2023-04-17T21:29:52.605Z"
   },
   {
    "duration": 2740,
    "start_time": "2023-04-17T21:29:55.109Z"
   },
   {
    "duration": 2790,
    "start_time": "2023-04-17T21:30:36.887Z"
   },
   {
    "duration": 2797,
    "start_time": "2023-04-17T21:31:41.442Z"
   },
   {
    "duration": 2772,
    "start_time": "2023-04-17T21:37:33.021Z"
   },
   {
    "duration": 2777,
    "start_time": "2023-04-17T21:37:46.460Z"
   },
   {
    "duration": 10,
    "start_time": "2023-04-17T21:38:54.284Z"
   },
   {
    "duration": 9,
    "start_time": "2023-04-17T21:39:15.519Z"
   },
   {
    "duration": 13,
    "start_time": "2023-04-17T21:39:22.753Z"
   },
   {
    "duration": 12,
    "start_time": "2023-04-17T21:39:34.158Z"
   },
   {
    "duration": 12,
    "start_time": "2023-04-17T21:39:45.657Z"
   },
   {
    "duration": 7,
    "start_time": "2023-04-17T21:39:49.377Z"
   },
   {
    "duration": 13,
    "start_time": "2023-04-17T21:39:53.388Z"
   },
   {
    "duration": 9,
    "start_time": "2023-04-17T21:40:39.453Z"
   },
   {
    "duration": 750,
    "start_time": "2023-04-17T21:40:41.790Z"
   },
   {
    "duration": 4,
    "start_time": "2023-04-17T21:41:47.181Z"
   },
   {
    "duration": 10,
    "start_time": "2023-04-17T21:41:58.799Z"
   },
   {
    "duration": 781,
    "start_time": "2023-04-17T21:42:01.512Z"
   },
   {
    "duration": 752,
    "start_time": "2023-04-17T21:42:12.942Z"
   },
   {
    "duration": 780,
    "start_time": "2023-04-17T21:42:24.160Z"
   },
   {
    "duration": 7,
    "start_time": "2023-04-17T21:42:34.950Z"
   },
   {
    "duration": 772,
    "start_time": "2023-04-17T21:42:37.702Z"
   },
   {
    "duration": 782,
    "start_time": "2023-04-17T21:43:15.402Z"
   },
   {
    "duration": 748,
    "start_time": "2023-04-17T21:44:19.390Z"
   },
   {
    "duration": 2816,
    "start_time": "2023-04-17T21:46:25.709Z"
   },
   {
    "duration": 3,
    "start_time": "2023-04-17T21:47:06.582Z"
   },
   {
    "duration": 393,
    "start_time": "2023-04-17T21:47:07.114Z"
   },
   {
    "duration": 16,
    "start_time": "2023-04-17T21:47:07.900Z"
   },
   {
    "duration": 10,
    "start_time": "2023-04-17T21:47:08.185Z"
   },
   {
    "duration": 48,
    "start_time": "2023-04-17T21:47:08.398Z"
   },
   {
    "duration": 10,
    "start_time": "2023-04-17T21:47:08.568Z"
   },
   {
    "duration": 14,
    "start_time": "2023-04-17T21:47:09.346Z"
   },
   {
    "duration": 9,
    "start_time": "2023-04-17T21:47:09.362Z"
   },
   {
    "duration": 47,
    "start_time": "2023-04-17T21:47:09.454Z"
   },
   {
    "duration": 9,
    "start_time": "2023-04-17T21:47:09.611Z"
   },
   {
    "duration": 16,
    "start_time": "2023-04-17T21:47:10.150Z"
   },
   {
    "duration": 13,
    "start_time": "2023-04-17T21:47:10.331Z"
   },
   {
    "duration": 60,
    "start_time": "2023-04-17T21:47:10.573Z"
   },
   {
    "duration": 10,
    "start_time": "2023-04-17T21:47:11.017Z"
   },
   {
    "duration": 21,
    "start_time": "2023-04-17T21:47:12.708Z"
   },
   {
    "duration": 6,
    "start_time": "2023-04-17T21:47:12.896Z"
   },
   {
    "duration": 25,
    "start_time": "2023-04-17T21:47:13.272Z"
   },
   {
    "duration": 9,
    "start_time": "2023-04-17T21:47:13.472Z"
   },
   {
    "duration": 30,
    "start_time": "2023-04-17T21:47:13.900Z"
   },
   {
    "duration": 9,
    "start_time": "2023-04-17T21:47:14.148Z"
   },
   {
    "duration": 27,
    "start_time": "2023-04-17T21:47:14.866Z"
   },
   {
    "duration": 16,
    "start_time": "2023-04-17T21:47:15.347Z"
   },
   {
    "duration": 14,
    "start_time": "2023-04-17T21:47:15.814Z"
   },
   {
    "duration": 4,
    "start_time": "2023-04-17T21:47:16.892Z"
   },
   {
    "duration": 4,
    "start_time": "2023-04-17T21:47:17.777Z"
   },
   {
    "duration": 4,
    "start_time": "2023-04-17T21:47:21.602Z"
   },
   {
    "duration": 8,
    "start_time": "2023-04-17T21:47:22.585Z"
   },
   {
    "duration": 9,
    "start_time": "2023-04-17T21:47:23.949Z"
   },
   {
    "duration": 7,
    "start_time": "2023-04-17T21:47:24.947Z"
   },
   {
    "duration": 2783,
    "start_time": "2023-04-17T21:47:26.222Z"
   },
   {
    "duration": 2778,
    "start_time": "2023-04-17T21:51:07.182Z"
   },
   {
    "duration": 2854,
    "start_time": "2023-04-17T21:51:49.590Z"
   },
   {
    "duration": 2232,
    "start_time": "2023-04-17T21:54:16.983Z"
   },
   {
    "duration": 51,
    "start_time": "2023-04-17T22:04:35.250Z"
   },
   {
    "duration": 55,
    "start_time": "2023-04-17T22:04:45.679Z"
   },
   {
    "duration": 5,
    "start_time": "2023-04-17T22:05:11.257Z"
   },
   {
    "duration": 4,
    "start_time": "2023-04-17T22:05:23.803Z"
   },
   {
    "duration": 4,
    "start_time": "2023-04-17T22:05:35.728Z"
   },
   {
    "duration": 4,
    "start_time": "2023-04-17T22:06:18.998Z"
   },
   {
    "duration": 4,
    "start_time": "2023-04-17T22:06:21.054Z"
   },
   {
    "duration": 3,
    "start_time": "2023-04-17T22:19:26.667Z"
   },
   {
    "duration": 392,
    "start_time": "2023-04-17T22:19:27.078Z"
   },
   {
    "duration": 14,
    "start_time": "2023-04-17T22:19:28.196Z"
   },
   {
    "duration": 9,
    "start_time": "2023-04-17T22:19:28.430Z"
   },
   {
    "duration": 49,
    "start_time": "2023-04-17T22:19:28.642Z"
   },
   {
    "duration": 9,
    "start_time": "2023-04-17T22:19:28.848Z"
   },
   {
    "duration": 14,
    "start_time": "2023-04-17T22:19:29.358Z"
   },
   {
    "duration": 10,
    "start_time": "2023-04-17T22:19:29.636Z"
   },
   {
    "duration": 46,
    "start_time": "2023-04-17T22:19:29.824Z"
   },
   {
    "duration": 11,
    "start_time": "2023-04-17T22:19:30.012Z"
   },
   {
    "duration": 16,
    "start_time": "2023-04-17T22:19:30.553Z"
   },
   {
    "duration": 10,
    "start_time": "2023-04-17T22:19:30.770Z"
   },
   {
    "duration": 52,
    "start_time": "2023-04-17T22:19:31.256Z"
   },
   {
    "duration": 9,
    "start_time": "2023-04-17T22:19:31.520Z"
   },
   {
    "duration": 20,
    "start_time": "2023-04-17T22:19:37.016Z"
   },
   {
    "duration": 20,
    "start_time": "2023-04-17T22:20:02.384Z"
   },
   {
    "duration": 6,
    "start_time": "2023-04-17T22:20:02.660Z"
   },
   {
    "duration": 19,
    "start_time": "2023-04-17T22:20:03.297Z"
   },
   {
    "duration": 7,
    "start_time": "2023-04-17T22:20:03.567Z"
   },
   {
    "duration": 19,
    "start_time": "2023-04-17T22:20:04.210Z"
   },
   {
    "duration": 7,
    "start_time": "2023-04-17T22:20:04.510Z"
   },
   {
    "duration": 21,
    "start_time": "2023-04-17T22:20:05.412Z"
   },
   {
    "duration": 22,
    "start_time": "2023-04-17T22:20:05.884Z"
   },
   {
    "duration": 15,
    "start_time": "2023-04-17T22:20:06.408Z"
   },
   {
    "duration": 3,
    "start_time": "2023-04-17T22:20:07.554Z"
   },
   {
    "duration": 4,
    "start_time": "2023-04-17T22:20:08.059Z"
   },
   {
    "duration": 4,
    "start_time": "2023-04-17T22:20:08.637Z"
   },
   {
    "duration": 4,
    "start_time": "2023-04-17T22:20:09.205Z"
   },
   {
    "duration": 4,
    "start_time": "2023-04-17T22:20:09.800Z"
   },
   {
    "duration": 3,
    "start_time": "2023-04-17T22:20:11.231Z"
   },
   {
    "duration": 9,
    "start_time": "2023-04-17T22:20:11.916Z"
   },
   {
    "duration": 7,
    "start_time": "2023-04-17T22:20:12.447Z"
   },
   {
    "duration": 8,
    "start_time": "2023-04-17T22:20:13.041Z"
   },
   {
    "duration": 2231,
    "start_time": "2023-04-17T22:20:13.688Z"
   },
   {
    "duration": 2262,
    "start_time": "2023-04-17T22:24:31.150Z"
   },
   {
    "duration": 2313,
    "start_time": "2023-04-17T22:24:43.274Z"
   },
   {
    "duration": 8,
    "start_time": "2023-04-17T22:29:51.667Z"
   },
   {
    "duration": 8,
    "start_time": "2023-04-17T22:29:55.473Z"
   },
   {
    "duration": 8,
    "start_time": "2023-04-17T22:29:59.866Z"
   },
   {
    "duration": 1860,
    "start_time": "2023-04-18T06:28:32.167Z"
   },
   {
    "duration": 416,
    "start_time": "2023-04-18T06:28:34.030Z"
   },
   {
    "duration": 16,
    "start_time": "2023-04-18T06:28:34.448Z"
   },
   {
    "duration": 26,
    "start_time": "2023-04-18T06:28:34.466Z"
   },
   {
    "duration": 53,
    "start_time": "2023-04-18T06:28:34.494Z"
   },
   {
    "duration": 46,
    "start_time": "2023-04-18T06:28:34.549Z"
   },
   {
    "duration": 17,
    "start_time": "2023-04-18T06:28:34.597Z"
   },
   {
    "duration": 9,
    "start_time": "2023-04-18T06:28:34.615Z"
   },
   {
    "duration": 70,
    "start_time": "2023-04-18T06:28:34.626Z"
   },
   {
    "duration": 11,
    "start_time": "2023-04-18T06:28:34.699Z"
   },
   {
    "duration": 22,
    "start_time": "2023-04-18T06:28:34.712Z"
   },
   {
    "duration": 12,
    "start_time": "2023-04-18T06:28:34.736Z"
   },
   {
    "duration": 82,
    "start_time": "2023-04-18T06:28:34.751Z"
   },
   {
    "duration": 13,
    "start_time": "2023-04-18T06:28:34.835Z"
   },
   {
    "duration": 43,
    "start_time": "2023-04-18T06:28:34.851Z"
   },
   {
    "duration": 11,
    "start_time": "2023-04-18T06:28:34.901Z"
   },
   {
    "duration": 41,
    "start_time": "2023-04-18T06:28:34.914Z"
   },
   {
    "duration": 10,
    "start_time": "2023-04-18T06:28:34.957Z"
   },
   {
    "duration": 41,
    "start_time": "2023-04-18T06:28:34.969Z"
   },
   {
    "duration": 11,
    "start_time": "2023-04-18T06:28:35.012Z"
   },
   {
    "duration": 63,
    "start_time": "2023-04-18T06:28:35.025Z"
   },
   {
    "duration": 116,
    "start_time": "2023-04-18T06:28:35.092Z"
   },
   {
    "duration": 191,
    "start_time": "2023-04-18T06:28:35.210Z"
   },
   {
    "duration": 187,
    "start_time": "2023-04-18T06:28:35.404Z"
   },
   {
    "duration": 13,
    "start_time": "2023-04-18T06:28:35.594Z"
   },
   {
    "duration": 6,
    "start_time": "2023-04-18T06:28:35.608Z"
   },
   {
    "duration": 6,
    "start_time": "2023-04-18T06:28:35.615Z"
   },
   {
    "duration": 16,
    "start_time": "2023-04-18T06:28:35.623Z"
   },
   {
    "duration": 24,
    "start_time": "2023-04-18T06:28:35.640Z"
   },
   {
    "duration": 37,
    "start_time": "2023-04-18T06:28:35.665Z"
   },
   {
    "duration": 29,
    "start_time": "2023-04-18T06:28:35.703Z"
   },
   {
    "duration": 18,
    "start_time": "2023-04-18T06:28:35.734Z"
   },
   {
    "duration": 2454,
    "start_time": "2023-04-18T06:28:35.754Z"
   },
   {
    "duration": 7,
    "start_time": "2023-04-18T06:34:41.499Z"
   },
   {
    "duration": 5,
    "start_time": "2023-04-18T06:38:42.265Z"
   },
   {
    "duration": 7,
    "start_time": "2023-04-18T06:38:45.113Z"
   },
   {
    "duration": 8,
    "start_time": "2023-04-18T06:38:46.750Z"
   },
   {
    "duration": 8,
    "start_time": "2023-04-18T06:38:48.752Z"
   },
   {
    "duration": 3894,
    "start_time": "2023-04-18T06:38:51.405Z"
   },
   {
    "duration": 2053,
    "start_time": "2023-04-18T06:39:30.265Z"
   },
   {
    "duration": 450,
    "start_time": "2023-04-18T06:39:32.321Z"
   },
   {
    "duration": 27,
    "start_time": "2023-04-18T06:39:32.773Z"
   },
   {
    "duration": 37,
    "start_time": "2023-04-18T06:39:32.803Z"
   },
   {
    "duration": 70,
    "start_time": "2023-04-18T06:39:32.842Z"
   },
   {
    "duration": 11,
    "start_time": "2023-04-18T06:39:32.914Z"
   },
   {
    "duration": 35,
    "start_time": "2023-04-18T06:39:32.927Z"
   },
   {
    "duration": 15,
    "start_time": "2023-04-18T06:39:32.964Z"
   },
   {
    "duration": 84,
    "start_time": "2023-04-18T06:39:32.980Z"
   },
   {
    "duration": 10,
    "start_time": "2023-04-18T06:39:33.067Z"
   },
   {
    "duration": 56,
    "start_time": "2023-04-18T06:39:33.079Z"
   },
   {
    "duration": 23,
    "start_time": "2023-04-18T06:39:33.137Z"
   },
   {
    "duration": 95,
    "start_time": "2023-04-18T06:39:33.162Z"
   },
   {
    "duration": 9,
    "start_time": "2023-04-18T06:39:33.259Z"
   },
   {
    "duration": 26,
    "start_time": "2023-04-18T06:39:33.270Z"
   },
   {
    "duration": 13,
    "start_time": "2023-04-18T06:39:33.299Z"
   },
   {
    "duration": 24,
    "start_time": "2023-04-18T06:39:33.320Z"
   },
   {
    "duration": 6,
    "start_time": "2023-04-18T06:39:33.346Z"
   },
   {
    "duration": 27,
    "start_time": "2023-04-18T06:39:33.353Z"
   },
   {
    "duration": 37,
    "start_time": "2023-04-18T06:39:33.381Z"
   },
   {
    "duration": 29,
    "start_time": "2023-04-18T06:39:33.420Z"
   },
   {
    "duration": 130,
    "start_time": "2023-04-18T06:39:33.484Z"
   },
   {
    "duration": 200,
    "start_time": "2023-04-18T06:39:33.619Z"
   },
   {
    "duration": 168,
    "start_time": "2023-04-18T06:39:33.821Z"
   },
   {
    "duration": 23,
    "start_time": "2023-04-18T06:39:33.991Z"
   },
   {
    "duration": 8,
    "start_time": "2023-04-18T06:39:34.017Z"
   },
   {
    "duration": 15,
    "start_time": "2023-04-18T06:39:34.027Z"
   },
   {
    "duration": 6,
    "start_time": "2023-04-18T06:39:34.045Z"
   },
   {
    "duration": 10,
    "start_time": "2023-04-18T06:39:34.052Z"
   },
   {
    "duration": 10,
    "start_time": "2023-04-18T06:39:34.063Z"
   },
   {
    "duration": 28,
    "start_time": "2023-04-18T06:39:34.075Z"
   },
   {
    "duration": 26,
    "start_time": "2023-04-18T06:39:34.112Z"
   },
   {
    "duration": 2612,
    "start_time": "2023-04-18T06:39:34.140Z"
   },
   {
    "duration": 1157,
    "start_time": "2023-04-18T09:22:22.807Z"
   },
   {
    "duration": 3,
    "start_time": "2023-04-18T09:22:24.544Z"
   },
   {
    "duration": 1494,
    "start_time": "2023-04-18T09:22:25.778Z"
   },
   {
    "duration": 14,
    "start_time": "2023-04-18T09:22:27.273Z"
   },
   {
    "duration": 13,
    "start_time": "2023-04-18T09:22:27.897Z"
   },
   {
    "duration": 39,
    "start_time": "2023-04-18T09:22:28.521Z"
   },
   {
    "duration": 8,
    "start_time": "2023-04-18T09:22:28.967Z"
   },
   {
    "duration": 12,
    "start_time": "2023-04-18T09:22:30.326Z"
   },
   {
    "duration": 9,
    "start_time": "2023-04-18T09:22:30.638Z"
   },
   {
    "duration": 38,
    "start_time": "2023-04-18T09:22:30.854Z"
   },
   {
    "duration": 9,
    "start_time": "2023-04-18T09:22:31.026Z"
   },
   {
    "duration": 13,
    "start_time": "2023-04-18T09:22:31.552Z"
   },
   {
    "duration": 9,
    "start_time": "2023-04-18T09:22:31.723Z"
   },
   {
    "duration": 40,
    "start_time": "2023-04-18T09:22:32.054Z"
   },
   {
    "duration": 11,
    "start_time": "2023-04-18T09:22:32.266Z"
   },
   {
    "duration": 18,
    "start_time": "2023-04-18T09:22:33.638Z"
   },
   {
    "duration": 6,
    "start_time": "2023-04-18T09:22:33.814Z"
   },
   {
    "duration": 17,
    "start_time": "2023-04-18T09:22:34.146Z"
   },
   {
    "duration": 7,
    "start_time": "2023-04-18T09:22:34.326Z"
   },
   {
    "duration": 18,
    "start_time": "2023-04-18T09:22:34.668Z"
   },
   {
    "duration": 6,
    "start_time": "2023-04-18T09:22:34.833Z"
   },
   {
    "duration": 23,
    "start_time": "2023-04-18T09:22:35.558Z"
   },
   {
    "duration": 16,
    "start_time": "2023-04-18T09:22:35.914Z"
   },
   {
    "duration": 17,
    "start_time": "2023-04-18T09:22:36.250Z"
   },
   {
    "duration": 3,
    "start_time": "2023-04-18T09:22:37.923Z"
   },
   {
    "duration": 4,
    "start_time": "2023-04-18T09:22:38.456Z"
   },
   {
    "duration": 4,
    "start_time": "2023-04-18T09:22:38.835Z"
   },
   {
    "duration": 3,
    "start_time": "2023-04-18T09:22:39.214Z"
   },
   {
    "duration": 3,
    "start_time": "2023-04-18T09:22:40.317Z"
   },
   {
    "duration": 94,
    "start_time": "2023-04-18T09:22:41.110Z"
   },
   {
    "duration": 13,
    "start_time": "2023-04-18T09:22:41.481Z"
   },
   {
    "duration": 12,
    "start_time": "2023-04-18T09:22:41.922Z"
   },
   {
    "duration": 16,
    "start_time": "2023-04-18T09:22:42.325Z"
   },
   {
    "duration": 3,
    "start_time": "2023-04-18T09:23:28.507Z"
   },
   {
    "duration": 7,
    "start_time": "2023-04-18T09:23:30.528Z"
   },
   {
    "duration": 7,
    "start_time": "2023-04-18T09:23:31.520Z"
   },
   {
    "duration": 8,
    "start_time": "2023-04-18T09:23:33.083Z"
   },
   {
    "duration": 3014,
    "start_time": "2023-04-18T09:23:43.933Z"
   },
   {
    "duration": 15,
    "start_time": "2023-04-18T10:57:41.253Z"
   },
   {
    "duration": 4,
    "start_time": "2023-04-18T10:57:45.156Z"
   },
   {
    "duration": 27,
    "start_time": "2023-04-18T10:57:47.952Z"
   },
   {
    "duration": 3,
    "start_time": "2023-04-18T10:58:50.654Z"
   },
   {
    "duration": 15,
    "start_time": "2023-04-18T10:58:51.517Z"
   },
   {
    "duration": 16,
    "start_time": "2023-04-18T10:59:20.626Z"
   },
   {
    "duration": 16,
    "start_time": "2023-04-18T10:59:43.273Z"
   },
   {
    "duration": 3,
    "start_time": "2023-04-18T11:02:20.178Z"
   },
   {
    "duration": 9,
    "start_time": "2023-04-18T11:02:21.853Z"
   },
   {
    "duration": 8,
    "start_time": "2023-04-18T11:02:23.066Z"
   },
   {
    "duration": 7,
    "start_time": "2023-04-18T11:02:24.219Z"
   },
   {
    "duration": 3022,
    "start_time": "2023-04-18T11:02:25.067Z"
   },
   {
    "duration": 3,
    "start_time": "2023-04-18T11:06:20.257Z"
   },
   {
    "duration": 3,
    "start_time": "2023-04-18T11:06:20.922Z"
   },
   {
    "duration": 7,
    "start_time": "2023-04-18T11:06:24.869Z"
   },
   {
    "duration": 7,
    "start_time": "2023-04-18T11:06:27.035Z"
   },
   {
    "duration": 3,
    "start_time": "2023-04-18T11:06:37.213Z"
   },
   {
    "duration": 8,
    "start_time": "2023-04-18T11:06:39.615Z"
   },
   {
    "duration": 8,
    "start_time": "2023-04-18T11:06:41.114Z"
   },
   {
    "duration": 3,
    "start_time": "2023-04-18T11:06:44.900Z"
   },
   {
    "duration": 7,
    "start_time": "2023-04-18T11:06:47.310Z"
   },
   {
    "duration": 4,
    "start_time": "2023-04-18T11:07:46.457Z"
   },
   {
    "duration": 3,
    "start_time": "2023-04-18T11:09:04.435Z"
   },
   {
    "duration": 6,
    "start_time": "2023-04-18T11:09:07.556Z"
   },
   {
    "duration": 7,
    "start_time": "2023-04-18T11:09:09.030Z"
   },
   {
    "duration": 6,
    "start_time": "2023-04-18T11:09:09.436Z"
   },
   {
    "duration": 3299,
    "start_time": "2023-04-18T11:09:09.877Z"
   },
   {
    "duration": 946,
    "start_time": "2023-04-18T11:10:07.495Z"
   },
   {
    "duration": 3,
    "start_time": "2023-04-18T11:10:08.443Z"
   },
   {
    "duration": 339,
    "start_time": "2023-04-18T11:10:08.447Z"
   },
   {
    "duration": 15,
    "start_time": "2023-04-18T11:10:08.787Z"
   },
   {
    "duration": 21,
    "start_time": "2023-04-18T11:10:08.804Z"
   },
   {
    "duration": 61,
    "start_time": "2023-04-18T11:10:08.827Z"
   },
   {
    "duration": 9,
    "start_time": "2023-04-18T11:10:08.889Z"
   },
   {
    "duration": 30,
    "start_time": "2023-04-18T11:10:08.900Z"
   },
   {
    "duration": 19,
    "start_time": "2023-04-18T11:10:08.932Z"
   },
   {
    "duration": 42,
    "start_time": "2023-04-18T11:10:08.952Z"
   },
   {
    "duration": 8,
    "start_time": "2023-04-18T11:10:08.996Z"
   },
   {
    "duration": 12,
    "start_time": "2023-04-18T11:10:09.005Z"
   },
   {
    "duration": 8,
    "start_time": "2023-04-18T11:10:09.018Z"
   },
   {
    "duration": 56,
    "start_time": "2023-04-18T11:10:09.029Z"
   },
   {
    "duration": 8,
    "start_time": "2023-04-18T11:10:09.086Z"
   },
   {
    "duration": 21,
    "start_time": "2023-04-18T11:10:09.096Z"
   },
   {
    "duration": 21,
    "start_time": "2023-04-18T11:10:09.119Z"
   },
   {
    "duration": 18,
    "start_time": "2023-04-18T11:10:09.141Z"
   },
   {
    "duration": 5,
    "start_time": "2023-04-18T11:10:09.160Z"
   },
   {
    "duration": 25,
    "start_time": "2023-04-18T11:10:09.167Z"
   },
   {
    "duration": 6,
    "start_time": "2023-04-18T11:10:09.194Z"
   },
   {
    "duration": 7,
    "start_time": "2023-04-18T11:10:09.201Z"
   },
   {
    "duration": 136,
    "start_time": "2023-04-18T11:10:09.210Z"
   },
   {
    "duration": 97,
    "start_time": "2023-04-18T11:10:09.349Z"
   },
   {
    "duration": 101,
    "start_time": "2023-04-18T11:10:09.447Z"
   },
   {
    "duration": 90,
    "start_time": "2023-04-18T11:10:09.551Z"
   },
   {
    "duration": 91,
    "start_time": "2023-04-18T11:10:09.645Z"
   },
   {
    "duration": 4,
    "start_time": "2023-04-18T11:10:09.738Z"
   },
   {
    "duration": 5,
    "start_time": "2023-04-18T11:10:09.744Z"
   },
   {
    "duration": 15,
    "start_time": "2023-04-18T11:10:09.751Z"
   },
   {
    "duration": 9,
    "start_time": "2023-04-18T11:10:09.768Z"
   },
   {
    "duration": 8,
    "start_time": "2023-04-18T11:10:09.778Z"
   },
   {
    "duration": 8,
    "start_time": "2023-04-18T11:10:09.788Z"
   },
   {
    "duration": 3368,
    "start_time": "2023-04-18T11:10:09.797Z"
   },
   {
    "duration": 1866,
    "start_time": "2023-04-18T13:46:25.997Z"
   },
   {
    "duration": 4,
    "start_time": "2023-04-18T13:46:27.865Z"
   },
   {
    "duration": 2071,
    "start_time": "2023-04-18T13:46:27.872Z"
   },
   {
    "duration": 15,
    "start_time": "2023-04-18T13:46:29.945Z"
   },
   {
    "duration": 32,
    "start_time": "2023-04-18T13:46:29.962Z"
   },
   {
    "duration": 50,
    "start_time": "2023-04-18T13:46:29.996Z"
   },
   {
    "duration": 28,
    "start_time": "2023-04-18T13:46:30.048Z"
   },
   {
    "duration": 25,
    "start_time": "2023-04-18T13:46:30.078Z"
   },
   {
    "duration": 10,
    "start_time": "2023-04-18T13:46:30.106Z"
   },
   {
    "duration": 73,
    "start_time": "2023-04-18T13:46:30.118Z"
   },
   {
    "duration": 9,
    "start_time": "2023-04-18T13:46:30.193Z"
   },
   {
    "duration": 39,
    "start_time": "2023-04-18T13:46:30.203Z"
   },
   {
    "duration": 20,
    "start_time": "2023-04-18T13:46:30.244Z"
   },
   {
    "duration": 68,
    "start_time": "2023-04-18T13:46:30.265Z"
   },
   {
    "duration": 20,
    "start_time": "2023-04-18T13:46:30.335Z"
   },
   {
    "duration": 33,
    "start_time": "2023-04-18T13:46:30.357Z"
   },
   {
    "duration": 8,
    "start_time": "2023-04-18T13:46:30.392Z"
   },
   {
    "duration": 35,
    "start_time": "2023-04-18T13:46:30.402Z"
   },
   {
    "duration": 22,
    "start_time": "2023-04-18T13:46:30.438Z"
   },
   {
    "duration": 82,
    "start_time": "2023-04-18T13:46:30.462Z"
   },
   {
    "duration": 45,
    "start_time": "2023-04-18T13:46:30.546Z"
   },
   {
    "duration": 45,
    "start_time": "2023-04-18T13:46:30.593Z"
   },
   {
    "duration": 128,
    "start_time": "2023-04-18T13:46:30.640Z"
   },
   {
    "duration": 116,
    "start_time": "2023-04-18T13:46:30.770Z"
   },
   {
    "duration": 174,
    "start_time": "2023-04-18T13:46:30.890Z"
   },
   {
    "duration": 16,
    "start_time": "2023-04-18T13:46:31.066Z"
   },
   {
    "duration": 82,
    "start_time": "2023-04-18T13:46:31.084Z"
   },
   {
    "duration": 34,
    "start_time": "2023-04-18T13:46:31.171Z"
   },
   {
    "duration": 32,
    "start_time": "2023-04-18T13:46:31.207Z"
   },
   {
    "duration": 28,
    "start_time": "2023-04-18T13:46:31.241Z"
   },
   {
    "duration": 49,
    "start_time": "2023-04-18T13:46:31.271Z"
   },
   {
    "duration": 22,
    "start_time": "2023-04-18T13:46:31.321Z"
   },
   {
    "duration": 21,
    "start_time": "2023-04-18T13:46:31.345Z"
   },
   {
    "duration": 3782,
    "start_time": "2023-04-18T13:46:31.368Z"
   }
  ],
  "kernelspec": {
   "display_name": "Python 3 (ipykernel)",
   "language": "python",
   "name": "python3"
  },
  "language_info": {
   "codemirror_mode": {
    "name": "ipython",
    "version": 3
   },
   "file_extension": ".py",
   "mimetype": "text/x-python",
   "name": "python",
   "nbconvert_exporter": "python",
   "pygments_lexer": "ipython3",
   "version": "3.9.15"
  },
  "toc": {
   "base_numbering": 1,
   "nav_menu": {},
   "number_sections": true,
   "sideBar": true,
   "skip_h1_title": true,
   "title_cell": "Table of Contents",
   "title_sidebar": "Contents",
   "toc_cell": false,
   "toc_position": {},
   "toc_section_display": true,
   "toc_window_display": true
  }
 },
 "nbformat": 4,
 "nbformat_minor": 2
}
