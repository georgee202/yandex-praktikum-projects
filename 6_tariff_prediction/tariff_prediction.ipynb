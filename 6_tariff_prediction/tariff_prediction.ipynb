{
 "cells": [
  {
   "cell_type": "markdown",
   "metadata": {},
   "source": [
    "# Рекомендация тарифов"
   ]
  },
  {
   "cell_type": "markdown",
   "metadata": {},
   "source": [
    "В вашем распоряжении данные о поведении клиентов, которые уже перешли на эти тарифы (из проекта курса «Статистический анализ данных»). Нужно построить модель для задачи классификации, которая выберет подходящий тариф. Предобработка данных не понадобится — вы её уже сделали.\n",
    "\n",
    "Постройте модель с максимально большим значением *accuracy*. Чтобы сдать проект успешно, нужно довести долю правильных ответов по крайней мере до 0.75. Проверьте *accuracy* на тестовой выборке самостоятельно.\n",
    "\n",
    "**Цель исследования**: найти модель с наибольшим значением *accuracy*, не менее 0.75.\n",
    "\n",
    "**Задачи**:\n",
    "\n",
    "1. Изучить полученные данные.\n",
    "2. Разделить исходные данные на обучающую, валидационную и тестовую выборки.\n",
    "3. Исследовать качество разных моделей, меняя гиперпараметры.\n",
    "4. Проверить качество модели на тестовой выборке.\n",
    "5. Сделать вывод по результатам исследования."
   ]
  },
  {
   "cell_type": "markdown",
   "metadata": {},
   "source": [
    "## Откройте и изучите файл"
   ]
  },
  {
   "cell_type": "code",
   "execution_count": 1,
   "metadata": {},
   "outputs": [],
   "source": [
    "import pandas as pd #импортируем библиотеки\n",
    "from sklearn.model_selection import train_test_split\n",
    "from sklearn.tree import DecisionTreeClassifier\n",
    "from sklearn.linear_model import LogisticRegression\n",
    "from sklearn.ensemble import RandomForestClassifier"
   ]
  },
  {
   "cell_type": "code",
   "execution_count": 2,
   "metadata": {},
   "outputs": [
    {
     "data": {
      "text/html": [
       "<div>\n",
       "<style scoped>\n",
       "    .dataframe tbody tr th:only-of-type {\n",
       "        vertical-align: middle;\n",
       "    }\n",
       "\n",
       "    .dataframe tbody tr th {\n",
       "        vertical-align: top;\n",
       "    }\n",
       "\n",
       "    .dataframe thead th {\n",
       "        text-align: right;\n",
       "    }\n",
       "</style>\n",
       "<table border=\"1\" class=\"dataframe\">\n",
       "  <thead>\n",
       "    <tr style=\"text-align: right;\">\n",
       "      <th></th>\n",
       "      <th>calls</th>\n",
       "      <th>minutes</th>\n",
       "      <th>messages</th>\n",
       "      <th>mb_used</th>\n",
       "      <th>is_ultra</th>\n",
       "    </tr>\n",
       "  </thead>\n",
       "  <tbody>\n",
       "    <tr>\n",
       "      <th>0</th>\n",
       "      <td>40.0</td>\n",
       "      <td>311.90</td>\n",
       "      <td>83.0</td>\n",
       "      <td>19915.42</td>\n",
       "      <td>0</td>\n",
       "    </tr>\n",
       "    <tr>\n",
       "      <th>1</th>\n",
       "      <td>85.0</td>\n",
       "      <td>516.75</td>\n",
       "      <td>56.0</td>\n",
       "      <td>22696.96</td>\n",
       "      <td>0</td>\n",
       "    </tr>\n",
       "    <tr>\n",
       "      <th>2</th>\n",
       "      <td>77.0</td>\n",
       "      <td>467.66</td>\n",
       "      <td>86.0</td>\n",
       "      <td>21060.45</td>\n",
       "      <td>0</td>\n",
       "    </tr>\n",
       "    <tr>\n",
       "      <th>3</th>\n",
       "      <td>106.0</td>\n",
       "      <td>745.53</td>\n",
       "      <td>81.0</td>\n",
       "      <td>8437.39</td>\n",
       "      <td>1</td>\n",
       "    </tr>\n",
       "    <tr>\n",
       "      <th>4</th>\n",
       "      <td>66.0</td>\n",
       "      <td>418.74</td>\n",
       "      <td>1.0</td>\n",
       "      <td>14502.75</td>\n",
       "      <td>0</td>\n",
       "    </tr>\n",
       "    <tr>\n",
       "      <th>5</th>\n",
       "      <td>58.0</td>\n",
       "      <td>344.56</td>\n",
       "      <td>21.0</td>\n",
       "      <td>15823.37</td>\n",
       "      <td>0</td>\n",
       "    </tr>\n",
       "    <tr>\n",
       "      <th>6</th>\n",
       "      <td>57.0</td>\n",
       "      <td>431.64</td>\n",
       "      <td>20.0</td>\n",
       "      <td>3738.90</td>\n",
       "      <td>1</td>\n",
       "    </tr>\n",
       "    <tr>\n",
       "      <th>7</th>\n",
       "      <td>15.0</td>\n",
       "      <td>132.40</td>\n",
       "      <td>6.0</td>\n",
       "      <td>21911.60</td>\n",
       "      <td>0</td>\n",
       "    </tr>\n",
       "    <tr>\n",
       "      <th>8</th>\n",
       "      <td>7.0</td>\n",
       "      <td>43.39</td>\n",
       "      <td>3.0</td>\n",
       "      <td>2538.67</td>\n",
       "      <td>1</td>\n",
       "    </tr>\n",
       "    <tr>\n",
       "      <th>9</th>\n",
       "      <td>90.0</td>\n",
       "      <td>665.41</td>\n",
       "      <td>38.0</td>\n",
       "      <td>17358.61</td>\n",
       "      <td>0</td>\n",
       "    </tr>\n",
       "  </tbody>\n",
       "</table>\n",
       "</div>"
      ],
      "text/plain": [
       "   calls  minutes  messages   mb_used  is_ultra\n",
       "0   40.0   311.90      83.0  19915.42         0\n",
       "1   85.0   516.75      56.0  22696.96         0\n",
       "2   77.0   467.66      86.0  21060.45         0\n",
       "3  106.0   745.53      81.0   8437.39         1\n",
       "4   66.0   418.74       1.0  14502.75         0\n",
       "5   58.0   344.56      21.0  15823.37         0\n",
       "6   57.0   431.64      20.0   3738.90         1\n",
       "7   15.0   132.40       6.0  21911.60         0\n",
       "8    7.0    43.39       3.0   2538.67         1\n",
       "9   90.0   665.41      38.0  17358.61         0"
      ]
     },
     "execution_count": 2,
     "metadata": {},
     "output_type": "execute_result"
    }
   ],
   "source": [
    "data = pd.read_csv('/datasets/users_behavior.csv')\n",
    "data.head(10)"
   ]
  },
  {
   "cell_type": "markdown",
   "metadata": {},
   "source": [
    "На первый взгляд все данные в порядке. Все названия столбцов в правильной форме. "
   ]
  },
  {
   "cell_type": "code",
   "execution_count": 3,
   "metadata": {},
   "outputs": [
    {
     "name": "stdout",
     "output_type": "stream",
     "text": [
      "<class 'pandas.core.frame.DataFrame'>\n",
      "RangeIndex: 3214 entries, 0 to 3213\n",
      "Data columns (total 5 columns):\n",
      " #   Column    Non-Null Count  Dtype  \n",
      "---  ------    --------------  -----  \n",
      " 0   calls     3214 non-null   float64\n",
      " 1   minutes   3214 non-null   float64\n",
      " 2   messages  3214 non-null   float64\n",
      " 3   mb_used   3214 non-null   float64\n",
      " 4   is_ultra  3214 non-null   int64  \n",
      "dtypes: float64(4), int64(1)\n",
      "memory usage: 125.7 KB\n"
     ]
    }
   ],
   "source": [
    "data.info()"
   ]
  },
  {
   "cell_type": "markdown",
   "metadata": {},
   "source": [
    "Все столбцы приведены к адекватному для них типу данных. "
   ]
  },
  {
   "cell_type": "code",
   "execution_count": 4,
   "metadata": {},
   "outputs": [
    {
     "data": {
      "image/png": "[encoded data removed]",
      "text/plain": [
       "<Figure size 1080x1440 with 6 Axes>"
      ]
     },
     "metadata": {
      "needs_background": "light"
     },
     "output_type": "display_data"
    }
   ],
   "source": [
    "data.hist(figsize=(15, 20));"
   ]
  },
  {
   "cell_type": "markdown",
   "metadata": {},
   "source": [
    "* сalls: больше всего клиенты совершают от 50 до 80 звонков в месяц, больше 200 практически никто;\n",
    "* minutes: около 90% всех клиентов тратят от 0 до 800 минут за месяц, больше всего этот показатель в районе 500 минут;\n",
    "* messages: сообщения не пользуются особой популярностью (из-за развития интернета), видно, что чем больше сообщений, тем меньше клиентов их отправляют;\n",
    "* mb_used: чаще всего клиенты используют от 10000 до 30000 Мб в месяц, в этом промежутке лежит примерно 80%;\n",
    "* is_ultra: по графику видно, что тариф \"Смарт\" пользуется большей популярностью, чем \"Ультра\", его используют больше, чем в 2 раза больше клиентов, по сравнению с \"Ультра\"."
   ]
  },
  {
   "cell_type": "code",
   "execution_count": 5,
   "metadata": {},
   "outputs": [
    {
     "data": {
      "text/plain": [
       "0"
      ]
     },
     "execution_count": 5,
     "metadata": {},
     "output_type": "execute_result"
    }
   ],
   "source": [
    "data.duplicated().sum()"
   ]
  },
  {
   "cell_type": "code",
   "execution_count": 6,
   "metadata": {},
   "outputs": [
    {
     "data": {
      "text/plain": [
       "calls       0\n",
       "minutes     0\n",
       "messages    0\n",
       "mb_used     0\n",
       "is_ultra    0\n",
       "dtype: int64"
      ]
     },
     "execution_count": 6,
     "metadata": {},
     "output_type": "execute_result"
    }
   ],
   "source": [
    "data.isna().sum()"
   ]
  },
  {
   "cell_type": "markdown",
   "metadata": {},
   "source": [
    "Дубликаты и пустые значение отсутствуют."
   ]
  },
  {
   "cell_type": "markdown",
   "metadata": {},
   "source": [
    "## Разбейте данные на выборки"
   ]
  },
  {
   "cell_type": "code",
   "execution_count": 7,
   "metadata": {},
   "outputs": [],
   "source": [
    "data_train, data_test = train_test_split(data, test_size=0.4, random_state=12345) \n",
    "\n",
    "features_train = data_train.drop(['is_ultra'], axis=1)\n",
    "target_train = data_train['is_ultra']\n",
    "\n",
    "features = data_test.drop('is_ultra', axis=1)\n",
    "target = data_test['is_ultra']\n",
    "features_valid, features_test, target_valid, target_test = train_test_split(features, target, test_size=0.5, random_state=12345)"
   ]
  },
  {
   "cell_type": "markdown",
   "metadata": {},
   "source": [
    "**Получились следущие соотношения:**\n",
    "* features_train, target_train - обучающая выборка (60%)\n",
    "* features_valid, target_valid - валидационная выборка (20%)\n",
    "* features_test, target_test - тестовая выборка (20%)"
   ]
  },
  {
   "cell_type": "markdown",
   "metadata": {},
   "source": [
    "## Исследуйте модели"
   ]
  },
  {
   "cell_type": "markdown",
   "metadata": {},
   "source": [
    "### Дерево решений"
   ]
  },
  {
   "cell_type": "code",
   "execution_count": 8,
   "metadata": {},
   "outputs": [
    {
     "name": "stdout",
     "output_type": "stream",
     "text": [
      "Глубина дерева: 3\n",
      "Качество: 0.7853810264385692\n"
     ]
    }
   ],
   "source": [
    "best_result = 0\n",
    "best_depth = 0\n",
    "for depth in range(1,15):\n",
    "    model = DecisionTreeClassifier(max_depth=depth, random_state=12345)\n",
    "    model.fit(features_train, target_train)\n",
    "    result = model.score(features_valid, target_valid)\n",
    "    if result > best_result:\n",
    "        best_result = result\n",
    "        best_depth = depth\n",
    "print(f'Глубина дерева: {best_depth}')\n",
    "print(f'Качество: {best_result}')"
   ]
  },
  {
   "cell_type": "markdown",
   "metadata": {},
   "source": [
    "### Логистическая регрессия"
   ]
  },
  {
   "cell_type": "code",
   "execution_count": 9,
   "metadata": {},
   "outputs": [
    {
     "name": "stdout",
     "output_type": "stream",
     "text": [
      "Качество: 0.7107309486780715\n"
     ]
    }
   ],
   "source": [
    "model = LogisticRegression(random_state=12345, solver='lbfgs', max_iter=1000)\n",
    "model.fit(features_train, target_train)\n",
    "accuracy = model.score(features_valid, target_valid)\n",
    "print(f'Качество: {accuracy}')"
   ]
  },
  {
   "cell_type": "markdown",
   "metadata": {},
   "source": [
    "### Случайный лес"
   ]
  },
  {
   "cell_type": "code",
   "execution_count": 10,
   "metadata": {},
   "outputs": [
    {
     "name": "stdout",
     "output_type": "stream",
     "text": [
      "Глубина дерева: 8\n",
      "Качество: 0.8087091757387247\n",
      "Количество деревьев: 40\n"
     ]
    }
   ],
   "source": [
    "best_result = 0\n",
    "best_est = 0\n",
    "best_depth = 0\n",
    "for est in range(10, 51, 10):\n",
    "    for depth in range (1, 11):\n",
    "        model = RandomForestClassifier(random_state=12345, n_estimators=est, max_depth=depth)\n",
    "        model.fit(features_train, target_train)\n",
    "        result = model.score(features_valid, target_valid)\n",
    "        if result > best_result:\n",
    "            best_result = result\n",
    "            best_est = est\n",
    "            best_depth = depth\n",
    "print(f'Глубина дерева: {best_depth}')\n",
    "print(f'Качество: {best_result}')\n",
    "print(f'Количество деревьев: {best_est}')"
   ]
  },
  {
   "cell_type": "markdown",
   "metadata": {},
   "source": [
    "**Итог:**\n",
    "* для дерева решений лучшей глубиной дерева оказалось 3, а качество составляет около 0.78;\n",
    "* для логистической регрессии качество составляет примерно 0.71;\n",
    "* для случайного леса глубина лучшего дерева = 8, количество деревьев = 40, а качество ~ 0.81.\n",
    "\n",
    "Лучшим качеством и одновременно худшей скоростью обладает случайный лес. Худшее качество показала логистическая регрессия. "
   ]
  },
  {
   "cell_type": "markdown",
   "metadata": {},
   "source": [
    "## Проверьте модель на тестовой выборке"
   ]
  },
  {
   "cell_type": "markdown",
   "metadata": {},
   "source": [
    "### Дерево решений"
   ]
  },
  {
   "cell_type": "code",
   "execution_count": 11,
   "metadata": {},
   "outputs": [
    {
     "name": "stdout",
     "output_type": "stream",
     "text": [
      "Качество: 0.7993779160186625\n"
     ]
    }
   ],
   "source": [
    "model = DecisionTreeClassifier(max_depth=7, random_state=12345)\n",
    "model.fit(features_train, target_train)\n",
    "accuracy = model.score(features_test, target_test)\n",
    "print(f'Качество: {accuracy}')"
   ]
  },
  {
   "cell_type": "markdown",
   "metadata": {},
   "source": [
    "### Логистическая регрессия"
   ]
  },
  {
   "cell_type": "code",
   "execution_count": 12,
   "metadata": {},
   "outputs": [
    {
     "name": "stdout",
     "output_type": "stream",
     "text": [
      "Качество: 0.6842923794712286\n"
     ]
    }
   ],
   "source": [
    "model = LogisticRegression(solver='lbfgs', random_state=12345)\n",
    "model.fit(features_train, target_train)\n",
    "accuracy = model.score(features_test, target_test)\n",
    "print(f'Качество: {accuracy}')"
   ]
  },
  {
   "cell_type": "markdown",
   "metadata": {},
   "source": [
    "### Случайный лес"
   ]
  },
  {
   "cell_type": "code",
   "execution_count": 13,
   "metadata": {},
   "outputs": [
    {
     "name": "stdout",
     "output_type": "stream",
     "text": [
      "Качество: 0.7962674961119751\n"
     ]
    }
   ],
   "source": [
    "model = RandomForestClassifier(max_depth=8, n_estimators=40, random_state=12345)\n",
    "model.fit(features_train, target_train)\n",
    "accuracy = model.score(features_test, target_test)\n",
    "print(f'Качество: {accuracy}')"
   ]
  },
  {
   "cell_type": "markdown",
   "metadata": {},
   "source": [
    "## Вывод"
   ]
  },
  {
   "cell_type": "markdown",
   "metadata": {},
   "source": [
    "Таким образом, было проведено исследование на трех моделях:\n",
    "1. Дерево решений;\n",
    "2. Логистическая регрессия;\n",
    "3. Случайный лес.\n",
    "\n",
    "Лучшее качество было показано у случайного леса ~0.81 с гиперпараметрами *n_estimators*=40, *max_depth*=8."
   ]
  }
 ],
 "metadata": {
  "ExecuteTimeLog": [
   {
    "duration": 47,
    "start_time": "2023-03-02T13:38:34.542Z"
   },
   {
    "duration": 393,
    "start_time": "2023-03-02T13:38:38.524Z"
   },
   {
    "duration": 169,
    "start_time": "2023-03-02T13:38:41.188Z"
   },
   {
    "duration": 38,
    "start_time": "2023-03-02T13:38:53.183Z"
   },
   {
    "duration": 15,
    "start_time": "2023-03-02T13:39:34.073Z"
   },
   {
    "duration": 1127,
    "start_time": "2023-03-02T13:40:26.239Z"
   },
   {
    "duration": 6,
    "start_time": "2023-03-02T13:41:19.143Z"
   },
   {
    "duration": 7,
    "start_time": "2023-03-02T13:41:27.806Z"
   },
   {
    "duration": 6,
    "start_time": "2023-03-02T13:47:58.330Z"
   },
   {
    "duration": 12,
    "start_time": "2023-03-02T13:48:13.377Z"
   },
   {
    "duration": 5,
    "start_time": "2023-03-02T13:50:04.915Z"
   },
   {
    "duration": 49,
    "start_time": "2023-03-02T13:50:06.271Z"
   },
   {
    "duration": 71,
    "start_time": "2023-03-02T13:50:07.064Z"
   },
   {
    "duration": 650,
    "start_time": "2023-03-02T13:50:07.957Z"
   },
   {
    "duration": 7,
    "start_time": "2023-03-02T13:50:08.857Z"
   },
   {
    "duration": 7,
    "start_time": "2023-03-02T13:50:10.253Z"
   },
   {
    "duration": 1700,
    "start_time": "2023-04-03T09:16:38.190Z"
   },
   {
    "duration": 161,
    "start_time": "2023-04-03T09:16:41.412Z"
   },
   {
    "duration": 17,
    "start_time": "2023-04-03T09:16:45.202Z"
   },
   {
    "duration": 1273,
    "start_time": "2023-04-03T09:16:46.995Z"
   },
   {
    "duration": 14,
    "start_time": "2023-04-03T09:16:51.039Z"
   },
   {
    "duration": 7,
    "start_time": "2023-04-03T09:16:53.575Z"
   },
   {
    "duration": 7,
    "start_time": "2023-04-03T09:17:00.828Z"
   },
   {
    "duration": 11,
    "start_time": "2023-04-03T09:17:05.562Z"
   },
   {
    "duration": 117,
    "start_time": "2023-04-03T09:45:58.906Z"
   },
   {
    "duration": 23,
    "start_time": "2023-04-03T09:46:02.131Z"
   },
   {
    "duration": 59,
    "start_time": "2023-04-03T09:46:29.843Z"
   },
   {
    "duration": 124,
    "start_time": "2023-04-03T09:46:35.760Z"
   },
   {
    "duration": 167,
    "start_time": "2023-04-03T09:46:46.288Z"
   },
   {
    "duration": 34,
    "start_time": "2023-04-03T09:46:48.830Z"
   },
   {
    "duration": 19,
    "start_time": "2023-04-03T09:46:52.793Z"
   },
   {
    "duration": 4376,
    "start_time": "2023-04-03T09:47:21.274Z"
   },
   {
    "duration": 4346,
    "start_time": "2023-04-03T09:48:49.989Z"
   },
   {
    "duration": 13,
    "start_time": "2023-04-03T09:55:13.964Z"
   },
   {
    "duration": 28,
    "start_time": "2023-04-03T09:55:18.326Z"
   },
   {
    "duration": 147,
    "start_time": "2023-04-03T09:55:23.070Z"
   },
   {
    "duration": 2701,
    "start_time": "2023-04-03T12:56:29.748Z"
   },
   {
    "duration": 49,
    "start_time": "2023-04-03T12:56:32.455Z"
   },
   {
    "duration": 13,
    "start_time": "2023-04-03T12:56:32.505Z"
   },
   {
    "duration": 1227,
    "start_time": "2023-04-03T12:56:32.519Z"
   },
   {
    "duration": 8,
    "start_time": "2023-04-03T12:56:33.749Z"
   },
   {
    "duration": 17,
    "start_time": "2023-04-03T12:56:33.759Z"
   },
   {
    "duration": 12,
    "start_time": "2023-04-03T12:56:33.778Z"
   },
   {
    "duration": 151,
    "start_time": "2023-04-03T12:56:33.792Z"
   },
   {
    "duration": 40,
    "start_time": "2023-04-03T12:56:33.946Z"
   },
   {
    "duration": 5044,
    "start_time": "2023-04-03T12:56:33.988Z"
   },
   {
    "duration": 22,
    "start_time": "2023-04-03T12:56:39.040Z"
   },
   {
    "duration": 44,
    "start_time": "2023-04-03T12:56:39.063Z"
   },
   {
    "duration": 200,
    "start_time": "2023-04-03T12:56:39.110Z"
   }
  ],
  "kernelspec": {
   "display_name": "Python 3 (ipykernel)",
   "language": "python",
   "name": "python3"
  },
  "language_info": {
   "codemirror_mode": {
    "name": "ipython",
    "version": 3
   },
   "file_extension": ".py",
   "mimetype": "text/x-python",
   "name": "python",
   "nbconvert_exporter": "python",
   "pygments_lexer": "ipython3",
   "version": "3.9.15"
  },
  "toc": {
   "base_numbering": 1,
   "nav_menu": {},
   "number_sections": true,
   "sideBar": true,
   "skip_h1_title": true,
   "title_cell": "Table of Contents",
   "title_sidebar": "Contents",
   "toc_cell": false,
   "toc_position": {
    "height": "calc(100% - 180px)",
    "left": "10px",
    "top": "150px",
    "width": "165px"
   },
   "toc_section_display": true,
   "toc_window_display": true
  }
 },
 "nbformat": 4,
 "nbformat_minor": 2
}
