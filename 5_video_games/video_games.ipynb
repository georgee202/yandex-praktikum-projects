{
 "cells": [
  {
   "cell_type": "markdown",
   "metadata": {},
   "source": [
    "# Исследование продаж компьютерных игр\n",
    "\n",
    "Интернет-магазин «Стримчик» продаёт по всему миру компьютерные игры. Из открытых источников доступны исторические данные о продажах игр, оценки пользователей и экспертов, жанры и платформы (например, Xbox или PlayStation). Нужно выявить определяющие успешность игры закономерности. Это позволит сделать ставку на потенциально популярный продукт и спланировать рекламные кампании.\n",
    "\n",
    "Даны данные до 2016 года. Представим, что сейчас декабрь 2016 г., и планируется кампанию на 2017-й. Нужно отработать принцип работы с данными. Неважно, прогнозируются ли продажи на 2017 год по данным 2016-го или же 2027-й — по данным 2026 года.\n",
    "\n",
    "**Цель исследования**: выявить закономерности, определяющие закономерность игры."
   ]
  },
  {
   "cell_type": "markdown",
   "metadata": {},
   "source": [
    "### Файл и общая информация."
   ]
  },
  {
   "cell_type": "markdown",
   "metadata": {},
   "source": [
    "#### Добвляем необходимые библиотеки"
   ]
  },
  {
   "cell_type": "code",
   "execution_count": 1,
   "metadata": {},
   "outputs": [],
   "source": [
    "import pandas as pd\n",
    "import matplotlib.pyplot as plt\n",
    "import numpy as np\n",
    "from scipy import stats as st"
   ]
  },
  {
   "cell_type": "markdown",
   "metadata": {},
   "source": [
    "#### Загружаем файл и изучаем информацию"
   ]
  },
  {
   "cell_type": "code",
   "execution_count": 2,
   "metadata": {},
   "outputs": [
    {
     "data": {
      "text/html": [
       "<div>\n",
       "<style scoped>\n",
       "    .dataframe tbody tr th:only-of-type {\n",
       "        vertical-align: middle;\n",
       "    }\n",
       "\n",
       "    .dataframe tbody tr th {\n",
       "        vertical-align: top;\n",
       "    }\n",
       "\n",
       "    .dataframe thead th {\n",
       "        text-align: right;\n",
       "    }\n",
       "</style>\n",
       "<table border=\"1\" class=\"dataframe\">\n",
       "  <thead>\n",
       "    <tr style=\"text-align: right;\">\n",
       "      <th></th>\n",
       "      <th>Name</th>\n",
       "      <th>Platform</th>\n",
       "      <th>Year_of_Release</th>\n",
       "      <th>Genre</th>\n",
       "      <th>NA_sales</th>\n",
       "      <th>EU_sales</th>\n",
       "      <th>JP_sales</th>\n",
       "      <th>Other_sales</th>\n",
       "      <th>Critic_Score</th>\n",
       "      <th>User_Score</th>\n",
       "      <th>Rating</th>\n",
       "    </tr>\n",
       "  </thead>\n",
       "  <tbody>\n",
       "    <tr>\n",
       "      <th>0</th>\n",
       "      <td>Wii Sports</td>\n",
       "      <td>Wii</td>\n",
       "      <td>2006.0</td>\n",
       "      <td>Sports</td>\n",
       "      <td>41.36</td>\n",
       "      <td>28.96</td>\n",
       "      <td>3.77</td>\n",
       "      <td>8.45</td>\n",
       "      <td>76.0</td>\n",
       "      <td>8</td>\n",
       "      <td>E</td>\n",
       "    </tr>\n",
       "    <tr>\n",
       "      <th>1</th>\n",
       "      <td>Super Mario Bros.</td>\n",
       "      <td>NES</td>\n",
       "      <td>1985.0</td>\n",
       "      <td>Platform</td>\n",
       "      <td>29.08</td>\n",
       "      <td>3.58</td>\n",
       "      <td>6.81</td>\n",
       "      <td>0.77</td>\n",
       "      <td>NaN</td>\n",
       "      <td>NaN</td>\n",
       "      <td>NaN</td>\n",
       "    </tr>\n",
       "    <tr>\n",
       "      <th>2</th>\n",
       "      <td>Mario Kart Wii</td>\n",
       "      <td>Wii</td>\n",
       "      <td>2008.0</td>\n",
       "      <td>Racing</td>\n",
       "      <td>15.68</td>\n",
       "      <td>12.76</td>\n",
       "      <td>3.79</td>\n",
       "      <td>3.29</td>\n",
       "      <td>82.0</td>\n",
       "      <td>8.3</td>\n",
       "      <td>E</td>\n",
       "    </tr>\n",
       "    <tr>\n",
       "      <th>3</th>\n",
       "      <td>Wii Sports Resort</td>\n",
       "      <td>Wii</td>\n",
       "      <td>2009.0</td>\n",
       "      <td>Sports</td>\n",
       "      <td>15.61</td>\n",
       "      <td>10.93</td>\n",
       "      <td>3.28</td>\n",
       "      <td>2.95</td>\n",
       "      <td>80.0</td>\n",
       "      <td>8</td>\n",
       "      <td>E</td>\n",
       "    </tr>\n",
       "    <tr>\n",
       "      <th>4</th>\n",
       "      <td>Pokemon Red/Pokemon Blue</td>\n",
       "      <td>GB</td>\n",
       "      <td>1996.0</td>\n",
       "      <td>Role-Playing</td>\n",
       "      <td>11.27</td>\n",
       "      <td>8.89</td>\n",
       "      <td>10.22</td>\n",
       "      <td>1.00</td>\n",
       "      <td>NaN</td>\n",
       "      <td>NaN</td>\n",
       "      <td>NaN</td>\n",
       "    </tr>\n",
       "    <tr>\n",
       "      <th>5</th>\n",
       "      <td>Tetris</td>\n",
       "      <td>GB</td>\n",
       "      <td>1989.0</td>\n",
       "      <td>Puzzle</td>\n",
       "      <td>23.20</td>\n",
       "      <td>2.26</td>\n",
       "      <td>4.22</td>\n",
       "      <td>0.58</td>\n",
       "      <td>NaN</td>\n",
       "      <td>NaN</td>\n",
       "      <td>NaN</td>\n",
       "    </tr>\n",
       "    <tr>\n",
       "      <th>6</th>\n",
       "      <td>New Super Mario Bros.</td>\n",
       "      <td>DS</td>\n",
       "      <td>2006.0</td>\n",
       "      <td>Platform</td>\n",
       "      <td>11.28</td>\n",
       "      <td>9.14</td>\n",
       "      <td>6.50</td>\n",
       "      <td>2.88</td>\n",
       "      <td>89.0</td>\n",
       "      <td>8.5</td>\n",
       "      <td>E</td>\n",
       "    </tr>\n",
       "    <tr>\n",
       "      <th>7</th>\n",
       "      <td>Wii Play</td>\n",
       "      <td>Wii</td>\n",
       "      <td>2006.0</td>\n",
       "      <td>Misc</td>\n",
       "      <td>13.96</td>\n",
       "      <td>9.18</td>\n",
       "      <td>2.93</td>\n",
       "      <td>2.84</td>\n",
       "      <td>58.0</td>\n",
       "      <td>6.6</td>\n",
       "      <td>E</td>\n",
       "    </tr>\n",
       "    <tr>\n",
       "      <th>8</th>\n",
       "      <td>New Super Mario Bros. Wii</td>\n",
       "      <td>Wii</td>\n",
       "      <td>2009.0</td>\n",
       "      <td>Platform</td>\n",
       "      <td>14.44</td>\n",
       "      <td>6.94</td>\n",
       "      <td>4.70</td>\n",
       "      <td>2.24</td>\n",
       "      <td>87.0</td>\n",
       "      <td>8.4</td>\n",
       "      <td>E</td>\n",
       "    </tr>\n",
       "    <tr>\n",
       "      <th>9</th>\n",
       "      <td>Duck Hunt</td>\n",
       "      <td>NES</td>\n",
       "      <td>1984.0</td>\n",
       "      <td>Shooter</td>\n",
       "      <td>26.93</td>\n",
       "      <td>0.63</td>\n",
       "      <td>0.28</td>\n",
       "      <td>0.47</td>\n",
       "      <td>NaN</td>\n",
       "      <td>NaN</td>\n",
       "      <td>NaN</td>\n",
       "    </tr>\n",
       "  </tbody>\n",
       "</table>\n",
       "</div>"
      ],
      "text/plain": [
       "                        Name Platform  Year_of_Release         Genre  \\\n",
       "0                 Wii Sports      Wii           2006.0        Sports   \n",
       "1          Super Mario Bros.      NES           1985.0      Platform   \n",
       "2             Mario Kart Wii      Wii           2008.0        Racing   \n",
       "3          Wii Sports Resort      Wii           2009.0        Sports   \n",
       "4   Pokemon Red/Pokemon Blue       GB           1996.0  Role-Playing   \n",
       "5                     Tetris       GB           1989.0        Puzzle   \n",
       "6      New Super Mario Bros.       DS           2006.0      Platform   \n",
       "7                   Wii Play      Wii           2006.0          Misc   \n",
       "8  New Super Mario Bros. Wii      Wii           2009.0      Platform   \n",
       "9                  Duck Hunt      NES           1984.0       Shooter   \n",
       "\n",
       "   NA_sales  EU_sales  JP_sales  Other_sales  Critic_Score User_Score Rating  \n",
       "0     41.36     28.96      3.77         8.45          76.0          8      E  \n",
       "1     29.08      3.58      6.81         0.77           NaN        NaN    NaN  \n",
       "2     15.68     12.76      3.79         3.29          82.0        8.3      E  \n",
       "3     15.61     10.93      3.28         2.95          80.0          8      E  \n",
       "4     11.27      8.89     10.22         1.00           NaN        NaN    NaN  \n",
       "5     23.20      2.26      4.22         0.58           NaN        NaN    NaN  \n",
       "6     11.28      9.14      6.50         2.88          89.0        8.5      E  \n",
       "7     13.96      9.18      2.93         2.84          58.0        6.6      E  \n",
       "8     14.44      6.94      4.70         2.24          87.0        8.4      E  \n",
       "9     26.93      0.63      0.28         0.47           NaN        NaN    NaN  "
      ]
     },
     "execution_count": 2,
     "metadata": {},
     "output_type": "execute_result"
    }
   ],
   "source": [
    "data = pd.read_csv('/datasets/games.csv') \n",
    "data.head(10)"
   ]
  },
  {
   "cell_type": "markdown",
   "metadata": {},
   "source": [
    "По датафрейму видно, что название нужно подкоректировать (привести к нижнему регистру). На первый взгляд отсутствуют значения в столбцах в рейтингом и оценками. Это может быть связано с тем, что оценок недостаточно (игра не такая популярная), возможно техническая ошибка при выгрузке данных. "
   ]
  },
  {
   "cell_type": "code",
   "execution_count": 3,
   "metadata": {},
   "outputs": [
    {
     "name": "stdout",
     "output_type": "stream",
     "text": [
      "<class 'pandas.core.frame.DataFrame'>\n",
      "RangeIndex: 16715 entries, 0 to 16714\n",
      "Data columns (total 11 columns):\n",
      " #   Column           Non-Null Count  Dtype  \n",
      "---  ------           --------------  -----  \n",
      " 0   Name             16713 non-null  object \n",
      " 1   Platform         16715 non-null  object \n",
      " 2   Year_of_Release  16446 non-null  float64\n",
      " 3   Genre            16713 non-null  object \n",
      " 4   NA_sales         16715 non-null  float64\n",
      " 5   EU_sales         16715 non-null  float64\n",
      " 6   JP_sales         16715 non-null  float64\n",
      " 7   Other_sales      16715 non-null  float64\n",
      " 8   Critic_Score     8137 non-null   float64\n",
      " 9   User_Score       10014 non-null  object \n",
      " 10  Rating           9949 non-null   object \n",
      "dtypes: float64(6), object(5)\n",
      "memory usage: 1.4+ MB\n"
     ]
    }
   ],
   "source": [
    "data.info()"
   ]
  },
  {
   "cell_type": "markdown",
   "metadata": {},
   "source": [
    "Столбец year_of_release можно привести к значению int, если нет пропусков. Если есть, то обратать и так же привести. Также странным выглядит, что user_score привиден к типу данных object, нужно будет обратить внимание на это в будущем. Не все значения есть в первых десяти строках."
   ]
  },
  {
   "cell_type": "code",
   "execution_count": 4,
   "metadata": {},
   "outputs": [
    {
     "data": {
      "image/png": "[encoded data removed]",
      "text/plain": [
       "<Figure size 1080x1440 with 6 Axes>"
      ]
     },
     "metadata": {
      "needs_background": "light"
     },
     "output_type": "display_data"
    }
   ],
   "source": [
    "data.hist(figsize=(15, 20));"
   ]
  },
  {
   "cell_type": "markdown",
   "metadata": {},
   "source": [
    "По гистограмме year_of_release видно, что хороший рост выпуска игр для платформ пошел с 1995 года, своего пика достиг в 2008-2009 годах, а затем пошел на спад. Возможно, это связано с быстрым развитием мобильных игр в то время.\n",
    "\n",
    "Критики чаще всего ставят оценки от 60 до 80. Реже от 30 до 60 и от 80 до 100. Ниже 30 и около 100 их доля совсем небольшая.\n",
    "\n",
    "Продажи по всем регионам и другим странам распределились практически одним столбцом в начале гистограммы. Трудно делать определенные выводы по этим графикам."
   ]
  },
  {
   "cell_type": "markdown",
   "metadata": {},
   "source": [
    "**Вывод:** данные по первому впечатлению представлены неплохо. Есть небольшие недочеты, связанные с названием столбцов и типами данных некоторых столбцов. Их надо будет учесть в предобработке."
   ]
  },
  {
   "cell_type": "markdown",
   "metadata": {},
   "source": [
    "### Предобработка данных"
   ]
  },
  {
   "cell_type": "markdown",
   "metadata": {},
   "source": [
    "#### Заменим названия столбцов"
   ]
  },
  {
   "cell_type": "code",
   "execution_count": 5,
   "metadata": {},
   "outputs": [],
   "source": [
    "data.columns = [i.lower() for i in data.columns]"
   ]
  },
  {
   "cell_type": "code",
   "execution_count": 6,
   "metadata": {},
   "outputs": [
    {
     "data": {
      "text/html": [
       "<div>\n",
       "<style scoped>\n",
       "    .dataframe tbody tr th:only-of-type {\n",
       "        vertical-align: middle;\n",
       "    }\n",
       "\n",
       "    .dataframe tbody tr th {\n",
       "        vertical-align: top;\n",
       "    }\n",
       "\n",
       "    .dataframe thead th {\n",
       "        text-align: right;\n",
       "    }\n",
       "</style>\n",
       "<table border=\"1\" class=\"dataframe\">\n",
       "  <thead>\n",
       "    <tr style=\"text-align: right;\">\n",
       "      <th></th>\n",
       "      <th>name</th>\n",
       "      <th>platform</th>\n",
       "      <th>year_of_release</th>\n",
       "      <th>genre</th>\n",
       "      <th>na_sales</th>\n",
       "      <th>eu_sales</th>\n",
       "      <th>jp_sales</th>\n",
       "      <th>other_sales</th>\n",
       "      <th>critic_score</th>\n",
       "      <th>user_score</th>\n",
       "      <th>rating</th>\n",
       "    </tr>\n",
       "  </thead>\n",
       "  <tbody>\n",
       "    <tr>\n",
       "      <th>0</th>\n",
       "      <td>Wii Sports</td>\n",
       "      <td>Wii</td>\n",
       "      <td>2006.0</td>\n",
       "      <td>Sports</td>\n",
       "      <td>41.36</td>\n",
       "      <td>28.96</td>\n",
       "      <td>3.77</td>\n",
       "      <td>8.45</td>\n",
       "      <td>76.0</td>\n",
       "      <td>8</td>\n",
       "      <td>E</td>\n",
       "    </tr>\n",
       "    <tr>\n",
       "      <th>1</th>\n",
       "      <td>Super Mario Bros.</td>\n",
       "      <td>NES</td>\n",
       "      <td>1985.0</td>\n",
       "      <td>Platform</td>\n",
       "      <td>29.08</td>\n",
       "      <td>3.58</td>\n",
       "      <td>6.81</td>\n",
       "      <td>0.77</td>\n",
       "      <td>NaN</td>\n",
       "      <td>NaN</td>\n",
       "      <td>NaN</td>\n",
       "    </tr>\n",
       "    <tr>\n",
       "      <th>2</th>\n",
       "      <td>Mario Kart Wii</td>\n",
       "      <td>Wii</td>\n",
       "      <td>2008.0</td>\n",
       "      <td>Racing</td>\n",
       "      <td>15.68</td>\n",
       "      <td>12.76</td>\n",
       "      <td>3.79</td>\n",
       "      <td>3.29</td>\n",
       "      <td>82.0</td>\n",
       "      <td>8.3</td>\n",
       "      <td>E</td>\n",
       "    </tr>\n",
       "    <tr>\n",
       "      <th>3</th>\n",
       "      <td>Wii Sports Resort</td>\n",
       "      <td>Wii</td>\n",
       "      <td>2009.0</td>\n",
       "      <td>Sports</td>\n",
       "      <td>15.61</td>\n",
       "      <td>10.93</td>\n",
       "      <td>3.28</td>\n",
       "      <td>2.95</td>\n",
       "      <td>80.0</td>\n",
       "      <td>8</td>\n",
       "      <td>E</td>\n",
       "    </tr>\n",
       "    <tr>\n",
       "      <th>4</th>\n",
       "      <td>Pokemon Red/Pokemon Blue</td>\n",
       "      <td>GB</td>\n",
       "      <td>1996.0</td>\n",
       "      <td>Role-Playing</td>\n",
       "      <td>11.27</td>\n",
       "      <td>8.89</td>\n",
       "      <td>10.22</td>\n",
       "      <td>1.00</td>\n",
       "      <td>NaN</td>\n",
       "      <td>NaN</td>\n",
       "      <td>NaN</td>\n",
       "    </tr>\n",
       "  </tbody>\n",
       "</table>\n",
       "</div>"
      ],
      "text/plain": [
       "                       name platform  year_of_release         genre  na_sales  \\\n",
       "0                Wii Sports      Wii           2006.0        Sports     41.36   \n",
       "1         Super Mario Bros.      NES           1985.0      Platform     29.08   \n",
       "2            Mario Kart Wii      Wii           2008.0        Racing     15.68   \n",
       "3         Wii Sports Resort      Wii           2009.0        Sports     15.61   \n",
       "4  Pokemon Red/Pokemon Blue       GB           1996.0  Role-Playing     11.27   \n",
       "\n",
       "   eu_sales  jp_sales  other_sales  critic_score user_score rating  \n",
       "0     28.96      3.77         8.45          76.0          8      E  \n",
       "1      3.58      6.81         0.77           NaN        NaN    NaN  \n",
       "2     12.76      3.79         3.29          82.0        8.3      E  \n",
       "3     10.93      3.28         2.95          80.0          8      E  \n",
       "4      8.89     10.22         1.00           NaN        NaN    NaN  "
      ]
     },
     "execution_count": 6,
     "metadata": {},
     "output_type": "execute_result"
    }
   ],
   "source": [
    "data.head() #проверяем"
   ]
  },
  {
   "cell_type": "markdown",
   "metadata": {},
   "source": [
    "#### Найдем и изучим пропущенные значения в столбцах"
   ]
  },
  {
   "cell_type": "code",
   "execution_count": 7,
   "metadata": {},
   "outputs": [
    {
     "data": {
      "text/plain": [
       "0"
      ]
     },
     "execution_count": 7,
     "metadata": {},
     "output_type": "execute_result"
    }
   ],
   "source": [
    "data.duplicated().sum() #явные дубликаты отсутствуют"
   ]
  },
  {
   "cell_type": "code",
   "execution_count": 8,
   "metadata": {},
   "outputs": [
    {
     "data": {
      "text/plain": [
       "name                  2\n",
       "platform              0\n",
       "year_of_release     269\n",
       "genre                 2\n",
       "na_sales              0\n",
       "eu_sales              0\n",
       "jp_sales              0\n",
       "other_sales           0\n",
       "critic_score       8578\n",
       "user_score         6701\n",
       "rating             6766\n",
       "dtype: int64"
      ]
     },
     "execution_count": 8,
     "metadata": {},
     "output_type": "execute_result"
    }
   ],
   "source": [
    "data.isna().sum()"
   ]
  },
  {
   "cell_type": "code",
   "execution_count": 9,
   "metadata": {},
   "outputs": [
    {
     "data": {
      "text/html": [
       "<div>\n",
       "<style scoped>\n",
       "    .dataframe tbody tr th:only-of-type {\n",
       "        vertical-align: middle;\n",
       "    }\n",
       "\n",
       "    .dataframe tbody tr th {\n",
       "        vertical-align: top;\n",
       "    }\n",
       "\n",
       "    .dataframe thead th {\n",
       "        text-align: right;\n",
       "    }\n",
       "</style>\n",
       "<table border=\"1\" class=\"dataframe\">\n",
       "  <thead>\n",
       "    <tr style=\"text-align: right;\">\n",
       "      <th></th>\n",
       "      <th>name</th>\n",
       "      <th>platform</th>\n",
       "      <th>year_of_release</th>\n",
       "      <th>genre</th>\n",
       "      <th>na_sales</th>\n",
       "      <th>eu_sales</th>\n",
       "      <th>jp_sales</th>\n",
       "      <th>other_sales</th>\n",
       "      <th>critic_score</th>\n",
       "      <th>user_score</th>\n",
       "      <th>rating</th>\n",
       "    </tr>\n",
       "  </thead>\n",
       "  <tbody>\n",
       "    <tr>\n",
       "      <th>119</th>\n",
       "      <td>Zumba Fitness</td>\n",
       "      <td>Wii</td>\n",
       "      <td>2010.0</td>\n",
       "      <td>Sports</td>\n",
       "      <td>3.45</td>\n",
       "      <td>2.59</td>\n",
       "      <td>0.0</td>\n",
       "      <td>0.66</td>\n",
       "      <td>NaN</td>\n",
       "      <td>tbd</td>\n",
       "      <td>E</td>\n",
       "    </tr>\n",
       "    <tr>\n",
       "      <th>301</th>\n",
       "      <td>Namco Museum: 50th Anniversary</td>\n",
       "      <td>PS2</td>\n",
       "      <td>2005.0</td>\n",
       "      <td>Misc</td>\n",
       "      <td>2.08</td>\n",
       "      <td>1.35</td>\n",
       "      <td>0.0</td>\n",
       "      <td>0.54</td>\n",
       "      <td>61.0</td>\n",
       "      <td>tbd</td>\n",
       "      <td>E10+</td>\n",
       "    </tr>\n",
       "    <tr>\n",
       "      <th>520</th>\n",
       "      <td>Zumba Fitness 2</td>\n",
       "      <td>Wii</td>\n",
       "      <td>2011.0</td>\n",
       "      <td>Sports</td>\n",
       "      <td>1.51</td>\n",
       "      <td>1.03</td>\n",
       "      <td>0.0</td>\n",
       "      <td>0.27</td>\n",
       "      <td>NaN</td>\n",
       "      <td>tbd</td>\n",
       "      <td>T</td>\n",
       "    </tr>\n",
       "    <tr>\n",
       "      <th>645</th>\n",
       "      <td>uDraw Studio</td>\n",
       "      <td>Wii</td>\n",
       "      <td>2010.0</td>\n",
       "      <td>Misc</td>\n",
       "      <td>1.65</td>\n",
       "      <td>0.57</td>\n",
       "      <td>0.0</td>\n",
       "      <td>0.20</td>\n",
       "      <td>71.0</td>\n",
       "      <td>tbd</td>\n",
       "      <td>E</td>\n",
       "    </tr>\n",
       "    <tr>\n",
       "      <th>657</th>\n",
       "      <td>Frogger's Adventures: Temple of the Frog</td>\n",
       "      <td>GBA</td>\n",
       "      <td>NaN</td>\n",
       "      <td>Adventure</td>\n",
       "      <td>2.15</td>\n",
       "      <td>0.18</td>\n",
       "      <td>0.0</td>\n",
       "      <td>0.07</td>\n",
       "      <td>73.0</td>\n",
       "      <td>tbd</td>\n",
       "      <td>E</td>\n",
       "    </tr>\n",
       "    <tr>\n",
       "      <th>...</th>\n",
       "      <td>...</td>\n",
       "      <td>...</td>\n",
       "      <td>...</td>\n",
       "      <td>...</td>\n",
       "      <td>...</td>\n",
       "      <td>...</td>\n",
       "      <td>...</td>\n",
       "      <td>...</td>\n",
       "      <td>...</td>\n",
       "      <td>...</td>\n",
       "      <td>...</td>\n",
       "    </tr>\n",
       "    <tr>\n",
       "      <th>16695</th>\n",
       "      <td>Planet Monsters</td>\n",
       "      <td>GBA</td>\n",
       "      <td>2001.0</td>\n",
       "      <td>Action</td>\n",
       "      <td>0.01</td>\n",
       "      <td>0.00</td>\n",
       "      <td>0.0</td>\n",
       "      <td>0.00</td>\n",
       "      <td>67.0</td>\n",
       "      <td>tbd</td>\n",
       "      <td>E</td>\n",
       "    </tr>\n",
       "    <tr>\n",
       "      <th>16697</th>\n",
       "      <td>Bust-A-Move 3000</td>\n",
       "      <td>GC</td>\n",
       "      <td>2003.0</td>\n",
       "      <td>Puzzle</td>\n",
       "      <td>0.01</td>\n",
       "      <td>0.00</td>\n",
       "      <td>0.0</td>\n",
       "      <td>0.00</td>\n",
       "      <td>53.0</td>\n",
       "      <td>tbd</td>\n",
       "      <td>E</td>\n",
       "    </tr>\n",
       "    <tr>\n",
       "      <th>16698</th>\n",
       "      <td>Mega Brain Boost</td>\n",
       "      <td>DS</td>\n",
       "      <td>2008.0</td>\n",
       "      <td>Puzzle</td>\n",
       "      <td>0.01</td>\n",
       "      <td>0.00</td>\n",
       "      <td>0.0</td>\n",
       "      <td>0.00</td>\n",
       "      <td>48.0</td>\n",
       "      <td>tbd</td>\n",
       "      <td>E</td>\n",
       "    </tr>\n",
       "    <tr>\n",
       "      <th>16704</th>\n",
       "      <td>Plushees</td>\n",
       "      <td>DS</td>\n",
       "      <td>2008.0</td>\n",
       "      <td>Simulation</td>\n",
       "      <td>0.01</td>\n",
       "      <td>0.00</td>\n",
       "      <td>0.0</td>\n",
       "      <td>0.00</td>\n",
       "      <td>NaN</td>\n",
       "      <td>tbd</td>\n",
       "      <td>E</td>\n",
       "    </tr>\n",
       "    <tr>\n",
       "      <th>16706</th>\n",
       "      <td>Men in Black II: Alien Escape</td>\n",
       "      <td>GC</td>\n",
       "      <td>2003.0</td>\n",
       "      <td>Shooter</td>\n",
       "      <td>0.01</td>\n",
       "      <td>0.00</td>\n",
       "      <td>0.0</td>\n",
       "      <td>0.00</td>\n",
       "      <td>NaN</td>\n",
       "      <td>tbd</td>\n",
       "      <td>T</td>\n",
       "    </tr>\n",
       "  </tbody>\n",
       "</table>\n",
       "<p>2424 rows × 11 columns</p>\n",
       "</div>"
      ],
      "text/plain": [
       "                                           name platform  year_of_release  \\\n",
       "119                               Zumba Fitness      Wii           2010.0   \n",
       "301              Namco Museum: 50th Anniversary      PS2           2005.0   \n",
       "520                             Zumba Fitness 2      Wii           2011.0   \n",
       "645                                uDraw Studio      Wii           2010.0   \n",
       "657    Frogger's Adventures: Temple of the Frog      GBA              NaN   \n",
       "...                                         ...      ...              ...   \n",
       "16695                           Planet Monsters      GBA           2001.0   \n",
       "16697                          Bust-A-Move 3000       GC           2003.0   \n",
       "16698                          Mega Brain Boost       DS           2008.0   \n",
       "16704                                  Plushees       DS           2008.0   \n",
       "16706             Men in Black II: Alien Escape       GC           2003.0   \n",
       "\n",
       "            genre  na_sales  eu_sales  jp_sales  other_sales  critic_score  \\\n",
       "119        Sports      3.45      2.59       0.0         0.66           NaN   \n",
       "301          Misc      2.08      1.35       0.0         0.54          61.0   \n",
       "520        Sports      1.51      1.03       0.0         0.27           NaN   \n",
       "645          Misc      1.65      0.57       0.0         0.20          71.0   \n",
       "657     Adventure      2.15      0.18       0.0         0.07          73.0   \n",
       "...           ...       ...       ...       ...          ...           ...   \n",
       "16695      Action      0.01      0.00       0.0         0.00          67.0   \n",
       "16697      Puzzle      0.01      0.00       0.0         0.00          53.0   \n",
       "16698      Puzzle      0.01      0.00       0.0         0.00          48.0   \n",
       "16704  Simulation      0.01      0.00       0.0         0.00           NaN   \n",
       "16706     Shooter      0.01      0.00       0.0         0.00           NaN   \n",
       "\n",
       "      user_score rating  \n",
       "119          tbd      E  \n",
       "301          tbd   E10+  \n",
       "520          tbd      T  \n",
       "645          tbd      E  \n",
       "657          tbd      E  \n",
       "...          ...    ...  \n",
       "16695        tbd      E  \n",
       "16697        tbd      E  \n",
       "16698        tbd      E  \n",
       "16704        tbd      E  \n",
       "16706        tbd      T  \n",
       "\n",
       "[2424 rows x 11 columns]"
      ]
     },
     "execution_count": 9,
     "metadata": {},
     "output_type": "execute_result"
    }
   ],
   "source": [
    "data.query('user_score == \"tbd\"')"
   ]
  },
  {
   "cell_type": "code",
   "execution_count": 10,
   "metadata": {},
   "outputs": [
    {
     "data": {
      "text/html": [
       "<div>\n",
       "<style scoped>\n",
       "    .dataframe tbody tr th:only-of-type {\n",
       "        vertical-align: middle;\n",
       "    }\n",
       "\n",
       "    .dataframe tbody tr th {\n",
       "        vertical-align: top;\n",
       "    }\n",
       "\n",
       "    .dataframe thead th {\n",
       "        text-align: right;\n",
       "    }\n",
       "</style>\n",
       "<table border=\"1\" class=\"dataframe\">\n",
       "  <thead>\n",
       "    <tr style=\"text-align: right;\">\n",
       "      <th></th>\n",
       "      <th>name</th>\n",
       "      <th>platform</th>\n",
       "      <th>year_of_release</th>\n",
       "      <th>genre</th>\n",
       "      <th>na_sales</th>\n",
       "      <th>eu_sales</th>\n",
       "      <th>jp_sales</th>\n",
       "      <th>other_sales</th>\n",
       "      <th>critic_score</th>\n",
       "      <th>user_score</th>\n",
       "      <th>rating</th>\n",
       "    </tr>\n",
       "  </thead>\n",
       "  <tbody>\n",
       "    <tr>\n",
       "      <th>659</th>\n",
       "      <td>NaN</td>\n",
       "      <td>GEN</td>\n",
       "      <td>1993.0</td>\n",
       "      <td>NaN</td>\n",
       "      <td>1.78</td>\n",
       "      <td>0.53</td>\n",
       "      <td>0.00</td>\n",
       "      <td>0.08</td>\n",
       "      <td>NaN</td>\n",
       "      <td>NaN</td>\n",
       "      <td>NaN</td>\n",
       "    </tr>\n",
       "    <tr>\n",
       "      <th>14244</th>\n",
       "      <td>NaN</td>\n",
       "      <td>GEN</td>\n",
       "      <td>1993.0</td>\n",
       "      <td>NaN</td>\n",
       "      <td>0.00</td>\n",
       "      <td>0.00</td>\n",
       "      <td>0.03</td>\n",
       "      <td>0.00</td>\n",
       "      <td>NaN</td>\n",
       "      <td>NaN</td>\n",
       "      <td>NaN</td>\n",
       "    </tr>\n",
       "  </tbody>\n",
       "</table>\n",
       "</div>"
      ],
      "text/plain": [
       "      name platform  year_of_release genre  na_sales  eu_sales  jp_sales  \\\n",
       "659    NaN      GEN           1993.0   NaN      1.78      0.53      0.00   \n",
       "14244  NaN      GEN           1993.0   NaN      0.00      0.00      0.03   \n",
       "\n",
       "       other_sales  critic_score user_score rating  \n",
       "659           0.08           NaN        NaN    NaN  \n",
       "14244         0.00           NaN        NaN    NaN  "
      ]
     },
     "execution_count": 10,
     "metadata": {},
     "output_type": "execute_result"
    }
   ],
   "source": [
    "data.query('name.isna()')"
   ]
  },
  {
   "cell_type": "markdown",
   "metadata": {},
   "source": [
    "* year_of_release пропусков немного, но они все-таки могут исказить результаты, поэтому их лучше исключить;\n",
    "* две строки, где отсутсвуют данные об имени игры, жанре и рейтинге можно удалить. У них маленькие продажи и это в дальнейшем никак не повлияет на ход исследования;\n",
    "* пропуски в оценках и рейтинге можно оставить, так как их большое количесвто. Также невозможно подобрать средние или медиану, которая была бы схожа с реальным значением. Даже если брать по жанру или платформе, значения рейтига и оценок могут сильно отличаться в зависимости от игры;\n",
    "* аббревиатура tbd означает to be determined (будет определено). Значит на данный оценка пользователей неизвестна, и можно поменять значение tdb на NaN;\n",
    "* пропуски в рейтингах игры можно заполнить значением \"Indef\" (неопределенный), так будет легче строить выводы о данных значениях и они не будут упущены."
   ]
  },
  {
   "cell_type": "code",
   "execution_count": 11,
   "metadata": {},
   "outputs": [],
   "source": [
    "data = data.query('year_of_release.notna()')\n",
    "data = data.drop([659, 14244]).reset_index(drop=True)\n",
    "data['user_score'] = data['user_score'].replace('tbd', np.NaN)\n",
    "data['rating'] = data['rating'].replace(np.NaN, 'Indef')"
   ]
  },
  {
   "cell_type": "code",
   "execution_count": 12,
   "metadata": {},
   "outputs": [
    {
     "data": {
      "text/html": [
       "<div>\n",
       "<style scoped>\n",
       "    .dataframe tbody tr th:only-of-type {\n",
       "        vertical-align: middle;\n",
       "    }\n",
       "\n",
       "    .dataframe tbody tr th {\n",
       "        vertical-align: top;\n",
       "    }\n",
       "\n",
       "    .dataframe thead th {\n",
       "        text-align: right;\n",
       "    }\n",
       "</style>\n",
       "<table border=\"1\" class=\"dataframe\">\n",
       "  <thead>\n",
       "    <tr style=\"text-align: right;\">\n",
       "      <th></th>\n",
       "      <th>name</th>\n",
       "      <th>platform</th>\n",
       "      <th>year_of_release</th>\n",
       "      <th>genre</th>\n",
       "      <th>na_sales</th>\n",
       "      <th>eu_sales</th>\n",
       "      <th>jp_sales</th>\n",
       "      <th>other_sales</th>\n",
       "      <th>critic_score</th>\n",
       "      <th>user_score</th>\n",
       "      <th>rating</th>\n",
       "    </tr>\n",
       "  </thead>\n",
       "  <tbody>\n",
       "    <tr>\n",
       "      <th>659</th>\n",
       "      <td>Madden NFL 08</td>\n",
       "      <td>X360</td>\n",
       "      <td>2007.0</td>\n",
       "      <td>Sports</td>\n",
       "      <td>2.18</td>\n",
       "      <td>0.01</td>\n",
       "      <td>0.0</td>\n",
       "      <td>0.18</td>\n",
       "      <td>85.0</td>\n",
       "      <td>6.4</td>\n",
       "      <td>E</td>\n",
       "    </tr>\n",
       "  </tbody>\n",
       "</table>\n",
       "</div>"
      ],
      "text/plain": [
       "              name platform  year_of_release   genre  na_sales  eu_sales  \\\n",
       "659  Madden NFL 08     X360           2007.0  Sports      2.18      0.01   \n",
       "\n",
       "     jp_sales  other_sales  critic_score user_score rating  \n",
       "659       0.0         0.18          85.0        6.4      E  "
      ]
     },
     "execution_count": 12,
     "metadata": {},
     "output_type": "execute_result"
    }
   ],
   "source": [
    "data.query('index == 659') #проверка"
   ]
  },
  {
   "cell_type": "code",
   "execution_count": 13,
   "metadata": {},
   "outputs": [
    {
     "data": {
      "text/html": [
       "<div>\n",
       "<style scoped>\n",
       "    .dataframe tbody tr th:only-of-type {\n",
       "        vertical-align: middle;\n",
       "    }\n",
       "\n",
       "    .dataframe tbody tr th {\n",
       "        vertical-align: top;\n",
       "    }\n",
       "\n",
       "    .dataframe thead th {\n",
       "        text-align: right;\n",
       "    }\n",
       "</style>\n",
       "<table border=\"1\" class=\"dataframe\">\n",
       "  <thead>\n",
       "    <tr style=\"text-align: right;\">\n",
       "      <th></th>\n",
       "      <th>name</th>\n",
       "      <th>platform</th>\n",
       "      <th>year_of_release</th>\n",
       "      <th>genre</th>\n",
       "      <th>na_sales</th>\n",
       "      <th>eu_sales</th>\n",
       "      <th>jp_sales</th>\n",
       "      <th>other_sales</th>\n",
       "      <th>critic_score</th>\n",
       "      <th>user_score</th>\n",
       "      <th>rating</th>\n",
       "    </tr>\n",
       "  </thead>\n",
       "  <tbody>\n",
       "  </tbody>\n",
       "</table>\n",
       "</div>"
      ],
      "text/plain": [
       "Empty DataFrame\n",
       "Columns: [name, platform, year_of_release, genre, na_sales, eu_sales, jp_sales, other_sales, critic_score, user_score, rating]\n",
       "Index: []"
      ]
     },
     "execution_count": 13,
     "metadata": {},
     "output_type": "execute_result"
    }
   ],
   "source": [
    "data.query('name.isna()') #проверка"
   ]
  },
  {
   "cell_type": "code",
   "execution_count": 14,
   "metadata": {},
   "outputs": [
    {
     "data": {
      "text/html": [
       "<div>\n",
       "<style scoped>\n",
       "    .dataframe tbody tr th:only-of-type {\n",
       "        vertical-align: middle;\n",
       "    }\n",
       "\n",
       "    .dataframe tbody tr th {\n",
       "        vertical-align: top;\n",
       "    }\n",
       "\n",
       "    .dataframe thead th {\n",
       "        text-align: right;\n",
       "    }\n",
       "</style>\n",
       "<table border=\"1\" class=\"dataframe\">\n",
       "  <thead>\n",
       "    <tr style=\"text-align: right;\">\n",
       "      <th></th>\n",
       "      <th>name</th>\n",
       "      <th>platform</th>\n",
       "      <th>year_of_release</th>\n",
       "      <th>genre</th>\n",
       "      <th>na_sales</th>\n",
       "      <th>eu_sales</th>\n",
       "      <th>jp_sales</th>\n",
       "      <th>other_sales</th>\n",
       "      <th>critic_score</th>\n",
       "      <th>user_score</th>\n",
       "      <th>rating</th>\n",
       "    </tr>\n",
       "  </thead>\n",
       "  <tbody>\n",
       "  </tbody>\n",
       "</table>\n",
       "</div>"
      ],
      "text/plain": [
       "Empty DataFrame\n",
       "Columns: [name, platform, year_of_release, genre, na_sales, eu_sales, jp_sales, other_sales, critic_score, user_score, rating]\n",
       "Index: []"
      ]
     },
     "execution_count": 14,
     "metadata": {},
     "output_type": "execute_result"
    }
   ],
   "source": [
    "data.query('user_score == \"tbd\"') #проверка"
   ]
  },
  {
   "cell_type": "code",
   "execution_count": 15,
   "metadata": {},
   "outputs": [
    {
     "data": {
      "text/plain": [
       "name                  0\n",
       "platform              0\n",
       "year_of_release       0\n",
       "genre                 0\n",
       "na_sales              0\n",
       "eu_sales              0\n",
       "jp_sales              0\n",
       "other_sales           0\n",
       "critic_score       8461\n",
       "user_score         8981\n",
       "rating                0\n",
       "dtype: int64"
      ]
     },
     "execution_count": 15,
     "metadata": {},
     "output_type": "execute_result"
    }
   ],
   "source": [
    "data.isna().sum() #проверка"
   ]
  },
  {
   "cell_type": "markdown",
   "metadata": {},
   "source": [
    "#### Преобразуем данные в нужные типы"
   ]
  },
  {
   "cell_type": "markdown",
   "metadata": {},
   "source": [
    "* year_of_release: float --> int (все года указаны в целых числах)\n",
    "* user_score: object --> float (заменили аббревиатуру tbd на NaN, значения в int либо float)"
   ]
  },
  {
   "cell_type": "code",
   "execution_count": 16,
   "metadata": {},
   "outputs": [],
   "source": [
    "data['year_of_release'] = data['year_of_release'].astype('int')\n",
    "data['user_score'] = pd.to_numeric(data['user_score'])"
   ]
  },
  {
   "cell_type": "code",
   "execution_count": 17,
   "metadata": {},
   "outputs": [
    {
     "name": "stdout",
     "output_type": "stream",
     "text": [
      "<class 'pandas.core.frame.DataFrame'>\n",
      "RangeIndex: 16444 entries, 0 to 16443\n",
      "Data columns (total 11 columns):\n",
      " #   Column           Non-Null Count  Dtype  \n",
      "---  ------           --------------  -----  \n",
      " 0   name             16444 non-null  object \n",
      " 1   platform         16444 non-null  object \n",
      " 2   year_of_release  16444 non-null  int64  \n",
      " 3   genre            16444 non-null  object \n",
      " 4   na_sales         16444 non-null  float64\n",
      " 5   eu_sales         16444 non-null  float64\n",
      " 6   jp_sales         16444 non-null  float64\n",
      " 7   other_sales      16444 non-null  float64\n",
      " 8   critic_score     7983 non-null   float64\n",
      " 9   user_score       7463 non-null   float64\n",
      " 10  rating           16444 non-null  object \n",
      "dtypes: float64(6), int64(1), object(4)\n",
      "memory usage: 1.4+ MB\n"
     ]
    }
   ],
   "source": [
    "data.info()"
   ]
  },
  {
   "cell_type": "markdown",
   "metadata": {},
   "source": [
    "#### Посчитаем суммарные продажи во всех регионах"
   ]
  },
  {
   "cell_type": "code",
   "execution_count": 18,
   "metadata": {},
   "outputs": [],
   "source": [
    "data['general_sales'] = data['na_sales'] + data['eu_sales'] + data['jp_sales'] + data['other_sales']"
   ]
  },
  {
   "cell_type": "code",
   "execution_count": 19,
   "metadata": {},
   "outputs": [
    {
     "data": {
      "text/html": [
       "<div>\n",
       "<style scoped>\n",
       "    .dataframe tbody tr th:only-of-type {\n",
       "        vertical-align: middle;\n",
       "    }\n",
       "\n",
       "    .dataframe tbody tr th {\n",
       "        vertical-align: top;\n",
       "    }\n",
       "\n",
       "    .dataframe thead th {\n",
       "        text-align: right;\n",
       "    }\n",
       "</style>\n",
       "<table border=\"1\" class=\"dataframe\">\n",
       "  <thead>\n",
       "    <tr style=\"text-align: right;\">\n",
       "      <th></th>\n",
       "      <th>name</th>\n",
       "      <th>platform</th>\n",
       "      <th>year_of_release</th>\n",
       "      <th>genre</th>\n",
       "      <th>na_sales</th>\n",
       "      <th>eu_sales</th>\n",
       "      <th>jp_sales</th>\n",
       "      <th>other_sales</th>\n",
       "      <th>critic_score</th>\n",
       "      <th>user_score</th>\n",
       "      <th>rating</th>\n",
       "      <th>general_sales</th>\n",
       "    </tr>\n",
       "  </thead>\n",
       "  <tbody>\n",
       "    <tr>\n",
       "      <th>0</th>\n",
       "      <td>Wii Sports</td>\n",
       "      <td>Wii</td>\n",
       "      <td>2006</td>\n",
       "      <td>Sports</td>\n",
       "      <td>41.36</td>\n",
       "      <td>28.96</td>\n",
       "      <td>3.77</td>\n",
       "      <td>8.45</td>\n",
       "      <td>76.0</td>\n",
       "      <td>8.0</td>\n",
       "      <td>E</td>\n",
       "      <td>82.54</td>\n",
       "    </tr>\n",
       "    <tr>\n",
       "      <th>1</th>\n",
       "      <td>Super Mario Bros.</td>\n",
       "      <td>NES</td>\n",
       "      <td>1985</td>\n",
       "      <td>Platform</td>\n",
       "      <td>29.08</td>\n",
       "      <td>3.58</td>\n",
       "      <td>6.81</td>\n",
       "      <td>0.77</td>\n",
       "      <td>NaN</td>\n",
       "      <td>NaN</td>\n",
       "      <td>Indef</td>\n",
       "      <td>40.24</td>\n",
       "    </tr>\n",
       "    <tr>\n",
       "      <th>2</th>\n",
       "      <td>Mario Kart Wii</td>\n",
       "      <td>Wii</td>\n",
       "      <td>2008</td>\n",
       "      <td>Racing</td>\n",
       "      <td>15.68</td>\n",
       "      <td>12.76</td>\n",
       "      <td>3.79</td>\n",
       "      <td>3.29</td>\n",
       "      <td>82.0</td>\n",
       "      <td>8.3</td>\n",
       "      <td>E</td>\n",
       "      <td>35.52</td>\n",
       "    </tr>\n",
       "    <tr>\n",
       "      <th>3</th>\n",
       "      <td>Wii Sports Resort</td>\n",
       "      <td>Wii</td>\n",
       "      <td>2009</td>\n",
       "      <td>Sports</td>\n",
       "      <td>15.61</td>\n",
       "      <td>10.93</td>\n",
       "      <td>3.28</td>\n",
       "      <td>2.95</td>\n",
       "      <td>80.0</td>\n",
       "      <td>8.0</td>\n",
       "      <td>E</td>\n",
       "      <td>32.77</td>\n",
       "    </tr>\n",
       "    <tr>\n",
       "      <th>4</th>\n",
       "      <td>Pokemon Red/Pokemon Blue</td>\n",
       "      <td>GB</td>\n",
       "      <td>1996</td>\n",
       "      <td>Role-Playing</td>\n",
       "      <td>11.27</td>\n",
       "      <td>8.89</td>\n",
       "      <td>10.22</td>\n",
       "      <td>1.00</td>\n",
       "      <td>NaN</td>\n",
       "      <td>NaN</td>\n",
       "      <td>Indef</td>\n",
       "      <td>31.38</td>\n",
       "    </tr>\n",
       "  </tbody>\n",
       "</table>\n",
       "</div>"
      ],
      "text/plain": [
       "                       name platform  year_of_release         genre  na_sales  \\\n",
       "0                Wii Sports      Wii             2006        Sports     41.36   \n",
       "1         Super Mario Bros.      NES             1985      Platform     29.08   \n",
       "2            Mario Kart Wii      Wii             2008        Racing     15.68   \n",
       "3         Wii Sports Resort      Wii             2009        Sports     15.61   \n",
       "4  Pokemon Red/Pokemon Blue       GB             1996  Role-Playing     11.27   \n",
       "\n",
       "   eu_sales  jp_sales  other_sales  critic_score  user_score rating  \\\n",
       "0     28.96      3.77         8.45          76.0         8.0      E   \n",
       "1      3.58      6.81         0.77           NaN         NaN  Indef   \n",
       "2     12.76      3.79         3.29          82.0         8.3      E   \n",
       "3     10.93      3.28         2.95          80.0         8.0      E   \n",
       "4      8.89     10.22         1.00           NaN         NaN  Indef   \n",
       "\n",
       "   general_sales  \n",
       "0          82.54  \n",
       "1          40.24  \n",
       "2          35.52  \n",
       "3          32.77  \n",
       "4          31.38  "
      ]
     },
     "execution_count": 19,
     "metadata": {},
     "output_type": "execute_result"
    }
   ],
   "source": [
    "data.head()"
   ]
  },
  {
   "cell_type": "markdown",
   "metadata": {},
   "source": [
    "**Вывод:** были учтены замечания из предыдущего пункта: названия столбцов приведены к нижнему регистру, изменен тип данных столбцов year_of_release, user_score. В последнем столбце обнаружена аббревиатура tbd означает to be determined (будет определено). Значит на данный оценка пользователей неизвестна, и можно поменять значение tdb на NaN. Явных дубликатов нет. Отдельно посчитано продажи по всему миру для дальнейшего исследования. "
   ]
  },
  {
   "cell_type": "markdown",
   "metadata": {},
   "source": [
    "### Исследовательский анализ данных"
   ]
  },
  {
   "cell_type": "markdown",
   "metadata": {},
   "source": [
    "#### Количество игр в разные года"
   ]
  },
  {
   "cell_type": "code",
   "execution_count": 20,
   "metadata": {},
   "outputs": [
    {
     "data": {
      "text/html": [
       "<div>\n",
       "<style scoped>\n",
       "    .dataframe tbody tr th:only-of-type {\n",
       "        vertical-align: middle;\n",
       "    }\n",
       "\n",
       "    .dataframe tbody tr th {\n",
       "        vertical-align: top;\n",
       "    }\n",
       "\n",
       "    .dataframe thead th {\n",
       "        text-align: right;\n",
       "    }\n",
       "</style>\n",
       "<table border=\"1\" class=\"dataframe\">\n",
       "  <thead>\n",
       "    <tr style=\"text-align: right;\">\n",
       "      <th></th>\n",
       "      <th>count</th>\n",
       "    </tr>\n",
       "    <tr>\n",
       "      <th>year_of_release</th>\n",
       "      <th></th>\n",
       "    </tr>\n",
       "  </thead>\n",
       "  <tbody>\n",
       "    <tr>\n",
       "      <th>1980</th>\n",
       "      <td>9</td>\n",
       "    </tr>\n",
       "    <tr>\n",
       "      <th>1981</th>\n",
       "      <td>46</td>\n",
       "    </tr>\n",
       "    <tr>\n",
       "      <th>1982</th>\n",
       "      <td>36</td>\n",
       "    </tr>\n",
       "    <tr>\n",
       "      <th>1983</th>\n",
       "      <td>17</td>\n",
       "    </tr>\n",
       "    <tr>\n",
       "      <th>1984</th>\n",
       "      <td>14</td>\n",
       "    </tr>\n",
       "    <tr>\n",
       "      <th>1985</th>\n",
       "      <td>14</td>\n",
       "    </tr>\n",
       "    <tr>\n",
       "      <th>1986</th>\n",
       "      <td>21</td>\n",
       "    </tr>\n",
       "    <tr>\n",
       "      <th>1987</th>\n",
       "      <td>16</td>\n",
       "    </tr>\n",
       "    <tr>\n",
       "      <th>1988</th>\n",
       "      <td>15</td>\n",
       "    </tr>\n",
       "    <tr>\n",
       "      <th>1989</th>\n",
       "      <td>17</td>\n",
       "    </tr>\n",
       "    <tr>\n",
       "      <th>1990</th>\n",
       "      <td>16</td>\n",
       "    </tr>\n",
       "    <tr>\n",
       "      <th>1991</th>\n",
       "      <td>41</td>\n",
       "    </tr>\n",
       "    <tr>\n",
       "      <th>1992</th>\n",
       "      <td>43</td>\n",
       "    </tr>\n",
       "    <tr>\n",
       "      <th>1993</th>\n",
       "      <td>60</td>\n",
       "    </tr>\n",
       "    <tr>\n",
       "      <th>1994</th>\n",
       "      <td>121</td>\n",
       "    </tr>\n",
       "    <tr>\n",
       "      <th>1995</th>\n",
       "      <td>219</td>\n",
       "    </tr>\n",
       "    <tr>\n",
       "      <th>1996</th>\n",
       "      <td>263</td>\n",
       "    </tr>\n",
       "    <tr>\n",
       "      <th>1997</th>\n",
       "      <td>289</td>\n",
       "    </tr>\n",
       "    <tr>\n",
       "      <th>1998</th>\n",
       "      <td>379</td>\n",
       "    </tr>\n",
       "    <tr>\n",
       "      <th>1999</th>\n",
       "      <td>338</td>\n",
       "    </tr>\n",
       "    <tr>\n",
       "      <th>2000</th>\n",
       "      <td>350</td>\n",
       "    </tr>\n",
       "    <tr>\n",
       "      <th>2001</th>\n",
       "      <td>482</td>\n",
       "    </tr>\n",
       "    <tr>\n",
       "      <th>2002</th>\n",
       "      <td>829</td>\n",
       "    </tr>\n",
       "    <tr>\n",
       "      <th>2003</th>\n",
       "      <td>775</td>\n",
       "    </tr>\n",
       "    <tr>\n",
       "      <th>2004</th>\n",
       "      <td>762</td>\n",
       "    </tr>\n",
       "    <tr>\n",
       "      <th>2005</th>\n",
       "      <td>939</td>\n",
       "    </tr>\n",
       "    <tr>\n",
       "      <th>2006</th>\n",
       "      <td>1006</td>\n",
       "    </tr>\n",
       "    <tr>\n",
       "      <th>2007</th>\n",
       "      <td>1197</td>\n",
       "    </tr>\n",
       "    <tr>\n",
       "      <th>2008</th>\n",
       "      <td>1427</td>\n",
       "    </tr>\n",
       "    <tr>\n",
       "      <th>2009</th>\n",
       "      <td>1426</td>\n",
       "    </tr>\n",
       "    <tr>\n",
       "      <th>2010</th>\n",
       "      <td>1255</td>\n",
       "    </tr>\n",
       "    <tr>\n",
       "      <th>2011</th>\n",
       "      <td>1136</td>\n",
       "    </tr>\n",
       "    <tr>\n",
       "      <th>2012</th>\n",
       "      <td>653</td>\n",
       "    </tr>\n",
       "    <tr>\n",
       "      <th>2013</th>\n",
       "      <td>544</td>\n",
       "    </tr>\n",
       "    <tr>\n",
       "      <th>2014</th>\n",
       "      <td>581</td>\n",
       "    </tr>\n",
       "    <tr>\n",
       "      <th>2015</th>\n",
       "      <td>606</td>\n",
       "    </tr>\n",
       "    <tr>\n",
       "      <th>2016</th>\n",
       "      <td>502</td>\n",
       "    </tr>\n",
       "  </tbody>\n",
       "</table>\n",
       "</div>"
      ],
      "text/plain": [
       "                 count\n",
       "year_of_release       \n",
       "1980                 9\n",
       "1981                46\n",
       "1982                36\n",
       "1983                17\n",
       "1984                14\n",
       "1985                14\n",
       "1986                21\n",
       "1987                16\n",
       "1988                15\n",
       "1989                17\n",
       "1990                16\n",
       "1991                41\n",
       "1992                43\n",
       "1993                60\n",
       "1994               121\n",
       "1995               219\n",
       "1996               263\n",
       "1997               289\n",
       "1998               379\n",
       "1999               338\n",
       "2000               350\n",
       "2001               482\n",
       "2002               829\n",
       "2003               775\n",
       "2004               762\n",
       "2005               939\n",
       "2006              1006\n",
       "2007              1197\n",
       "2008              1427\n",
       "2009              1426\n",
       "2010              1255\n",
       "2011              1136\n",
       "2012               653\n",
       "2013               544\n",
       "2014               581\n",
       "2015               606\n",
       "2016               502"
      ]
     },
     "execution_count": 20,
     "metadata": {},
     "output_type": "execute_result"
    }
   ],
   "source": [
    "games_for_years = pd.pivot_table(data, index='year_of_release', values='name', aggfunc='count')\n",
    "games_for_years.columns = ['count']\n",
    "games_for_years"
   ]
  },
  {
   "cell_type": "code",
   "execution_count": 21,
   "metadata": {},
   "outputs": [
    {
     "data": {
      "image/png": "[encoded data removed]",
      "text/plain": [
       "<Figure size 1440x720 with 1 Axes>"
      ]
     },
     "metadata": {
      "needs_background": "light"
     },
     "output_type": "display_data"
    }
   ],
   "source": [
    "games_for_years.plot(use_index=True , y='count', kind='bar', figsize=(20,10))\n",
    "\n",
    "plt.title('Количество игр за разные годы', size=17)\n",
    "plt.xlabel('Год релиза', size=12)\n",
    "plt.ylabel('Количество выпущенных игр', size=12)\n",
    "\n",
    "plt.show()"
   ]
  },
  {
   "cell_type": "markdown",
   "metadata": {},
   "source": [
    "По графику видно, что большой скачок в количестве игр произошел в 2002 году (около 829 игр, выпущенных за год). Это может обосновываться тем, что в это время начало бычтро развиваться ПК индустрия и игровые платформы, они начали появляться у большого количества людей. \n",
    "\n",
    "Спад идет в 2012 году. Скорее всего это связано с развитием мобильных приложений и игр, которые начали приходить на замену немобильным устройствам. \n",
    "\n",
    "Данные для дальнейшего исследования можно взять с 2011 года, в это время начали появляться мобильные игры, кототрые сильно повлияли на индустрию и игровые приставки, которые еще будут актуальны следущие несколько лет. "
   ]
  },
  {
   "cell_type": "markdown",
   "metadata": {},
   "source": [
    "#### Топовые платформы за все время"
   ]
  },
  {
   "cell_type": "code",
   "execution_count": 22,
   "metadata": {},
   "outputs": [
    {
     "data": {
      "text/html": [
       "<div>\n",
       "<style scoped>\n",
       "    .dataframe tbody tr th:only-of-type {\n",
       "        vertical-align: middle;\n",
       "    }\n",
       "\n",
       "    .dataframe tbody tr th {\n",
       "        vertical-align: top;\n",
       "    }\n",
       "\n",
       "    .dataframe thead th {\n",
       "        text-align: right;\n",
       "    }\n",
       "</style>\n",
       "<table border=\"1\" class=\"dataframe\">\n",
       "  <thead>\n",
       "    <tr style=\"text-align: right;\">\n",
       "      <th></th>\n",
       "      <th>general_sales</th>\n",
       "    </tr>\n",
       "    <tr>\n",
       "      <th>platform</th>\n",
       "      <th></th>\n",
       "    </tr>\n",
       "  </thead>\n",
       "  <tbody>\n",
       "    <tr>\n",
       "      <th>PS2</th>\n",
       "      <td>1233.56</td>\n",
       "    </tr>\n",
       "    <tr>\n",
       "      <th>X360</th>\n",
       "      <td>961.24</td>\n",
       "    </tr>\n",
       "    <tr>\n",
       "      <th>PS3</th>\n",
       "      <td>931.34</td>\n",
       "    </tr>\n",
       "    <tr>\n",
       "      <th>Wii</th>\n",
       "      <td>891.18</td>\n",
       "    </tr>\n",
       "    <tr>\n",
       "      <th>DS</th>\n",
       "      <td>802.78</td>\n",
       "    </tr>\n",
       "  </tbody>\n",
       "</table>\n",
       "</div>"
      ],
      "text/plain": [
       "          general_sales\n",
       "platform               \n",
       "PS2             1233.56\n",
       "X360             961.24\n",
       "PS3              931.34\n",
       "Wii              891.18\n",
       "DS               802.78"
      ]
     },
     "execution_count": 22,
     "metadata": {},
     "output_type": "execute_result"
    }
   ],
   "source": [
    "top_platforms = pd.pivot_table(data, index='platform', values='general_sales', aggfunc='sum').sort_values('general_sales', ascending=False).head()\n",
    "top_platforms"
   ]
  },
  {
   "cell_type": "markdown",
   "metadata": {},
   "source": [
    "Топ 5 платформ с 1980 года это PS2, Xbox 360, PS3, Wii, DS."
   ]
  },
  {
   "cell_type": "code",
   "execution_count": 23,
   "metadata": {},
   "outputs": [
    {
     "data": {
      "image/png": "[encoded data removed]",
      "text/plain": [
       "<Figure size 1080x504 with 1 Axes>"
      ]
     },
     "metadata": {
      "needs_background": "light"
     },
     "output_type": "display_data"
    }
   ],
   "source": [
    "data_with_actual_platform = data.query('platform in [\"PS2\", \"X360\", \"PS3\", \"DS\", \"Wii\"] and 2000 <= year_of_release')\n",
    "data_with_actual_platform.pivot_table(index='year_of_release', columns = 'platform', values='general_sales', aggfunc='sum').plot(grid=True, figsize=(15, 7))\n",
    "\n",
    "plt.title('Количество выпущенных игр за разные годы на популярных платформах', size=17)\n",
    "plt.xlabel('Год релиза', size=12)\n",
    "plt.ylabel('Количество выпущенных игр', size=12)\n",
    "\n",
    "plt.show()"
   ]
  },
  {
   "cell_type": "markdown",
   "metadata": {},
   "source": [
    "Средняя продолжительность жизни платформы 5-6 лет. За это время она успевает устареть и ей на смену приходит новое поколение. "
   ]
  },
  {
   "cell_type": "markdown",
   "metadata": {},
   "source": [
    "#### Топовые платформы за актуальный период"
   ]
  },
  {
   "cell_type": "code",
   "execution_count": 24,
   "metadata": {},
   "outputs": [
    {
     "data": {
      "text/html": [
       "<div>\n",
       "<style scoped>\n",
       "    .dataframe tbody tr th:only-of-type {\n",
       "        vertical-align: middle;\n",
       "    }\n",
       "\n",
       "    .dataframe tbody tr th {\n",
       "        vertical-align: top;\n",
       "    }\n",
       "\n",
       "    .dataframe thead th {\n",
       "        text-align: right;\n",
       "    }\n",
       "</style>\n",
       "<table border=\"1\" class=\"dataframe\">\n",
       "  <thead>\n",
       "    <tr style=\"text-align: right;\">\n",
       "      <th></th>\n",
       "      <th>general_sales</th>\n",
       "    </tr>\n",
       "    <tr>\n",
       "      <th>platform</th>\n",
       "      <th></th>\n",
       "    </tr>\n",
       "  </thead>\n",
       "  <tbody>\n",
       "    <tr>\n",
       "      <th>PS3</th>\n",
       "      <td>445.57</td>\n",
       "    </tr>\n",
       "    <tr>\n",
       "      <th>X360</th>\n",
       "      <td>380.38</td>\n",
       "    </tr>\n",
       "    <tr>\n",
       "      <th>PS4</th>\n",
       "      <td>314.14</td>\n",
       "    </tr>\n",
       "    <tr>\n",
       "      <th>3DS</th>\n",
       "      <td>257.81</td>\n",
       "    </tr>\n",
       "    <tr>\n",
       "      <th>XOne</th>\n",
       "      <td>159.32</td>\n",
       "    </tr>\n",
       "  </tbody>\n",
       "</table>\n",
       "</div>"
      ],
      "text/plain": [
       "          general_sales\n",
       "platform               \n",
       "PS3              445.57\n",
       "X360             380.38\n",
       "PS4              314.14\n",
       "3DS              257.81\n",
       "XOne             159.32"
      ]
     },
     "execution_count": 24,
     "metadata": {},
     "output_type": "execute_result"
    }
   ],
   "source": [
    "data = data.query(\"2011 <= year_of_release <= 2016\") #оставляем данные за 2011-2016 года\n",
    "\n",
    "top_platforms_2011 = pd.pivot_table(data, index='platform', values='general_sales', aggfunc='sum').sort_values('general_sales', ascending=False).head()\n",
    "top_platforms_2011"
   ]
  },
  {
   "cell_type": "markdown",
   "metadata": {},
   "source": [
    "Топ 5 платформ, начиная с 2011 года, составляют PS3, Xbox 360, PS4, 3DS, Xbox One."
   ]
  },
  {
   "cell_type": "code",
   "execution_count": 25,
   "metadata": {},
   "outputs": [
    {
     "data": {
      "image/png": "[encoded data removed]",
      "text/plain": [
       "<Figure size 1080x504 with 1 Axes>"
      ]
     },
     "metadata": {
      "needs_background": "light"
     },
     "output_type": "display_data"
    }
   ],
   "source": [
    "data_with_actual_platform = data.query('platform in [\"PS3\", \"X360\", \"PS4\", \"3DS\", \"XOne\"]')\n",
    "data_with_actual_platform.pivot_table(index='year_of_release', columns = 'platform', values='general_sales', aggfunc='sum').plot(grid=True, figsize=(15, 7))\n",
    "\n",
    "plt.title('Количество выпущенных игр на популярных платформах с 2011 года', size=17)\n",
    "plt.xlabel('Год релиза', size=12)\n",
    "plt.ylabel('Количество выпущенных игр', size=12)\n",
    "\n",
    "plt.show()"
   ]
  },
  {
   "cell_type": "markdown",
   "metadata": {},
   "source": [
    "Судя по графику, актуальные на 2017 год модели платформ начали появляться в 2013 году. Можно подкоректировать актуальный период и взять с 2013 года, а также оставить три платформы, у которых продажи игр не стремятся к нулю (3DS, PS4, Xbox One). C 2015 года продажи игр на все платформы начали падать. "
   ]
  },
  {
   "cell_type": "code",
   "execution_count": 26,
   "metadata": {},
   "outputs": [
    {
     "data": {
      "text/html": [
       "<div>\n",
       "<style scoped>\n",
       "    .dataframe tbody tr th:only-of-type {\n",
       "        vertical-align: middle;\n",
       "    }\n",
       "\n",
       "    .dataframe tbody tr th {\n",
       "        vertical-align: top;\n",
       "    }\n",
       "\n",
       "    .dataframe thead th {\n",
       "        text-align: right;\n",
       "    }\n",
       "</style>\n",
       "<table border=\"1\" class=\"dataframe\">\n",
       "  <thead>\n",
       "    <tr style=\"text-align: right;\">\n",
       "      <th></th>\n",
       "      <th>name</th>\n",
       "      <th>platform</th>\n",
       "      <th>year_of_release</th>\n",
       "      <th>genre</th>\n",
       "      <th>na_sales</th>\n",
       "      <th>eu_sales</th>\n",
       "      <th>jp_sales</th>\n",
       "      <th>other_sales</th>\n",
       "      <th>critic_score</th>\n",
       "      <th>user_score</th>\n",
       "      <th>rating</th>\n",
       "      <th>general_sales</th>\n",
       "    </tr>\n",
       "  </thead>\n",
       "  <tbody>\n",
       "    <tr>\n",
       "      <th>0</th>\n",
       "      <td>Grand Theft Auto V</td>\n",
       "      <td>PS3</td>\n",
       "      <td>2013</td>\n",
       "      <td>Action</td>\n",
       "      <td>7.02</td>\n",
       "      <td>9.09</td>\n",
       "      <td>0.98</td>\n",
       "      <td>3.96</td>\n",
       "      <td>97.0</td>\n",
       "      <td>8.2</td>\n",
       "      <td>M</td>\n",
       "      <td>21.05</td>\n",
       "    </tr>\n",
       "    <tr>\n",
       "      <th>1</th>\n",
       "      <td>Grand Theft Auto V</td>\n",
       "      <td>X360</td>\n",
       "      <td>2013</td>\n",
       "      <td>Action</td>\n",
       "      <td>9.66</td>\n",
       "      <td>5.14</td>\n",
       "      <td>0.06</td>\n",
       "      <td>1.41</td>\n",
       "      <td>97.0</td>\n",
       "      <td>8.1</td>\n",
       "      <td>M</td>\n",
       "      <td>16.27</td>\n",
       "    </tr>\n",
       "    <tr>\n",
       "      <th>2</th>\n",
       "      <td>Call of Duty: Black Ops 3</td>\n",
       "      <td>PS4</td>\n",
       "      <td>2015</td>\n",
       "      <td>Shooter</td>\n",
       "      <td>6.03</td>\n",
       "      <td>5.86</td>\n",
       "      <td>0.36</td>\n",
       "      <td>2.38</td>\n",
       "      <td>NaN</td>\n",
       "      <td>NaN</td>\n",
       "      <td>Indef</td>\n",
       "      <td>14.63</td>\n",
       "    </tr>\n",
       "    <tr>\n",
       "      <th>3</th>\n",
       "      <td>Pokemon X/Pokemon Y</td>\n",
       "      <td>3DS</td>\n",
       "      <td>2013</td>\n",
       "      <td>Role-Playing</td>\n",
       "      <td>5.28</td>\n",
       "      <td>4.19</td>\n",
       "      <td>4.35</td>\n",
       "      <td>0.78</td>\n",
       "      <td>NaN</td>\n",
       "      <td>NaN</td>\n",
       "      <td>Indef</td>\n",
       "      <td>14.60</td>\n",
       "    </tr>\n",
       "    <tr>\n",
       "      <th>4</th>\n",
       "      <td>Grand Theft Auto V</td>\n",
       "      <td>PS4</td>\n",
       "      <td>2014</td>\n",
       "      <td>Action</td>\n",
       "      <td>3.96</td>\n",
       "      <td>6.31</td>\n",
       "      <td>0.38</td>\n",
       "      <td>1.97</td>\n",
       "      <td>97.0</td>\n",
       "      <td>8.3</td>\n",
       "      <td>M</td>\n",
       "      <td>12.62</td>\n",
       "    </tr>\n",
       "    <tr>\n",
       "      <th>5</th>\n",
       "      <td>Pokemon Omega Ruby/Pokemon Alpha Sapphire</td>\n",
       "      <td>3DS</td>\n",
       "      <td>2014</td>\n",
       "      <td>Role-Playing</td>\n",
       "      <td>4.35</td>\n",
       "      <td>3.49</td>\n",
       "      <td>3.10</td>\n",
       "      <td>0.74</td>\n",
       "      <td>NaN</td>\n",
       "      <td>NaN</td>\n",
       "      <td>Indef</td>\n",
       "      <td>11.68</td>\n",
       "    </tr>\n",
       "    <tr>\n",
       "      <th>6</th>\n",
       "      <td>Call of Duty: Ghosts</td>\n",
       "      <td>X360</td>\n",
       "      <td>2013</td>\n",
       "      <td>Shooter</td>\n",
       "      <td>6.73</td>\n",
       "      <td>2.56</td>\n",
       "      <td>0.04</td>\n",
       "      <td>0.91</td>\n",
       "      <td>73.0</td>\n",
       "      <td>2.6</td>\n",
       "      <td>M</td>\n",
       "      <td>10.24</td>\n",
       "    </tr>\n",
       "    <tr>\n",
       "      <th>7</th>\n",
       "      <td>Call of Duty: Ghosts</td>\n",
       "      <td>PS3</td>\n",
       "      <td>2013</td>\n",
       "      <td>Shooter</td>\n",
       "      <td>4.10</td>\n",
       "      <td>3.63</td>\n",
       "      <td>0.38</td>\n",
       "      <td>1.25</td>\n",
       "      <td>71.0</td>\n",
       "      <td>2.6</td>\n",
       "      <td>M</td>\n",
       "      <td>9.36</td>\n",
       "    </tr>\n",
       "    <tr>\n",
       "      <th>8</th>\n",
       "      <td>Minecraft</td>\n",
       "      <td>X360</td>\n",
       "      <td>2013</td>\n",
       "      <td>Misc</td>\n",
       "      <td>5.70</td>\n",
       "      <td>2.65</td>\n",
       "      <td>0.02</td>\n",
       "      <td>0.81</td>\n",
       "      <td>NaN</td>\n",
       "      <td>NaN</td>\n",
       "      <td>Indef</td>\n",
       "      <td>9.18</td>\n",
       "    </tr>\n",
       "    <tr>\n",
       "      <th>9</th>\n",
       "      <td>FIFA 16</td>\n",
       "      <td>PS4</td>\n",
       "      <td>2015</td>\n",
       "      <td>Sports</td>\n",
       "      <td>1.12</td>\n",
       "      <td>6.12</td>\n",
       "      <td>0.06</td>\n",
       "      <td>1.28</td>\n",
       "      <td>82.0</td>\n",
       "      <td>4.3</td>\n",
       "      <td>E</td>\n",
       "      <td>8.58</td>\n",
       "    </tr>\n",
       "  </tbody>\n",
       "</table>\n",
       "</div>"
      ],
      "text/plain": [
       "                                        name platform  year_of_release  \\\n",
       "0                         Grand Theft Auto V      PS3             2013   \n",
       "1                         Grand Theft Auto V     X360             2013   \n",
       "2                  Call of Duty: Black Ops 3      PS4             2015   \n",
       "3                        Pokemon X/Pokemon Y      3DS             2013   \n",
       "4                         Grand Theft Auto V      PS4             2014   \n",
       "5  Pokemon Omega Ruby/Pokemon Alpha Sapphire      3DS             2014   \n",
       "6                       Call of Duty: Ghosts     X360             2013   \n",
       "7                       Call of Duty: Ghosts      PS3             2013   \n",
       "8                                  Minecraft     X360             2013   \n",
       "9                                    FIFA 16      PS4             2015   \n",
       "\n",
       "          genre  na_sales  eu_sales  jp_sales  other_sales  critic_score  \\\n",
       "0        Action      7.02      9.09      0.98         3.96          97.0   \n",
       "1        Action      9.66      5.14      0.06         1.41          97.0   \n",
       "2       Shooter      6.03      5.86      0.36         2.38           NaN   \n",
       "3  Role-Playing      5.28      4.19      4.35         0.78           NaN   \n",
       "4        Action      3.96      6.31      0.38         1.97          97.0   \n",
       "5  Role-Playing      4.35      3.49      3.10         0.74           NaN   \n",
       "6       Shooter      6.73      2.56      0.04         0.91          73.0   \n",
       "7       Shooter      4.10      3.63      0.38         1.25          71.0   \n",
       "8          Misc      5.70      2.65      0.02         0.81           NaN   \n",
       "9        Sports      1.12      6.12      0.06         1.28          82.0   \n",
       "\n",
       "   user_score rating  general_sales  \n",
       "0         8.2      M          21.05  \n",
       "1         8.1      M          16.27  \n",
       "2         NaN  Indef          14.63  \n",
       "3         NaN  Indef          14.60  \n",
       "4         8.3      M          12.62  \n",
       "5         NaN  Indef          11.68  \n",
       "6         2.6      M          10.24  \n",
       "7         2.6      M           9.36  \n",
       "8         NaN  Indef           9.18  \n",
       "9         4.3      E           8.58  "
      ]
     },
     "execution_count": 26,
     "metadata": {},
     "output_type": "execute_result"
    }
   ],
   "source": [
    "data = data.query('2013 <= year_of_release').reset_index(drop=True)\n",
    "data.head(10)"
   ]
  },
  {
   "cell_type": "markdown",
   "metadata": {},
   "source": [
    "#### Продажи игр на актуальных платформах"
   ]
  },
  {
   "cell_type": "code",
   "execution_count": 27,
   "metadata": {},
   "outputs": [
    {
     "data": {
      "text/html": [
       "<div>\n",
       "<style scoped>\n",
       "    .dataframe tbody tr th:only-of-type {\n",
       "        vertical-align: middle;\n",
       "    }\n",
       "\n",
       "    .dataframe tbody tr th {\n",
       "        vertical-align: top;\n",
       "    }\n",
       "\n",
       "    .dataframe thead th {\n",
       "        text-align: right;\n",
       "    }\n",
       "</style>\n",
       "<table border=\"1\" class=\"dataframe\">\n",
       "  <thead>\n",
       "    <tr style=\"text-align: right;\">\n",
       "      <th></th>\n",
       "      <th>count</th>\n",
       "      <th>mean</th>\n",
       "      <th>std</th>\n",
       "      <th>min</th>\n",
       "      <th>25%</th>\n",
       "      <th>50%</th>\n",
       "      <th>75%</th>\n",
       "      <th>max</th>\n",
       "    </tr>\n",
       "    <tr>\n",
       "      <th>platform</th>\n",
       "      <th></th>\n",
       "      <th></th>\n",
       "      <th></th>\n",
       "      <th></th>\n",
       "      <th></th>\n",
       "      <th></th>\n",
       "      <th></th>\n",
       "      <th></th>\n",
       "    </tr>\n",
       "  </thead>\n",
       "  <tbody>\n",
       "    <tr>\n",
       "      <th>3DS</th>\n",
       "      <td>303.0</td>\n",
       "      <td>0.472772</td>\n",
       "      <td>1.381347</td>\n",
       "      <td>0.01</td>\n",
       "      <td>0.0400</td>\n",
       "      <td>0.090</td>\n",
       "      <td>0.2800</td>\n",
       "      <td>14.60</td>\n",
       "    </tr>\n",
       "    <tr>\n",
       "      <th>DS</th>\n",
       "      <td>8.0</td>\n",
       "      <td>0.192500</td>\n",
       "      <td>0.172026</td>\n",
       "      <td>0.03</td>\n",
       "      <td>0.0675</td>\n",
       "      <td>0.150</td>\n",
       "      <td>0.2525</td>\n",
       "      <td>0.51</td>\n",
       "    </tr>\n",
       "    <tr>\n",
       "      <th>PC</th>\n",
       "      <td>189.0</td>\n",
       "      <td>0.208624</td>\n",
       "      <td>0.352304</td>\n",
       "      <td>0.01</td>\n",
       "      <td>0.0300</td>\n",
       "      <td>0.080</td>\n",
       "      <td>0.2300</td>\n",
       "      <td>3.05</td>\n",
       "    </tr>\n",
       "    <tr>\n",
       "      <th>PS3</th>\n",
       "      <td>345.0</td>\n",
       "      <td>0.525884</td>\n",
       "      <td>1.451939</td>\n",
       "      <td>0.01</td>\n",
       "      <td>0.0400</td>\n",
       "      <td>0.150</td>\n",
       "      <td>0.5100</td>\n",
       "      <td>21.05</td>\n",
       "    </tr>\n",
       "    <tr>\n",
       "      <th>PS4</th>\n",
       "      <td>392.0</td>\n",
       "      <td>0.801378</td>\n",
       "      <td>1.609456</td>\n",
       "      <td>0.01</td>\n",
       "      <td>0.0600</td>\n",
       "      <td>0.200</td>\n",
       "      <td>0.7300</td>\n",
       "      <td>14.63</td>\n",
       "    </tr>\n",
       "    <tr>\n",
       "      <th>PSP</th>\n",
       "      <td>67.0</td>\n",
       "      <td>0.052239</td>\n",
       "      <td>0.059768</td>\n",
       "      <td>0.01</td>\n",
       "      <td>0.0150</td>\n",
       "      <td>0.020</td>\n",
       "      <td>0.0700</td>\n",
       "      <td>0.24</td>\n",
       "    </tr>\n",
       "    <tr>\n",
       "      <th>PSV</th>\n",
       "      <td>358.0</td>\n",
       "      <td>0.092151</td>\n",
       "      <td>0.153816</td>\n",
       "      <td>0.01</td>\n",
       "      <td>0.0200</td>\n",
       "      <td>0.040</td>\n",
       "      <td>0.1100</td>\n",
       "      <td>1.96</td>\n",
       "    </tr>\n",
       "    <tr>\n",
       "      <th>Wii</th>\n",
       "      <td>23.0</td>\n",
       "      <td>0.593913</td>\n",
       "      <td>0.915432</td>\n",
       "      <td>0.01</td>\n",
       "      <td>0.0450</td>\n",
       "      <td>0.180</td>\n",
       "      <td>0.7550</td>\n",
       "      <td>3.58</td>\n",
       "    </tr>\n",
       "    <tr>\n",
       "      <th>WiiU</th>\n",
       "      <td>115.0</td>\n",
       "      <td>0.562000</td>\n",
       "      <td>1.038778</td>\n",
       "      <td>0.01</td>\n",
       "      <td>0.0600</td>\n",
       "      <td>0.200</td>\n",
       "      <td>0.5950</td>\n",
       "      <td>7.09</td>\n",
       "    </tr>\n",
       "    <tr>\n",
       "      <th>X360</th>\n",
       "      <td>186.0</td>\n",
       "      <td>0.735484</td>\n",
       "      <td>1.663275</td>\n",
       "      <td>0.01</td>\n",
       "      <td>0.0800</td>\n",
       "      <td>0.265</td>\n",
       "      <td>0.7950</td>\n",
       "      <td>16.27</td>\n",
       "    </tr>\n",
       "    <tr>\n",
       "      <th>XOne</th>\n",
       "      <td>247.0</td>\n",
       "      <td>0.645020</td>\n",
       "      <td>1.036139</td>\n",
       "      <td>0.01</td>\n",
       "      <td>0.0600</td>\n",
       "      <td>0.220</td>\n",
       "      <td>0.6850</td>\n",
       "      <td>7.39</td>\n",
       "    </tr>\n",
       "  </tbody>\n",
       "</table>\n",
       "</div>"
      ],
      "text/plain": [
       "          count      mean       std   min     25%    50%     75%    max\n",
       "platform                                                               \n",
       "3DS       303.0  0.472772  1.381347  0.01  0.0400  0.090  0.2800  14.60\n",
       "DS          8.0  0.192500  0.172026  0.03  0.0675  0.150  0.2525   0.51\n",
       "PC        189.0  0.208624  0.352304  0.01  0.0300  0.080  0.2300   3.05\n",
       "PS3       345.0  0.525884  1.451939  0.01  0.0400  0.150  0.5100  21.05\n",
       "PS4       392.0  0.801378  1.609456  0.01  0.0600  0.200  0.7300  14.63\n",
       "PSP        67.0  0.052239  0.059768  0.01  0.0150  0.020  0.0700   0.24\n",
       "PSV       358.0  0.092151  0.153816  0.01  0.0200  0.040  0.1100   1.96\n",
       "Wii        23.0  0.593913  0.915432  0.01  0.0450  0.180  0.7550   3.58\n",
       "WiiU      115.0  0.562000  1.038778  0.01  0.0600  0.200  0.5950   7.09\n",
       "X360      186.0  0.735484  1.663275  0.01  0.0800  0.265  0.7950  16.27\n",
       "XOne      247.0  0.645020  1.036139  0.01  0.0600  0.220  0.6850   7.39"
      ]
     },
     "execution_count": 27,
     "metadata": {},
     "output_type": "execute_result"
    }
   ],
   "source": [
    "data.groupby('platform')['general_sales'].describe()"
   ]
  },
  {
   "cell_type": "code",
   "execution_count": 28,
   "id": "d0c5cdbd",
   "metadata": {
    "scrolled": false
   },
   "outputs": [
    {
     "data": {
      "image/png": "[encoded data removed]",
      "text/plain": [
       "<Figure size 1224x792 with 1 Axes>"
      ]
     },
     "metadata": {
      "needs_background": "light"
     },
     "output_type": "display_data"
    }
   ],
   "source": [
    "# код ревьюера\n",
    "\n",
    "import seaborn as sns\n",
    "\n",
    "plt.figure(figsize=(17, 11))\n",
    "sns.boxplot(data=data, y='platform', x='general_sales')\n",
    "plt.xlim(-0.1, 5)\n",
    "\n",
    "plt.title('Объемы продаж игр на разных платформах', size=17)\n",
    "plt.xlabel('Объем продаж', size=12)\n",
    "plt.ylabel('Название платформы', size=12)\n",
    "\n",
    "plt.show()"
   ]
  },
  {
   "cell_type": "markdown",
   "metadata": {},
   "source": [
    "Больше всего выделяется Xbox 360 c медианным значением 0.265. Это объяснимо тем, что в 2013 году только вышли новые платформы (Xbox One, PS4). И большая доля продаж игр первое время все равно уходила старым платформам. У PS3 в свою очередь медианное значение равно 0.15.\n",
    "\n",
    "Также неплохо смотрятся WiiU и Wii c их примерно одинаковым медианным значениям ~0.2. У этих платформ меньше всего выбросов по сравнению с остальными. Возможно, \"хитовых\" игр для этих платформ выходит не так много. Надо проверить, какой долей продаж они сопровождаются в основных регионах сбыта игр.\n",
    "\n",
    "PC выглядит не очень перспективным с его медианным значением в 0.08 и небольшой диаграммой размаха.\n",
    "\n",
    "Видно, что медианное значение 3DS (0.09) значительно отличается от PS4 и Xbox One (0.2 и 0.22 соответственно). Больше всех продаж остается у PS4. Можем наблюдать выбросы, которые могут быть связаны с успехами отдельных игр на каждой из платформ.\n",
    "\n",
    "Платформы мобильные PS Vita и PSP с 2013 года уже были непопулярны. Это видно по их небольшой диаграмме размаха по сравнению с отсальными."
   ]
  },
  {
   "cell_type": "markdown",
   "metadata": {},
   "source": [
    "#### Корреляция между отзывами и продажами игр"
   ]
  },
  {
   "cell_type": "code",
   "execution_count": 29,
   "metadata": {},
   "outputs": [
    {
     "name": "stdout",
     "output_type": "stream",
     "text": [
      "Корреляция между продажами и отзывами пользователей для PS4: -0.031957110204556376\n"
     ]
    },
    {
     "data": {
      "image/png": "[encoded data removed]",
      "text/plain": [
       "<Figure size 432x288 with 1 Axes>"
      ]
     },
     "metadata": {
      "needs_background": "light"
     },
     "output_type": "display_data"
    }
   ],
   "source": [
    "ps4 = data.query('platform == \"PS4\"')\n",
    "print(f\"Корреляция между продажами и отзывами пользователей для PS4: {ps4['user_score'].corr(ps4['general_sales'])}\")\n",
    "ps4.plot(x='user_score', y='general_sales', kind='scatter')\n",
    "\n",
    "plt.xlabel('Объем продаж', size=10)\n",
    "plt.ylabel('Оценка пользователя', size=10)\n",
    "\n",
    "plt.show()"
   ]
  },
  {
   "cell_type": "code",
   "execution_count": 30,
   "metadata": {},
   "outputs": [
    {
     "name": "stdout",
     "output_type": "stream",
     "text": [
      "Корреляция между продажами и отзывами критиков для PS4: 0.40656790206178095\n"
     ]
    },
    {
     "data": {
      "image/png": "[encoded data removed]",
      "text/plain": [
       "<Figure size 432x288 with 1 Axes>"
      ]
     },
     "metadata": {
      "needs_background": "light"
     },
     "output_type": "display_data"
    }
   ],
   "source": [
    "print(f\"Корреляция между продажами и отзывами критиков для PS4: {ps4['critic_score'].corr(ps4['general_sales'])}\")\n",
    "ps4.plot(x='critic_score', y='general_sales', kind='scatter')\n",
    "\n",
    "plt.xlabel('Объем продаж', size=10)\n",
    "plt.ylabel('Оценка критиков', size=10)\n",
    "\n",
    "plt.show()"
   ]
  },
  {
   "cell_type": "markdown",
   "metadata": {},
   "source": [
    "Для популярной платформы PS4 отсутсвтует корреляция между продажами и отзывами пользователей. Есть слабая положительная корреляция ~ 0.4 для продаж и отзывов критиков. Возможно, пользователи PS4 иногда доверяют отзывам критиков, и в соответсвии с их мнением решают, нужна или нет им та или иная игра."
   ]
  },
  {
   "cell_type": "code",
   "execution_count": 31,
   "metadata": {},
   "outputs": [
    {
     "name": "stdout",
     "output_type": "stream",
     "text": [
      "Корреляция между продажами и отзывами пользователей для Xbox One: -0.06892505328279414\n"
     ]
    },
    {
     "data": {
      "image/png": "[encoded data removed]",
      "text/plain": [
       "<Figure size 432x288 with 1 Axes>"
      ]
     },
     "metadata": {
      "needs_background": "light"
     },
     "output_type": "display_data"
    }
   ],
   "source": [
    "xone = data.query('platform == \"XOne\"')\n",
    "print(f\"Корреляция между продажами и отзывами пользователей для Xbox One: {xone['user_score'].corr(xone['general_sales'])}\")\n",
    "xone.plot(x='user_score', y='general_sales', kind='scatter')\n",
    "\n",
    "plt.xlabel('Объем продаж', size=10)\n",
    "plt.ylabel('Оценка пользователя', size=10)\n",
    "\n",
    "plt.show()"
   ]
  },
  {
   "cell_type": "code",
   "execution_count": 32,
   "metadata": {},
   "outputs": [
    {
     "name": "stdout",
     "output_type": "stream",
     "text": [
      "Корреляция между продажами и отзывами критиков для Xbox One: 0.4169983280084017\n"
     ]
    },
    {
     "data": {
      "image/png": "[encoded data removed]",
      "text/plain": [
       "<Figure size 432x288 with 1 Axes>"
      ]
     },
     "metadata": {
      "needs_background": "light"
     },
     "output_type": "display_data"
    }
   ],
   "source": [
    "print(f\"Корреляция между продажами и отзывами критиков для Xbox One: {xone['critic_score'].corr(xone['general_sales'])}\")\n",
    "xone.plot(x='critic_score', y='general_sales', kind='scatter')\n",
    "\n",
    "plt.xlabel('Объем продаж', size=10)\n",
    "plt.ylabel('Оценка критиков', size=10)\n",
    "\n",
    "plt.show()"
   ]
  },
  {
   "cell_type": "markdown",
   "metadata": {},
   "source": [
    "Для Xbox One ситуация схожая с PS4. Jтсутсвтует корреляция между продажами и отзывами пользователей. Есть слабая положительная корреляция ~ 0.42 для продаж и отзывов критиков. Возможно, пользователи Xbox One иногда доверяют отзывам критиков, и в соответсвии с их мнением решают, нужна или нет им та или иная игра."
   ]
  },
  {
   "cell_type": "code",
   "execution_count": 33,
   "metadata": {},
   "outputs": [
    {
     "name": "stdout",
     "output_type": "stream",
     "text": [
      "Корреляция между продажами и отзывами пользователей для 3DS: 0.24150411773563016\n"
     ]
    },
    {
     "data": {
      "image/png": "[encoded data removed]",
      "text/plain": [
       "<Figure size 432x288 with 1 Axes>"
      ]
     },
     "metadata": {
      "needs_background": "light"
     },
     "output_type": "display_data"
    }
   ],
   "source": [
    "ds3 = data.query('platform == \"3DS\"')\n",
    "print(f\"Корреляция между продажами и отзывами пользователей для 3DS: {ds3['user_score'].corr(ds3['general_sales'])}\")\n",
    "ds3.plot(x='user_score', y='general_sales', kind='scatter')\n",
    "\n",
    "plt.xlabel('Объем продаж', size=10)\n",
    "plt.ylabel('Оценка пользователя', size=10)\n",
    "\n",
    "plt.show()"
   ]
  },
  {
   "cell_type": "code",
   "execution_count": 34,
   "metadata": {},
   "outputs": [
    {
     "name": "stdout",
     "output_type": "stream",
     "text": [
      "Корреляция между продажами и отзывами критиков для 3DS: 0.3570566142288103\n"
     ]
    },
    {
     "data": {
      "image/png": "[encoded data removed]",
      "text/plain": [
       "<Figure size 432x288 with 1 Axes>"
      ]
     },
     "metadata": {
      "needs_background": "light"
     },
     "output_type": "display_data"
    }
   ],
   "source": [
    "print(f\"Корреляция между продажами и отзывами критиков для 3DS: {ds3['critic_score'].corr(ds3['general_sales'])}\")\n",
    "ds3.plot(x='critic_score', y='general_sales', kind='scatter')\n",
    "\n",
    "plt.xlabel('Объем продаж', size=10)\n",
    "plt.ylabel('Оценка критиков', size=10)\n",
    "\n",
    "plt.show()"
   ]
  },
  {
   "cell_type": "markdown",
   "metadata": {},
   "source": [
    "Для 3DS похожая слабая корреляция между продажами и отзывами критиков (~0.36) с Xbox One и PS4. Однако для 3DS можно говорить о слабо корреляции между продажами и отзывами пользователей ~ 0.24."
   ]
  },
  {
   "cell_type": "markdown",
   "metadata": {},
   "source": [
    "**Вывод:** прослеживается слабая положительная корреляция у потенциально прибыльных платформ (Xbox One, PS4, 3DS) между продажами и отзывами пользователей. У 3DS также наблюдается совсем небольшая положительная корреляция между продажами и отзывами пользователей.\n",
    "\n",
    "Сложно говорить о прямой зависимости продаж от оценок. Но небольшая взаимосвязь между продажами и отзывами пользователей все-таки есть."
   ]
  },
  {
   "cell_type": "markdown",
   "metadata": {},
   "source": [
    "#### Общее распределение игр по жанрам"
   ]
  },
  {
   "cell_type": "code",
   "execution_count": 35,
   "metadata": {},
   "outputs": [
    {
     "name": "stdout",
     "output_type": "stream",
     "text": [
      "              general_sales\n",
      "genre                      \n",
      "Shooter               0.450\n",
      "Sports                0.240\n",
      "Platform              0.225\n",
      "Role-Playing          0.125\n",
      "Fighting              0.125\n",
      "Racing                0.120\n",
      "Action                0.110\n",
      "Simulation            0.100\n",
      "Misc                  0.100\n",
      "Strategy              0.080\n",
      "Puzzle                0.060\n",
      "Adventure             0.030\n"
     ]
    },
    {
     "data": {
      "image/png": "[encoded data removed]",
      "text/plain": [
       "<Figure size 1440x720 with 1 Axes>"
      ]
     },
     "metadata": {
      "needs_background": "light"
     },
     "output_type": "display_data"
    }
   ],
   "source": [
    "genres_median = data.pivot_table(index='genre', values='general_sales', aggfunc='median').sort_values(by='general_sales', ascending=False)\n",
    "print(genres_median)\n",
    "genres_median.plot(use_index=True , y='general_sales', kind='bar', figsize=(20,10))\n",
    "\n",
    "plt.xlabel('Жанр', size=14)\n",
    "plt.ylabel('Объем продаж', size=14)\n",
    "plt.title('Медианные значения объемов продаж по жанрам', size=18)\n",
    "\n",
    "plt.show()"
   ]
  },
  {
   "cell_type": "code",
   "execution_count": 36,
   "metadata": {},
   "outputs": [
    {
     "name": "stdout",
     "output_type": "stream",
     "text": [
      "              name\n",
      "genre             \n",
      "Action         766\n",
      "Role-Playing   292\n",
      "Adventure      245\n",
      "Sports         214\n",
      "Shooter        187\n",
      "Misc           155\n",
      "Racing          85\n",
      "Fighting        80\n",
      "Platform        74\n",
      "Simulation      62\n",
      "Strategy        56\n",
      "Puzzle          17\n"
     ]
    },
    {
     "data": {
      "image/png": "[encoded data removed]",
      "text/plain": [
       "<Figure size 1440x720 with 1 Axes>"
      ]
     },
     "metadata": {
      "needs_background": "light"
     },
     "output_type": "display_data"
    }
   ],
   "source": [
    "genres_count = data.pivot_table(index='genre', values='name', aggfunc='count').sort_values(by='name', ascending=False)\n",
    "print(genres_count)\n",
    "genres_count.plot(use_index=True , y='name', kind='bar', figsize=(20,10))\n",
    "\n",
    "plt.xlabel('Жанр', size=14)\n",
    "plt.ylabel('Количество выпущенных игр', size=14)\n",
    "plt.title('Количество выпущенных игр по жанрам', size=18)\n",
    "\n",
    "plt.show()"
   ]
  },
  {
   "cell_type": "markdown",
   "metadata": {},
   "source": [
    "Тенденция на игры в жанре Action и Shooter явно прослеживается для популярных платформ с 2013 по 2016 года. Аction занимает первое место по количеству выпущенных игр - 766. Этот жанр явно пользуется спросом. Затем идет почти с трехкратным отрывом жанры - Role-Playing, Adventure, Sports. \n",
    "\n",
    "Однако в медианных значениях объемов продаж занимает первое место жанр - Shooter (хотя в рейтинге выпущенных игр он на 5 месте). Затем идут с двухкратным отрывом Sports и Platform. На них тоже необходимо обратить внимание. Role-Playing, Fighting, Racing, Action уже по медианному значению занимают меньший объем продаж."
   ]
  },
  {
   "cell_type": "markdown",
   "metadata": {},
   "source": [
    "### Портрет пользователя каждого региона"
   ]
  },
  {
   "cell_type": "code",
   "execution_count": 37,
   "metadata": {},
   "outputs": [],
   "source": [
    "def give_top(ind, val, title):       #функция для составления топов по разным категорияниям и значениям\n",
    "    top_5 = pd.pivot_table(data, index=ind, values=val, aggfunc='sum').sort_values(val, ascending=False).head()\n",
    "    print(top_5)\n",
    "    top_5.plot(use_index=True , y=val, kind='bar', figsize=(15,7), grid=True, title=title)\n",
    "    plt.ylabel('Объем продаж', size=12)\n",
    "    plt.show()"
   ]
  },
  {
   "cell_type": "markdown",
   "metadata": {},
   "source": [
    "#### Самые популярные платформы"
   ]
  },
  {
   "cell_type": "code",
   "execution_count": 38,
   "metadata": {},
   "outputs": [
    {
     "name": "stdout",
     "output_type": "stream",
     "text": [
      "          eu_sales\n",
      "platform          \n",
      "PS4         141.09\n",
      "PS3          67.81\n",
      "XOne         51.59\n",
      "X360         42.52\n",
      "3DS          30.96\n"
     ]
    },
    {
     "data": {
      "image/png": "[encoded data removed]",
      "text/plain": [
       "<Figure size 1080x504 with 1 Axes>"
      ]
     },
     "metadata": {
      "needs_background": "light"
     },
     "output_type": "display_data"
    }
   ],
   "source": [
    "give_top('platform', 'eu_sales', 'Топ платформ в Европе')"
   ]
  },
  {
   "cell_type": "code",
   "execution_count": 39,
   "metadata": {},
   "outputs": [
    {
     "name": "stdout",
     "output_type": "stream",
     "text": [
      "          na_sales\n",
      "platform          \n",
      "PS4         108.74\n",
      "XOne         93.12\n",
      "X360         81.66\n",
      "PS3          63.50\n",
      "3DS          38.20\n"
     ]
    },
    {
     "data": {
      "image/png": "[encoded data removed]",
      "text/plain": [
       "<Figure size 1080x504 with 1 Axes>"
      ]
     },
     "metadata": {
      "needs_background": "light"
     },
     "output_type": "display_data"
    }
   ],
   "source": [
    "give_top('platform', 'na_sales', 'Топ платформ в Америке')"
   ]
  },
  {
   "cell_type": "code",
   "execution_count": 40,
   "metadata": {},
   "outputs": [
    {
     "name": "stdout",
     "output_type": "stream",
     "text": [
      "          jp_sales\n",
      "platform          \n",
      "3DS          67.81\n",
      "PS3          23.35\n",
      "PSV          18.59\n",
      "PS4          15.96\n",
      "WiiU         10.88\n"
     ]
    },
    {
     "data": {
      "image/png": "[encoded data removed]",
      "text/plain": [
       "<Figure size 1080x504 with 1 Axes>"
      ]
     },
     "metadata": {
      "needs_background": "light"
     },
     "output_type": "display_data"
    }
   ],
   "source": [
    "give_top('platform', 'jp_sales', 'Топ платформ в Японии')"
   ]
  },
  {
   "cell_type": "markdown",
   "metadata": {},
   "source": [
    "**Вывод:**\n",
    "* В Европе на первых четырех местах платформы игра от мировых брендов Sony и Microsoft - PS4, PS3, Xbox One, Xbox 360. PS4 c отрывом больше, чем в 2 раза от второго места. Лишь на пятом месте 3DS от Nintendo с небольшим отрывом в долях продаж от Xbox360.\n",
    "* В Америке более плавное распределение между платформами. На первом месте так же PS4 c 108.74 миллионов проданных копий игр. Дальше идет Xbox One, Xbox 360, PS3. И закрывает список так же 3DS от Nintendo.\n",
    "* В Японии рынок сильно отличается и на первом месте у них 3DS от Nintendo в 67.81 миллионов проданных копий игр. Следующее место занимает PS3 практически с трехкратным отрывом. Затем идет с удивлением PS Vita, которая видимо еще пользуется популярностью в Японии. Закрывает топ в Японии WiiU, которых даже нет в топ5 в Америке и Европе."
   ]
  },
  {
   "cell_type": "markdown",
   "metadata": {},
   "source": [
    "#### Самые популярные жанры"
   ]
  },
  {
   "cell_type": "code",
   "execution_count": 41,
   "metadata": {},
   "outputs": [
    {
     "name": "stdout",
     "output_type": "stream",
     "text": [
      "              eu_sales\n",
      "genre                 \n",
      "Action          118.13\n",
      "Shooter          87.86\n",
      "Sports           60.52\n",
      "Role-Playing     36.97\n",
      "Racing           20.19\n"
     ]
    },
    {
     "data": {
      "image/png": "[encoded data removed]",
      "text/plain": [
       "<Figure size 1080x504 with 1 Axes>"
      ]
     },
     "metadata": {
      "needs_background": "light"
     },
     "output_type": "display_data"
    }
   ],
   "source": [
    "give_top('genre', 'eu_sales', 'Топ жанров в Европе')"
   ]
  },
  {
   "cell_type": "code",
   "execution_count": 42,
   "metadata": {},
   "outputs": [
    {
     "name": "stdout",
     "output_type": "stream",
     "text": [
      "              na_sales\n",
      "genre                 \n",
      "Action          126.05\n",
      "Shooter         109.74\n",
      "Sports           65.27\n",
      "Role-Playing     46.40\n",
      "Misc             27.49\n"
     ]
    },
    {
     "data": {
      "image/png": "[encoded data removed]",
      "text/plain": [
       "<Figure size 1080x504 with 1 Axes>"
      ]
     },
     "metadata": {
      "needs_background": "light"
     },
     "output_type": "display_data"
    }
   ],
   "source": [
    "give_top('genre', 'na_sales', 'Топ жанров в Америке')"
   ]
  },
  {
   "cell_type": "code",
   "execution_count": 43,
   "metadata": {},
   "outputs": [
    {
     "name": "stdout",
     "output_type": "stream",
     "text": [
      "              jp_sales\n",
      "genre                 \n",
      "Role-Playing     51.04\n",
      "Action           40.49\n",
      "Misc              9.20\n",
      "Fighting          7.65\n",
      "Shooter           6.61\n"
     ]
    },
    {
     "data": {
      "image/png": "[encoded data removed]",
      "text/plain": [
       "<Figure size 1080x504 with 1 Axes>"
      ]
     },
     "metadata": {
      "needs_background": "light"
     },
     "output_type": "display_data"
    }
   ],
   "source": [
    "give_top('genre', 'jp_sales', 'Топ жанров в Японии')"
   ]
  },
  {
   "cell_type": "markdown",
   "metadata": {},
   "source": [
    "**Вывод:**\n",
    "* В Европе на первых трех местах жанры игр - Action, Shooter, Sports. Затем идет Role-Playing, Racing.\n",
    "* В Америке первые все места такие же, как и в Европе. Это объяснятся тем, что эти 2 рынка очень схожи по предпочтениям. \n",
    "* Рынок Японии как всегда специфичный. Первое место игр занимает Role-Playing. Этот вид игр очень популярен в Японии. На втором месте с 40.49 миллионов копий проданных игр идет Action. За ним Misc, Fighting, Shooter с отрывом больше, чем в 4 раза от 2 места."
   ]
  },
  {
   "cell_type": "markdown",
   "metadata": {},
   "source": [
    "#### Рейтинг ESRB"
   ]
  },
  {
   "cell_type": "code",
   "execution_count": 44,
   "metadata": {},
   "outputs": [
    {
     "name": "stdout",
     "output_type": "stream",
     "text": [
      "        eu_sales\n",
      "rating          \n",
      "M         145.32\n",
      "E          83.36\n",
      "Indef      78.91\n",
      "E10+       42.69\n",
      "T          41.95\n"
     ]
    },
    {
     "data": {
      "image/png": "[encoded data removed]",
      "text/plain": [
       "<Figure size 1080x504 with 1 Axes>"
      ]
     },
     "metadata": {
      "needs_background": "light"
     },
     "output_type": "display_data"
    }
   ],
   "source": [
    "give_top('rating', 'eu_sales', 'Рейтинг ESRB в Европе')"
   ]
  },
  {
   "cell_type": "code",
   "execution_count": 45,
   "metadata": {},
   "outputs": [
    {
     "name": "stdout",
     "output_type": "stream",
     "text": [
      "        na_sales\n",
      "rating          \n",
      "M         165.21\n",
      "Indef      89.42\n",
      "E          79.05\n",
      "E10+       54.24\n",
      "T          49.79\n"
     ]
    },
    {
     "data": {
      "image/png": "[encoded data removed]",
      "text/plain": [
       "<Figure size 1080x504 with 1 Axes>"
      ]
     },
     "metadata": {
      "needs_background": "light"
     },
     "output_type": "display_data"
    }
   ],
   "source": [
    "give_top('rating', 'na_sales', 'Рейтинг ESRB в Америке')"
   ]
  },
  {
   "cell_type": "code",
   "execution_count": 46,
   "metadata": {},
   "outputs": [
    {
     "name": "stdout",
     "output_type": "stream",
     "text": [
      "        jp_sales\n",
      "rating          \n",
      "Indef      85.05\n",
      "T          20.59\n",
      "E          15.14\n",
      "M          14.11\n",
      "E10+        5.89\n"
     ]
    },
    {
     "data": {
      "image/png": "[encoded data removed]",
      "text/plain": [
       "<Figure size 1080x504 with 1 Axes>"
      ]
     },
     "metadata": {
      "needs_background": "light"
     },
     "output_type": "display_data"
    }
   ],
   "source": [
    "give_top('rating', 'jp_sales', 'Рейтинг ESRB в Японии')"
   ]
  },
  {
   "cell_type": "markdown",
   "metadata": {},
   "source": [
    "**Вывод:**\n",
    "* В Европе самые высокие рейтинги у жанра M (\"Для взрослых\": Материалы игры не подходят для подростков младше 17 лет). На втором месте с достаточным отрывом у жанра E (\"Для всех\"). Далее по популярности игры, в которых жанры неопределенны. Остальные жанры менее популярные.\n",
    "* В Америке самые высокие рейтинги у жанра M (\"Для взрослых\"). Далее по популярности игры, в которых жанры неопределенны. На третьем месте жанр E (\"Для всех\"). Остальные жанры менее популярные.\n",
    "* В Японии опять же специфичный рынок. Для подавляющей части игр жанры неопределены. Дальше идут игры \"Для подростков\", \"Для всех\" и \"Для взрослых\"."
   ]
  },
  {
   "cell_type": "markdown",
   "metadata": {},
   "source": [
    "### Проверка гипотез"
   ]
  },
  {
   "cell_type": "markdown",
   "metadata": {},
   "source": [
    "#### Средние пользовательские рейтинги платформ Xbox One и PC одинаковые"
   ]
  },
  {
   "cell_type": "markdown",
   "metadata": {},
   "source": [
    "Проверяем гипотезу о равенстве среднего двух генеральных совокупностей по взятым из них выборкам. Выбираем именно этот критерий, потому что у нас две независимые генеральные совокупности. Обычно в нулевой гипотезе говорится о равенстве, поэтому так и формулируем. В альтернативной будет неравенство.\n",
    "\n",
    "* Н_0: Средние пользовательские рейтинги платформ Xbox One и PC равны.\n",
    "* Н_а: Средние пользовательские рейтинги платформ Xbox One и PC не равны.\n",
    "\n",
    "alpha = 0.05"
   ]
  },
  {
   "cell_type": "code",
   "execution_count": 47,
   "metadata": {},
   "outputs": [
    {
     "name": "stdout",
     "output_type": "stream",
     "text": [
      "p-значение: 0.14012658403611503\n",
      "Не получилось отвергнуть нулевую гипотезу\n"
     ]
    }
   ],
   "source": [
    "data_xbox_user = data.query('platform == \"XOne\"')['user_score']\n",
    "data_pc_user = data.query('platform == \"PC\"')['user_score']\n",
    "\n",
    "alpha = .05\n",
    "results = st.ttest_ind(data_xbox_user, data_pc_user, nan_policy=\"omit\")\n",
    "\n",
    "print('p-значение:', results.pvalue)\n",
    "\n",
    "if (results.pvalue < alpha):\n",
    "    print(\"Отвергаем нулевую гипотезу\")\n",
    "else:\n",
    "    print(\"Не получилось отвергнуть нулевую гипотезу\")"
   ]
  },
  {
   "cell_type": "markdown",
   "metadata": {},
   "source": [
    "**Вывод:** гипотеза о том, что средние пользовательские рейтинги платформ Xbox One и PC одинаковые подтвердилась. Не получилось отвергнуть нулевую гипотезу."
   ]
  },
  {
   "cell_type": "markdown",
   "metadata": {},
   "source": [
    "#### Средние пользовательские рейтинги жанров Action и Sports разные"
   ]
  },
  {
   "cell_type": "markdown",
   "metadata": {},
   "source": [
    "Проверяем гипотезу о равенстве среднего двух генеральных совокупностей по взятым из них выборкам. Выбираем именно этот критерий, потому что у нас две независимые генеральные совокупности. Обычно в нулевой гипотезе говорится о равенстве, поэтому так и формулируем. В альтернативной будет неравенство.\n",
    "\n",
    "* Н_0: Средние пользовательские рейтинги жанров Action и Sports равны.\n",
    "* Н_а: Средние пользовательские рейтинги жанров Action и Sports не равны.\n",
    "\n",
    "alpha = 0.05"
   ]
  },
  {
   "cell_type": "code",
   "execution_count": 48,
   "metadata": {},
   "outputs": [
    {
     "name": "stdout",
     "output_type": "stream",
     "text": [
      "p-значение: 1.0517832389139422e-27\n",
      "Отвергаем нулевую гипотезу\n"
     ]
    }
   ],
   "source": [
    "data_action_user = data.query('genre == \"Action\"')['user_score']\n",
    "data_sports_user = data.query('genre == \"Sports\"')['user_score']\n",
    "\n",
    "alpha = .05\n",
    "results = st.ttest_ind(data_action_user, data_sports_user, nan_policy=\"omit\")\n",
    "\n",
    "print('p-значение:', results.pvalue)\n",
    "\n",
    "if (results.pvalue < alpha):\n",
    "    print(\"Отвергаем нулевую гипотезу\")\n",
    "else:\n",
    "    print(\"Не получилось отвергнуть нулевую гипотезу\")"
   ]
  },
  {
   "cell_type": "markdown",
   "metadata": {},
   "source": [
    "**Вывод:** гипотеза о том, что средние пользовательские рейтинги жанров Action и Sports разные подтвердилась. Отвергаем нулевую гипотезу в пользу альтернативной, p-значение меньше критическего уровня статистической значимости."
   ]
  },
  {
   "cell_type": "markdown",
   "metadata": {},
   "source": [
    "### Общий вывод\n"
   ]
  },
  {
   "cell_type": "markdown",
   "metadata": {},
   "source": [
    "В течение исследования сделаны основные шаги предобработки данных - заполнены пропуски, заменены названия столбцов, преобразованы типы данных. Добавлены новые значения в таблицу и проведен исследовательский анализ, проверены гипотезы.\n",
    "\n",
    "* Большой скачок в количестве игр произошел в 2002 году (около 829 игр, выпущенных за год). Спад идет в 2012 году. Скорее всего это связано с развитием мобильных приложений и игр, которые начали приходить на замену немобильным устройствам.\n",
    "* Актуальные на данный момент для прогнозирования года с 2013 по 2016. Именно в это время начали появляться и развиваться популярные платформы - PS4 и Xbox One. Сюда можно отнести и 3DS c оговоркой, что он появился гораздо раньше. \n",
    "* Больше всего выделяется Xbox 360 c медианным значением 0.265 (объем продаж). Это объяснимо тем, что в 2013 году только вышли новые платформы (Xbox One, PS4). И большая доля продаж игр первое время все равно уходила старым платформам. У PS3 в свою очередь медианное значение равно 0.15. К 2016 году объемы продаж игр пришли практически к нулю у PS3, Xbox 360. Их заменило новое поколение. \n",
    "* Медианное значение 3DS (0.09) значительно отличается от PS4 и Xbox One (0.2 и 0.22 соответственно). Можем наблюдать выбросы, которые могут быть связаны с успехами отдельных игр на каждой из платформ.\n",
    "* Прослеживается слабая положительная корреляция у потенциально прибыльных платформ между продажами и отзывами пользователей.\n",
    "* Портрет пользователя каждого региона:\n",
    "1. В Америке самые популярные жанры это Action, Sports, Shooter. Игровые приставки : PS4, Xbox One. По рейтингу игр люди предпочитают игры с рейтингами: \"от 17 и выше\" и \"для всех\".\n",
    "2. В Европе же, популярные жанры точно такие же как и в Америке. Но приставки по предпочитают по следующей очередности: PS4 с большим отрывом от PS3, Xbox One. Рейтинг игр аналогичный Америке.\n",
    "3. В Японии люди предпочитают игровые приставки: 3DS, PS3, PS Vita. А жанры игры : Role-playing, Action. Для подавляющей части игр жанры неопределены. Дальше идут игры \"Для подростков\", \"Для всех\" и \"Для взрослых\". \n",
    "* Гипотеза о том, что средние пользовательские рейтинги платформ Xbox One и PC одинаковые подтвердилась.\n",
    "* Гипотеза о том, что средние пользовательские рейтинги жанров Action и Sports разные также подтвердилась.\n",
    "\n",
    "**Стоит обратить внимание на:**\n",
    "* игры в жанре Action и Shooter, они пользуется большой популярностью;\n",
    "* приставку PS4 - распространена по всему миру и актуальна на нынешний период;\n",
    "* рейтинг игры - \"для взрослых\" пользуется большой популярностью в Америке и Европе;\n",
    "* приставку 3DS и жанр Role-playing стоит рассмотреть для Японского рынка, он отличается от всех."
   ]
  }
 ],
 "metadata": {
  "ExecuteTimeLog": [
   {
    "duration": 779,
    "start_time": "2023-02-12T16:07:54.502Z"
   },
   {
    "duration": 232,
    "start_time": "2023-02-12T16:09:00.020Z"
   },
   {
    "duration": 17,
    "start_time": "2023-02-12T16:09:22.993Z"
   },
   {
    "duration": 704,
    "start_time": "2023-02-12T16:10:35.807Z"
   },
   {
    "duration": 3,
    "start_time": "2023-02-12T16:16:36.332Z"
   },
   {
    "duration": 13,
    "start_time": "2023-02-12T16:16:56.726Z"
   },
   {
    "duration": 74,
    "start_time": "2023-02-12T16:19:08.833Z"
   },
   {
    "duration": 20,
    "start_time": "2023-02-12T16:20:16.802Z"
   },
   {
    "duration": 30,
    "start_time": "2023-02-12T16:20:34.975Z"
   },
   {
    "duration": 21,
    "start_time": "2023-02-12T16:21:13.562Z"
   },
   {
    "duration": 30,
    "start_time": "2023-02-12T16:21:20.335Z"
   },
   {
    "duration": 13,
    "start_time": "2023-02-12T16:21:37.320Z"
   },
   {
    "duration": 8,
    "start_time": "2023-02-12T16:22:02.956Z"
   },
   {
    "duration": 17,
    "start_time": "2023-02-12T16:22:13.829Z"
   },
   {
    "duration": 33,
    "start_time": "2023-02-12T16:23:29.918Z"
   },
   {
    "duration": 9,
    "start_time": "2023-02-12T16:24:31.540Z"
   },
   {
    "duration": 11,
    "start_time": "2023-02-12T16:27:49.021Z"
   },
   {
    "duration": 11,
    "start_time": "2023-02-12T16:28:07.612Z"
   },
   {
    "duration": 13,
    "start_time": "2023-02-12T16:28:15.606Z"
   },
   {
    "duration": 29,
    "start_time": "2023-02-12T16:28:23.114Z"
   },
   {
    "duration": 14,
    "start_time": "2023-02-12T16:28:38.933Z"
   },
   {
    "duration": 10,
    "start_time": "2023-02-12T16:28:42.411Z"
   },
   {
    "duration": 14,
    "start_time": "2023-02-12T16:29:14.125Z"
   },
   {
    "duration": 22,
    "start_time": "2023-02-12T16:29:23.151Z"
   },
   {
    "duration": 14,
    "start_time": "2023-02-12T16:29:36.437Z"
   },
   {
    "duration": 25,
    "start_time": "2023-02-12T16:43:34.794Z"
   },
   {
    "duration": 18,
    "start_time": "2023-02-12T16:47:27.318Z"
   },
   {
    "duration": 28,
    "start_time": "2023-02-12T16:49:38.978Z"
   },
   {
    "duration": 22,
    "start_time": "2023-02-12T16:51:29.923Z"
   },
   {
    "duration": 24,
    "start_time": "2023-02-12T16:51:48.855Z"
   },
   {
    "duration": 14,
    "start_time": "2023-02-12T16:51:57.438Z"
   },
   {
    "duration": 23,
    "start_time": "2023-02-12T16:52:23.072Z"
   },
   {
    "duration": 11,
    "start_time": "2023-02-12T17:05:43.823Z"
   },
   {
    "duration": 15,
    "start_time": "2023-02-12T17:06:04.778Z"
   },
   {
    "duration": 25,
    "start_time": "2023-02-12T17:06:33.392Z"
   },
   {
    "duration": 14,
    "start_time": "2023-02-12T17:06:40.638Z"
   },
   {
    "duration": 11,
    "start_time": "2023-02-12T17:07:07.106Z"
   },
   {
    "duration": 22,
    "start_time": "2023-02-12T17:07:40.104Z"
   },
   {
    "duration": 10,
    "start_time": "2023-02-12T17:08:18.314Z"
   },
   {
    "duration": 15,
    "start_time": "2023-02-12T17:08:22.270Z"
   },
   {
    "duration": 2,
    "start_time": "2023-02-12T17:08:48.680Z"
   },
   {
    "duration": 65,
    "start_time": "2023-02-12T17:08:51.966Z"
   },
   {
    "duration": 14,
    "start_time": "2023-02-12T17:08:55.864Z"
   },
   {
    "duration": 806,
    "start_time": "2023-02-12T17:08:58.449Z"
   },
   {
    "duration": 3,
    "start_time": "2023-02-12T17:09:01.112Z"
   },
   {
    "duration": 13,
    "start_time": "2023-02-12T17:09:04.831Z"
   },
   {
    "duration": 12,
    "start_time": "2023-02-12T17:09:11.413Z"
   },
   {
    "duration": 16,
    "start_time": "2023-02-12T17:09:18.814Z"
   },
   {
    "duration": 10,
    "start_time": "2023-02-12T17:09:21.173Z"
   },
   {
    "duration": 23,
    "start_time": "2023-02-12T17:09:44.114Z"
   },
   {
    "duration": 15,
    "start_time": "2023-02-12T17:10:17.555Z"
   },
   {
    "duration": 8,
    "start_time": "2023-02-12T17:10:24.378Z"
   },
   {
    "duration": 14,
    "start_time": "2023-02-12T17:10:27.510Z"
   },
   {
    "duration": 12,
    "start_time": "2023-02-12T17:10:30.204Z"
   },
   {
    "duration": 10,
    "start_time": "2023-02-12T17:10:32.703Z"
   },
   {
    "duration": 9,
    "start_time": "2023-02-12T17:11:25.491Z"
   },
   {
    "duration": 20,
    "start_time": "2023-02-12T17:12:01.245Z"
   },
   {
    "duration": 11,
    "start_time": "2023-02-12T17:36:50.059Z"
   },
   {
    "duration": 18,
    "start_time": "2023-02-12T17:37:03.043Z"
   },
   {
    "duration": 5,
    "start_time": "2023-02-12T17:40:50.561Z"
   },
   {
    "duration": 14,
    "start_time": "2023-02-12T17:40:59.301Z"
   },
   {
    "duration": 12,
    "start_time": "2023-02-12T17:49:12.258Z"
   },
   {
    "duration": 28,
    "start_time": "2023-02-12T17:49:18.311Z"
   },
   {
    "duration": 7,
    "start_time": "2023-02-12T17:49:33.320Z"
   },
   {
    "duration": 23,
    "start_time": "2023-02-12T17:49:46.082Z"
   },
   {
    "duration": 13,
    "start_time": "2023-02-12T17:51:24.784Z"
   },
   {
    "duration": 21,
    "start_time": "2023-02-12T17:52:15.591Z"
   },
   {
    "duration": 15,
    "start_time": "2023-02-12T17:52:32.580Z"
   },
   {
    "duration": 16,
    "start_time": "2023-02-12T17:53:07.901Z"
   },
   {
    "duration": 13,
    "start_time": "2023-02-12T17:53:27.341Z"
   },
   {
    "duration": 13,
    "start_time": "2023-02-12T17:53:42.540Z"
   },
   {
    "duration": 282,
    "start_time": "2023-02-12T17:54:15.348Z"
   },
   {
    "duration": 14,
    "start_time": "2023-02-12T17:54:26.736Z"
   },
   {
    "duration": 161,
    "start_time": "2023-02-12T17:55:06.124Z"
   },
   {
    "duration": 75,
    "start_time": "2023-02-12T17:56:19.869Z"
   },
   {
    "duration": 446,
    "start_time": "2023-02-12T17:56:23.759Z"
   },
   {
    "duration": 156,
    "start_time": "2023-02-12T17:56:34.508Z"
   },
   {
    "duration": 280,
    "start_time": "2023-02-12T17:57:30.099Z"
   },
   {
    "duration": 21,
    "start_time": "2023-02-12T18:30:27.450Z"
   },
   {
    "duration": 16,
    "start_time": "2023-02-12T18:32:43.042Z"
   },
   {
    "duration": 13,
    "start_time": "2023-02-12T18:32:55.621Z"
   },
   {
    "duration": 14,
    "start_time": "2023-02-12T18:33:16.178Z"
   },
   {
    "duration": 17,
    "start_time": "2023-02-12T18:34:05.515Z"
   },
   {
    "duration": 16,
    "start_time": "2023-02-12T18:34:55.017Z"
   },
   {
    "duration": 14,
    "start_time": "2023-02-12T18:40:06.407Z"
   },
   {
    "duration": 17,
    "start_time": "2023-02-12T18:40:46.739Z"
   },
   {
    "duration": 13,
    "start_time": "2023-02-12T18:41:12.204Z"
   },
   {
    "duration": 1222,
    "start_time": "2023-02-12T20:17:36.339Z"
   },
   {
    "duration": 399,
    "start_time": "2023-02-12T20:19:00.413Z"
   },
   {
    "duration": 207,
    "start_time": "2023-02-12T20:19:56.108Z"
   },
   {
    "duration": 197,
    "start_time": "2023-02-12T20:20:48.023Z"
   },
   {
    "duration": 7,
    "start_time": "2023-02-12T20:25:24.374Z"
   },
   {
    "duration": 4,
    "start_time": "2023-02-12T20:25:27.952Z"
   },
   {
    "duration": 177,
    "start_time": "2023-02-12T20:25:29.866Z"
   },
   {
    "duration": 1209,
    "start_time": "2023-02-12T20:30:18.751Z"
   },
   {
    "duration": 1123,
    "start_time": "2023-02-12T20:30:42.769Z"
   },
   {
    "duration": 3,
    "start_time": "2023-02-12T20:31:03.237Z"
   },
   {
    "duration": 162,
    "start_time": "2023-02-12T20:31:06.022Z"
   },
   {
    "duration": 163,
    "start_time": "2023-02-12T20:31:09.246Z"
   },
   {
    "duration": 173,
    "start_time": "2023-02-12T20:31:12.823Z"
   },
   {
    "duration": 177,
    "start_time": "2023-02-12T20:31:19.777Z"
   },
   {
    "duration": 172,
    "start_time": "2023-02-12T20:31:26.059Z"
   },
   {
    "duration": 166,
    "start_time": "2023-02-12T20:31:30.230Z"
   },
   {
    "duration": 169,
    "start_time": "2023-02-12T20:31:35.915Z"
   },
   {
    "duration": 238,
    "start_time": "2023-02-12T20:31:40.683Z"
   },
   {
    "duration": 167,
    "start_time": "2023-02-12T20:31:44.861Z"
   },
   {
    "duration": 180,
    "start_time": "2023-02-12T20:39:18.052Z"
   },
   {
    "duration": 181,
    "start_time": "2023-02-12T20:40:47.985Z"
   },
   {
    "duration": 188,
    "start_time": "2023-02-12T20:41:38.770Z"
   },
   {
    "duration": 194,
    "start_time": "2023-02-12T20:42:33.523Z"
   },
   {
    "duration": 167,
    "start_time": "2023-02-12T20:42:58.385Z"
   },
   {
    "duration": 149,
    "start_time": "2023-02-12T20:44:09.095Z"
   },
   {
    "duration": 308,
    "start_time": "2023-02-12T20:45:16.433Z"
   },
   {
    "duration": 511,
    "start_time": "2023-02-12T20:45:37.616Z"
   },
   {
    "duration": 13,
    "start_time": "2023-02-12T21:31:53.121Z"
   },
   {
    "duration": 363,
    "start_time": "2023-02-12T21:32:36.181Z"
   },
   {
    "duration": 11,
    "start_time": "2023-02-12T21:32:43.666Z"
   },
   {
    "duration": 13,
    "start_time": "2023-02-12T21:33:55.913Z"
   },
   {
    "duration": 14,
    "start_time": "2023-02-12T21:34:37.935Z"
   },
   {
    "duration": 14,
    "start_time": "2023-02-12T21:35:32.945Z"
   },
   {
    "duration": 18,
    "start_time": "2023-02-12T21:35:41.962Z"
   },
   {
    "duration": 13,
    "start_time": "2023-02-12T21:36:46.403Z"
   },
   {
    "duration": 13,
    "start_time": "2023-02-12T21:37:28.706Z"
   },
   {
    "duration": 13,
    "start_time": "2023-02-12T21:37:29.405Z"
   },
   {
    "duration": 13,
    "start_time": "2023-02-12T21:37:29.813Z"
   },
   {
    "duration": 13,
    "start_time": "2023-02-12T21:37:30.055Z"
   },
   {
    "duration": 11,
    "start_time": "2023-02-12T21:39:36.431Z"
   },
   {
    "duration": 12,
    "start_time": "2023-02-12T21:39:40.383Z"
   },
   {
    "duration": 11,
    "start_time": "2023-02-12T21:39:41.369Z"
   },
   {
    "duration": 5,
    "start_time": "2023-02-12T21:41:12.144Z"
   },
   {
    "duration": 5,
    "start_time": "2023-02-12T21:41:16.663Z"
   },
   {
    "duration": 13,
    "start_time": "2023-02-12T21:41:35.223Z"
   },
   {
    "duration": 12,
    "start_time": "2023-02-12T21:42:58.595Z"
   },
   {
    "duration": 67,
    "start_time": "2023-02-12T21:47:20.785Z"
   },
   {
    "duration": 10,
    "start_time": "2023-02-12T21:49:11.968Z"
   },
   {
    "duration": 13,
    "start_time": "2023-02-12T21:49:43.487Z"
   },
   {
    "duration": 10,
    "start_time": "2023-02-12T22:04:31.260Z"
   },
   {
    "duration": 12,
    "start_time": "2023-02-12T22:04:46.205Z"
   },
   {
    "duration": 12,
    "start_time": "2023-02-12T22:04:52.768Z"
   },
   {
    "duration": 2,
    "start_time": "2023-02-12T22:14:03.907Z"
   },
   {
    "duration": 64,
    "start_time": "2023-02-12T22:14:07.990Z"
   },
   {
    "duration": 13,
    "start_time": "2023-02-12T22:14:11.084Z"
   },
   {
    "duration": 746,
    "start_time": "2023-02-12T22:14:12.943Z"
   },
   {
    "duration": 3,
    "start_time": "2023-02-12T22:14:15.412Z"
   },
   {
    "duration": 13,
    "start_time": "2023-02-12T22:14:16.836Z"
   },
   {
    "duration": 14,
    "start_time": "2023-02-12T22:14:20.267Z"
   },
   {
    "duration": 10,
    "start_time": "2023-02-12T22:14:21.878Z"
   },
   {
    "duration": 20,
    "start_time": "2023-02-12T22:14:23.839Z"
   },
   {
    "duration": 15,
    "start_time": "2023-02-12T22:14:25.946Z"
   },
   {
    "duration": 9,
    "start_time": "2023-02-12T22:14:28.200Z"
   },
   {
    "duration": 8,
    "start_time": "2023-02-12T22:14:35.110Z"
   },
   {
    "duration": 12,
    "start_time": "2023-02-12T22:14:36.479Z"
   },
   {
    "duration": 4,
    "start_time": "2023-02-12T22:14:38.812Z"
   },
   {
    "duration": 15,
    "start_time": "2023-02-12T22:14:40.672Z"
   },
   {
    "duration": 33,
    "start_time": "2023-02-12T23:22:34.264Z"
   },
   {
    "duration": 15,
    "start_time": "2023-02-12T23:22:49.749Z"
   },
   {
    "duration": 14,
    "start_time": "2023-02-12T23:22:57.361Z"
   },
   {
    "duration": 13,
    "start_time": "2023-02-12T23:23:28.591Z"
   },
   {
    "duration": 17,
    "start_time": "2023-02-12T23:34:37.798Z"
   },
   {
    "duration": 16,
    "start_time": "2023-02-12T23:36:01.519Z"
   },
   {
    "duration": 7,
    "start_time": "2023-02-12T23:36:09.995Z"
   },
   {
    "duration": 4,
    "start_time": "2023-02-12T23:36:18.868Z"
   },
   {
    "duration": 15,
    "start_time": "2023-02-12T23:40:19.143Z"
   },
   {
    "duration": 20,
    "start_time": "2023-02-12T23:40:55.241Z"
   },
   {
    "duration": 327,
    "start_time": "2023-02-12T23:41:07.660Z"
   },
   {
    "duration": 14,
    "start_time": "2023-02-12T23:42:21.594Z"
   },
   {
    "duration": 14,
    "start_time": "2023-02-12T23:42:35.496Z"
   },
   {
    "duration": 30,
    "start_time": "2023-02-12T23:44:36.880Z"
   },
   {
    "duration": 16,
    "start_time": "2023-02-12T23:44:53.820Z"
   },
   {
    "duration": 27,
    "start_time": "2023-02-12T23:44:58.376Z"
   },
   {
    "duration": 210,
    "start_time": "2023-02-12T23:46:24.482Z"
   },
   {
    "duration": 217,
    "start_time": "2023-02-12T23:47:38.626Z"
   },
   {
    "duration": 59,
    "start_time": "2023-02-12T23:50:38.106Z"
   },
   {
    "duration": 14,
    "start_time": "2023-02-12T23:50:41.392Z"
   },
   {
    "duration": 4,
    "start_time": "2023-02-12T23:50:45.203Z"
   },
   {
    "duration": 10,
    "start_time": "2023-02-12T23:50:54.121Z"
   },
   {
    "duration": 8,
    "start_time": "2023-02-12T23:50:58.303Z"
   },
   {
    "duration": 5,
    "start_time": "2023-02-12T23:51:02.218Z"
   },
   {
    "duration": 14,
    "start_time": "2023-02-12T23:51:47.499Z"
   },
   {
    "duration": 226,
    "start_time": "2023-02-12T23:55:13.825Z"
   },
   {
    "duration": 215,
    "start_time": "2023-02-12T23:56:21.698Z"
   },
   {
    "duration": 17,
    "start_time": "2023-02-13T00:00:01.919Z"
   },
   {
    "duration": 204,
    "start_time": "2023-02-13T00:00:06.793Z"
   },
   {
    "duration": 18,
    "start_time": "2023-02-13T00:04:45.829Z"
   },
   {
    "duration": 21,
    "start_time": "2023-02-13T00:05:39.648Z"
   },
   {
    "duration": 20,
    "start_time": "2023-02-13T00:09:56.129Z"
   },
   {
    "duration": 127,
    "start_time": "2023-02-13T00:10:56.402Z"
   },
   {
    "duration": 160,
    "start_time": "2023-02-13T00:11:35.961Z"
   },
   {
    "duration": 171,
    "start_time": "2023-02-13T00:11:44.196Z"
   },
   {
    "duration": 75,
    "start_time": "2023-02-13T00:27:45.255Z"
   },
   {
    "duration": 68,
    "start_time": "2023-02-13T00:28:32.627Z"
   },
   {
    "duration": 147,
    "start_time": "2023-02-13T00:29:34.402Z"
   },
   {
    "duration": 123,
    "start_time": "2023-02-13T00:29:56.127Z"
   },
   {
    "duration": 136,
    "start_time": "2023-02-13T00:31:21.912Z"
   },
   {
    "duration": 238,
    "start_time": "2023-02-13T00:39:23.491Z"
   },
   {
    "duration": 123,
    "start_time": "2023-02-13T00:40:38.844Z"
   },
   {
    "duration": 114,
    "start_time": "2023-02-13T00:41:41.155Z"
   },
   {
    "duration": 114,
    "start_time": "2023-02-13T00:42:41.394Z"
   },
   {
    "duration": 130,
    "start_time": "2023-02-13T00:44:04.593Z"
   },
   {
    "duration": 136,
    "start_time": "2023-02-13T00:44:07.505Z"
   },
   {
    "duration": 120,
    "start_time": "2023-02-13T00:44:10.169Z"
   },
   {
    "duration": 127,
    "start_time": "2023-02-13T00:44:12.653Z"
   },
   {
    "duration": 126,
    "start_time": "2023-02-13T00:44:36.963Z"
   },
   {
    "duration": 117,
    "start_time": "2023-02-13T00:44:39.443Z"
   },
   {
    "duration": 1199,
    "start_time": "2023-02-13T00:51:42.812Z"
   },
   {
    "duration": 228,
    "start_time": "2023-02-13T00:52:22.667Z"
   },
   {
    "duration": 227,
    "start_time": "2023-02-13T00:53:46.074Z"
   },
   {
    "duration": 3,
    "start_time": "2023-02-13T01:05:15.619Z"
   },
   {
    "duration": 149,
    "start_time": "2023-02-13T01:05:18.090Z"
   },
   {
    "duration": 145,
    "start_time": "2023-02-13T01:05:22.547Z"
   },
   {
    "duration": 165,
    "start_time": "2023-02-13T01:05:27.902Z"
   },
   {
    "duration": 165,
    "start_time": "2023-02-13T01:05:35.775Z"
   },
   {
    "duration": 301,
    "start_time": "2023-02-13T01:05:45.170Z"
   },
   {
    "duration": 168,
    "start_time": "2023-02-13T01:05:59.632Z"
   },
   {
    "duration": 167,
    "start_time": "2023-02-13T01:06:05.405Z"
   },
   {
    "duration": 139,
    "start_time": "2023-02-13T01:06:10.169Z"
   },
   {
    "duration": 172,
    "start_time": "2023-02-13T01:06:13.735Z"
   },
   {
    "duration": 10,
    "start_time": "2023-02-13T01:06:25.973Z"
   },
   {
    "duration": 2,
    "start_time": "2023-02-13T01:10:46.133Z"
   },
   {
    "duration": 61,
    "start_time": "2023-02-13T01:10:48.284Z"
   },
   {
    "duration": 3,
    "start_time": "2023-02-13T01:10:58.874Z"
   },
   {
    "duration": 9,
    "start_time": "2023-02-13T01:11:12.238Z"
   },
   {
    "duration": 8,
    "start_time": "2023-02-13T01:11:22.980Z"
   },
   {
    "duration": 5,
    "start_time": "2023-02-13T01:11:27.734Z"
   },
   {
    "duration": 4,
    "start_time": "2023-02-13T01:11:53.528Z"
   },
   {
    "duration": 169,
    "start_time": "2023-02-13T01:11:56.454Z"
   },
   {
    "duration": 90,
    "start_time": "2023-02-13T01:12:04.731Z"
   },
   {
    "duration": 168,
    "start_time": "2023-02-13T01:12:10.879Z"
   },
   {
    "duration": 155,
    "start_time": "2023-02-13T01:12:14.868Z"
   },
   {
    "duration": 159,
    "start_time": "2023-02-13T01:12:19.014Z"
   },
   {
    "duration": 158,
    "start_time": "2023-02-13T01:12:23.613Z"
   },
   {
    "duration": 177,
    "start_time": "2023-02-13T01:12:28.985Z"
   },
   {
    "duration": 160,
    "start_time": "2023-02-13T01:12:32.978Z"
   },
   {
    "duration": 155,
    "start_time": "2023-02-13T01:12:37.278Z"
   },
   {
    "duration": 175,
    "start_time": "2023-02-13T01:12:42.959Z"
   },
   {
    "duration": 16,
    "start_time": "2023-02-13T01:13:17.140Z"
   },
   {
    "duration": 1192,
    "start_time": "2023-02-13T14:27:48.214Z"
   },
   {
    "duration": 78,
    "start_time": "2023-02-13T14:27:49.408Z"
   },
   {
    "duration": 16,
    "start_time": "2023-02-13T14:27:49.488Z"
   },
   {
    "duration": 856,
    "start_time": "2023-02-13T14:27:49.507Z"
   },
   {
    "duration": 4,
    "start_time": "2023-02-13T14:27:50.366Z"
   },
   {
    "duration": 27,
    "start_time": "2023-02-13T14:27:50.372Z"
   },
   {
    "duration": 29,
    "start_time": "2023-02-13T14:27:50.401Z"
   },
   {
    "duration": 9,
    "start_time": "2023-02-13T14:27:50.432Z"
   },
   {
    "duration": 26,
    "start_time": "2023-02-13T14:27:50.443Z"
   },
   {
    "duration": 16,
    "start_time": "2023-02-13T14:27:50.472Z"
   },
   {
    "duration": 39,
    "start_time": "2023-02-13T14:27:50.489Z"
   },
   {
    "duration": 15,
    "start_time": "2023-02-13T14:27:50.530Z"
   },
   {
    "duration": 12,
    "start_time": "2023-02-13T14:27:50.546Z"
   },
   {
    "duration": 13,
    "start_time": "2023-02-13T14:27:50.559Z"
   },
   {
    "duration": 52,
    "start_time": "2023-02-13T14:27:50.573Z"
   },
   {
    "duration": 9,
    "start_time": "2023-02-13T14:27:50.627Z"
   },
   {
    "duration": 14,
    "start_time": "2023-02-13T14:27:50.637Z"
   },
   {
    "duration": 5,
    "start_time": "2023-02-13T14:27:50.653Z"
   },
   {
    "duration": 20,
    "start_time": "2023-02-13T14:27:50.660Z"
   },
   {
    "duration": 49,
    "start_time": "2023-02-13T14:27:50.681Z"
   },
   {
    "duration": 416,
    "start_time": "2023-02-13T14:27:50.732Z"
   },
   {
    "duration": 22,
    "start_time": "2023-02-13T14:27:51.150Z"
   },
   {
    "duration": 273,
    "start_time": "2023-02-13T14:27:51.175Z"
   },
   {
    "duration": 20,
    "start_time": "2023-02-13T14:27:51.450Z"
   },
   {
    "duration": 266,
    "start_time": "2023-02-13T14:27:51.472Z"
   },
   {
    "duration": 23,
    "start_time": "2023-02-13T14:27:51.740Z"
   },
   {
    "duration": 24,
    "start_time": "2023-02-13T14:27:51.765Z"
   },
   {
    "duration": 209,
    "start_time": "2023-02-13T14:27:51.821Z"
   },
   {
    "duration": 159,
    "start_time": "2023-02-13T14:27:52.033Z"
   },
   {
    "duration": 260,
    "start_time": "2023-02-13T14:27:52.194Z"
   },
   {
    "duration": 145,
    "start_time": "2023-02-13T14:27:52.456Z"
   },
   {
    "duration": 151,
    "start_time": "2023-02-13T14:27:52.603Z"
   },
   {
    "duration": 137,
    "start_time": "2023-02-13T14:27:52.756Z"
   },
   {
    "duration": 141,
    "start_time": "2023-02-13T14:27:52.894Z"
   },
   {
    "duration": 262,
    "start_time": "2023-02-13T14:27:53.037Z"
   },
   {
    "duration": 4,
    "start_time": "2023-02-13T14:27:53.300Z"
   },
   {
    "duration": 198,
    "start_time": "2023-02-13T14:27:53.307Z"
   },
   {
    "duration": 171,
    "start_time": "2023-02-13T14:27:53.507Z"
   },
   {
    "duration": 179,
    "start_time": "2023-02-13T14:27:53.680Z"
   },
   {
    "duration": 191,
    "start_time": "2023-02-13T14:27:53.861Z"
   },
   {
    "duration": 198,
    "start_time": "2023-02-13T14:27:54.054Z"
   },
   {
    "duration": 313,
    "start_time": "2023-02-13T14:27:54.254Z"
   },
   {
    "duration": 240,
    "start_time": "2023-02-13T14:27:54.570Z"
   },
   {
    "duration": 177,
    "start_time": "2023-02-13T14:27:54.812Z"
   },
   {
    "duration": 216,
    "start_time": "2023-02-13T14:27:54.991Z"
   },
   {
    "duration": 17,
    "start_time": "2023-02-13T14:27:55.209Z"
   },
   {
    "duration": 14,
    "start_time": "2023-02-13T14:27:55.228Z"
   },
   {
    "duration": 112,
    "start_time": "2023-02-13T14:35:15.728Z"
   },
   {
    "duration": 290,
    "start_time": "2023-02-13T14:35:28.023Z"
   },
   {
    "duration": 6,
    "start_time": "2023-02-13T14:39:35.213Z"
   },
   {
    "duration": 6,
    "start_time": "2023-02-13T14:39:48.609Z"
   },
   {
    "duration": 5,
    "start_time": "2023-02-13T14:40:06.205Z"
   },
   {
    "duration": 1161,
    "start_time": "2023-02-13T14:44:21.743Z"
   },
   {
    "duration": 75,
    "start_time": "2023-02-13T14:44:22.906Z"
   },
   {
    "duration": 17,
    "start_time": "2023-02-13T14:44:22.983Z"
   },
   {
    "duration": 826,
    "start_time": "2023-02-13T14:44:23.003Z"
   },
   {
    "duration": 4,
    "start_time": "2023-02-13T14:44:23.830Z"
   },
   {
    "duration": 19,
    "start_time": "2023-02-13T14:44:23.836Z"
   },
   {
    "duration": 21,
    "start_time": "2023-02-13T14:44:23.857Z"
   },
   {
    "duration": 10,
    "start_time": "2023-02-13T14:44:23.880Z"
   },
   {
    "duration": 50,
    "start_time": "2023-02-13T14:44:23.892Z"
   },
   {
    "duration": 18,
    "start_time": "2023-02-13T14:44:23.946Z"
   },
   {
    "duration": 12,
    "start_time": "2023-02-13T14:44:23.966Z"
   },
   {
    "duration": 48,
    "start_time": "2023-02-13T14:44:23.980Z"
   },
   {
    "duration": 13,
    "start_time": "2023-02-13T14:44:24.030Z"
   },
   {
    "duration": 13,
    "start_time": "2023-02-13T14:44:24.044Z"
   },
   {
    "duration": 12,
    "start_time": "2023-02-13T14:44:24.059Z"
   },
   {
    "duration": 11,
    "start_time": "2023-02-13T14:44:24.073Z"
   },
   {
    "duration": 48,
    "start_time": "2023-02-13T14:44:24.086Z"
   },
   {
    "duration": 5,
    "start_time": "2023-02-13T14:44:24.136Z"
   },
   {
    "duration": 18,
    "start_time": "2023-02-13T14:44:24.143Z"
   },
   {
    "duration": 23,
    "start_time": "2023-02-13T14:44:24.163Z"
   },
   {
    "duration": 464,
    "start_time": "2023-02-13T14:44:24.188Z"
   },
   {
    "duration": 18,
    "start_time": "2023-02-13T14:44:24.655Z"
   },
   {
    "duration": 279,
    "start_time": "2023-02-13T14:44:24.676Z"
   },
   {
    "duration": 19,
    "start_time": "2023-02-13T14:44:24.957Z"
   },
   {
    "duration": 290,
    "start_time": "2023-02-13T14:44:24.977Z"
   },
   {
    "duration": 23,
    "start_time": "2023-02-13T14:44:25.269Z"
   },
   {
    "duration": 41,
    "start_time": "2023-02-13T14:44:25.294Z"
   },
   {
    "duration": 247,
    "start_time": "2023-02-13T14:44:25.338Z"
   },
   {
    "duration": 333,
    "start_time": "2023-02-13T14:44:25.587Z"
   },
   {
    "duration": 159,
    "start_time": "2023-02-13T14:44:25.922Z"
   },
   {
    "duration": 161,
    "start_time": "2023-02-13T14:44:26.083Z"
   },
   {
    "duration": 165,
    "start_time": "2023-02-13T14:44:26.246Z"
   },
   {
    "duration": 157,
    "start_time": "2023-02-13T14:44:26.413Z"
   },
   {
    "duration": 150,
    "start_time": "2023-02-13T14:44:26.571Z"
   },
   {
    "duration": 147,
    "start_time": "2023-02-13T14:44:26.722Z"
   },
   {
    "duration": 268,
    "start_time": "2023-02-13T14:44:26.871Z"
   },
   {
    "duration": 4,
    "start_time": "2023-02-13T14:44:27.140Z"
   },
   {
    "duration": 179,
    "start_time": "2023-02-13T14:44:27.146Z"
   },
   {
    "duration": 181,
    "start_time": "2023-02-13T14:44:27.326Z"
   },
   {
    "duration": 195,
    "start_time": "2023-02-13T14:44:27.510Z"
   },
   {
    "duration": 292,
    "start_time": "2023-02-13T14:44:27.707Z"
   },
   {
    "duration": 212,
    "start_time": "2023-02-13T14:44:28.001Z"
   },
   {
    "duration": 209,
    "start_time": "2023-02-13T14:44:28.214Z"
   },
   {
    "duration": 199,
    "start_time": "2023-02-13T14:44:28.424Z"
   },
   {
    "duration": 187,
    "start_time": "2023-02-13T14:44:28.625Z"
   },
   {
    "duration": 196,
    "start_time": "2023-02-13T14:44:28.813Z"
   },
   {
    "duration": 12,
    "start_time": "2023-02-13T14:44:29.010Z"
   },
   {
    "duration": 17,
    "start_time": "2023-02-13T14:44:29.024Z"
   },
   {
    "duration": 1388,
    "start_time": "2023-02-13T20:17:13.941Z"
   },
   {
    "duration": 218,
    "start_time": "2023-02-13T20:17:17.177Z"
   },
   {
    "duration": 14,
    "start_time": "2023-02-13T20:17:20.338Z"
   },
   {
    "duration": 776,
    "start_time": "2023-02-13T20:17:23.323Z"
   },
   {
    "duration": 4,
    "start_time": "2023-02-13T20:17:31.266Z"
   },
   {
    "duration": 4,
    "start_time": "2023-02-13T20:17:36.737Z"
   },
   {
    "duration": 14,
    "start_time": "2023-02-13T20:17:39.574Z"
   },
   {
    "duration": 20,
    "start_time": "2023-02-13T20:17:43.451Z"
   },
   {
    "duration": 10,
    "start_time": "2023-02-13T20:17:45.132Z"
   },
   {
    "duration": 28,
    "start_time": "2023-02-13T20:17:47.871Z"
   },
   {
    "duration": 19,
    "start_time": "2023-02-13T20:17:50.887Z"
   },
   {
    "duration": 14,
    "start_time": "2023-02-13T20:19:35.922Z"
   },
   {
    "duration": 17,
    "start_time": "2023-02-13T20:19:40.230Z"
   },
   {
    "duration": 13,
    "start_time": "2023-02-13T20:19:46.100Z"
   },
   {
    "duration": 11,
    "start_time": "2023-02-13T20:19:49.624Z"
   },
   {
    "duration": 9,
    "start_time": "2023-02-13T20:19:53.169Z"
   },
   {
    "duration": 8,
    "start_time": "2023-02-13T20:20:20.516Z"
   },
   {
    "duration": 15,
    "start_time": "2023-02-13T20:20:22.904Z"
   },
   {
    "duration": 5,
    "start_time": "2023-02-13T20:20:30.378Z"
   },
   {
    "duration": 21,
    "start_time": "2023-02-13T20:20:32.562Z"
   },
   {
    "duration": 99,
    "start_time": "2023-02-13T22:43:46.258Z"
   },
   {
    "duration": 14,
    "start_time": "2023-02-13T22:43:59.616Z"
   },
   {
    "duration": 410,
    "start_time": "2023-02-13T22:44:04.074Z"
   },
   {
    "duration": 16,
    "start_time": "2023-02-13T22:44:57.303Z"
   },
   {
    "duration": 259,
    "start_time": "2023-02-13T22:45:00.297Z"
   },
   {
    "duration": 17,
    "start_time": "2023-02-13T22:45:05.842Z"
   },
   {
    "duration": 236,
    "start_time": "2023-02-13T22:45:09.387Z"
   },
   {
    "duration": 22,
    "start_time": "2023-02-13T22:45:13.657Z"
   },
   {
    "duration": 3,
    "start_time": "2023-02-13T22:46:13.479Z"
   },
   {
    "duration": 63,
    "start_time": "2023-02-13T22:46:17.590Z"
   },
   {
    "duration": 15,
    "start_time": "2023-02-13T22:46:19.451Z"
   },
   {
    "duration": 855,
    "start_time": "2023-02-13T22:46:20.819Z"
   },
   {
    "duration": 4,
    "start_time": "2023-02-13T22:46:25.520Z"
   },
   {
    "duration": 15,
    "start_time": "2023-02-13T22:46:30.265Z"
   },
   {
    "duration": 15,
    "start_time": "2023-02-13T22:46:32.237Z"
   },
   {
    "duration": 9,
    "start_time": "2023-02-13T22:46:33.169Z"
   },
   {
    "duration": 22,
    "start_time": "2023-02-13T22:46:34.489Z"
   },
   {
    "duration": 17,
    "start_time": "2023-02-13T22:46:37.174Z"
   },
   {
    "duration": 11,
    "start_time": "2023-02-13T22:46:38.654Z"
   },
   {
    "duration": 15,
    "start_time": "2023-02-13T22:46:42.825Z"
   },
   {
    "duration": 11,
    "start_time": "2023-02-13T22:46:44.526Z"
   },
   {
    "duration": 11,
    "start_time": "2023-02-13T22:46:46.043Z"
   },
   {
    "duration": 9,
    "start_time": "2023-02-13T22:46:47.820Z"
   },
   {
    "duration": 9,
    "start_time": "2023-02-13T22:46:49.495Z"
   },
   {
    "duration": 14,
    "start_time": "2023-02-13T22:46:51.166Z"
   },
   {
    "duration": 6,
    "start_time": "2023-02-13T22:46:53.078Z"
   },
   {
    "duration": 15,
    "start_time": "2023-02-13T22:46:54.202Z"
   },
   {
    "duration": 15,
    "start_time": "2023-02-13T22:46:57.950Z"
   },
   {
    "duration": 395,
    "start_time": "2023-02-13T22:47:00.324Z"
   },
   {
    "duration": 15,
    "start_time": "2023-02-13T22:47:03.907Z"
   },
   {
    "duration": 263,
    "start_time": "2023-02-13T22:47:07.968Z"
   },
   {
    "duration": 252,
    "start_time": "2023-02-13T22:49:07.508Z"
   },
   {
    "duration": 253,
    "start_time": "2023-02-13T22:49:24.273Z"
   },
   {
    "duration": 249,
    "start_time": "2023-02-13T22:49:30.537Z"
   },
   {
    "duration": 17,
    "start_time": "2023-02-13T22:49:48.284Z"
   },
   {
    "duration": 264,
    "start_time": "2023-02-13T22:51:01.166Z"
   },
   {
    "duration": 19,
    "start_time": "2023-02-13T22:51:45.112Z"
   },
   {
    "duration": 34,
    "start_time": "2023-02-13T22:55:22.630Z"
   },
   {
    "duration": 276,
    "start_time": "2023-02-13T22:56:01.827Z"
   },
   {
    "duration": 440,
    "start_time": "2023-02-13T22:56:15.700Z"
   },
   {
    "duration": 141,
    "start_time": "2023-02-13T22:56:57.319Z"
   },
   {
    "duration": 147,
    "start_time": "2023-02-13T22:57:01.928Z"
   },
   {
    "duration": 135,
    "start_time": "2023-02-13T22:57:09.991Z"
   },
   {
    "duration": 140,
    "start_time": "2023-02-13T22:57:13.179Z"
   },
   {
    "duration": 138,
    "start_time": "2023-02-13T22:57:16.924Z"
   },
   {
    "duration": 128,
    "start_time": "2023-02-13T22:57:20.011Z"
   },
   {
    "duration": 34,
    "start_time": "2023-02-13T22:59:55.643Z"
   },
   {
    "duration": 5,
    "start_time": "2023-02-13T23:00:15.939Z"
   },
   {
    "duration": 133,
    "start_time": "2023-02-13T23:06:08.384Z"
   },
   {
    "duration": 143,
    "start_time": "2023-02-13T23:06:20.869Z"
   },
   {
    "duration": 223,
    "start_time": "2023-02-13T23:06:47.080Z"
   },
   {
    "duration": 124,
    "start_time": "2023-02-13T23:07:00.293Z"
   },
   {
    "duration": 125,
    "start_time": "2023-02-13T23:07:05.839Z"
   },
   {
    "duration": 127,
    "start_time": "2023-02-13T23:07:14.017Z"
   },
   {
    "duration": 130,
    "start_time": "2023-02-13T23:07:45.823Z"
   },
   {
    "duration": 140,
    "start_time": "2023-02-13T23:07:53.656Z"
   },
   {
    "duration": 153,
    "start_time": "2023-02-13T23:08:00.327Z"
   },
   {
    "duration": 132,
    "start_time": "2023-02-13T23:08:03.899Z"
   },
   {
    "duration": 4,
    "start_time": "2023-02-13T23:27:01.440Z"
   },
   {
    "duration": 170,
    "start_time": "2023-02-13T23:27:04.680Z"
   },
   {
    "duration": 4,
    "start_time": "2023-02-13T23:27:23.383Z"
   },
   {
    "duration": 189,
    "start_time": "2023-02-13T23:27:26.363Z"
   },
   {
    "duration": 197,
    "start_time": "2023-02-13T23:27:37.615Z"
   },
   {
    "duration": 185,
    "start_time": "2023-02-13T23:27:40.634Z"
   },
   {
    "duration": 270,
    "start_time": "2023-02-13T23:27:45.228Z"
   },
   {
    "duration": 176,
    "start_time": "2023-02-13T23:27:50.862Z"
   },
   {
    "duration": 175,
    "start_time": "2023-02-13T23:27:54.714Z"
   },
   {
    "duration": 3,
    "start_time": "2023-02-13T23:54:24.377Z"
   },
   {
    "duration": 64,
    "start_time": "2023-02-13T23:54:27.476Z"
   },
   {
    "duration": 15,
    "start_time": "2023-02-13T23:54:29.559Z"
   },
   {
    "duration": 757,
    "start_time": "2023-02-13T23:54:31.140Z"
   },
   {
    "duration": 3,
    "start_time": "2023-02-13T23:54:34.091Z"
   },
   {
    "duration": 18,
    "start_time": "2023-02-13T23:54:44.351Z"
   },
   {
    "duration": 19,
    "start_time": "2023-02-13T23:54:46.869Z"
   },
   {
    "duration": 11,
    "start_time": "2023-02-13T23:54:47.890Z"
   },
   {
    "duration": 24,
    "start_time": "2023-02-13T23:54:49.529Z"
   },
   {
    "duration": 17,
    "start_time": "2023-02-13T23:54:51.345Z"
   },
   {
    "duration": 14,
    "start_time": "2023-02-13T23:54:53.256Z"
   },
   {
    "duration": 17,
    "start_time": "2023-02-13T23:54:58.076Z"
   },
   {
    "duration": 12,
    "start_time": "2023-02-13T23:55:01.412Z"
   },
   {
    "duration": 10,
    "start_time": "2023-02-13T23:55:02.380Z"
   },
   {
    "duration": 10,
    "start_time": "2023-02-13T23:55:03.272Z"
   },
   {
    "duration": 10,
    "start_time": "2023-02-13T23:55:05.414Z"
   },
   {
    "duration": 16,
    "start_time": "2023-02-13T23:55:06.145Z"
   },
   {
    "duration": 5,
    "start_time": "2023-02-13T23:55:07.725Z"
   },
   {
    "duration": 15,
    "start_time": "2023-02-13T23:55:08.499Z"
   },
   {
    "duration": 16,
    "start_time": "2023-02-13T23:55:14.207Z"
   },
   {
    "duration": 396,
    "start_time": "2023-02-13T23:55:17.238Z"
   },
   {
    "duration": 16,
    "start_time": "2023-02-13T23:55:23.089Z"
   },
   {
    "duration": 258,
    "start_time": "2023-02-13T23:55:30.367Z"
   },
   {
    "duration": 17,
    "start_time": "2023-02-13T23:55:37.048Z"
   },
   {
    "duration": 250,
    "start_time": "2023-02-13T23:55:39.480Z"
   },
   {
    "duration": 25,
    "start_time": "2023-02-13T23:55:43.355Z"
   },
   {
    "duration": 37,
    "start_time": "2023-02-13T23:55:49.027Z"
   },
   {
    "duration": 393,
    "start_time": "2023-02-13T23:55:54.652Z"
   },
   {
    "duration": 146,
    "start_time": "2023-02-13T23:55:59.131Z"
   },
   {
    "duration": 153,
    "start_time": "2023-02-13T23:56:00.935Z"
   },
   {
    "duration": 143,
    "start_time": "2023-02-13T23:56:06.544Z"
   },
   {
    "duration": 145,
    "start_time": "2023-02-13T23:56:08.339Z"
   },
   {
    "duration": 130,
    "start_time": "2023-02-13T23:56:10.013Z"
   },
   {
    "duration": 133,
    "start_time": "2023-02-13T23:56:12.264Z"
   },
   {
    "duration": 4,
    "start_time": "2023-02-13T23:56:28.465Z"
   },
   {
    "duration": 179,
    "start_time": "2023-02-13T23:56:30.357Z"
   },
   {
    "duration": 163,
    "start_time": "2023-02-13T23:56:32.867Z"
   },
   {
    "duration": 185,
    "start_time": "2023-02-13T23:56:35.233Z"
   },
   {
    "duration": 287,
    "start_time": "2023-02-13T23:56:38.085Z"
   },
   {
    "duration": 182,
    "start_time": "2023-02-13T23:56:40.446Z"
   },
   {
    "duration": 184,
    "start_time": "2023-02-13T23:56:42.740Z"
   },
   {
    "duration": 182,
    "start_time": "2023-02-13T23:56:46.127Z"
   },
   {
    "duration": 188,
    "start_time": "2023-02-13T23:56:51.717Z"
   },
   {
    "duration": 181,
    "start_time": "2023-02-13T23:56:54.616Z"
   },
   {
    "duration": 12,
    "start_time": "2023-02-14T00:10:53.470Z"
   },
   {
    "duration": 13,
    "start_time": "2023-02-14T00:11:24.869Z"
   },
   {
    "duration": 246,
    "start_time": "2023-02-14T00:34:54.218Z"
   },
   {
    "duration": 237,
    "start_time": "2023-02-14T00:38:00.625Z"
   },
   {
    "duration": 258,
    "start_time": "2023-02-14T00:38:23.173Z"
   },
   {
    "duration": 260,
    "start_time": "2023-02-14T00:38:39.983Z"
   },
   {
    "duration": 264,
    "start_time": "2023-02-14T00:41:26.642Z"
   },
   {
    "duration": 372,
    "start_time": "2023-02-14T00:42:00.265Z"
   },
   {
    "duration": 3,
    "start_time": "2023-02-14T00:53:40.212Z"
   },
   {
    "duration": 60,
    "start_time": "2023-02-14T00:53:45.807Z"
   },
   {
    "duration": 14,
    "start_time": "2023-02-14T00:53:47.660Z"
   },
   {
    "duration": 745,
    "start_time": "2023-02-14T00:53:49.084Z"
   },
   {
    "duration": 4,
    "start_time": "2023-02-14T00:53:54.200Z"
   },
   {
    "duration": 15,
    "start_time": "2023-02-14T00:53:56.265Z"
   },
   {
    "duration": 17,
    "start_time": "2023-02-14T00:53:57.829Z"
   },
   {
    "duration": 12,
    "start_time": "2023-02-14T00:53:58.430Z"
   },
   {
    "duration": 24,
    "start_time": "2023-02-14T00:53:59.947Z"
   },
   {
    "duration": 18,
    "start_time": "2023-02-14T00:54:00.972Z"
   },
   {
    "duration": 15,
    "start_time": "2023-02-14T00:54:02.486Z"
   },
   {
    "duration": 15,
    "start_time": "2023-02-14T00:54:05.154Z"
   },
   {
    "duration": 12,
    "start_time": "2023-02-14T00:54:05.824Z"
   },
   {
    "duration": 11,
    "start_time": "2023-02-14T00:54:06.689Z"
   },
   {
    "duration": 11,
    "start_time": "2023-02-14T00:54:07.617Z"
   },
   {
    "duration": 8,
    "start_time": "2023-02-14T00:54:10.310Z"
   },
   {
    "duration": 16,
    "start_time": "2023-02-14T00:54:11.293Z"
   },
   {
    "duration": 5,
    "start_time": "2023-02-14T00:54:12.630Z"
   },
   {
    "duration": 14,
    "start_time": "2023-02-14T00:54:13.190Z"
   },
   {
    "duration": 14,
    "start_time": "2023-02-14T00:54:17.945Z"
   },
   {
    "duration": 386,
    "start_time": "2023-02-14T00:54:19.273Z"
   },
   {
    "duration": 15,
    "start_time": "2023-02-14T00:54:26.870Z"
   },
   {
    "duration": 258,
    "start_time": "2023-02-14T00:54:28.841Z"
   },
   {
    "duration": 17,
    "start_time": "2023-02-14T00:54:31.558Z"
   },
   {
    "duration": 246,
    "start_time": "2023-02-14T00:54:33.974Z"
   },
   {
    "duration": 21,
    "start_time": "2023-02-14T00:54:36.184Z"
   },
   {
    "duration": 37,
    "start_time": "2023-02-14T00:54:38.660Z"
   },
   {
    "duration": 311,
    "start_time": "2023-02-14T00:54:40.154Z"
   },
   {
    "duration": 256,
    "start_time": "2023-02-14T00:54:43.279Z"
   },
   {
    "duration": 145,
    "start_time": "2023-02-14T00:54:45.380Z"
   },
   {
    "duration": 147,
    "start_time": "2023-02-14T00:54:47.009Z"
   },
   {
    "duration": 141,
    "start_time": "2023-02-14T00:54:47.871Z"
   },
   {
    "duration": 132,
    "start_time": "2023-02-14T00:54:49.567Z"
   },
   {
    "duration": 131,
    "start_time": "2023-02-14T00:54:50.285Z"
   },
   {
    "duration": 243,
    "start_time": "2023-02-14T00:54:53.465Z"
   },
   {
    "duration": 252,
    "start_time": "2023-02-14T00:54:54.848Z"
   },
   {
    "duration": 5,
    "start_time": "2023-02-14T00:55:00.517Z"
   },
   {
    "duration": 214,
    "start_time": "2023-02-14T00:55:02.272Z"
   },
   {
    "duration": 179,
    "start_time": "2023-02-14T00:55:06.468Z"
   },
   {
    "duration": 183,
    "start_time": "2023-02-14T00:55:10.243Z"
   },
   {
    "duration": 275,
    "start_time": "2023-02-14T00:55:19.145Z"
   },
   {
    "duration": 203,
    "start_time": "2023-02-14T00:55:21.838Z"
   },
   {
    "duration": 177,
    "start_time": "2023-02-14T00:55:23.909Z"
   },
   {
    "duration": 184,
    "start_time": "2023-02-14T00:55:29.788Z"
   },
   {
    "duration": 183,
    "start_time": "2023-02-14T00:55:33.014Z"
   },
   {
    "duration": 184,
    "start_time": "2023-02-14T00:55:33.711Z"
   },
   {
    "duration": 11,
    "start_time": "2023-02-14T00:55:39.838Z"
   },
   {
    "duration": 12,
    "start_time": "2023-02-14T00:55:45.550Z"
   },
   {
    "duration": 1100,
    "start_time": "2023-02-14T07:52:16.880Z"
   },
   {
    "duration": 62,
    "start_time": "2023-02-14T07:52:17.982Z"
   },
   {
    "duration": 12,
    "start_time": "2023-02-14T07:52:18.046Z"
   },
   {
    "duration": 691,
    "start_time": "2023-02-14T07:52:18.061Z"
   },
   {
    "duration": 3,
    "start_time": "2023-02-14T07:52:18.753Z"
   },
   {
    "duration": 19,
    "start_time": "2023-02-14T07:52:18.758Z"
   },
   {
    "duration": 21,
    "start_time": "2023-02-14T07:52:18.779Z"
   },
   {
    "duration": 13,
    "start_time": "2023-02-14T07:52:18.802Z"
   },
   {
    "duration": 22,
    "start_time": "2023-02-14T07:52:18.817Z"
   },
   {
    "duration": 14,
    "start_time": "2023-02-14T07:52:18.841Z"
   },
   {
    "duration": 15,
    "start_time": "2023-02-14T07:52:18.856Z"
   },
   {
    "duration": 37,
    "start_time": "2023-02-14T07:52:18.873Z"
   },
   {
    "duration": 9,
    "start_time": "2023-02-14T07:52:18.912Z"
   },
   {
    "duration": 10,
    "start_time": "2023-02-14T07:52:18.923Z"
   },
   {
    "duration": 8,
    "start_time": "2023-02-14T07:52:18.934Z"
   },
   {
    "duration": 7,
    "start_time": "2023-02-14T07:52:18.943Z"
   },
   {
    "duration": 12,
    "start_time": "2023-02-14T07:52:18.951Z"
   },
   {
    "duration": 4,
    "start_time": "2023-02-14T07:52:18.964Z"
   },
   {
    "duration": 49,
    "start_time": "2023-02-14T07:52:18.969Z"
   },
   {
    "duration": 14,
    "start_time": "2023-02-14T07:52:19.020Z"
   },
   {
    "duration": 382,
    "start_time": "2023-02-14T07:52:19.035Z"
   },
   {
    "duration": 17,
    "start_time": "2023-02-14T07:52:19.419Z"
   },
   {
    "duration": 266,
    "start_time": "2023-02-14T07:52:19.438Z"
   },
   {
    "duration": 15,
    "start_time": "2023-02-14T07:52:19.706Z"
   },
   {
    "duration": 237,
    "start_time": "2023-02-14T07:52:19.723Z"
   },
   {
    "duration": 18,
    "start_time": "2023-02-14T07:52:19.961Z"
   },
   {
    "duration": 49,
    "start_time": "2023-02-14T07:52:19.980Z"
   },
   {
    "duration": 410,
    "start_time": "2023-02-14T07:52:20.032Z"
   },
   {
    "duration": 147,
    "start_time": "2023-02-14T07:52:20.443Z"
   },
   {
    "duration": 159,
    "start_time": "2023-02-14T07:52:20.591Z"
   },
   {
    "duration": 191,
    "start_time": "2023-02-14T07:52:20.752Z"
   },
   {
    "duration": 142,
    "start_time": "2023-02-14T07:52:20.945Z"
   },
   {
    "duration": 133,
    "start_time": "2023-02-14T07:52:21.089Z"
   },
   {
    "duration": 136,
    "start_time": "2023-02-14T07:52:21.224Z"
   },
   {
    "duration": 260,
    "start_time": "2023-02-14T07:52:21.362Z"
   },
   {
    "duration": 259,
    "start_time": "2023-02-14T07:52:21.623Z"
   },
   {
    "duration": 4,
    "start_time": "2023-02-14T07:52:21.883Z"
   },
   {
    "duration": 184,
    "start_time": "2023-02-14T07:52:21.889Z"
   },
   {
    "duration": 180,
    "start_time": "2023-02-14T07:52:22.074Z"
   },
   {
    "duration": 246,
    "start_time": "2023-02-14T07:52:22.256Z"
   },
   {
    "duration": 184,
    "start_time": "2023-02-14T07:52:22.504Z"
   },
   {
    "duration": 199,
    "start_time": "2023-02-14T07:52:22.690Z"
   },
   {
    "duration": 200,
    "start_time": "2023-02-14T07:52:22.890Z"
   },
   {
    "duration": 174,
    "start_time": "2023-02-14T07:52:23.092Z"
   },
   {
    "duration": 219,
    "start_time": "2023-02-14T07:52:23.268Z"
   },
   {
    "duration": 176,
    "start_time": "2023-02-14T07:52:23.489Z"
   },
   {
    "duration": 10,
    "start_time": "2023-02-14T07:52:23.667Z"
   },
   {
    "duration": 18,
    "start_time": "2023-02-14T07:52:23.679Z"
   }
  ],
  "kernelspec": {
   "display_name": "Python 3 (ipykernel)",
   "language": "python",
   "name": "python3"
  },
  "language_info": {
   "codemirror_mode": {
    "name": "ipython",
    "version": 3
   },
   "file_extension": ".py",
   "mimetype": "text/x-python",
   "name": "python",
   "nbconvert_exporter": "python",
   "pygments_lexer": "ipython3",
   "version": "3.9.15"
  },
  "toc": {
   "base_numbering": 1,
   "nav_menu": {},
   "number_sections": true,
   "sideBar": true,
   "skip_h1_title": true,
   "title_cell": "Table of Contents",
   "title_sidebar": "Contents",
   "toc_cell": false,
   "toc_position": {},
   "toc_section_display": true,
   "toc_window_display": false
  }
 },
 "nbformat": 4,
 "nbformat_minor": 2
}
