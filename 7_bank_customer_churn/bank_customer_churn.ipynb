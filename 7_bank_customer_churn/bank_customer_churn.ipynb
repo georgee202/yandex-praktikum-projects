{
 "cells": [
  {
   "cell_type": "markdown",
   "metadata": {
    "toc": true
   },
   "source": [
    "<h1>Содержание<span class=\"tocSkip\"></span></h1>\n",
    "<div class=\"toc\"><ul class=\"toc-item\"><li><span><a href=\"#Подготовка-данных\" data-toc-modified-id=\"Подготовка-данных-1\"><span class=\"toc-item-num\">1&nbsp;&nbsp;</span>Подготовка данных</a></span><ul class=\"toc-item\"><li><span><a href=\"#Общая-информация-и-поиск-проблем\" data-toc-modified-id=\"Общая-информация-и-поиск-проблем-1.1\"><span class=\"toc-item-num\">1.1&nbsp;&nbsp;</span>Общая информация и поиск проблем</a></span></li><li><span><a href=\"#Устранение-пропущенных-значений-и-лишних-столбцов\" data-toc-modified-id=\"Устранение-пропущенных-значений-и-лишних-столбцов-1.2\"><span class=\"toc-item-num\">1.2&nbsp;&nbsp;</span>Устранение пропущенных значений и лишних столбцов</a></span></li></ul></li><li><span><a href=\"#Исследование-задачи\" data-toc-modified-id=\"Исследование-задачи-2\"><span class=\"toc-item-num\">2&nbsp;&nbsp;</span>Исследование задачи</a></span><ul class=\"toc-item\"><li><span><a href=\"#Исследуем-дисбаланс\" data-toc-modified-id=\"Исследуем-дисбаланс-2.1\"><span class=\"toc-item-num\">2.1&nbsp;&nbsp;</span>Исследуем дисбаланс</a></span></li><li><span><a href=\"#OHE\" data-toc-modified-id=\"OHE-2.2\"><span class=\"toc-item-num\">2.2&nbsp;&nbsp;</span>OHE</a></span></li><li><span><a href=\"#Дерево-решений-с-дисбалансом\" data-toc-modified-id=\"Дерево-решений-с-дисбалансом-2.3\"><span class=\"toc-item-num\">2.3&nbsp;&nbsp;</span>Дерево решений с дисбалансом</a></span></li><li><span><a href=\"#Логистическая-регрессия-с-дисбалансом\" data-toc-modified-id=\"Логистическая-регрессия-с-дисбалансом-2.4\"><span class=\"toc-item-num\">2.4&nbsp;&nbsp;</span>Логистическая регрессия с дисбалансом</a></span></li><li><span><a href=\"#Случайный-лес-с-дисбалансом\" data-toc-modified-id=\"Случайный-лес-с-дисбалансом-2.5\"><span class=\"toc-item-num\">2.5&nbsp;&nbsp;</span>Случайный лес с дисбалансом</a></span></li><li><span><a href=\"#ROC-кривая\" data-toc-modified-id=\"ROC-кривая-2.6\"><span class=\"toc-item-num\">2.6&nbsp;&nbsp;</span>ROC-кривая</a></span></li></ul></li><li><span><a href=\"#Борьба-с-дисбалансом\" data-toc-modified-id=\"Борьба-с-дисбалансом-3\"><span class=\"toc-item-num\">3&nbsp;&nbsp;</span>Борьба с дисбалансом</a></span><ul class=\"toc-item\"><li><span><a href=\"#Функция-upsample\" data-toc-modified-id=\"Функция-upsample-3.1\"><span class=\"toc-item-num\">3.1&nbsp;&nbsp;</span>Функция <em>upsample</em></a></span></li><li><span><a href=\"#Функция-downsample\" data-toc-modified-id=\"Функция-downsample-3.2\"><span class=\"toc-item-num\">3.2&nbsp;&nbsp;</span>Функция <em>downsample</em></a></span></li><li><span><a href=\"#Дерево-решений-с-балансом\" data-toc-modified-id=\"Дерево-решений-с-балансом-3.3\"><span class=\"toc-item-num\">3.3&nbsp;&nbsp;</span>Дерево решений с балансом</a></span></li><li><span><a href=\"#Логистическая-регрессия-с-балансом\" data-toc-modified-id=\"Логистическая-регрессия-с-балансом-3.4\"><span class=\"toc-item-num\">3.4&nbsp;&nbsp;</span>Логистическая регрессия с балансом</a></span></li><li><span><a href=\"#Случайный-лес-с-балансом\" data-toc-modified-id=\"Случайный-лес-с-балансом-3.5\"><span class=\"toc-item-num\">3.5&nbsp;&nbsp;</span>Случайный лес с балансом</a></span></li><li><span><a href=\"#ROC-кривая\" data-toc-modified-id=\"ROC-кривая-3.6\"><span class=\"toc-item-num\">3.6&nbsp;&nbsp;</span>ROC-кривая</a></span></li></ul></li><li><span><a href=\"#Тестирование-модели\" data-toc-modified-id=\"Тестирование-модели-4\"><span class=\"toc-item-num\">4&nbsp;&nbsp;</span>Тестирование модели</a></span></li><li><span><a href=\"#Вывод\" data-toc-modified-id=\"Вывод-5\"><span class=\"toc-item-num\">5&nbsp;&nbsp;</span>Вывод</a></span></li></ul></div>"
   ]
  },
  {
   "cell_type": "markdown",
   "metadata": {},
   "source": [
    "# Отток клиентов"
   ]
  },
  {
   "cell_type": "markdown",
   "metadata": {},
   "source": [
    "Из «Бета-Банка» стали уходить клиенты. Каждый месяц. Немного, но заметно. Банковские маркетологи посчитали: сохранять текущих клиентов дешевле, чем привлекать новых.\n",
    "\n",
    "Нужно спрогнозировать, уйдёт клиент из банка в ближайшее время или нет. Предоставлены исторические данные о поведении клиентов и расторжении договоров с банком. \n",
    "\n",
    "Источник данных: [https://www.kaggle.com/barelydedicated/bank-customer-churn-modeling](https://www.kaggle.com/barelydedicated/bank-customer-churn-modeling)\n",
    "\n",
    "**Цель исследования**: построить модель с наибольшим значением *F1-меры*, не менее 0.59."
   ]
  },
  {
   "cell_type": "markdown",
   "metadata": {},
   "source": [
    "## Подготовка данных"
   ]
  },
  {
   "cell_type": "code",
   "execution_count": 34,
   "metadata": {},
   "outputs": [],
   "source": [
    "import pandas as pd  \n",
    "import matplotlib.pyplot as plt\n",
    "import seaborn as sns\n",
    "\n",
    "from sklearn.utils import shuffle\n",
    "from sklearn.model_selection import train_test_split\n",
    "from sklearn.metrics import accuracy_score, f1_score, recall_score, precision_score, roc_auc_score, roc_curve\n",
    "\n",
    "from sklearn.linear_model import LogisticRegression\n",
    "from sklearn.ensemble import RandomForestClassifier\n",
    "from sklearn.preprocessing import StandardScaler\n",
    "from sklearn.tree import DecisionTreeClassifier\n",
    "from sklearn.dummy import DummyClassifier\n",
    "\n",
    "import warnings\n",
    "warnings.filterwarnings(\"ignore\")"
   ]
  },
  {
   "cell_type": "markdown",
   "metadata": {},
   "source": [
    "### Общая информация и поиск проблем"
   ]
  },
  {
   "cell_type": "code",
   "execution_count": 35,
   "metadata": {},
   "outputs": [
    {
     "name": "stdout",
     "output_type": "stream",
     "text": [
      "<class 'pandas.core.frame.DataFrame'>\n",
      "RangeIndex: 10000 entries, 0 to 9999\n",
      "Data columns (total 14 columns):\n",
      " #   Column           Non-Null Count  Dtype  \n",
      "---  ------           --------------  -----  \n",
      " 0   RowNumber        10000 non-null  int64  \n",
      " 1   CustomerId       10000 non-null  int64  \n",
      " 2   Surname          10000 non-null  object \n",
      " 3   CreditScore      10000 non-null  int64  \n",
      " 4   Geography        10000 non-null  object \n",
      " 5   Gender           10000 non-null  object \n",
      " 6   Age              10000 non-null  int64  \n",
      " 7   Tenure           9091 non-null   float64\n",
      " 8   Balance          10000 non-null  float64\n",
      " 9   NumOfProducts    10000 non-null  int64  \n",
      " 10  HasCrCard        10000 non-null  int64  \n",
      " 11  IsActiveMember   10000 non-null  int64  \n",
      " 12  EstimatedSalary  10000 non-null  float64\n",
      " 13  Exited           10000 non-null  int64  \n",
      "dtypes: float64(3), int64(8), object(3)\n",
      "memory usage: 1.1+ MB\n"
     ]
    }
   ],
   "source": [
    "df = pd.read_csv('/datasets/Churn.csv')\n",
    "df.info()"
   ]
  },
  {
   "cell_type": "code",
   "execution_count": 36,
   "metadata": {
    "scrolled": true
   },
   "outputs": [
    {
     "data": {
      "text/html": [
       "<div>\n",
       "<style scoped>\n",
       "    .dataframe tbody tr th:only-of-type {\n",
       "        vertical-align: middle;\n",
       "    }\n",
       "\n",
       "    .dataframe tbody tr th {\n",
       "        vertical-align: top;\n",
       "    }\n",
       "\n",
       "    .dataframe thead th {\n",
       "        text-align: right;\n",
       "    }\n",
       "</style>\n",
       "<table border=\"1\" class=\"dataframe\">\n",
       "  <thead>\n",
       "    <tr style=\"text-align: right;\">\n",
       "      <th></th>\n",
       "      <th>RowNumber</th>\n",
       "      <th>CustomerId</th>\n",
       "      <th>Surname</th>\n",
       "      <th>CreditScore</th>\n",
       "      <th>Geography</th>\n",
       "      <th>Gender</th>\n",
       "      <th>Age</th>\n",
       "      <th>Tenure</th>\n",
       "      <th>Balance</th>\n",
       "      <th>NumOfProducts</th>\n",
       "      <th>HasCrCard</th>\n",
       "      <th>IsActiveMember</th>\n",
       "      <th>EstimatedSalary</th>\n",
       "      <th>Exited</th>\n",
       "    </tr>\n",
       "  </thead>\n",
       "  <tbody>\n",
       "    <tr>\n",
       "      <th>0</th>\n",
       "      <td>1</td>\n",
       "      <td>15634602</td>\n",
       "      <td>Hargrave</td>\n",
       "      <td>619</td>\n",
       "      <td>France</td>\n",
       "      <td>Female</td>\n",
       "      <td>42</td>\n",
       "      <td>2.0</td>\n",
       "      <td>0.00</td>\n",
       "      <td>1</td>\n",
       "      <td>1</td>\n",
       "      <td>1</td>\n",
       "      <td>101348.88</td>\n",
       "      <td>1</td>\n",
       "    </tr>\n",
       "    <tr>\n",
       "      <th>1</th>\n",
       "      <td>2</td>\n",
       "      <td>15647311</td>\n",
       "      <td>Hill</td>\n",
       "      <td>608</td>\n",
       "      <td>Spain</td>\n",
       "      <td>Female</td>\n",
       "      <td>41</td>\n",
       "      <td>1.0</td>\n",
       "      <td>83807.86</td>\n",
       "      <td>1</td>\n",
       "      <td>0</td>\n",
       "      <td>1</td>\n",
       "      <td>112542.58</td>\n",
       "      <td>0</td>\n",
       "    </tr>\n",
       "    <tr>\n",
       "      <th>2</th>\n",
       "      <td>3</td>\n",
       "      <td>15619304</td>\n",
       "      <td>Onio</td>\n",
       "      <td>502</td>\n",
       "      <td>France</td>\n",
       "      <td>Female</td>\n",
       "      <td>42</td>\n",
       "      <td>8.0</td>\n",
       "      <td>159660.80</td>\n",
       "      <td>3</td>\n",
       "      <td>1</td>\n",
       "      <td>0</td>\n",
       "      <td>113931.57</td>\n",
       "      <td>1</td>\n",
       "    </tr>\n",
       "    <tr>\n",
       "      <th>3</th>\n",
       "      <td>4</td>\n",
       "      <td>15701354</td>\n",
       "      <td>Boni</td>\n",
       "      <td>699</td>\n",
       "      <td>France</td>\n",
       "      <td>Female</td>\n",
       "      <td>39</td>\n",
       "      <td>1.0</td>\n",
       "      <td>0.00</td>\n",
       "      <td>2</td>\n",
       "      <td>0</td>\n",
       "      <td>0</td>\n",
       "      <td>93826.63</td>\n",
       "      <td>0</td>\n",
       "    </tr>\n",
       "    <tr>\n",
       "      <th>4</th>\n",
       "      <td>5</td>\n",
       "      <td>15737888</td>\n",
       "      <td>Mitchell</td>\n",
       "      <td>850</td>\n",
       "      <td>Spain</td>\n",
       "      <td>Female</td>\n",
       "      <td>43</td>\n",
       "      <td>2.0</td>\n",
       "      <td>125510.82</td>\n",
       "      <td>1</td>\n",
       "      <td>1</td>\n",
       "      <td>1</td>\n",
       "      <td>79084.10</td>\n",
       "      <td>0</td>\n",
       "    </tr>\n",
       "    <tr>\n",
       "      <th>5</th>\n",
       "      <td>6</td>\n",
       "      <td>15574012</td>\n",
       "      <td>Chu</td>\n",
       "      <td>645</td>\n",
       "      <td>Spain</td>\n",
       "      <td>Male</td>\n",
       "      <td>44</td>\n",
       "      <td>8.0</td>\n",
       "      <td>113755.78</td>\n",
       "      <td>2</td>\n",
       "      <td>1</td>\n",
       "      <td>0</td>\n",
       "      <td>149756.71</td>\n",
       "      <td>1</td>\n",
       "    </tr>\n",
       "    <tr>\n",
       "      <th>6</th>\n",
       "      <td>7</td>\n",
       "      <td>15592531</td>\n",
       "      <td>Bartlett</td>\n",
       "      <td>822</td>\n",
       "      <td>France</td>\n",
       "      <td>Male</td>\n",
       "      <td>50</td>\n",
       "      <td>7.0</td>\n",
       "      <td>0.00</td>\n",
       "      <td>2</td>\n",
       "      <td>1</td>\n",
       "      <td>1</td>\n",
       "      <td>10062.80</td>\n",
       "      <td>0</td>\n",
       "    </tr>\n",
       "    <tr>\n",
       "      <th>7</th>\n",
       "      <td>8</td>\n",
       "      <td>15656148</td>\n",
       "      <td>Obinna</td>\n",
       "      <td>376</td>\n",
       "      <td>Germany</td>\n",
       "      <td>Female</td>\n",
       "      <td>29</td>\n",
       "      <td>4.0</td>\n",
       "      <td>115046.74</td>\n",
       "      <td>4</td>\n",
       "      <td>1</td>\n",
       "      <td>0</td>\n",
       "      <td>119346.88</td>\n",
       "      <td>1</td>\n",
       "    </tr>\n",
       "    <tr>\n",
       "      <th>8</th>\n",
       "      <td>9</td>\n",
       "      <td>15792365</td>\n",
       "      <td>He</td>\n",
       "      <td>501</td>\n",
       "      <td>France</td>\n",
       "      <td>Male</td>\n",
       "      <td>44</td>\n",
       "      <td>4.0</td>\n",
       "      <td>142051.07</td>\n",
       "      <td>2</td>\n",
       "      <td>0</td>\n",
       "      <td>1</td>\n",
       "      <td>74940.50</td>\n",
       "      <td>0</td>\n",
       "    </tr>\n",
       "    <tr>\n",
       "      <th>9</th>\n",
       "      <td>10</td>\n",
       "      <td>15592389</td>\n",
       "      <td>H?</td>\n",
       "      <td>684</td>\n",
       "      <td>France</td>\n",
       "      <td>Male</td>\n",
       "      <td>27</td>\n",
       "      <td>2.0</td>\n",
       "      <td>134603.88</td>\n",
       "      <td>1</td>\n",
       "      <td>1</td>\n",
       "      <td>1</td>\n",
       "      <td>71725.73</td>\n",
       "      <td>0</td>\n",
       "    </tr>\n",
       "  </tbody>\n",
       "</table>\n",
       "</div>"
      ],
      "text/plain": [
       "   RowNumber  CustomerId   Surname  CreditScore Geography  Gender  Age  \\\n",
       "0          1    15634602  Hargrave          619    France  Female   42   \n",
       "1          2    15647311      Hill          608     Spain  Female   41   \n",
       "2          3    15619304      Onio          502    France  Female   42   \n",
       "3          4    15701354      Boni          699    France  Female   39   \n",
       "4          5    15737888  Mitchell          850     Spain  Female   43   \n",
       "5          6    15574012       Chu          645     Spain    Male   44   \n",
       "6          7    15592531  Bartlett          822    France    Male   50   \n",
       "7          8    15656148    Obinna          376   Germany  Female   29   \n",
       "8          9    15792365        He          501    France    Male   44   \n",
       "9         10    15592389        H?          684    France    Male   27   \n",
       "\n",
       "   Tenure    Balance  NumOfProducts  HasCrCard  IsActiveMember  \\\n",
       "0     2.0       0.00              1          1               1   \n",
       "1     1.0   83807.86              1          0               1   \n",
       "2     8.0  159660.80              3          1               0   \n",
       "3     1.0       0.00              2          0               0   \n",
       "4     2.0  125510.82              1          1               1   \n",
       "5     8.0  113755.78              2          1               0   \n",
       "6     7.0       0.00              2          1               1   \n",
       "7     4.0  115046.74              4          1               0   \n",
       "8     4.0  142051.07              2          0               1   \n",
       "9     2.0  134603.88              1          1               1   \n",
       "\n",
       "   EstimatedSalary  Exited  \n",
       "0        101348.88       1  \n",
       "1        112542.58       0  \n",
       "2        113931.57       1  \n",
       "3         93826.63       0  \n",
       "4         79084.10       0  \n",
       "5        149756.71       1  \n",
       "6         10062.80       0  \n",
       "7        119346.88       1  \n",
       "8         74940.50       0  \n",
       "9         71725.73       0  "
      ]
     },
     "execution_count": 36,
     "metadata": {},
     "output_type": "execute_result"
    }
   ],
   "source": [
    "df.head(10)"
   ]
  },
  {
   "cell_type": "code",
   "execution_count": 37,
   "metadata": {},
   "outputs": [
    {
     "data": {
      "text/plain": [
       "0"
      ]
     },
     "execution_count": 37,
     "metadata": {},
     "output_type": "execute_result"
    }
   ],
   "source": [
    "df.duplicated().sum()"
   ]
  },
  {
   "cell_type": "code",
   "execution_count": 38,
   "metadata": {},
   "outputs": [
    {
     "data": {
      "text/plain": [
       "RowNumber            0\n",
       "CustomerId           0\n",
       "Surname              0\n",
       "CreditScore          0\n",
       "Geography            0\n",
       "Gender               0\n",
       "Age                  0\n",
       "Tenure             909\n",
       "Balance              0\n",
       "NumOfProducts        0\n",
       "HasCrCard            0\n",
       "IsActiveMember       0\n",
       "EstimatedSalary      0\n",
       "Exited               0\n",
       "dtype: int64"
      ]
     },
     "execution_count": 38,
     "metadata": {},
     "output_type": "execute_result"
    }
   ],
   "source": [
    "df.isna().sum()"
   ]
  },
  {
   "cell_type": "markdown",
   "metadata": {},
   "source": [
    "* Дубликаты отсутствуют.\n",
    "* Пустые значения есть, в том сколько лет человек является клиентом банка. Их можно заполнить нулями и сразу привести к целым значениям. С остальными признаками на первый взгляд все в порядке. \n",
    "* Можно сразу удалить те столбцы, которые никак не будут вляить на результат - индекс строки в данных, уникальный идентификатор клиента, фамилия."
   ]
  },
  {
   "cell_type": "code",
   "execution_count": 39,
   "metadata": {},
   "outputs": [
    {
     "data": {
      "text/plain": [
       "<AxesSubplot:xlabel='Age', ylabel='Count'>"
      ]
     },
     "execution_count": 39,
     "metadata": {},
     "output_type": "execute_result"
    },
    {
     "data": {
      "image/png": "[encoded data removed]",
      "text/plain": [
       "<Figure size 432x288 with 1 Axes>"
      ]
     },
     "metadata": {
      "needs_background": "light"
     },
     "output_type": "display_data"
    }
   ],
   "source": [
    "sns.histplot(df['Age'], bins = 20)"
   ]
  },
  {
   "cell_type": "code",
   "execution_count": 47,
   "metadata": {},
   "outputs": [],
   "source": [
    "post, age = 10000, 12\n",
    "for pred in range(9500, -1, -500):\n",
    "    df['Age'][pred:post] = df['Age'][pred:post].replace(age, float('NaN'))\n",
    "    post = pred\n",
    "    age += 1"
   ]
  },
  {
   "cell_type": "code",
   "execution_count": 52,
   "metadata": {},
   "outputs": [
    {
     "data": {
      "text/plain": [
       "RowNumber             0\n",
       "CustomerId            0\n",
       "Surname               0\n",
       "CreditScore           0\n",
       "Geography             0\n",
       "Gender                0\n",
       "Age                1058\n",
       "Tenure                0\n",
       "Balance               0\n",
       "NumOfProducts         0\n",
       "HasCrCard             0\n",
       "IsActiveMember        0\n",
       "EstimatedSalary       0\n",
       "Exited                0\n",
       "dtype: int64"
      ]
     },
     "execution_count": 52,
     "metadata": {},
     "output_type": "execute_result"
    }
   ],
   "source": [
    "df.isna().sum()"
   ]
  },
  {
   "cell_type": "code",
   "execution_count": 49,
   "metadata": {},
   "outputs": [
    {
     "data": {
      "text/html": [
       "<div>\n",
       "<style scoped>\n",
       "    .dataframe tbody tr th:only-of-type {\n",
       "        vertical-align: middle;\n",
       "    }\n",
       "\n",
       "    .dataframe tbody tr th {\n",
       "        vertical-align: top;\n",
       "    }\n",
       "\n",
       "    .dataframe thead th {\n",
       "        text-align: right;\n",
       "    }\n",
       "</style>\n",
       "<table border=\"1\" class=\"dataframe\">\n",
       "  <thead>\n",
       "    <tr style=\"text-align: right;\">\n",
       "      <th></th>\n",
       "      <th>RowNumber</th>\n",
       "      <th>CustomerId</th>\n",
       "      <th>Surname</th>\n",
       "      <th>CreditScore</th>\n",
       "      <th>Geography</th>\n",
       "      <th>Gender</th>\n",
       "      <th>Age</th>\n",
       "      <th>Tenure</th>\n",
       "      <th>Balance</th>\n",
       "      <th>NumOfProducts</th>\n",
       "      <th>HasCrCard</th>\n",
       "      <th>IsActiveMember</th>\n",
       "      <th>EstimatedSalary</th>\n",
       "      <th>Exited</th>\n",
       "    </tr>\n",
       "  </thead>\n",
       "  <tbody>\n",
       "    <tr>\n",
       "      <th>0</th>\n",
       "      <td>1</td>\n",
       "      <td>15634602</td>\n",
       "      <td>Hargrave</td>\n",
       "      <td>619</td>\n",
       "      <td>France</td>\n",
       "      <td>Female</td>\n",
       "      <td>42.0</td>\n",
       "      <td>2.0</td>\n",
       "      <td>0.00</td>\n",
       "      <td>1</td>\n",
       "      <td>1</td>\n",
       "      <td>1</td>\n",
       "      <td>101348.88</td>\n",
       "      <td>1</td>\n",
       "    </tr>\n",
       "    <tr>\n",
       "      <th>1</th>\n",
       "      <td>2</td>\n",
       "      <td>15647311</td>\n",
       "      <td>Hill</td>\n",
       "      <td>608</td>\n",
       "      <td>Spain</td>\n",
       "      <td>Female</td>\n",
       "      <td>41.0</td>\n",
       "      <td>1.0</td>\n",
       "      <td>83807.86</td>\n",
       "      <td>1</td>\n",
       "      <td>0</td>\n",
       "      <td>1</td>\n",
       "      <td>112542.58</td>\n",
       "      <td>0</td>\n",
       "    </tr>\n",
       "    <tr>\n",
       "      <th>2</th>\n",
       "      <td>3</td>\n",
       "      <td>15619304</td>\n",
       "      <td>Onio</td>\n",
       "      <td>502</td>\n",
       "      <td>France</td>\n",
       "      <td>Female</td>\n",
       "      <td>42.0</td>\n",
       "      <td>8.0</td>\n",
       "      <td>159660.80</td>\n",
       "      <td>3</td>\n",
       "      <td>1</td>\n",
       "      <td>0</td>\n",
       "      <td>113931.57</td>\n",
       "      <td>1</td>\n",
       "    </tr>\n",
       "    <tr>\n",
       "      <th>3</th>\n",
       "      <td>4</td>\n",
       "      <td>15701354</td>\n",
       "      <td>Boni</td>\n",
       "      <td>699</td>\n",
       "      <td>France</td>\n",
       "      <td>Female</td>\n",
       "      <td>39.0</td>\n",
       "      <td>1.0</td>\n",
       "      <td>0.00</td>\n",
       "      <td>2</td>\n",
       "      <td>0</td>\n",
       "      <td>0</td>\n",
       "      <td>93826.63</td>\n",
       "      <td>0</td>\n",
       "    </tr>\n",
       "    <tr>\n",
       "      <th>4</th>\n",
       "      <td>5</td>\n",
       "      <td>15737888</td>\n",
       "      <td>Mitchell</td>\n",
       "      <td>850</td>\n",
       "      <td>Spain</td>\n",
       "      <td>Female</td>\n",
       "      <td>43.0</td>\n",
       "      <td>2.0</td>\n",
       "      <td>125510.82</td>\n",
       "      <td>1</td>\n",
       "      <td>1</td>\n",
       "      <td>1</td>\n",
       "      <td>79084.10</td>\n",
       "      <td>0</td>\n",
       "    </tr>\n",
       "    <tr>\n",
       "      <th>5</th>\n",
       "      <td>6</td>\n",
       "      <td>15574012</td>\n",
       "      <td>Chu</td>\n",
       "      <td>645</td>\n",
       "      <td>Spain</td>\n",
       "      <td>Male</td>\n",
       "      <td>44.0</td>\n",
       "      <td>8.0</td>\n",
       "      <td>113755.78</td>\n",
       "      <td>2</td>\n",
       "      <td>1</td>\n",
       "      <td>0</td>\n",
       "      <td>149756.71</td>\n",
       "      <td>1</td>\n",
       "    </tr>\n",
       "    <tr>\n",
       "      <th>6</th>\n",
       "      <td>7</td>\n",
       "      <td>15592531</td>\n",
       "      <td>Bartlett</td>\n",
       "      <td>822</td>\n",
       "      <td>France</td>\n",
       "      <td>Male</td>\n",
       "      <td>50.0</td>\n",
       "      <td>7.0</td>\n",
       "      <td>0.00</td>\n",
       "      <td>2</td>\n",
       "      <td>1</td>\n",
       "      <td>1</td>\n",
       "      <td>10062.80</td>\n",
       "      <td>0</td>\n",
       "    </tr>\n",
       "    <tr>\n",
       "      <th>7</th>\n",
       "      <td>8</td>\n",
       "      <td>15656148</td>\n",
       "      <td>Obinna</td>\n",
       "      <td>376</td>\n",
       "      <td>Germany</td>\n",
       "      <td>Female</td>\n",
       "      <td>29.0</td>\n",
       "      <td>4.0</td>\n",
       "      <td>115046.74</td>\n",
       "      <td>4</td>\n",
       "      <td>1</td>\n",
       "      <td>0</td>\n",
       "      <td>119346.88</td>\n",
       "      <td>1</td>\n",
       "    </tr>\n",
       "    <tr>\n",
       "      <th>8</th>\n",
       "      <td>9</td>\n",
       "      <td>15792365</td>\n",
       "      <td>He</td>\n",
       "      <td>501</td>\n",
       "      <td>France</td>\n",
       "      <td>Male</td>\n",
       "      <td>44.0</td>\n",
       "      <td>4.0</td>\n",
       "      <td>142051.07</td>\n",
       "      <td>2</td>\n",
       "      <td>0</td>\n",
       "      <td>1</td>\n",
       "      <td>74940.50</td>\n",
       "      <td>0</td>\n",
       "    </tr>\n",
       "    <tr>\n",
       "      <th>9</th>\n",
       "      <td>10</td>\n",
       "      <td>15592389</td>\n",
       "      <td>H?</td>\n",
       "      <td>684</td>\n",
       "      <td>France</td>\n",
       "      <td>Male</td>\n",
       "      <td>NaN</td>\n",
       "      <td>2.0</td>\n",
       "      <td>134603.88</td>\n",
       "      <td>1</td>\n",
       "      <td>1</td>\n",
       "      <td>1</td>\n",
       "      <td>71725.73</td>\n",
       "      <td>0</td>\n",
       "    </tr>\n",
       "  </tbody>\n",
       "</table>\n",
       "</div>"
      ],
      "text/plain": [
       "   RowNumber  CustomerId   Surname  CreditScore Geography  Gender   Age  \\\n",
       "0          1    15634602  Hargrave          619    France  Female  42.0   \n",
       "1          2    15647311      Hill          608     Spain  Female  41.0   \n",
       "2          3    15619304      Onio          502    France  Female  42.0   \n",
       "3          4    15701354      Boni          699    France  Female  39.0   \n",
       "4          5    15737888  Mitchell          850     Spain  Female  43.0   \n",
       "5          6    15574012       Chu          645     Spain    Male  44.0   \n",
       "6          7    15592531  Bartlett          822    France    Male  50.0   \n",
       "7          8    15656148    Obinna          376   Germany  Female  29.0   \n",
       "8          9    15792365        He          501    France    Male  44.0   \n",
       "9         10    15592389        H?          684    France    Male   NaN   \n",
       "\n",
       "   Tenure    Balance  NumOfProducts  HasCrCard  IsActiveMember  \\\n",
       "0     2.0       0.00              1          1               1   \n",
       "1     1.0   83807.86              1          0               1   \n",
       "2     8.0  159660.80              3          1               0   \n",
       "3     1.0       0.00              2          0               0   \n",
       "4     2.0  125510.82              1          1               1   \n",
       "5     8.0  113755.78              2          1               0   \n",
       "6     7.0       0.00              2          1               1   \n",
       "7     4.0  115046.74              4          1               0   \n",
       "8     4.0  142051.07              2          0               1   \n",
       "9     2.0  134603.88              1          1               1   \n",
       "\n",
       "   EstimatedSalary  Exited  \n",
       "0        101348.88       1  \n",
       "1        112542.58       0  \n",
       "2        113931.57       1  \n",
       "3         93826.63       0  \n",
       "4         79084.10       0  \n",
       "5        149756.71       1  \n",
       "6         10062.80       0  \n",
       "7        119346.88       1  \n",
       "8         74940.50       0  \n",
       "9         71725.73       0  "
      ]
     },
     "execution_count": 49,
     "metadata": {},
     "output_type": "execute_result"
    }
   ],
   "source": [
    "df.head(10)"
   ]
  },
  {
   "cell_type": "code",
   "execution_count": 54,
   "metadata": {},
   "outputs": [
    {
     "data": {
      "text/html": [
       "<div>\n",
       "<style scoped>\n",
       "    .dataframe tbody tr th:only-of-type {\n",
       "        vertical-align: middle;\n",
       "    }\n",
       "\n",
       "    .dataframe tbody tr th {\n",
       "        vertical-align: top;\n",
       "    }\n",
       "\n",
       "    .dataframe thead th {\n",
       "        text-align: right;\n",
       "    }\n",
       "</style>\n",
       "<table border=\"1\" class=\"dataframe\">\n",
       "  <thead>\n",
       "    <tr style=\"text-align: right;\">\n",
       "      <th></th>\n",
       "      <th>RowNumber</th>\n",
       "      <th>CustomerId</th>\n",
       "      <th>Surname</th>\n",
       "      <th>CreditScore</th>\n",
       "      <th>Geography</th>\n",
       "      <th>Gender</th>\n",
       "      <th>Age</th>\n",
       "      <th>Tenure</th>\n",
       "      <th>Balance</th>\n",
       "      <th>NumOfProducts</th>\n",
       "      <th>HasCrCard</th>\n",
       "      <th>IsActiveMember</th>\n",
       "      <th>EstimatedSalary</th>\n",
       "      <th>Exited</th>\n",
       "    </tr>\n",
       "  </thead>\n",
       "  <tbody>\n",
       "    <tr>\n",
       "      <th>0</th>\n",
       "      <td>1</td>\n",
       "      <td>15634602</td>\n",
       "      <td>Hargrave</td>\n",
       "      <td>619</td>\n",
       "      <td>France</td>\n",
       "      <td>0</td>\n",
       "      <td>42.0</td>\n",
       "      <td>2</td>\n",
       "      <td>0.00</td>\n",
       "      <td>1</td>\n",
       "      <td>1</td>\n",
       "      <td>1</td>\n",
       "      <td>101348.88</td>\n",
       "      <td>1</td>\n",
       "    </tr>\n",
       "    <tr>\n",
       "      <th>1</th>\n",
       "      <td>2</td>\n",
       "      <td>15647311</td>\n",
       "      <td>Hill</td>\n",
       "      <td>608</td>\n",
       "      <td>Spain</td>\n",
       "      <td>0</td>\n",
       "      <td>41.0</td>\n",
       "      <td>1</td>\n",
       "      <td>83807.86</td>\n",
       "      <td>1</td>\n",
       "      <td>0</td>\n",
       "      <td>1</td>\n",
       "      <td>112542.58</td>\n",
       "      <td>0</td>\n",
       "    </tr>\n",
       "    <tr>\n",
       "      <th>2</th>\n",
       "      <td>3</td>\n",
       "      <td>15619304</td>\n",
       "      <td>Onio</td>\n",
       "      <td>502</td>\n",
       "      <td>France</td>\n",
       "      <td>0</td>\n",
       "      <td>42.0</td>\n",
       "      <td>8</td>\n",
       "      <td>159660.80</td>\n",
       "      <td>3</td>\n",
       "      <td>1</td>\n",
       "      <td>0</td>\n",
       "      <td>113931.57</td>\n",
       "      <td>1</td>\n",
       "    </tr>\n",
       "    <tr>\n",
       "      <th>3</th>\n",
       "      <td>4</td>\n",
       "      <td>15701354</td>\n",
       "      <td>Boni</td>\n",
       "      <td>699</td>\n",
       "      <td>France</td>\n",
       "      <td>0</td>\n",
       "      <td>39.0</td>\n",
       "      <td>1</td>\n",
       "      <td>0.00</td>\n",
       "      <td>2</td>\n",
       "      <td>0</td>\n",
       "      <td>0</td>\n",
       "      <td>93826.63</td>\n",
       "      <td>0</td>\n",
       "    </tr>\n",
       "    <tr>\n",
       "      <th>4</th>\n",
       "      <td>5</td>\n",
       "      <td>15737888</td>\n",
       "      <td>Mitchell</td>\n",
       "      <td>850</td>\n",
       "      <td>Spain</td>\n",
       "      <td>0</td>\n",
       "      <td>43.0</td>\n",
       "      <td>2</td>\n",
       "      <td>125510.82</td>\n",
       "      <td>1</td>\n",
       "      <td>1</td>\n",
       "      <td>1</td>\n",
       "      <td>79084.10</td>\n",
       "      <td>0</td>\n",
       "    </tr>\n",
       "    <tr>\n",
       "      <th>5</th>\n",
       "      <td>6</td>\n",
       "      <td>15574012</td>\n",
       "      <td>Chu</td>\n",
       "      <td>645</td>\n",
       "      <td>Spain</td>\n",
       "      <td>1</td>\n",
       "      <td>44.0</td>\n",
       "      <td>8</td>\n",
       "      <td>113755.78</td>\n",
       "      <td>2</td>\n",
       "      <td>1</td>\n",
       "      <td>0</td>\n",
       "      <td>149756.71</td>\n",
       "      <td>1</td>\n",
       "    </tr>\n",
       "    <tr>\n",
       "      <th>6</th>\n",
       "      <td>7</td>\n",
       "      <td>15592531</td>\n",
       "      <td>Bartlett</td>\n",
       "      <td>822</td>\n",
       "      <td>France</td>\n",
       "      <td>1</td>\n",
       "      <td>50.0</td>\n",
       "      <td>7</td>\n",
       "      <td>0.00</td>\n",
       "      <td>2</td>\n",
       "      <td>1</td>\n",
       "      <td>1</td>\n",
       "      <td>10062.80</td>\n",
       "      <td>0</td>\n",
       "    </tr>\n",
       "    <tr>\n",
       "      <th>7</th>\n",
       "      <td>8</td>\n",
       "      <td>15656148</td>\n",
       "      <td>Obinna</td>\n",
       "      <td>376</td>\n",
       "      <td>Germany</td>\n",
       "      <td>0</td>\n",
       "      <td>29.0</td>\n",
       "      <td>4</td>\n",
       "      <td>115046.74</td>\n",
       "      <td>4</td>\n",
       "      <td>1</td>\n",
       "      <td>0</td>\n",
       "      <td>119346.88</td>\n",
       "      <td>1</td>\n",
       "    </tr>\n",
       "    <tr>\n",
       "      <th>8</th>\n",
       "      <td>9</td>\n",
       "      <td>15792365</td>\n",
       "      <td>He</td>\n",
       "      <td>501</td>\n",
       "      <td>France</td>\n",
       "      <td>1</td>\n",
       "      <td>44.0</td>\n",
       "      <td>4</td>\n",
       "      <td>142051.07</td>\n",
       "      <td>2</td>\n",
       "      <td>0</td>\n",
       "      <td>1</td>\n",
       "      <td>74940.50</td>\n",
       "      <td>0</td>\n",
       "    </tr>\n",
       "    <tr>\n",
       "      <th>9</th>\n",
       "      <td>10</td>\n",
       "      <td>15592389</td>\n",
       "      <td>H?</td>\n",
       "      <td>684</td>\n",
       "      <td>France</td>\n",
       "      <td>1</td>\n",
       "      <td>NaN</td>\n",
       "      <td>2</td>\n",
       "      <td>134603.88</td>\n",
       "      <td>1</td>\n",
       "      <td>1</td>\n",
       "      <td>1</td>\n",
       "      <td>71725.73</td>\n",
       "      <td>0</td>\n",
       "    </tr>\n",
       "  </tbody>\n",
       "</table>\n",
       "</div>"
      ],
      "text/plain": [
       "   RowNumber  CustomerId   Surname  CreditScore Geography  Gender   Age  \\\n",
       "0          1    15634602  Hargrave          619    France       0  42.0   \n",
       "1          2    15647311      Hill          608     Spain       0  41.0   \n",
       "2          3    15619304      Onio          502    France       0  42.0   \n",
       "3          4    15701354      Boni          699    France       0  39.0   \n",
       "4          5    15737888  Mitchell          850     Spain       0  43.0   \n",
       "5          6    15574012       Chu          645     Spain       1  44.0   \n",
       "6          7    15592531  Bartlett          822    France       1  50.0   \n",
       "7          8    15656148    Obinna          376   Germany       0  29.0   \n",
       "8          9    15792365        He          501    France       1  44.0   \n",
       "9         10    15592389        H?          684    France       1   NaN   \n",
       "\n",
       "   Tenure    Balance  NumOfProducts  HasCrCard  IsActiveMember  \\\n",
       "0       2       0.00              1          1               1   \n",
       "1       1   83807.86              1          0               1   \n",
       "2       8  159660.80              3          1               0   \n",
       "3       1       0.00              2          0               0   \n",
       "4       2  125510.82              1          1               1   \n",
       "5       8  113755.78              2          1               0   \n",
       "6       7       0.00              2          1               1   \n",
       "7       4  115046.74              4          1               0   \n",
       "8       4  142051.07              2          0               1   \n",
       "9       2  134603.88              1          1               1   \n",
       "\n",
       "   EstimatedSalary  Exited  \n",
       "0        101348.88       1  \n",
       "1        112542.58       0  \n",
       "2        113931.57       1  \n",
       "3         93826.63       0  \n",
       "4         79084.10       0  \n",
       "5        149756.71       1  \n",
       "6         10062.80       0  \n",
       "7        119346.88       1  \n",
       "8         74940.50       0  \n",
       "9         71725.73       0  "
      ]
     },
     "execution_count": 54,
     "metadata": {},
     "output_type": "execute_result"
    }
   ],
   "source": [
    "df.head(10)"
   ]
  },
  {
   "cell_type": "markdown",
   "metadata": {},
   "source": [
    "### Устранение пропущенных значений и лишних столбцов"
   ]
  },
  {
   "cell_type": "code",
   "execution_count": 55,
   "metadata": {},
   "outputs": [],
   "source": [
    "df=df.drop(['RowNumber','CustomerId','Surname'],axis=1)"
   ]
  },
  {
   "cell_type": "code",
   "execution_count": 50,
   "metadata": {},
   "outputs": [],
   "source": [
    "df['Tenure']=df['Tenure'].fillna(df['Tenure'].median()).astype('int64')"
   ]
  },
  {
   "cell_type": "code",
   "execution_count": 51,
   "metadata": {},
   "outputs": [
    {
     "name": "stdout",
     "output_type": "stream",
     "text": [
      "<class 'pandas.core.frame.DataFrame'>\n",
      "RangeIndex: 10000 entries, 0 to 9999\n",
      "Data columns (total 14 columns):\n",
      " #   Column           Non-Null Count  Dtype  \n",
      "---  ------           --------------  -----  \n",
      " 0   RowNumber        10000 non-null  int64  \n",
      " 1   CustomerId       10000 non-null  int64  \n",
      " 2   Surname          10000 non-null  object \n",
      " 3   CreditScore      10000 non-null  int64  \n",
      " 4   Geography        10000 non-null  object \n",
      " 5   Gender           10000 non-null  object \n",
      " 6   Age              8942 non-null   float64\n",
      " 7   Tenure           10000 non-null  int64  \n",
      " 8   Balance          10000 non-null  float64\n",
      " 9   NumOfProducts    10000 non-null  int64  \n",
      " 10  HasCrCard        10000 non-null  int64  \n",
      " 11  IsActiveMember   10000 non-null  int64  \n",
      " 12  EstimatedSalary  10000 non-null  float64\n",
      " 13  Exited           10000 non-null  int64  \n",
      "dtypes: float64(3), int64(8), object(3)\n",
      "memory usage: 1.1+ MB\n"
     ]
    }
   ],
   "source": [
    "df.info() #проверка "
   ]
  },
  {
   "cell_type": "markdown",
   "metadata": {},
   "source": [
    "## Исследование задачи"
   ]
  },
  {
   "cell_type": "markdown",
   "metadata": {},
   "source": [
    "### Исследуем дисбаланс"
   ]
  },
  {
   "cell_type": "code",
   "execution_count": 44,
   "metadata": {},
   "outputs": [
    {
     "data": {
      "image/png": "[encoded data removed]",
      "text/plain": [
       "<Figure size 432x288 with 1 Axes>"
      ]
     },
     "metadata": {
      "needs_background": "light"
     },
     "output_type": "display_data"
    }
   ],
   "source": [
    "df['Exited'].value_counts().plot(kind='bar',grid=True)\n",
    "\n",
    "plt.xlabel('0 - Ушедшие, 1 - Оставшиеся', size=10)\n",
    "plt.ylabel('Количество клиентов', size=10)\n",
    "plt.title('Сравнение ушедших и оставшихся клиентов', size=13)\n",
    "\n",
    "plt.show()"
   ]
  },
  {
   "cell_type": "markdown",
   "metadata": {},
   "source": [
    "Из графика видно, что присутствует явный дисбаланс. Клиентов ушедших в 4 раза больше, чем оставшихся. Решение проблемы продолжим в пункте 3."
   ]
  },
  {
   "cell_type": "markdown",
   "metadata": {},
   "source": [
    "### OHE"
   ]
  },
  {
   "cell_type": "code",
   "execution_count": 45,
   "metadata": {},
   "outputs": [],
   "source": [
    "df_ohe=pd.get_dummies(df,drop_first=True)\n",
    "\n",
    "df_train, df_test = train_test_split(df_ohe, test_size=0.4, random_state=12345) \n",
    "\n",
    "features_train = df_train.drop(['Exited'], axis=1)\n",
    "target_train = df_train['Exited']\n",
    "\n",
    "features = df_test.drop('Exited', axis=1)\n",
    "target = df_test['Exited']\n",
    "features_valid, features_test, target_valid, target_test = train_test_split(features, target, test_size=0.5, random_state=12345)"
   ]
  },
  {
   "cell_type": "markdown",
   "metadata": {},
   "source": [
    "Первым действием избавляемся от дамми-ловушки.\n",
    "\n",
    "**Получиаем следущие соотношения:**\n",
    "* features_train, target_train - обучающая выборка (60%)\n",
    "* features_valid, target_valid - валидационная выборка (20%)\n",
    "* features_test, target_test - тестовая выборка (20%)"
   ]
  },
  {
   "cell_type": "code",
   "execution_count": 46,
   "metadata": {},
   "outputs": [
    {
     "name": "stdout",
     "output_type": "stream",
     "text": [
      "Размерность признаков - (6000, 11) и целевого признака - (6000,) обучающей выборки\n",
      "Размерность признаков - (2000, 11) и целевого признака - (2000,) валидационной выборки\n",
      "Размерность признаков - (2000, 11) и целевого признака - (2000,) тестовой выборки\n"
     ]
    }
   ],
   "source": [
    "print(f'Размерность признаков - {features_train.shape} и целевого признака - {target_train.shape} обучающей выборки')\n",
    "print(f'Размерность признаков - {features_valid.shape} и целевого признака - {target_valid.shape} валидационной выборки')\n",
    "print(f'Размерность признаков - {features_test.shape} и целевого признака - {target_test.shape} тестовой выборки')"
   ]
  },
  {
   "cell_type": "code",
   "execution_count": 47,
   "metadata": {},
   "outputs": [],
   "source": [
    "numeric=['CreditScore', 'Age', 'Tenure', 'Balance', 'NumOfProducts', 'HasCrCard', 'IsActiveMember']\n",
    "scaler=StandardScaler()\n",
    "scaler.fit(features_train[numeric])\n",
    "\n",
    "features_train[numeric]=scaler.transform(features_train[numeric])\n",
    "features_valid[numeric]=scaler.transform(features_valid[numeric])\n",
    "features_test[numeric]=scaler.transform(features_test[numeric])"
   ]
  },
  {
   "cell_type": "markdown",
   "metadata": {},
   "source": [
    "Отмасштабировали признаки всех выборок."
   ]
  },
  {
   "cell_type": "markdown",
   "metadata": {},
   "source": [
    "* Обнаружен дисбаланс в целевом признаке. Значение положительных ответов в 4 раза меньше, чем отрицательных.\n",
    "* Разделелили данные на тренировочную, валидационную и тестовую выборки в отношении 3:1:1 соответственно.\n",
    "* Избавились от категориальных признаков и возможной дамми-ловушки.\n",
    "* Стандартизировали все выборки."
   ]
  },
  {
   "cell_type": "markdown",
   "metadata": {},
   "source": [
    "### Дерево решений с дисбалансом"
   ]
  },
  {
   "cell_type": "code",
   "execution_count": 48,
   "metadata": {},
   "outputs": [
    {
     "name": "stdout",
     "output_type": "stream",
     "text": [
      "Глубина дерева: 6\n",
      "F1: 0.5696969696969697\n",
      "AUC_ROC: 0.6880062182810205\n"
     ]
    }
   ],
   "source": [
    "best_result, best_depth = 0, 0\n",
    "for depth in range(1, 15):\n",
    "    model = DecisionTreeClassifier(max_depth=depth, random_state=12345)\n",
    "    model.fit(features_train, target_train)\n",
    "    prediction=model.predict(features_valid)\n",
    "    result = f1_score(target_valid, prediction)\n",
    "    if result > best_result:\n",
    "        best_result = result\n",
    "        best_depth = depth\n",
    "print(f'Глубина дерева: {best_depth}')\n",
    "print(f'F1: {best_result}')\n",
    "\n",
    "probabilities_valid = model.predict_proba(features_valid)\n",
    "probabilities_one_valid = probabilities_valid[:, 1]\n",
    "fpr_tree, tpr_tree, thresholds = roc_curve(target_valid, probabilities_one_valid)\n",
    "auc_roc = roc_auc_score(target_valid ,probabilities_one_valid)\n",
    "\n",
    "print(f'AUC_ROC: {auc_roc}')"
   ]
  },
  {
   "cell_type": "markdown",
   "metadata": {},
   "source": [
    "Глубина дерева, при котором достигается максимальная F1 равна 9."
   ]
  },
  {
   "cell_type": "markdown",
   "metadata": {},
   "source": [
    "### Логистическая регрессия с дисбалансом"
   ]
  },
  {
   "cell_type": "code",
   "execution_count": 49,
   "metadata": {},
   "outputs": [
    {
     "name": "stdout",
     "output_type": "stream",
     "text": [
      "F1: 0.0\n",
      "AUC_ROC: 0.5095965980921733\n"
     ]
    }
   ],
   "source": [
    "model = LogisticRegression(solver = 'liblinear')\n",
    "model.fit(features_train, target_train)\n",
    "prediction = model.predict(features_valid)\n",
    "print(f'F1: {f1_score(target_valid, prediction)}')\n",
    "\n",
    "probabilities_valid = model.predict_proba(features_valid)\n",
    "probabilities_one_valid = probabilities_valid[:, 1]\n",
    "fpr_log, tpr_log, thresholds = roc_curve(target_valid, probabilities_one_valid)\n",
    "auc_roc = roc_auc_score(target_valid ,probabilities_one_valid)\n",
    "\n",
    "print(f'AUC_ROC: {auc_roc}')"
   ]
  },
  {
   "cell_type": "markdown",
   "metadata": {},
   "source": [
    "Удивительная ситуация, но F1-мера в логистической регрессии равно 0. Возможно, это связано с большим дисбалансом."
   ]
  },
  {
   "cell_type": "markdown",
   "metadata": {},
   "source": [
    "### Случайный лес с дисбалансом"
   ]
  },
  {
   "cell_type": "code",
   "execution_count": 50,
   "metadata": {},
   "outputs": [
    {
     "name": "stdout",
     "output_type": "stream",
     "text": [
      "Глубина дерева: 14\n",
      "F1: 0.5941176470588235\n",
      "Количество деревьев: 15\n",
      "AUC_ROC: 0.836652169442109\n"
     ]
    }
   ],
   "source": [
    "best_result, best_est, best_depth = 0, 0, 0\n",
    "for est in range(10, 51, 5):\n",
    "    for depth in range (1, 15):\n",
    "        model = RandomForestClassifier(random_state=12345, n_estimators=est, max_depth=depth)\n",
    "        model.fit(features_train, target_train)\n",
    "        prediction = model.predict(features_valid)\n",
    "        result = f1_score(target_valid, prediction)\n",
    "        if result > best_result:\n",
    "            best_result = result\n",
    "            best_est = est\n",
    "            best_depth = depth\n",
    "print(f'Глубина дерева: {best_depth}')\n",
    "print(f'F1: {best_result}')\n",
    "print(f'Количество деревьев: {best_est}')\n",
    "\n",
    "probabilities_valid = model.predict_proba(features_valid)\n",
    "probabilities_one_valid = probabilities_valid[:, 1]\n",
    "fpr_for, tpr_for, thresholds = roc_curve(target_valid, probabilities_one_valid)\n",
    "auc_roc = roc_auc_score(target_valid ,probabilities_one_valid)\n",
    "\n",
    "print(f'AUC_ROC: {auc_roc}')"
   ]
  },
  {
   "cell_type": "markdown",
   "metadata": {},
   "source": [
    "Лучшее значение F1 ~ 0.595 ожидаемо у случайного леса. Эта мера достигатетя при глубине = 12 и количестве деревьев = 15. "
   ]
  },
  {
   "cell_type": "markdown",
   "metadata": {},
   "source": [
    "### ROC-кривая"
   ]
  },
  {
   "cell_type": "code",
   "execution_count": 51,
   "metadata": {},
   "outputs": [
    {
     "data": {
      "image/png": "[encoded data removed]",
      "text/plain": [
       "<Figure size 720x720 with 1 Axes>"
      ]
     },
     "metadata": {
      "needs_background": "light"
     },
     "output_type": "display_data"
    }
   ],
   "source": [
    "plt.figure(figsize=(10,10))\n",
    "\n",
    "plt.xlim([0.0, 1.0])\n",
    "plt.ylim([0.0, 1.0])\n",
    "\n",
    "plt.plot([0, 1], [0, 1], linestyle='--')\n",
    "plt.plot(fpr_tree, tpr_tree)\n",
    "plt.plot(fpr_log, tpr_log)\n",
    "plt.plot(fpr_for, tpr_for)\n",
    "\n",
    "plt.xlabel('False Positive Rate', size=10)\n",
    "plt.ylabel('True Positive Rate', size=10)\n",
    "plt.title('ROC-кривая', size=15)\n",
    "plt.legend(('Случайная модель','Дерево решения','Логистическая регрессия','Случайный лес'))\n",
    "plt.show()"
   ]
  },
  {
   "cell_type": "markdown",
   "metadata": {},
   "source": [
    "## Борьба с дисбалансом"
   ]
  },
  {
   "cell_type": "markdown",
   "metadata": {},
   "source": [
    "### Функция *upsample*"
   ]
  },
  {
   "cell_type": "code",
   "execution_count": 52,
   "metadata": {},
   "outputs": [],
   "source": [
    "def upsample(features, target, repeat):\n",
    "    features_zeros = features[target == 0]\n",
    "    features_ones = features[target == 1]\n",
    "    target_zeros = target[target == 0]\n",
    "    target_ones = target[target == 1]\n",
    "\n",
    "    features_upsampled = pd.concat([features_zeros] + [features_ones] * repeat)\n",
    "    target_upsampled = pd.concat([target_zeros] + [target_ones] * repeat)\n",
    "    \n",
    "    features_upsampled, target_upsampled = shuffle(features_upsampled, target_upsampled, random_state=12345)\n",
    "    \n",
    "    return features_upsampled, target_upsampled\n",
    "\n",
    "features_upsampled, target_upsampled = upsample(features_train, target_train, 4)"
   ]
  },
  {
   "cell_type": "code",
   "execution_count": 53,
   "metadata": {},
   "outputs": [
    {
     "data": {
      "image/png": "[encoded data removed]",
      "text/plain": [
       "<Figure size 432x288 with 1 Axes>"
      ]
     },
     "metadata": {
      "needs_background": "light"
     },
     "output_type": "display_data"
    },
    {
     "data": {
      "text/plain": [
       "(9588,)"
      ]
     },
     "execution_count": 53,
     "metadata": {},
     "output_type": "execute_result"
    }
   ],
   "source": [
    "target_upsampled.value_counts().plot(kind='bar',grid=True)\n",
    "\n",
    "plt.xlabel('0 - Ушедшие, 1 - Оставшиеся', size=10)\n",
    "plt.ylabel('Количество клиентов', size=10)\n",
    "plt.title('Сравнение ушедших и оставшихся клиентов', size=13)\n",
    "\n",
    "plt.show()\n",
    "target_upsampled.shape"
   ]
  },
  {
   "cell_type": "markdown",
   "metadata": {},
   "source": [
    "Функция *upsample* увеличило количество положительных ответов = 4 раза, таким образом установился баланс."
   ]
  },
  {
   "cell_type": "markdown",
   "metadata": {},
   "source": [
    "### Функция *downsample*"
   ]
  },
  {
   "cell_type": "code",
   "execution_count": 54,
   "metadata": {},
   "outputs": [],
   "source": [
    "def downsample(features, target, fraction):\n",
    "    features_zeros = features[target == 0]\n",
    "    features_ones = features[target == 1]\n",
    "    target_zeros = target[target == 0]\n",
    "    target_ones = target[target == 1]\n",
    "\n",
    "    features_downsampled = pd.concat([features_zeros.sample(frac=fraction, random_state=12345)] + [features_ones])\n",
    "    target_downsampled = pd.concat([target_zeros.sample(frac=fraction, random_state=12345)] + [target_ones])\n",
    "    \n",
    "    features_downsampled, target_downsampled = shuffle(features_downsampled, target_downsampled, random_state=12345)\n",
    "    \n",
    "    return features_downsampled, target_downsampled\n",
    "\n",
    "features_downsampled, target_downsampled = downsample(features_train, target_train, 0.25)"
   ]
  },
  {
   "cell_type": "code",
   "execution_count": 55,
   "metadata": {},
   "outputs": [
    {
     "data": {
      "image/png": "[encoded data removed]",
      "text/plain": [
       "<Figure size 432x288 with 1 Axes>"
      ]
     },
     "metadata": {
      "needs_background": "light"
     },
     "output_type": "display_data"
    },
    {
     "data": {
      "text/plain": [
       "(2397,)"
      ]
     },
     "execution_count": 55,
     "metadata": {},
     "output_type": "execute_result"
    }
   ],
   "source": [
    "target_downsampled.value_counts().plot(kind='bar',grid=True)\n",
    "\n",
    "plt.xlabel('0 - Ушедшие, 1 - Оставшиеся', size=10)\n",
    "plt.ylabel('Количество клиентов', size=10)\n",
    "plt.title('Сравнение ушедших и оставшихся клиентов', size=13)\n",
    "\n",
    "plt.show()\n",
    "target_downsampled.shape"
   ]
  },
  {
   "cell_type": "markdown",
   "metadata": {},
   "source": [
    "Функция *downsample* уменьшила количество ответов = 0 в 4 раза, таким образом установился баланс."
   ]
  },
  {
   "cell_type": "markdown",
   "metadata": {},
   "source": [
    "### Дерево решений с балансом"
   ]
  },
  {
   "cell_type": "code",
   "execution_count": 56,
   "metadata": {},
   "outputs": [
    {
     "name": "stdout",
     "output_type": "stream",
     "text": [
      "Глубина дерева: 5\n",
      "F1: 0.5963791267305644\n",
      "AUC_ROC: 0.7002197267101785\n"
     ]
    }
   ],
   "source": [
    "best_result, best_depth = 0, 0\n",
    "for depth in range(1, 15):\n",
    "    model = DecisionTreeClassifier(max_depth=depth, random_state=12345)\n",
    "    model.fit(features_upsampled, target_upsampled)\n",
    "    prediction=model.predict(features_valid)\n",
    "    result = f1_score(target_valid, prediction)\n",
    "    if result > best_result:\n",
    "        best_result = result\n",
    "        best_depth = depth\n",
    "print(f'Глубина дерева: {best_depth}')\n",
    "print(f'F1: {best_result}')\n",
    "\n",
    "probabilities_valid = model.predict_proba(features_valid)\n",
    "probabilities_one_valid = probabilities_valid[:, 1]\n",
    "fpr_tree, tpr_tree, thresholds = roc_curve(target_valid, probabilities_one_valid)\n",
    "auc_roc = roc_auc_score(target_valid ,probabilities_one_valid)\n",
    "\n",
    "print(f'AUC_ROC: {auc_roc}')"
   ]
  },
  {
   "cell_type": "markdown",
   "metadata": {},
   "source": [
    "Значение F1 выросло, теперь оно превышает 0.59."
   ]
  },
  {
   "cell_type": "markdown",
   "metadata": {},
   "source": [
    "### Логистическая регрессия с балансом"
   ]
  },
  {
   "cell_type": "code",
   "execution_count": 57,
   "metadata": {},
   "outputs": [
    {
     "name": "stdout",
     "output_type": "stream",
     "text": [
      "F1: 0.49146757679180886\n",
      "AUC_ROC: 0.7635782940859793\n"
     ]
    }
   ],
   "source": [
    "model = LogisticRegression(solver = 'liblinear')\n",
    "model.fit(features_upsampled, target_upsampled)\n",
    "prediction = model.predict(features_valid)\n",
    "print(f'F1: {f1_score(target_valid, prediction)}')\n",
    "\n",
    "probabilities_valid = model.predict_proba(features_valid)\n",
    "probabilities_one_valid = probabilities_valid[:, 1]\n",
    "fpr_log, tpr_log, thresholds = roc_curve(target_valid, probabilities_one_valid)\n",
    "auc_roc = roc_auc_score(target_valid ,probabilities_one_valid)\n",
    "\n",
    "print(f'AUC_ROC: {auc_roc}')"
   ]
  },
  {
   "cell_type": "markdown",
   "metadata": {},
   "source": [
    "F1 хотя бы не равняется нулю."
   ]
  },
  {
   "cell_type": "markdown",
   "metadata": {},
   "source": [
    "### Случайный лес с балансом"
   ]
  },
  {
   "cell_type": "code",
   "execution_count": 58,
   "metadata": {},
   "outputs": [
    {
     "name": "stdout",
     "output_type": "stream",
     "text": [
      "Глубина дерева: 14\n",
      "F1: 0.6274509803921569\n",
      "Количество деревьев: 20\n",
      "AUC_ROC: 0.843867764745734\n"
     ]
    }
   ],
   "source": [
    "best_result, best_est, best_depth = 0, 0, 0\n",
    "for est in range(10, 51, 5):\n",
    "    for depth in range (1, 15):\n",
    "        model = RandomForestClassifier(random_state=12345, n_estimators=est, max_depth=depth)\n",
    "        model.fit(features_upsampled, target_upsampled)\n",
    "        prediction = model.predict(features_valid)\n",
    "        result = f1_score(target_valid, prediction)\n",
    "        if result > best_result:\n",
    "            best_result = result\n",
    "            best_est = est\n",
    "            best_depth = depth\n",
    "print(f'Глубина дерева: {best_depth}')\n",
    "print(f'F1: {best_result}')\n",
    "print(f'Количество деревьев: {best_est}')\n",
    "\n",
    "probabilities_valid = model.predict_proba(features_valid)\n",
    "probabilities_one_valid = probabilities_valid[:, 1]\n",
    "fpr_for, tpr_for, thresholds = roc_curve(target_valid, probabilities_one_valid)\n",
    "auc_roc = roc_auc_score(target_valid ,probabilities_one_valid)\n",
    "\n",
    "print(f'AUC_ROC: {auc_roc}')"
   ]
  },
  {
   "cell_type": "markdown",
   "metadata": {},
   "source": [
    "F1-мера как всегда лучше у случайного леса. Его и будем использовать при тестировании в последнем пункте с параметрами *max_depth=13* и  *n_estimators = 35*."
   ]
  },
  {
   "cell_type": "markdown",
   "metadata": {},
   "source": [
    "### ROC-кривая"
   ]
  },
  {
   "cell_type": "code",
   "execution_count": 59,
   "metadata": {},
   "outputs": [
    {
     "data": {
      "image/png": "[encoded data removed]",
      "text/plain": [
       "<Figure size 720x720 with 1 Axes>"
      ]
     },
     "metadata": {
      "needs_background": "light"
     },
     "output_type": "display_data"
    }
   ],
   "source": [
    "plt.figure(figsize=(10,10))\n",
    "\n",
    "plt.xlim([0.0, 1.0])\n",
    "plt.ylim([0.0, 1.0])\n",
    "\n",
    "plt.plot([0, 1], [0, 1], linestyle='--')\n",
    "plt.plot(fpr_tree, tpr_tree)\n",
    "plt.plot(fpr_log, tpr_log)\n",
    "plt.plot(fpr_for, tpr_for)\n",
    "\n",
    "plt.xlabel('False Positive Rate', size=10)\n",
    "plt.ylabel('True Positive Rate', size=10)\n",
    "plt.title('ROC-кривая', size=15)\n",
    "plt.legend(('Случайная модель','Дерево решения','Логистическая регрессия','Случайный лес'))\n",
    "plt.show()"
   ]
  },
  {
   "cell_type": "markdown",
   "metadata": {},
   "source": [
    "## Тестирование модели"
   ]
  },
  {
   "cell_type": "code",
   "execution_count": 63,
   "metadata": {},
   "outputs": [
    {
     "name": "stdout",
     "output_type": "stream",
     "text": [
      "F1: 0.5932203389830507\n",
      "Точность: 0.607940446650124\n",
      "Полнота: 0.5791962174940898\n",
      "AUC_ROC: 0.8440383407463373\n"
     ]
    }
   ],
   "source": [
    "model_best = RandomForestClassifier(class_weight = 'balanced', max_depth=13,  n_estimators = 35, random_state=12345)\n",
    "model_best.fit(features_upsampled, target_upsampled)\n",
    "best_prediction = model_best.predict(features_test)\n",
    "print(f'F1: {f1_score(target_test, best_prediction)}')\n",
    "print(f'Точность: {precision_score(target_test, best_prediction)}')\n",
    "print(f'Полнота: {recall_score(target_test, best_prediction)}')\n",
    "\n",
    "probabilities_test = model_best.predict_proba(features_test)\n",
    "probabilities_one_test = probabilities_test[:, 1]\n",
    "fpr_best, tpr_best, thresholds = roc_curve(target_test, probabilities_one_test)\n",
    "auc_roc = roc_auc_score(target_test ,probabilities_one_test)\n",
    "print(f'AUC_ROC: {auc_roc}')"
   ]
  },
  {
   "cell_type": "markdown",
   "metadata": {},
   "source": [
    "Мы взяли случайный лес с параметрами *max_depth=13* и  *n_estimators = 35*, которые получили из предыдущего пункта. F1 > 0.6, что не может не радовать."
   ]
  },
  {
   "cell_type": "code",
   "execution_count": 61,
   "metadata": {},
   "outputs": [
    {
     "name": "stdout",
     "output_type": "stream",
     "text": [
      "F1-мера константой модели: 0.3491539413949649\n",
      "F1-мера лучшей модели: 0.5932203389830507\n"
     ]
    }
   ],
   "source": [
    "dummy_model = DummyClassifier(strategy='constant', constant=1)\n",
    "dummy_model.fit(features_train, target_train)\n",
    "print('F1-мера константой модели:', f1_score(dummy_model.predict(features_test), target_test))\n",
    "print('F1-мера лучшей модели:', f1_score(target_test, best_prediction))"
   ]
  },
  {
   "cell_type": "markdown",
   "metadata": {},
   "source": [
    "Проверка на адекватность прошла успешно. F1-мера лучшей модели явно превышает F1-меру модели с константными значениями."
   ]
  },
  {
   "cell_type": "markdown",
   "metadata": {},
   "source": [
    "## Вывод"
   ]
  },
  {
   "cell_type": "markdown",
   "metadata": {},
   "source": [
    "В ходе исследования был обнаружен дисбаланс класса. В целевом признаке отрицательных ответов было в 4 раза больше, чем положительных. В результате чего была показана низкая F1-мера при первоначальных испытанииях моделей. \n",
    "\n",
    "Затем после устранения дисбаланса с помощью функции upsample, которая увеличила число положительных ответов в тренировочной выборке в 4 раза, были показаны адекватные F1-меры.\n",
    "\n",
    "Таким образом, было проведено исследование на трех моделях:\n",
    "\n",
    "1. Дерево решений;\n",
    "2. Логистическая регрессия;\n",
    "3. Случайный лес.\n",
    "\n",
    "Лучшая F1-мера была показана у случайного леса ~0.6 с гиперпараметрами n_estimators=35, max_depth=13. Модель прошла проверку на адекватность.\n",
    "* F1: 0.6056166056166056\n",
    "* Точность: 0.6262626262626263\n",
    "* Полнота: 0.5862884160756501\n",
    "* AUC_ROC: 0.849258174916913"
   ]
  }
 ],
 "metadata": {
  "ExecuteTimeLog": [
   {
    "duration": 365,
    "start_time": "2023-04-14T00:49:46.543Z"
   },
   {
    "duration": 197,
    "start_time": "2023-04-14T00:49:47.435Z"
   },
   {
    "duration": 52,
    "start_time": "2023-04-14T00:50:11.676Z"
   },
   {
    "duration": 16,
    "start_time": "2023-04-14T00:50:33.008Z"
   },
   {
    "duration": 67,
    "start_time": "2023-04-14T01:03:21.077Z"
   },
   {
    "duration": 12,
    "start_time": "2023-04-14T01:03:32.459Z"
   },
   {
    "duration": 8,
    "start_time": "2023-04-14T01:03:34.897Z"
   },
   {
    "duration": 4,
    "start_time": "2023-04-14T01:03:40.223Z"
   },
   {
    "duration": 4,
    "start_time": "2023-04-14T01:03:43.450Z"
   },
   {
    "duration": 7,
    "start_time": "2023-04-14T01:03:53.080Z"
   },
   {
    "duration": 13,
    "start_time": "2023-04-14T01:04:13.503Z"
   },
   {
    "duration": 379,
    "start_time": "2023-04-14T21:31:32.725Z"
   },
   {
    "duration": 92,
    "start_time": "2023-04-14T21:31:33.796Z"
   },
   {
    "duration": 25,
    "start_time": "2023-04-14T21:31:34.471Z"
   },
   {
    "duration": 14,
    "start_time": "2023-04-14T21:31:35.079Z"
   },
   {
    "duration": 8,
    "start_time": "2023-04-14T21:31:35.655Z"
   },
   {
    "duration": 4,
    "start_time": "2023-04-14T21:31:37.207Z"
   },
   {
    "duration": 4,
    "start_time": "2023-04-14T21:31:37.665Z"
   },
   {
    "duration": 11,
    "start_time": "2023-04-14T21:31:38.183Z"
   },
   {
    "duration": 541,
    "start_time": "2023-04-14T21:31:39.827Z"
   },
   {
    "duration": 3,
    "start_time": "2023-04-14T21:32:55.608Z"
   },
   {
    "duration": 117,
    "start_time": "2023-04-14T21:33:09.374Z"
   },
   {
    "duration": 116,
    "start_time": "2023-04-14T21:35:35.470Z"
   },
   {
    "duration": 119,
    "start_time": "2023-04-14T21:35:39.855Z"
   },
   {
    "duration": 19,
    "start_time": "2023-04-14T21:48:41.728Z"
   },
   {
    "duration": 15,
    "start_time": "2023-04-14T21:48:51.087Z"
   },
   {
    "duration": 755,
    "start_time": "2023-04-14T21:49:43.392Z"
   },
   {
    "duration": 17,
    "start_time": "2023-04-14T21:49:50.894Z"
   },
   {
    "duration": 75,
    "start_time": "2023-04-14T21:53:53.218Z"
   },
   {
    "duration": 4,
    "start_time": "2023-04-14T21:55:17.132Z"
   },
   {
    "duration": 41,
    "start_time": "2023-04-14T21:58:22.084Z"
   },
   {
    "duration": 13,
    "start_time": "2023-04-14T21:59:04.387Z"
   },
   {
    "duration": 29,
    "start_time": "2023-04-14T21:59:16.294Z"
   },
   {
    "duration": 28,
    "start_time": "2023-04-14T22:01:10.075Z"
   },
   {
    "duration": 55,
    "start_time": "2023-04-14T22:02:50.486Z"
   },
   {
    "duration": 35,
    "start_time": "2023-04-14T22:02:56.434Z"
   },
   {
    "duration": 18,
    "start_time": "2023-04-14T22:03:27.068Z"
   },
   {
    "duration": 26,
    "start_time": "2023-04-14T22:04:41.878Z"
   },
   {
    "duration": 7,
    "start_time": "2023-04-14T22:06:00.867Z"
   },
   {
    "duration": 34,
    "start_time": "2023-04-14T22:06:05.492Z"
   },
   {
    "duration": 32,
    "start_time": "2023-04-14T22:09:24.139Z"
   },
   {
    "duration": 28,
    "start_time": "2023-04-14T22:10:44.335Z"
   },
   {
    "duration": 13,
    "start_time": "2023-04-14T22:11:38.119Z"
   },
   {
    "duration": 24,
    "start_time": "2023-04-14T22:11:44.475Z"
   },
   {
    "duration": 19,
    "start_time": "2023-04-14T22:12:29.688Z"
   },
   {
    "duration": 4,
    "start_time": "2023-04-14T22:12:33.772Z"
   },
   {
    "duration": 36,
    "start_time": "2023-04-14T22:12:36.801Z"
   },
   {
    "duration": 15,
    "start_time": "2023-04-14T22:12:41.175Z"
   },
   {
    "duration": 272,
    "start_time": "2023-04-14T22:13:24.671Z"
   },
   {
    "duration": 14,
    "start_time": "2023-04-14T22:15:43.957Z"
   },
   {
    "duration": 23,
    "start_time": "2023-04-14T22:15:55.623Z"
   },
   {
    "duration": 258,
    "start_time": "2023-04-14T22:16:15.810Z"
   },
   {
    "duration": 255,
    "start_time": "2023-04-14T22:19:32.825Z"
   },
   {
    "duration": 51,
    "start_time": "2023-04-14T22:20:05.402Z"
   },
   {
    "duration": 78,
    "start_time": "2023-04-14T22:20:12.871Z"
   },
   {
    "duration": 60,
    "start_time": "2023-04-14T22:20:58.278Z"
   },
   {
    "duration": 92,
    "start_time": "2023-04-14T22:21:18.861Z"
   },
   {
    "duration": 243,
    "start_time": "2023-04-14T22:22:06.451Z"
   },
   {
    "duration": 35,
    "start_time": "2023-04-14T22:22:10.205Z"
   },
   {
    "duration": 5687,
    "start_time": "2023-04-14T22:23:49.211Z"
   },
   {
    "duration": 81,
    "start_time": "2023-04-14T22:24:10.965Z"
   },
   {
    "duration": 53,
    "start_time": "2023-04-14T22:24:20.396Z"
   },
   {
    "duration": 38,
    "start_time": "2023-04-14T22:24:39.301Z"
   },
   {
    "duration": 95,
    "start_time": "2023-04-14T22:24:40.045Z"
   },
   {
    "duration": 71,
    "start_time": "2023-04-14T22:24:40.273Z"
   },
   {
    "duration": 198,
    "start_time": "2023-04-14T22:24:41.143Z"
   },
   {
    "duration": 5648,
    "start_time": "2023-04-14T22:24:52.268Z"
   },
   {
    "duration": 21,
    "start_time": "2023-04-14T22:29:13.327Z"
   },
   {
    "duration": 21,
    "start_time": "2023-04-14T22:29:14.221Z"
   },
   {
    "duration": 56,
    "start_time": "2023-04-14T22:29:14.584Z"
   },
   {
    "duration": 21,
    "start_time": "2023-04-14T22:29:14.989Z"
   },
   {
    "duration": 42,
    "start_time": "2023-04-14T22:29:15.203Z"
   },
   {
    "duration": 197,
    "start_time": "2023-04-14T22:29:15.542Z"
   },
   {
    "duration": 85,
    "start_time": "2023-04-14T22:29:59.853Z"
   },
   {
    "duration": 19,
    "start_time": "2023-04-14T22:30:12.951Z"
   },
   {
    "duration": 18,
    "start_time": "2023-04-14T22:30:13.719Z"
   },
   {
    "duration": 13,
    "start_time": "2023-04-14T22:30:13.941Z"
   },
   {
    "duration": 15,
    "start_time": "2023-04-14T22:30:14.137Z"
   },
   {
    "duration": 15,
    "start_time": "2023-04-14T22:30:15.312Z"
   },
   {
    "duration": 25,
    "start_time": "2023-04-14T22:30:15.521Z"
   },
   {
    "duration": 26,
    "start_time": "2023-04-14T22:30:15.756Z"
   },
   {
    "duration": 13,
    "start_time": "2023-04-14T22:30:16.359Z"
   },
   {
    "duration": 14,
    "start_time": "2023-04-14T22:30:16.724Z"
   },
   {
    "duration": 13,
    "start_time": "2023-04-14T22:31:27.521Z"
   },
   {
    "duration": 13,
    "start_time": "2023-04-14T22:31:32.041Z"
   },
   {
    "duration": 15,
    "start_time": "2023-04-14T22:32:33.708Z"
   },
   {
    "duration": 16,
    "start_time": "2023-04-14T22:32:34.443Z"
   },
   {
    "duration": 247,
    "start_time": "2023-04-14T22:32:37.511Z"
   },
   {
    "duration": 254,
    "start_time": "2023-04-14T22:46:29.468Z"
   },
   {
    "duration": 15,
    "start_time": "2023-04-14T22:46:32.063Z"
   },
   {
    "duration": 5952,
    "start_time": "2023-04-14T22:46:34.550Z"
   },
   {
    "duration": 2,
    "start_time": "2023-04-14T22:46:40.504Z"
   },
   {
    "duration": 115,
    "start_time": "2023-04-14T22:49:07.287Z"
   },
   {
    "duration": 3,
    "start_time": "2023-04-14T22:49:34.296Z"
   },
   {
    "duration": 3288,
    "start_time": "2023-04-14T22:49:37.419Z"
   },
   {
    "duration": 3577,
    "start_time": "2023-04-14T22:50:41.737Z"
   },
   {
    "duration": 3482,
    "start_time": "2023-04-14T22:50:56.704Z"
   },
   {
    "duration": 125,
    "start_time": "2023-04-14T22:51:56.556Z"
   },
   {
    "duration": 3,
    "start_time": "2023-04-14T22:51:59.471Z"
   },
   {
    "duration": 3660,
    "start_time": "2023-04-14T22:52:01.227Z"
   },
   {
    "duration": 3523,
    "start_time": "2023-04-14T22:52:43.198Z"
   },
   {
    "duration": 3,
    "start_time": "2023-04-14T22:53:57.279Z"
   },
   {
    "duration": 3579,
    "start_time": "2023-04-14T22:54:00.412Z"
   },
   {
    "duration": 122,
    "start_time": "2023-04-14T22:57:20.686Z"
   },
   {
    "duration": 3,
    "start_time": "2023-04-14T22:57:26.788Z"
   },
   {
    "duration": 1258,
    "start_time": "2023-04-14T22:57:28.939Z"
   },
   {
    "duration": 239,
    "start_time": "2023-04-14T22:57:56.982Z"
   },
   {
    "duration": 41,
    "start_time": "2023-04-14T22:57:59.597Z"
   },
   {
    "duration": 5583,
    "start_time": "2023-04-14T22:58:02.315Z"
   },
   {
    "duration": 1843,
    "start_time": "2023-04-14T22:58:13.189Z"
   },
   {
    "duration": 219,
    "start_time": "2023-04-14T22:58:25.941Z"
   },
   {
    "duration": 185,
    "start_time": "2023-04-14T22:59:14.633Z"
   },
   {
    "duration": 253,
    "start_time": "2023-04-14T23:03:07.247Z"
   },
   {
    "duration": 78,
    "start_time": "2023-04-14T23:03:10.665Z"
   },
   {
    "duration": 5771,
    "start_time": "2023-04-14T23:03:16.298Z"
   },
   {
    "duration": 169,
    "start_time": "2023-04-14T23:05:06.415Z"
   },
   {
    "duration": 11,
    "start_time": "2023-04-14T23:14:18.988Z"
   },
   {
    "duration": 10,
    "start_time": "2023-04-14T23:14:22.177Z"
   },
   {
    "duration": 96,
    "start_time": "2023-04-14T23:17:36.606Z"
   },
   {
    "duration": 103,
    "start_time": "2023-04-14T23:18:03.625Z"
   },
   {
    "duration": 107,
    "start_time": "2023-04-14T23:20:54.530Z"
   },
   {
    "duration": 10,
    "start_time": "2023-04-14T23:21:05.025Z"
   },
   {
    "duration": 105,
    "start_time": "2023-04-14T23:21:08.564Z"
   },
   {
    "duration": 304,
    "start_time": "2023-04-14T23:40:57.304Z"
   },
   {
    "duration": 88,
    "start_time": "2023-04-14T23:42:33.852Z"
   },
   {
    "duration": 7460,
    "start_time": "2023-04-14T23:42:55.987Z"
   },
   {
    "duration": 183,
    "start_time": "2023-04-14T23:43:16.465Z"
   },
   {
    "duration": 144,
    "start_time": "2023-04-14T23:56:24.701Z"
   },
   {
    "duration": 123,
    "start_time": "2023-04-14T23:56:37.763Z"
   },
   {
    "duration": 243,
    "start_time": "2023-04-14T23:57:15.856Z"
   },
   {
    "duration": 10175,
    "start_time": "2023-04-14T23:57:52.168Z"
   },
   {
    "duration": 14259,
    "start_time": "2023-04-14T23:58:13.299Z"
   },
   {
    "duration": 127,
    "start_time": "2023-04-14T23:58:40.605Z"
   },
   {
    "duration": 71,
    "start_time": "2023-04-14T23:59:04.436Z"
   },
   {
    "duration": 139,
    "start_time": "2023-04-15T00:00:07.482Z"
   },
   {
    "duration": 202,
    "start_time": "2023-04-15T00:00:14.917Z"
   },
   {
    "duration": 297,
    "start_time": "2023-04-15T00:00:21.355Z"
   },
   {
    "duration": 274,
    "start_time": "2023-04-15T00:00:28.057Z"
   },
   {
    "duration": 22159,
    "start_time": "2023-04-15T00:00:41.669Z"
   },
   {
    "duration": 290,
    "start_time": "2023-04-15T00:01:28.009Z"
   },
   {
    "duration": 51,
    "start_time": "2023-04-15T00:07:06.532Z"
   },
   {
    "duration": 337,
    "start_time": "2023-04-15T00:07:22.637Z"
   },
   {
    "duration": 11,
    "start_time": "2023-04-15T00:10:53.174Z"
   },
   {
    "duration": 17,
    "start_time": "2023-04-15T00:11:08.265Z"
   },
   {
    "duration": 6,
    "start_time": "2023-04-15T00:11:46.651Z"
   },
   {
    "duration": 6,
    "start_time": "2023-04-15T00:12:16.968Z"
   },
   {
    "duration": 3,
    "start_time": "2023-04-15T00:13:31.079Z"
   },
   {
    "duration": 50,
    "start_time": "2023-04-15T00:13:32.561Z"
   },
   {
    "duration": 13,
    "start_time": "2023-04-15T00:13:33.263Z"
   },
   {
    "duration": 10,
    "start_time": "2023-04-15T00:13:33.830Z"
   },
   {
    "duration": 7,
    "start_time": "2023-04-15T00:13:34.460Z"
   },
   {
    "duration": 4,
    "start_time": "2023-04-15T00:13:35.960Z"
   },
   {
    "duration": 5,
    "start_time": "2023-04-15T00:13:36.351Z"
   },
   {
    "duration": 13,
    "start_time": "2023-04-15T00:13:36.831Z"
   },
   {
    "duration": 115,
    "start_time": "2023-04-15T00:13:38.203Z"
   },
   {
    "duration": 20,
    "start_time": "2023-04-15T00:13:40.169Z"
   },
   {
    "duration": 3,
    "start_time": "2023-04-15T00:13:41.189Z"
   },
   {
    "duration": 26,
    "start_time": "2023-04-15T00:13:41.877Z"
   },
   {
    "duration": 252,
    "start_time": "2023-04-15T00:13:43.394Z"
   },
   {
    "duration": 33,
    "start_time": "2023-04-15T00:13:47.624Z"
   },
   {
    "duration": 16789,
    "start_time": "2023-04-15T00:13:48.935Z"
   },
   {
    "duration": 190,
    "start_time": "2023-04-15T00:14:05.726Z"
   },
   {
    "duration": 31,
    "start_time": "2023-04-15T00:14:05.918Z"
   },
   {
    "duration": 109,
    "start_time": "2023-04-15T00:14:05.951Z"
   },
   {
    "duration": 9,
    "start_time": "2023-04-15T00:14:06.061Z"
   },
   {
    "duration": 111,
    "start_time": "2023-04-15T00:14:06.072Z"
   },
   {
    "duration": 353,
    "start_time": "2023-04-15T00:14:08.333Z"
   },
   {
    "duration": 62,
    "start_time": "2023-04-15T00:14:09.688Z"
   },
   {
    "duration": 23599,
    "start_time": "2023-04-15T00:14:11.149Z"
   },
   {
    "duration": 184,
    "start_time": "2023-04-15T00:14:34.754Z"
   },
   {
    "duration": 316,
    "start_time": "2023-04-15T00:14:34.942Z"
   },
   {
    "duration": 5,
    "start_time": "2023-04-15T00:14:35.260Z"
   },
   {
    "duration": 304,
    "start_time": "2023-04-15T00:24:17.252Z"
   },
   {
    "duration": 2185,
    "start_time": "2023-04-15T09:54:10.772Z"
   },
   {
    "duration": 84,
    "start_time": "2023-04-15T09:54:12.959Z"
   },
   {
    "duration": 17,
    "start_time": "2023-04-15T09:54:13.045Z"
   },
   {
    "duration": 11,
    "start_time": "2023-04-15T09:54:13.063Z"
   },
   {
    "duration": 7,
    "start_time": "2023-04-15T09:54:13.076Z"
   },
   {
    "duration": 5,
    "start_time": "2023-04-15T09:54:13.084Z"
   },
   {
    "duration": 7,
    "start_time": "2023-04-15T09:54:13.091Z"
   },
   {
    "duration": 15,
    "start_time": "2023-04-15T09:54:13.100Z"
   },
   {
    "duration": 189,
    "start_time": "2023-04-15T09:54:13.117Z"
   },
   {
    "duration": 19,
    "start_time": "2023-04-15T09:54:13.308Z"
   },
   {
    "duration": 3,
    "start_time": "2023-04-15T09:54:13.329Z"
   },
   {
    "duration": 30,
    "start_time": "2023-04-15T09:54:13.333Z"
   },
   {
    "duration": 329,
    "start_time": "2023-04-15T09:54:13.365Z"
   },
   {
    "duration": 89,
    "start_time": "2023-04-15T09:54:13.698Z"
   },
   {
    "duration": 20258,
    "start_time": "2023-04-15T09:54:13.789Z"
   },
   {
    "duration": 252,
    "start_time": "2023-04-15T09:54:34.049Z"
   },
   {
    "duration": 16,
    "start_time": "2023-04-15T09:54:34.303Z"
   },
   {
    "duration": 144,
    "start_time": "2023-04-15T09:54:34.320Z"
   },
   {
    "duration": 21,
    "start_time": "2023-04-15T09:54:34.466Z"
   },
   {
    "duration": 147,
    "start_time": "2023-04-15T09:54:34.489Z"
   },
   {
    "duration": 367,
    "start_time": "2023-04-15T09:54:34.637Z"
   },
   {
    "duration": 88,
    "start_time": "2023-04-15T09:54:35.006Z"
   },
   {
    "duration": 27021,
    "start_time": "2023-04-15T09:54:35.103Z"
   },
   {
    "duration": 235,
    "start_time": "2023-04-15T09:55:02.126Z"
   },
   {
    "duration": 413,
    "start_time": "2023-04-15T09:55:02.362Z"
   },
   {
    "duration": 15,
    "start_time": "2023-04-15T09:55:02.777Z"
   },
   {
    "duration": 16,
    "start_time": "2023-04-15T10:34:42.137Z"
   },
   {
    "duration": 412,
    "start_time": "2023-04-15T10:35:07.676Z"
   },
   {
    "duration": 1448,
    "start_time": "2023-04-15T11:00:46.414Z"
   },
   {
    "duration": 82,
    "start_time": "2023-04-15T11:00:48.238Z"
   },
   {
    "duration": 18,
    "start_time": "2023-04-15T11:00:49.029Z"
   },
   {
    "duration": 11,
    "start_time": "2023-04-15T11:00:50.645Z"
   },
   {
    "duration": 7,
    "start_time": "2023-04-15T11:00:51.706Z"
   },
   {
    "duration": 5,
    "start_time": "2023-04-15T11:00:53.523Z"
   },
   {
    "duration": 6,
    "start_time": "2023-04-15T11:00:54.614Z"
   },
   {
    "duration": 21,
    "start_time": "2023-04-15T11:01:15.320Z"
   },
   {
    "duration": 4,
    "start_time": "2023-04-15T11:01:51.010Z"
   },
   {
    "duration": 45,
    "start_time": "2023-04-15T11:01:51.914Z"
   },
   {
    "duration": 15,
    "start_time": "2023-04-15T11:01:52.359Z"
   },
   {
    "duration": 10,
    "start_time": "2023-04-15T11:01:53.323Z"
   },
   {
    "duration": 6,
    "start_time": "2023-04-15T11:01:53.808Z"
   },
   {
    "duration": 4,
    "start_time": "2023-04-15T11:01:58.426Z"
   },
   {
    "duration": 108,
    "start_time": "2023-04-15T11:02:58.030Z"
   },
   {
    "duration": 12,
    "start_time": "2023-04-15T11:03:34.680Z"
   },
   {
    "duration": 12,
    "start_time": "2023-04-15T11:03:41.116Z"
   },
   {
    "duration": 3,
    "start_time": "2023-04-15T11:03:49.044Z"
   },
   {
    "duration": 45,
    "start_time": "2023-04-15T11:03:49.989Z"
   },
   {
    "duration": 14,
    "start_time": "2023-04-15T11:03:50.709Z"
   },
   {
    "duration": 12,
    "start_time": "2023-04-15T11:03:51.843Z"
   },
   {
    "duration": 7,
    "start_time": "2023-04-15T11:03:52.390Z"
   },
   {
    "duration": 4,
    "start_time": "2023-04-15T11:03:55.676Z"
   },
   {
    "duration": 15,
    "start_time": "2023-04-15T11:04:08.369Z"
   },
   {
    "duration": 11,
    "start_time": "2023-04-15T11:04:23.494Z"
   },
   {
    "duration": 9,
    "start_time": "2023-04-15T11:05:07.842Z"
   },
   {
    "duration": 14,
    "start_time": "2023-04-15T11:05:13.586Z"
   },
   {
    "duration": 7,
    "start_time": "2023-04-15T11:05:30.767Z"
   },
   {
    "duration": 5,
    "start_time": "2023-04-15T11:05:47.915Z"
   },
   {
    "duration": 17,
    "start_time": "2023-04-15T11:05:56.073Z"
   },
   {
    "duration": 10,
    "start_time": "2023-04-15T11:06:05.417Z"
   },
   {
    "duration": 14,
    "start_time": "2023-04-15T11:06:09.531Z"
   },
   {
    "duration": 139,
    "start_time": "2023-04-15T11:06:15.497Z"
   },
   {
    "duration": 17,
    "start_time": "2023-04-15T11:06:21.245Z"
   },
   {
    "duration": 51,
    "start_time": "2023-04-15T11:33:25.062Z"
   },
   {
    "duration": 4,
    "start_time": "2023-04-15T11:35:03.771Z"
   },
   {
    "duration": 43,
    "start_time": "2023-04-15T11:35:04.998Z"
   },
   {
    "duration": 14,
    "start_time": "2023-04-15T11:35:05.543Z"
   },
   {
    "duration": 12,
    "start_time": "2023-04-15T11:35:06.492Z"
   },
   {
    "duration": 9,
    "start_time": "2023-04-15T11:35:06.899Z"
   },
   {
    "duration": 5,
    "start_time": "2023-04-15T11:35:08.387Z"
   },
   {
    "duration": 5,
    "start_time": "2023-04-15T11:35:17.198Z"
   },
   {
    "duration": 12,
    "start_time": "2023-04-15T11:35:21.979Z"
   },
   {
    "duration": 123,
    "start_time": "2023-04-15T11:35:24.492Z"
   },
   {
    "duration": 16,
    "start_time": "2023-04-15T11:35:26.431Z"
   },
   {
    "duration": 4,
    "start_time": "2023-04-15T11:35:31.579Z"
   },
   {
    "duration": 31,
    "start_time": "2023-04-15T11:35:32.516Z"
   },
   {
    "duration": 292,
    "start_time": "2023-04-15T11:35:35.573Z"
   },
   {
    "duration": 22,
    "start_time": "2023-04-15T11:35:39.522Z"
   },
   {
    "duration": 17458,
    "start_time": "2023-04-15T11:35:41.436Z"
   },
   {
    "duration": 196,
    "start_time": "2023-04-15T11:35:58.896Z"
   },
   {
    "duration": 11,
    "start_time": "2023-04-15T11:35:59.094Z"
   },
   {
    "duration": 194,
    "start_time": "2023-04-15T11:35:59.106Z"
   },
   {
    "duration": 8,
    "start_time": "2023-04-15T11:35:59.302Z"
   },
   {
    "duration": 134,
    "start_time": "2023-04-15T11:35:59.312Z"
   },
   {
    "duration": 341,
    "start_time": "2023-04-15T11:35:59.448Z"
   },
   {
    "duration": 109,
    "start_time": "2023-04-15T11:35:59.790Z"
   },
   {
    "duration": 23860,
    "start_time": "2023-04-15T11:35:59.900Z"
   },
   {
    "duration": 205,
    "start_time": "2023-04-15T11:36:23.763Z"
   },
   {
    "duration": 354,
    "start_time": "2023-04-15T11:36:23.970Z"
   },
   {
    "duration": 8,
    "start_time": "2023-04-15T11:36:24.326Z"
   },
   {
    "duration": 193,
    "start_time": "2023-04-15T11:37:47.063Z"
   },
   {
    "duration": 333,
    "start_time": "2023-04-15T11:38:03.978Z"
   },
   {
    "duration": 1512,
    "start_time": "2023-06-19T05:26:07.784Z"
   },
   {
    "duration": 92,
    "start_time": "2023-06-19T05:26:09.298Z"
   },
   {
    "duration": 23,
    "start_time": "2023-06-19T05:26:10.604Z"
   },
   {
    "duration": 17,
    "start_time": "2023-06-19T05:26:12.061Z"
   },
   {
    "duration": 8,
    "start_time": "2023-06-19T05:26:12.781Z"
   },
   {
    "duration": 56,
    "start_time": "2023-06-19T05:27:44.732Z"
   },
   {
    "duration": 177,
    "start_time": "2023-06-19T05:28:13.781Z"
   },
   {
    "duration": 140,
    "start_time": "2023-06-19T05:28:44.373Z"
   },
   {
    "duration": 4,
    "start_time": "2023-06-19T05:40:41.003Z"
   },
   {
    "duration": 46,
    "start_time": "2023-06-19T05:40:41.783Z"
   },
   {
    "duration": 14,
    "start_time": "2023-06-19T05:40:42.001Z"
   },
   {
    "duration": 12,
    "start_time": "2023-06-19T05:40:42.969Z"
   },
   {
    "duration": 7,
    "start_time": "2023-06-19T05:40:43.253Z"
   },
   {
    "duration": 146,
    "start_time": "2023-06-19T05:40:44.079Z"
   },
   {
    "duration": 1673,
    "start_time": "2023-06-19T05:50:40.139Z"
   },
   {
    "duration": 1373,
    "start_time": "2023-06-19T05:51:27.318Z"
   },
   {
    "duration": 11,
    "start_time": "2023-06-19T05:51:42.707Z"
   },
   {
    "duration": 7,
    "start_time": "2023-06-19T05:51:54.534Z"
   },
   {
    "duration": 14,
    "start_time": "2023-06-19T05:52:26.963Z"
   },
   {
    "duration": 11,
    "start_time": "2023-06-19T05:52:29.179Z"
   },
   {
    "duration": 13,
    "start_time": "2023-06-19T05:52:44.732Z"
   },
   {
    "duration": 13,
    "start_time": "2023-06-19T05:53:07.551Z"
   },
   {
    "duration": 6,
    "start_time": "2023-06-19T05:55:23.427Z"
   },
   {
    "duration": 6,
    "start_time": "2023-06-19T05:55:26.019Z"
   },
   {
    "duration": 75,
    "start_time": "2023-06-19T05:55:31.102Z"
   },
   {
    "duration": 1861,
    "start_time": "2023-06-19T05:56:00.154Z"
   },
   {
    "duration": 12,
    "start_time": "2023-06-19T05:56:13.068Z"
   },
   {
    "duration": 17,
    "start_time": "2023-06-19T05:57:54.761Z"
   },
   {
    "duration": 14,
    "start_time": "2023-06-19T05:57:57.047Z"
   },
   {
    "duration": 5,
    "start_time": "2023-06-19T06:03:31.847Z"
   },
   {
    "duration": 7,
    "start_time": "2023-06-19T06:03:34.370Z"
   },
   {
    "duration": 20,
    "start_time": "2023-06-19T06:08:21.471Z"
   },
   {
    "duration": 6,
    "start_time": "2023-06-19T06:08:24.564Z"
   },
   {
    "duration": 4,
    "start_time": "2023-06-19T06:09:00.098Z"
   },
   {
    "duration": 46,
    "start_time": "2023-06-19T06:09:00.900Z"
   },
   {
    "duration": 13,
    "start_time": "2023-06-19T06:09:01.384Z"
   },
   {
    "duration": 14,
    "start_time": "2023-06-19T06:09:02.505Z"
   },
   {
    "duration": 6,
    "start_time": "2023-06-19T06:09:03.098Z"
   },
   {
    "duration": 144,
    "start_time": "2023-06-19T06:09:05.742Z"
   },
   {
    "duration": 21,
    "start_time": "2023-06-19T06:09:08.224Z"
   },
   {
    "duration": 9,
    "start_time": "2023-06-19T06:09:09.656Z"
   },
   {
    "duration": 595,
    "start_time": "2023-06-19T06:09:46.603Z"
   },
   {
    "duration": 22,
    "start_time": "2023-06-19T06:12:15.966Z"
   },
   {
    "duration": 7,
    "start_time": "2023-06-19T06:12:18.799Z"
   },
   {
    "duration": 20,
    "start_time": "2023-06-19T06:12:54.904Z"
   },
   {
    "duration": 7,
    "start_time": "2023-06-19T06:12:56.829Z"
   },
   {
    "duration": 19,
    "start_time": "2023-06-19T06:13:04.056Z"
   },
   {
    "duration": 8,
    "start_time": "2023-06-19T06:13:06.302Z"
   },
   {
    "duration": 15,
    "start_time": "2023-06-19T06:13:33.661Z"
   },
   {
    "duration": 6,
    "start_time": "2023-06-19T06:13:56.109Z"
   },
   {
    "duration": 13,
    "start_time": "2023-06-19T06:14:00.306Z"
   },
   {
    "duration": 9,
    "start_time": "2023-06-19T06:14:19.259Z"
   },
   {
    "duration": 6,
    "start_time": "2023-06-19T07:38:51.839Z"
   },
   {
    "duration": 12,
    "start_time": "2023-06-19T07:39:01.632Z"
   },
   {
    "duration": 5,
    "start_time": "2023-06-19T07:39:33.143Z"
   }
  ],
  "kernelspec": {
   "display_name": "Python 3 (ipykernel)",
   "language": "python",
   "name": "python3"
  },
  "language_info": {
   "codemirror_mode": {
    "name": "ipython",
    "version": 3
   },
   "file_extension": ".py",
   "mimetype": "text/x-python",
   "name": "python",
   "nbconvert_exporter": "python",
   "pygments_lexer": "ipython3",
   "version": "3.9.15"
  },
  "toc": {
   "base_numbering": 1,
   "nav_menu": {},
   "number_sections": true,
   "sideBar": true,
   "skip_h1_title": true,
   "title_cell": "Содержание",
   "title_sidebar": "Contents",
   "toc_cell": true,
   "toc_position": {
    "height": "calc(100% - 180px)",
    "left": "10px",
    "top": "150px",
    "width": "277.4px"
   },
   "toc_section_display": true,
   "toc_window_display": false
  }
 },
 "nbformat": 4,
 "nbformat_minor": 2
}
