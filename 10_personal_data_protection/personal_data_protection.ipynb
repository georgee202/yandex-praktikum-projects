{
 "cells": [
  {
   "cell_type": "markdown",
   "metadata": {
    "toc": true
   },
   "source": [
    "<h1>Содержание<span class=\"tocSkip\"></span></h1>\n",
    "<div class=\"toc\"><ul class=\"toc-item\"><li><span><a href=\"#Загрузка-данных\" data-toc-modified-id=\"Загрузка-данных-1\"><span class=\"toc-item-num\">1&nbsp;&nbsp;</span>Загрузка данных</a></span><ul class=\"toc-item\"><li><span><a href=\"#Открытие-файлов-и-общая-информация\" data-toc-modified-id=\"Открытие-файлов-и-общая-информация-1.1\"><span class=\"toc-item-num\">1.1&nbsp;&nbsp;</span>Открытие файлов и общая информация</a></span></li><li><span><a href=\"#Предобработка-данных\" data-toc-modified-id=\"Предобработка-данных-1.2\"><span class=\"toc-item-num\">1.2&nbsp;&nbsp;</span>Предобработка данных</a></span></li></ul></li><li><span><a href=\"#Умножение-матриц\" data-toc-modified-id=\"Умножение-матриц-2\"><span class=\"toc-item-num\">2&nbsp;&nbsp;</span>Умножение матриц</a></span></li><li><span><a href=\"#Алгоритм-преобразования\" data-toc-modified-id=\"Алгоритм-преобразования-3\"><span class=\"toc-item-num\">3&nbsp;&nbsp;</span>Алгоритм преобразования</a></span></li><li><span><a href=\"#Проверка-алгоритма\" data-toc-modified-id=\"Проверка-алгоритма-4\"><span class=\"toc-item-num\">4&nbsp;&nbsp;</span>Проверка алгоритма</a></span></li><li><span><a href=\"#Вывод\" data-toc-modified-id=\"Вывод-5\"><span class=\"toc-item-num\">5&nbsp;&nbsp;</span>Вывод</a></span></li></ul></div>"
   ]
  },
  {
   "cell_type": "markdown",
   "metadata": {},
   "source": [
    "# Защита персональных данных клиентов"
   ]
  },
  {
   "cell_type": "markdown",
   "metadata": {},
   "source": [
    "Нужно защитить данные клиентов страховой компании «Хоть потоп». Разработать такой метод преобразования данных, чтобы по ним было сложно восстановить персональную информацию.\n",
    "\n",
    "**Цель:** защитить данные, чтобы при преобразовании качество моделей машинного обучения не ухудшилось."
   ]
  },
  {
   "cell_type": "markdown",
   "metadata": {},
   "source": [
    "## Загрузка данных"
   ]
  },
  {
   "cell_type": "code",
   "execution_count": 1,
   "metadata": {},
   "outputs": [],
   "source": [
    "import pandas as pd\n",
    "import numpy as np\n",
    "import seaborn as sns\n",
    "\n",
    "from sklearn.model_selection import train_test_split\n",
    "from sklearn.linear_model import LinearRegression\n",
    "from sklearn.metrics import r2_score"
   ]
  },
  {
   "cell_type": "markdown",
   "metadata": {},
   "source": [
    "### Открытие файлов и общая информация"
   ]
  },
  {
   "cell_type": "code",
   "execution_count": 2,
   "metadata": {},
   "outputs": [
    {
     "name": "stdout",
     "output_type": "stream",
     "text": [
      "<class 'pandas.core.frame.DataFrame'>\n",
      "RangeIndex: 5000 entries, 0 to 4999\n",
      "Data columns (total 5 columns):\n",
      " #   Column             Non-Null Count  Dtype  \n",
      "---  ------             --------------  -----  \n",
      " 0   Пол                5000 non-null   int64  \n",
      " 1   Возраст            5000 non-null   float64\n",
      " 2   Зарплата           5000 non-null   float64\n",
      " 3   Члены семьи        5000 non-null   int64  \n",
      " 4   Страховые выплаты  5000 non-null   int64  \n",
      "dtypes: float64(2), int64(3)\n",
      "memory usage: 195.4 KB\n"
     ]
    }
   ],
   "source": [
    "data = pd.read_csv('/datasets/insurance.csv')\n",
    "data.info()"
   ]
  },
  {
   "cell_type": "code",
   "execution_count": 3,
   "metadata": {},
   "outputs": [
    {
     "data": {
      "text/html": [
       "<div>\n",
       "<style scoped>\n",
       "    .dataframe tbody tr th:only-of-type {\n",
       "        vertical-align: middle;\n",
       "    }\n",
       "\n",
       "    .dataframe tbody tr th {\n",
       "        vertical-align: top;\n",
       "    }\n",
       "\n",
       "    .dataframe thead th {\n",
       "        text-align: right;\n",
       "    }\n",
       "</style>\n",
       "<table border=\"1\" class=\"dataframe\">\n",
       "  <thead>\n",
       "    <tr style=\"text-align: right;\">\n",
       "      <th></th>\n",
       "      <th>Пол</th>\n",
       "      <th>Возраст</th>\n",
       "      <th>Зарплата</th>\n",
       "      <th>Члены семьи</th>\n",
       "      <th>Страховые выплаты</th>\n",
       "    </tr>\n",
       "  </thead>\n",
       "  <tbody>\n",
       "    <tr>\n",
       "      <th>0</th>\n",
       "      <td>1</td>\n",
       "      <td>41.0</td>\n",
       "      <td>49600.0</td>\n",
       "      <td>1</td>\n",
       "      <td>0</td>\n",
       "    </tr>\n",
       "    <tr>\n",
       "      <th>1</th>\n",
       "      <td>0</td>\n",
       "      <td>46.0</td>\n",
       "      <td>38000.0</td>\n",
       "      <td>1</td>\n",
       "      <td>1</td>\n",
       "    </tr>\n",
       "    <tr>\n",
       "      <th>2</th>\n",
       "      <td>0</td>\n",
       "      <td>29.0</td>\n",
       "      <td>21000.0</td>\n",
       "      <td>0</td>\n",
       "      <td>0</td>\n",
       "    </tr>\n",
       "    <tr>\n",
       "      <th>3</th>\n",
       "      <td>0</td>\n",
       "      <td>21.0</td>\n",
       "      <td>41700.0</td>\n",
       "      <td>2</td>\n",
       "      <td>0</td>\n",
       "    </tr>\n",
       "    <tr>\n",
       "      <th>4</th>\n",
       "      <td>1</td>\n",
       "      <td>28.0</td>\n",
       "      <td>26100.0</td>\n",
       "      <td>0</td>\n",
       "      <td>0</td>\n",
       "    </tr>\n",
       "    <tr>\n",
       "      <th>5</th>\n",
       "      <td>1</td>\n",
       "      <td>43.0</td>\n",
       "      <td>41000.0</td>\n",
       "      <td>2</td>\n",
       "      <td>1</td>\n",
       "    </tr>\n",
       "    <tr>\n",
       "      <th>6</th>\n",
       "      <td>1</td>\n",
       "      <td>39.0</td>\n",
       "      <td>39700.0</td>\n",
       "      <td>2</td>\n",
       "      <td>0</td>\n",
       "    </tr>\n",
       "    <tr>\n",
       "      <th>7</th>\n",
       "      <td>1</td>\n",
       "      <td>25.0</td>\n",
       "      <td>38600.0</td>\n",
       "      <td>4</td>\n",
       "      <td>0</td>\n",
       "    </tr>\n",
       "    <tr>\n",
       "      <th>8</th>\n",
       "      <td>1</td>\n",
       "      <td>36.0</td>\n",
       "      <td>49700.0</td>\n",
       "      <td>1</td>\n",
       "      <td>0</td>\n",
       "    </tr>\n",
       "    <tr>\n",
       "      <th>9</th>\n",
       "      <td>1</td>\n",
       "      <td>32.0</td>\n",
       "      <td>51700.0</td>\n",
       "      <td>1</td>\n",
       "      <td>0</td>\n",
       "    </tr>\n",
       "  </tbody>\n",
       "</table>\n",
       "</div>"
      ],
      "text/plain": [
       "   Пол  Возраст  Зарплата  Члены семьи  Страховые выплаты\n",
       "0    1     41.0   49600.0            1                  0\n",
       "1    0     46.0   38000.0            1                  1\n",
       "2    0     29.0   21000.0            0                  0\n",
       "3    0     21.0   41700.0            2                  0\n",
       "4    1     28.0   26100.0            0                  0\n",
       "5    1     43.0   41000.0            2                  1\n",
       "6    1     39.0   39700.0            2                  0\n",
       "7    1     25.0   38600.0            4                  0\n",
       "8    1     36.0   49700.0            1                  0\n",
       "9    1     32.0   51700.0            1                  0"
      ]
     },
     "execution_count": 3,
     "metadata": {},
     "output_type": "execute_result"
    }
   ],
   "source": [
    "data.head(10)"
   ]
  },
  {
   "cell_type": "code",
   "execution_count": 4,
   "metadata": {},
   "outputs": [
    {
     "name": "stdout",
     "output_type": "stream",
     "text": [
      "Дубликаты: 153\n"
     ]
    }
   ],
   "source": [
    "print(f'Дубликаты: {data.duplicated().sum()}')"
   ]
  },
  {
   "cell_type": "code",
   "execution_count": 5,
   "metadata": {},
   "outputs": [
    {
     "data": {
      "text/plain": [
       "<AxesSubplot:xlabel='Возраст', ylabel='Count'>"
      ]
     },
     "execution_count": 5,
     "metadata": {},
     "output_type": "execute_result"
    },
    {
     "data": {
      "image/png": "[encoded data removed]",
      "text/plain": [
       "<Figure size 432x288 with 1 Axes>"
      ]
     },
     "metadata": {
      "needs_background": "light"
     },
     "output_type": "display_data"
    }
   ],
   "source": [
    "sns.histplot(data['Возраст'], bins = 20)"
   ]
  },
  {
   "cell_type": "code",
   "execution_count": 5,
   "metadata": {},
   "outputs": [
    {
     "data": {
      "text/plain": [
       "Пол                  0\n",
       "Возраст              0\n",
       "Зарплата             0\n",
       "Члены семьи          0\n",
       "Страховые выплаты    0\n",
       "dtype: int64"
      ]
     },
     "execution_count": 5,
     "metadata": {},
     "output_type": "execute_result"
    }
   ],
   "source": [
    "data.isna().sum()"
   ]
  },
  {
   "cell_type": "code",
   "execution_count": 6,
   "metadata": {},
   "outputs": [
    {
     "data": {
      "text/plain": [
       "<AxesSubplot:>"
      ]
     },
     "execution_count": 6,
     "metadata": {},
     "output_type": "execute_result"
    },
    {
     "data": {
      "image/png": "[encoded data removed]",
      "text/plain": [
       "<Figure size 432x288 with 2 Axes>"
      ]
     },
     "metadata": {
      "needs_background": "light"
     },
     "output_type": "display_data"
    }
   ],
   "source": [
    "sns.heatmap(data.corr())"
   ]
  },
  {
   "cell_type": "code",
   "execution_count": 7,
   "metadata": {},
   "outputs": [
    {
     "name": "stdout",
     "output_type": "stream",
     "text": [
      "Корреляция между возрастом и страховыми выплатами: 0.6510300979467256\n"
     ]
    }
   ],
   "source": [
    "print(f'Корреляция между возрастом и страховыми выплатами: {data[\"Возраст\"].corr(data[\"Страховые выплаты\"])}')"
   ]
  },
  {
   "cell_type": "markdown",
   "metadata": {},
   "source": [
    "### Предобработка данных"
   ]
  },
  {
   "cell_type": "code",
   "execution_count": 8,
   "metadata": {},
   "outputs": [],
   "source": [
    "data['Возраст'] = data['Возраст'].astype(int)\n",
    "data['Зарплата'] = data['Зарплата'].astype(int)"
   ]
  },
  {
   "cell_type": "code",
   "execution_count": 9,
   "metadata": {},
   "outputs": [
    {
     "name": "stdout",
     "output_type": "stream",
     "text": [
      "<class 'pandas.core.frame.DataFrame'>\n",
      "RangeIndex: 5000 entries, 0 to 4999\n",
      "Data columns (total 5 columns):\n",
      " #   Column             Non-Null Count  Dtype\n",
      "---  ------             --------------  -----\n",
      " 0   Пол                5000 non-null   int64\n",
      " 1   Возраст            5000 non-null   int64\n",
      " 2   Зарплата           5000 non-null   int64\n",
      " 3   Члены семьи        5000 non-null   int64\n",
      " 4   Страховые выплаты  5000 non-null   int64\n",
      "dtypes: int64(5)\n",
      "memory usage: 195.4 KB\n"
     ]
    }
   ],
   "source": [
    "data.info()"
   ]
  },
  {
   "cell_type": "code",
   "execution_count": 10,
   "metadata": {},
   "outputs": [
    {
     "name": "stdout",
     "output_type": "stream",
     "text": [
      "Размер тренировочной выборки: 75%\n",
      "Размер тестовой выборки: 25%\n"
     ]
    }
   ],
   "source": [
    "target = data['Страховые выплаты']\n",
    "features = data.drop(['Страховые выплаты'], axis=1)\n",
    "\n",
    "train_features, test_features, train_target, test_target = train_test_split(features,target, test_size=0.25, random_state=12345)\n",
    "\n",
    "print(f'Размер тренировочной выборки: {train_features.shape[0]/features.shape[0]:.0%}')\n",
    "print(f'Размер тестовой выборки: {test_features.shape[0]/features.shape[0]:.0%}')"
   ]
  },
  {
   "cell_type": "markdown",
   "metadata": {},
   "source": [
    "**Вывод:**\n",
    "* Тип данных колонок \"Возраст\" и \"Зарплата\" изменен на целочисленный, так как все года измеряются в целых числах, а заработная плата будет иметь несущественное изменение (если есть нецелая часть)\n",
    "* Обнаружены дубликаты (153 строки), такой размер является допустимым, так как в данном случае возможны совпадения.\n",
    "* Отсутствуют пропущенные значения.\n",
    "* Наблюдается корреляция между возрастом и страховыми выплатами: *0.65*.\n",
    "* Данные разделены на тестовую и тренировочную выборки."
   ]
  },
  {
   "cell_type": "markdown",
   "metadata": {},
   "source": [
    "## Умножение матриц"
   ]
  },
  {
   "cell_type": "markdown",
   "metadata": {},
   "source": [
    "В этом задании вы можете записывать формулы в *Jupyter Notebook.*\n",
    "\n",
    "Чтобы записать формулу внутри текста, окружите её символами доллара \\\\$; если снаружи —  двойными символами \\\\$\\\\$. Эти формулы записываются на языке вёрстки *LaTeX.* \n",
    "\n",
    "Для примера мы записали формулы линейной регрессии. Можете их скопировать и отредактировать, чтобы решить задачу.\n",
    "\n",
    "Работать в *LaTeX* необязательно."
   ]
  },
  {
   "cell_type": "markdown",
   "metadata": {},
   "source": [
    "Обозначения:\n",
    "\n",
    "- $X$ — матрица признаков (нулевой столбец состоит из единиц)\n",
    "\n",
    "- $y$ — вектор целевого признака\n",
    "\n",
    "- $P$ — матрица, на которую умножаются признаки\n",
    "\n",
    "- $w$ — вектор весов линейной регрессии (нулевой элемент равен сдвигу)"
   ]
  },
  {
   "cell_type": "markdown",
   "metadata": {},
   "source": [
    "Предсказания:\n",
    "\n",
    "$$\n",
    "a = Xw\n",
    "$$\n",
    "\n",
    "Задача обучения:\n",
    "\n",
    "$$\n",
    "w = \\arg\\min_w MSE(Xw, y)\n",
    "$$\n",
    "\n",
    "Формула обучения:\n",
    "\n",
    "$$\n",
    "w = (X^T X)^{-1} X^T y\n",
    "$$\n",
    "\n",
    "Свойства обратной (только для квадратных!) и транспонированной матриц:\n",
    "\n",
    "$$\n",
    "(AB)^{-1} = B^{-1} A^{-1}\n",
    "$$\n",
    "\n",
    "$$\n",
    "(ABС)^{-1} = ((AB)С)^{-1} = С^{-1}(AB)^{-1} = С^{-1}B^{-1}A^{-1}\n",
    "$$   \n",
    "\n",
    "$$\n",
    "(AB)^{T} = B^{T} A^{T}\n",
    "$$"
   ]
  },
  {
   "cell_type": "markdown",
   "metadata": {},
   "source": [
    "**Ответ:** не изменится.\n",
    "\n",
    "**Обоснование:** \n",
    "1. Умножим признаки на обратимую матрицу, получим новую матрицу $Х_1$:\n",
    "\n",
    "$$\n",
    "Х_1 = XP\n",
    "$$\n",
    "\n",
    "2. Запишем новые формулы обучения и предсказания:\n",
    "\n",
    "$$\n",
    "w_1 = ((XP)^{T} XP)^{-1}(XP)^{T}y\n",
    "$$\n",
    "\n",
    "$$\n",
    "a_1 = XPw_1\n",
    "$$\n",
    "\n",
    "3. Подставим получившиеся $w_1$ в новую формулу предсказания, преобразуем выражение с помощью свойств матриц:\n",
    "\n",
    "$$\n",
    "a_1 = XP((XP)^{T} XP)^{-1}(XP)^{T}y = XP(P^{T}X^{T}XP)^{-1}P^{T}X^{T}y\n",
    "$$\n",
    "\n",
    "4. Так как в выражении $(P^{T}(X^{T}X)P)^{-1}$: $P^{T}$, $X^{T}X$(при умножении получается матрица 4х4) и $P$ - квадратные матрицы, можно преобразовать с помощью формулы обратной матрицы: \n",
    "\n",
    "$$\n",
    "a_1 = XP(P^{T}(X^{T}X)P)^{-1}P^{T}X^{T}y = XPP^{-1}(X^{T}X)^{-1}(P^{T})^{-1}P^{T}X^{T}y\n",
    "$$\n",
    "\n",
    "5. Представим $PP^{-1}$ и $(P^{T})^{-1}P^{T}$ в виде единичных матриц $E$:\n",
    "\n",
    "$$\n",
    "a_1 = XE(X^{T}X)^{-1}EX^{T}y = X(X^T X)^{-1} X^T y = Xw = a\n",
    "$$\n",
    "\n",
    "6. Посмотрим как связаны $w$ и $w_1$:\n",
    "\n",
    "$$\n",
    "w_1 = ((XP)^{T} XP)^{-1}(XP)^{T}y = P^{-1}(X^{T}X)^{-1}(P^{T})^{-1}P^{T}X^{T}y = P^{-1}(X^{T}X)^{-1}EX^{T}y = P^{-1}w\n",
    "$$"
   ]
  },
  {
   "cell_type": "markdown",
   "metadata": {},
   "source": [
    "**Вывод:** значение $a$ не изменилось при умножении признаков на обратимую матрицу. Следовательно, качество линейной регрессии не изменится. Параметры линейной регрессии в исходной задаче и в преобразованной следующим образом: $w_1 = P^{-1}w$."
   ]
  },
  {
   "cell_type": "markdown",
   "metadata": {},
   "source": [
    "## Алгоритм преобразования"
   ]
  },
  {
   "cell_type": "markdown",
   "metadata": {},
   "source": [
    "**Алгоритм**\n",
    "\n",
    "1. Составляем в функции *get_matrices* обратимую матрицу $P$ (квадратная, размер которой равен количеству признаков, кроме целевого). Используем для генерации *np.random*\n",
    "2. Если функция не находит обратную матрицу, то она продолжает рекурсивно работать до тех пор, пока не найдет ее\n",
    "3. Получаем новую матрицу признаков $X_1$ домножением изначальных признаков $X$ на $P$\n",
    "4. Проверяем на модели линенйной регрессии до и после преобразования"
   ]
  },
  {
   "cell_type": "markdown",
   "metadata": {},
   "source": [
    "**Обоснование**\n",
    "\n",
    "В пункте 2 мы доказали, что качество модели не изменится, если домножить признаки на обратимую матрицу. Следовательно, когда мы умножим признаки на обратимую матрицу, новые данные будут зашифрованы, а качество модели не ухудшится."
   ]
  },
  {
   "cell_type": "markdown",
   "metadata": {},
   "source": [
    "## Проверка алгоритма"
   ]
  },
  {
   "cell_type": "code",
   "execution_count": 11,
   "metadata": {},
   "outputs": [],
   "source": [
    "def get_matrices(sh):\n",
    "    transform_matrix = np.random.rand(sh, sh)\n",
    "    try: \n",
    "        inv = np.linalg.inv(transform_matrix)\n",
    "        return transform_matrix, inv\n",
    "    except:\n",
    "        get_matrices(sh) "
   ]
  },
  {
   "cell_type": "code",
   "execution_count": 12,
   "metadata": {},
   "outputs": [
    {
     "data": {
      "text/plain": [
       "array([[0.39172955, 0.3746482 , 0.12119902, 0.52275513],\n",
       "       [0.37704926, 0.04039252, 0.98396304, 0.78691934],\n",
       "       [0.32781271, 0.18467016, 0.49294416, 0.68864663],\n",
       "       [0.68085394, 0.72205361, 0.95873766, 0.76564393]])"
      ]
     },
     "execution_count": 12,
     "metadata": {},
     "output_type": "execute_result"
    }
   ],
   "source": [
    "P, P_inv = get_matrices(train_features.shape[1])\n",
    "P"
   ]
  },
  {
   "cell_type": "code",
   "execution_count": 13,
   "metadata": {},
   "outputs": [
    {
     "name": "stdout",
     "output_type": "stream",
     "text": [
      "Обратная матрица:\n",
      "[[ 1.19363067e+01  9.42699834e+00 -1.72725593e+01 -2.30311115e+00]\n",
      " [-5.48488792e+00 -5.76051388e+00  7.94244075e+00  2.52177016e+00]\n",
      " [-2.29443965e+00 -1.44460534e-02  6.06047436e-01  1.03631130e+00]\n",
      " [-2.56873006e+00 -2.93238025e+00  7.11059191e+00 -3.21718246e-01]]\n",
      "Единичная матрица:\n",
      "[[ 1. -0.  0.  0.]\n",
      " [ 0.  1. -0. -0.]\n",
      " [-0. -0.  1. -0.]\n",
      " [-0.  0. -0.  1.]]\n"
     ]
    }
   ],
   "source": [
    "print('Обратная матрица:')\n",
    "print(P_inv)\n",
    "print('Единичная матрица:')\n",
    "print(np.round(P @ P_inv))"
   ]
  },
  {
   "cell_type": "code",
   "execution_count": 14,
   "metadata": {},
   "outputs": [],
   "source": [
    "train_features_encoded = train_features @ P\n",
    "test_features_encoded = test_features @ P"
   ]
  },
  {
   "cell_type": "code",
   "execution_count": 15,
   "metadata": {},
   "outputs": [
    {
     "name": "stdout",
     "output_type": "stream",
     "text": [
      "Метрика R2 до преобразования: 0.4352275684083322\n",
      "Метрика R2 после преобразования: 0.435227568408854\n"
     ]
    }
   ],
   "source": [
    "model = LinearRegression()\n",
    "model.fit(train_features, train_target)\n",
    "r2 = r2_score(test_target, model.predict(test_features))\n",
    "\n",
    "model.fit(train_features_encoded, train_target)\n",
    "r2_encoded = r2_score(test_target, model.predict(test_features_encoded))\n",
    "\n",
    "print(f'Метрика R2 до преобразования: {r2}')\n",
    "print(f'Метрика R2 после преобразования: {r2_encoded}')"
   ]
  },
  {
   "cell_type": "markdown",
   "metadata": {},
   "source": [
    "## Вывод"
   ]
  },
  {
   "cell_type": "markdown",
   "metadata": {},
   "source": [
    "* Тип данных колонок \"Возраст\" и \"Зарплата\" изменен на целочисленный.\n",
    "* Обнаружены дубликаты (153 строки), такой размер является допустимым.\n",
    "* Отсутствуют пропущенные значения.\n",
    "* Наблюдается корреляция между возрастом и страховыми выплатами: *0.65*.\n",
    "* Обосновано то, что качество модели не изменится при умножении матрицы признков на обратимую матрицу. \n",
    "* Реализован и проверен алгоритим защиты данных.\n",
    "* Качество модели не изменилось (R2 метрика осталась на том же уровне):\n",
    "1. Метрика R2 до преобразования: *0.4352275684083322*\n",
    "2. Метрика R2 после преобразования: *0.435227568408854*"
   ]
  }
 ],
 "metadata": {
  "ExecuteTimeLog": [
   {
    "duration": 1318,
    "start_time": "2023-06-16T13:27:55.847Z"
   },
   {
    "duration": 1120,
    "start_time": "2023-06-17T08:22:27.928Z"
   },
   {
    "duration": 101,
    "start_time": "2023-06-17T08:22:29.453Z"
   },
   {
    "duration": 16,
    "start_time": "2023-06-17T08:22:55.321Z"
   },
   {
    "duration": 10,
    "start_time": "2023-06-17T08:23:00.795Z"
   },
   {
    "duration": 3,
    "start_time": "2023-06-17T08:27:59.643Z"
   },
   {
    "duration": 36,
    "start_time": "2023-06-17T08:28:00.432Z"
   },
   {
    "duration": 10,
    "start_time": "2023-06-17T08:28:01.512Z"
   },
   {
    "duration": 8,
    "start_time": "2023-06-17T08:28:09.447Z"
   },
   {
    "duration": 13,
    "start_time": "2023-06-17T08:28:55.204Z"
   },
   {
    "duration": 133,
    "start_time": "2023-06-17T08:34:40.826Z"
   },
   {
    "duration": 621,
    "start_time": "2023-06-17T08:35:01.955Z"
   },
   {
    "duration": 408,
    "start_time": "2023-06-17T08:35:17.239Z"
   },
   {
    "duration": 139,
    "start_time": "2023-06-17T08:37:22.993Z"
   },
   {
    "duration": 5,
    "start_time": "2023-06-17T08:37:54.998Z"
   },
   {
    "duration": 7,
    "start_time": "2023-06-17T08:43:51.101Z"
   },
   {
    "duration": 12,
    "start_time": "2023-06-17T08:44:11.532Z"
   },
   {
    "duration": 8,
    "start_time": "2023-06-17T08:44:28.987Z"
   },
   {
    "duration": 19,
    "start_time": "2023-06-17T08:44:31.872Z"
   },
   {
    "duration": 8,
    "start_time": "2023-06-17T08:59:19.527Z"
   },
   {
    "duration": 3,
    "start_time": "2023-06-17T12:23:39.887Z"
   },
   {
    "duration": 4,
    "start_time": "2023-06-17T12:23:44.954Z"
   },
   {
    "duration": 5,
    "start_time": "2023-06-17T12:25:43.412Z"
   },
   {
    "duration": 6,
    "start_time": "2023-06-17T12:26:49.796Z"
   },
   {
    "duration": 4,
    "start_time": "2023-06-17T12:28:57.195Z"
   },
   {
    "duration": 26,
    "start_time": "2023-06-17T12:39:43.886Z"
   },
   {
    "duration": 4,
    "start_time": "2023-06-17T12:41:59.190Z"
   },
   {
    "duration": 1722,
    "start_time": "2023-06-17T12:54:19.605Z"
   },
   {
    "duration": 39,
    "start_time": "2023-06-17T12:54:21.329Z"
   },
   {
    "duration": 24,
    "start_time": "2023-06-17T12:54:21.370Z"
   },
   {
    "duration": 11,
    "start_time": "2023-06-17T12:54:21.396Z"
   },
   {
    "duration": 7,
    "start_time": "2023-06-17T12:54:21.409Z"
   },
   {
    "duration": 344,
    "start_time": "2023-06-17T12:54:21.417Z"
   },
   {
    "duration": 4,
    "start_time": "2023-06-17T12:54:21.763Z"
   },
   {
    "duration": 19,
    "start_time": "2023-06-17T12:54:21.775Z"
   },
   {
    "duration": 20,
    "start_time": "2023-06-17T12:54:21.798Z"
   },
   {
    "duration": 11,
    "start_time": "2023-06-17T12:54:21.821Z"
   },
   {
    "duration": 9,
    "start_time": "2023-06-17T12:54:21.834Z"
   },
   {
    "duration": 38,
    "start_time": "2023-06-17T12:54:21.845Z"
   },
   {
    "duration": 88,
    "start_time": "2023-06-17T12:54:21.888Z"
   },
   {
    "duration": 41,
    "start_time": "2023-06-17T12:54:21.979Z"
   },
   {
    "duration": 3241,
    "start_time": "2023-06-17T19:26:56.699Z"
   },
   {
    "duration": 133,
    "start_time": "2023-06-17T19:26:59.943Z"
   },
   {
    "duration": 16,
    "start_time": "2023-06-17T19:27:00.077Z"
   },
   {
    "duration": 33,
    "start_time": "2023-06-17T19:27:00.095Z"
   },
   {
    "duration": 21,
    "start_time": "2023-06-17T19:27:00.130Z"
   },
   {
    "duration": 402,
    "start_time": "2023-06-17T19:27:00.153Z"
   },
   {
    "duration": 4,
    "start_time": "2023-06-17T19:27:00.557Z"
   },
   {
    "duration": 23,
    "start_time": "2023-06-17T19:27:00.563Z"
   },
   {
    "duration": 28,
    "start_time": "2023-06-17T19:27:00.588Z"
   },
   {
    "duration": 56,
    "start_time": "2023-06-17T19:27:00.618Z"
   },
   {
    "duration": 43,
    "start_time": "2023-06-17T19:27:00.675Z"
   },
   {
    "duration": 29,
    "start_time": "2023-06-17T19:27:00.720Z"
   },
   {
    "duration": 100,
    "start_time": "2023-06-17T19:27:00.752Z"
   },
   {
    "duration": 103,
    "start_time": "2023-06-17T19:27:00.855Z"
   },
   {
    "duration": 1672,
    "start_time": "2023-06-18T08:23:30.178Z"
   },
   {
    "duration": 99,
    "start_time": "2023-06-18T08:23:31.852Z"
   },
   {
    "duration": 12,
    "start_time": "2023-06-18T08:23:31.953Z"
   },
   {
    "duration": 21,
    "start_time": "2023-06-18T08:23:31.967Z"
   },
   {
    "duration": 23,
    "start_time": "2023-06-18T08:23:31.989Z"
   },
   {
    "duration": 396,
    "start_time": "2023-06-18T08:23:32.116Z"
   },
   {
    "duration": 5,
    "start_time": "2023-06-18T08:23:33.167Z"
   },
   {
    "duration": 4,
    "start_time": "2023-06-18T08:23:34.705Z"
   },
   {
    "duration": 10,
    "start_time": "2023-06-18T08:23:35.184Z"
   },
   {
    "duration": 8,
    "start_time": "2023-06-18T08:23:35.635Z"
   },
   {
    "duration": 3,
    "start_time": "2023-06-18T08:23:43.022Z"
   },
   {
    "duration": 9,
    "start_time": "2023-06-18T08:23:45.853Z"
   },
   {
    "duration": 6,
    "start_time": "2023-06-18T08:24:24.860Z"
   },
   {
    "duration": 5,
    "start_time": "2023-06-18T08:24:29.566Z"
   },
   {
    "duration": 89,
    "start_time": "2023-06-18T08:54:56.046Z"
   },
   {
    "duration": 1596,
    "start_time": "2023-06-18T08:55:38.041Z"
   },
   {
    "duration": 39,
    "start_time": "2023-06-18T08:55:39.640Z"
   },
   {
    "duration": 14,
    "start_time": "2023-06-18T08:55:39.681Z"
   },
   {
    "duration": 7,
    "start_time": "2023-06-18T08:55:39.697Z"
   },
   {
    "duration": 12,
    "start_time": "2023-06-18T08:55:39.707Z"
   },
   {
    "duration": 350,
    "start_time": "2023-06-18T08:55:39.721Z"
   },
   {
    "duration": 6,
    "start_time": "2023-06-18T08:55:40.073Z"
   },
   {
    "duration": 21,
    "start_time": "2023-06-18T08:55:40.081Z"
   },
   {
    "duration": 16,
    "start_time": "2023-06-18T08:55:40.105Z"
   },
   {
    "duration": 28,
    "start_time": "2023-06-18T08:55:40.123Z"
   },
   {
    "duration": 4,
    "start_time": "2023-06-18T08:55:40.153Z"
   },
   {
    "duration": 22,
    "start_time": "2023-06-18T08:55:40.160Z"
   },
   {
    "duration": 68,
    "start_time": "2023-06-18T08:55:40.184Z"
   },
   {
    "duration": 13,
    "start_time": "2023-06-18T08:55:40.256Z"
   },
   {
    "duration": 93,
    "start_time": "2023-06-18T08:55:40.270Z"
   },
   {
    "duration": 1387,
    "start_time": "2023-06-19T05:32:33.442Z"
   },
   {
    "duration": 82,
    "start_time": "2023-06-19T05:32:35.672Z"
   },
   {
    "duration": 12,
    "start_time": "2023-06-19T05:32:36.224Z"
   },
   {
    "duration": 106,
    "start_time": "2023-06-19T05:33:47.383Z"
   },
   {
    "duration": 140,
    "start_time": "2023-06-19T05:33:56.662Z"
   }
  ],
  "kernelspec": {
   "display_name": "Python 3 (ipykernel)",
   "language": "python",
   "name": "python3"
  },
  "language_info": {
   "codemirror_mode": {
    "name": "ipython",
    "version": 3
   },
   "file_extension": ".py",
   "mimetype": "text/x-python",
   "name": "python",
   "nbconvert_exporter": "python",
   "pygments_lexer": "ipython3",
   "version": "3.9.15"
  },
  "toc": {
   "base_numbering": 1,
   "nav_menu": {},
   "number_sections": true,
   "sideBar": true,
   "skip_h1_title": true,
   "title_cell": "Содержание",
   "title_sidebar": "Contents",
   "toc_cell": true,
   "toc_position": {},
   "toc_section_display": true,
   "toc_window_display": false
  }
 },
 "nbformat": 4,
 "nbformat_minor": 2
}
