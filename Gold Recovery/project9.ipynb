{
 "cells": [
  {
   "cell_type": "markdown",
   "metadata": {
    "toc": true
   },
   "source": [
    "<h1>Содержание<span class=\"tocSkip\"></span></h1>\n",
    "<div class=\"toc\"><ul class=\"toc-item\"><li><span><a href=\"#Подготовка-данных\" data-toc-modified-id=\"Подготовка-данных-1\"><span class=\"toc-item-num\">1&nbsp;&nbsp;</span>Подготовка данных</a></span><ul class=\"toc-item\"><li><span><a href=\"#Открытие-файлов-и-общая-информация\" data-toc-modified-id=\"Открытие-файлов-и-общая-информация-1.1\"><span class=\"toc-item-num\">1.1&nbsp;&nbsp;</span>Открытие файлов и общая информация</a></span><ul class=\"toc-item\"><li><span><a href=\"#Информация-о-df_train\" data-toc-modified-id=\"Информация-о-df_train-1.1.1\"><span class=\"toc-item-num\">1.1.1&nbsp;&nbsp;</span>Информация о df_train</a></span></li><li><span><a href=\"#Информация-о-df_test\" data-toc-modified-id=\"Информация-о-df_test-1.1.2\"><span class=\"toc-item-num\">1.1.2&nbsp;&nbsp;</span>Информация о df_test</a></span></li><li><span><a href=\"#Информация-о-df_full\" data-toc-modified-id=\"Информация-о-df_full-1.1.3\"><span class=\"toc-item-num\">1.1.3&nbsp;&nbsp;</span>Информация о df_full</a></span></li></ul></li><li><span><a href=\"#-Комментарий-ревьюера-v1\" data-toc-modified-id=\"-Комментарий-ревьюера-v1-1.2\"><span class=\"toc-item-num\">1.2&nbsp;&nbsp;</span> Комментарий ревьюера v1</a></span></li><li><span><a href=\"#Проверка-правильности-расчета-эффективности-обогащения\" data-toc-modified-id=\"Проверка-правильности-расчета-эффективности-обогащения-1.3\"><span class=\"toc-item-num\">1.3&nbsp;&nbsp;</span>Проверка правильности расчета эффективности обогащения</a></span></li><li><span><a href=\"#-Комментарий-ревьюера-v1\" data-toc-modified-id=\"-Комментарий-ревьюера-v1-1.4\"><span class=\"toc-item-num\">1.4&nbsp;&nbsp;</span> Комментарий ревьюера v1</a></span></li><li><span><a href=\"#Анализ-признаков,-недоступных-в-тестовой-выборке\" data-toc-modified-id=\"Анализ-признаков,-недоступных-в-тестовой-выборке-1.5\"><span class=\"toc-item-num\">1.5&nbsp;&nbsp;</span>Анализ признаков, недоступных в тестовой выборке</a></span></li><li><span><a href=\"#-Комментарий-ревьюера-v1\" data-toc-modified-id=\"-Комментарий-ревьюера-v1-1.6\"><span class=\"toc-item-num\">1.6&nbsp;&nbsp;</span> Комментарий ревьюера v1</a></span></li><li><span><a href=\"#Предобработка-данных\" data-toc-modified-id=\"Предобработка-данных-1.7\"><span class=\"toc-item-num\">1.7&nbsp;&nbsp;</span>Предобработка данных</a></span><ul class=\"toc-item\"><li><span><a href=\"#Изменение-типа-данных-столбца-date\" data-toc-modified-id=\"Изменение-типа-данных-столбца-date-1.7.1\"><span class=\"toc-item-num\">1.7.1&nbsp;&nbsp;</span>Изменение типа данных столбца date</a></span></li><li><span><a href=\"#Обработка-пустых-значений\" data-toc-modified-id=\"Обработка-пустых-значений-1.7.2\"><span class=\"toc-item-num\">1.7.2&nbsp;&nbsp;</span>Обработка пустых значений</a></span></li></ul></li><li><span><a href=\"#-Комментарий-ревьюера-v1\" data-toc-modified-id=\"-Комментарий-ревьюера-v1-1.8\"><span class=\"toc-item-num\">1.8&nbsp;&nbsp;</span> Комментарий ревьюера v1</a></span></li><li><span><a href=\"#-Комментарий-ревьюера-v1\" data-toc-modified-id=\"-Комментарий-ревьюера-v1-1.9\"><span class=\"toc-item-num\">1.9&nbsp;&nbsp;</span> Комментарий ревьюера v1</a></span></li></ul></li><li><span><a href=\"#Анализ-данных\" data-toc-modified-id=\"Анализ-данных-2\"><span class=\"toc-item-num\">2&nbsp;&nbsp;</span>Анализ данных</a></span><ul class=\"toc-item\"><li><span><a href=\"#Изменение-концентрации-металлов\" data-toc-modified-id=\"Изменение-концентрации-металлов-2.1\"><span class=\"toc-item-num\">2.1&nbsp;&nbsp;</span>Изменение концентрации металлов</a></span><ul class=\"toc-item\"><li><span><a href=\"#Концентрация-Au\" data-toc-modified-id=\"Концентрация-Au-2.1.1\"><span class=\"toc-item-num\">2.1.1&nbsp;&nbsp;</span>Концентрация Au</a></span></li><li><span><a href=\"#Концентрация-Ag\" data-toc-modified-id=\"Концентрация-Ag-2.1.2\"><span class=\"toc-item-num\">2.1.2&nbsp;&nbsp;</span>Концентрация Ag</a></span></li><li><span><a href=\"#Концентрация-Pb\" data-toc-modified-id=\"Концентрация-Pb-2.1.3\"><span class=\"toc-item-num\">2.1.3&nbsp;&nbsp;</span>Концентрация Pb</a></span></li></ul></li><li><span><a href=\"#-Комментарий-ревьюера-v1\" data-toc-modified-id=\"-Комментарий-ревьюера-v1-2.2\"><span class=\"toc-item-num\">2.2&nbsp;&nbsp;</span> Комментарий ревьюера v1</a></span></li><li><span><a href=\"#Сравнение-распределения-размеров-гранул-сырья-на-обучающей-и-тестовой-выборках\" data-toc-modified-id=\"Сравнение-распределения-размеров-гранул-сырья-на-обучающей-и-тестовой-выборках-2.3\"><span class=\"toc-item-num\">2.3&nbsp;&nbsp;</span>Сравнение распределения размеров гранул сырья на обучающей и тестовой выборках</a></span></li><li><span><a href=\"#-Комментарий-ревьюера-v1\" data-toc-modified-id=\"-Комментарий-ревьюера-v1-2.4\"><span class=\"toc-item-num\">2.4&nbsp;&nbsp;</span> Комментарий ревьюера v1</a></span></li><li><span><a href=\"#-Комментарий-ревьюера-v2\" data-toc-modified-id=\"-Комментарий-ревьюера-v2-2.5\"><span class=\"toc-item-num\">2.5&nbsp;&nbsp;</span> Комментарий ревьюера v2</a></span></li><li><span><a href=\"#Исследование-суммарной-концентрации-всех-веществ-на-разных-стадиях\" data-toc-modified-id=\"Исследование-суммарной-концентрации-всех-веществ-на-разных-стадиях-2.6\"><span class=\"toc-item-num\">2.6&nbsp;&nbsp;</span>Исследование суммарной концентрации всех веществ на разных стадиях</a></span><ul class=\"toc-item\"><li><span><a href=\"#Датафрейм-суммарной-концентрации-всех-веществ-на-разных-стадиях\" data-toc-modified-id=\"Датафрейм-суммарной-концентрации-всех-веществ-на-разных-стадиях-2.6.1\"><span class=\"toc-item-num\">2.6.1&nbsp;&nbsp;</span>Датафрейм суммарной концентрации всех веществ на разных стадиях</a></span></li><li><span><a href=\"#График\" data-toc-modified-id=\"График-2.6.2\"><span class=\"toc-item-num\">2.6.2&nbsp;&nbsp;</span>График</a></span></li><li><span><a href=\"#Удаление-аномалий-около-0-во-всех-таблицах\" data-toc-modified-id=\"Удаление-аномалий-около-0-во-всех-таблицах-2.6.3\"><span class=\"toc-item-num\">2.6.3&nbsp;&nbsp;</span>Удаление аномалий около 0 во всех таблицах</a></span></li></ul></li><li><span><a href=\"#-Комментарий-ревьюера-v1\" data-toc-modified-id=\"-Комментарий-ревьюера-v1-2.7\"><span class=\"toc-item-num\">2.7&nbsp;&nbsp;</span> Комментарий ревьюера v1</a></span></li></ul></li><li><span><a href=\"#Модель\" data-toc-modified-id=\"Модель-3\"><span class=\"toc-item-num\">3&nbsp;&nbsp;</span>Модель</a></span><ul class=\"toc-item\"><li><span><a href=\"#Разделение-обучающей-и-тестовой-выборки-на-признаки\" data-toc-modified-id=\"Разделение-обучающей-и-тестовой-выборки-на-признаки-3.1\"><span class=\"toc-item-num\">3.1&nbsp;&nbsp;</span>Разделение обучающей и тестовой выборки на признаки</a></span></li><li><span><a href=\"#Функции,-необходимые-для-вычисления-итоговой-sMAPE\" data-toc-modified-id=\"Функции,-необходимые-для-вычисления-итоговой-sMAPE-3.2\"><span class=\"toc-item-num\">3.2&nbsp;&nbsp;</span>Функции, необходимые для вычисления итоговой sMAPE</a></span></li><li><span><a href=\"#-Комментарий-ревьюера-v1\" data-toc-modified-id=\"-Комментарий-ревьюера-v1-3.3\"><span class=\"toc-item-num\">3.3&nbsp;&nbsp;</span> Комментарий ревьюера v1</a></span></li><li><span><a href=\"#Линейная-регрессия\" data-toc-modified-id=\"Линейная-регрессия-3.4\"><span class=\"toc-item-num\">3.4&nbsp;&nbsp;</span>Линейная регрессия</a></span></li><li><span><a href=\"#Дерево-решений\" data-toc-modified-id=\"Дерево-решений-3.5\"><span class=\"toc-item-num\">3.5&nbsp;&nbsp;</span>Дерево решений</a></span></li><li><span><a href=\"#-Комментарий-ревьюера-v1\" data-toc-modified-id=\"-Комментарий-ревьюера-v1-3.6\"><span class=\"toc-item-num\">3.6&nbsp;&nbsp;</span> Комментарий ревьюера v1</a></span></li><li><span><a href=\"#Случайный-лес\" data-toc-modified-id=\"Случайный-лес-3.7\"><span class=\"toc-item-num\">3.7&nbsp;&nbsp;</span>Случайный лес</a></span></li><li><span><a href=\"#-Комментарий-ревьюера-v1\" data-toc-modified-id=\"-Комментарий-ревьюера-v1-3.8\"><span class=\"toc-item-num\">3.8&nbsp;&nbsp;</span> Комментарий ревьюера v1</a></span></li><li><span><a href=\"#Проверка-на-тестовой-выборке\" data-toc-modified-id=\"Проверка-на-тестовой-выборке-3.9\"><span class=\"toc-item-num\">3.9&nbsp;&nbsp;</span>Проверка на тестовой выборке</a></span></li><li><span><a href=\"#Проверка-на-адекватность\" data-toc-modified-id=\"Проверка-на-адекватность-3.10\"><span class=\"toc-item-num\">3.10&nbsp;&nbsp;</span>Проверка на адекватность</a></span></li><li><span><a href=\"#-Комментарий-ревьюера-v1\" data-toc-modified-id=\"-Комментарий-ревьюера-v1-3.11\"><span class=\"toc-item-num\">3.11&nbsp;&nbsp;</span> Комментарий ревьюера v1</a></span></li></ul></li><li><span><a href=\"#Вывод\" data-toc-modified-id=\"Вывод-4\"><span class=\"toc-item-num\">4&nbsp;&nbsp;</span>Вывод</a></span></li><li><span><a href=\"#Чек-лист-готовности-проекта\" data-toc-modified-id=\"Чек-лист-готовности-проекта-5\"><span class=\"toc-item-num\">5&nbsp;&nbsp;</span>Чек-лист готовности проекта</a></span><ul class=\"toc-item\"><li><span><a href=\"#-Итоговый-комментарий\" data-toc-modified-id=\"-Итоговый-комментарий-5.1\"><span class=\"toc-item-num\">5.1&nbsp;&nbsp;</span> Итоговый комментарий</a></span></li></ul></li></ul></div>"
   ]
  },
  {
   "cell_type": "markdown",
   "metadata": {},
   "source": [
    "# Восстановление золота из руды"
   ]
  },
  {
   "cell_type": "markdown",
   "metadata": {},
   "source": [
    "Подготовьте прототип модели машинного обучения для «Цифры». Компания разрабатывает решения для эффективной работы промышленных предприятий.\n",
    "\n",
    "Модель поможет оптимизировать производство, чтобы не запускать предприятие с убыточными характеристиками.\n",
    "\n",
    "Чтобы выполнить проект, обращайтесь к библиотекам *pandas*, *matplotlib* и *sklearn.* Вам поможет их документация.\n",
    "\n",
    "**Цель:** сделать модель, которая предсказывает коэффициент восстановления золота из золотосодержащей руды.\n",
    "\n",
    "**Задачи:**\n",
    "1. Подготовить данные;\n",
    "2. Провести исследовательский анализ данных;\n",
    "3. Построить и обучить модель.\n",
    "\n",
    "Подробный ход исследования разобран в чек-листе в пункте 5."
   ]
  },
  {
   "cell_type": "markdown",
   "metadata": {},
   "source": [
    "## Подготовка данных"
   ]
  },
  {
   "cell_type": "code",
   "execution_count": 1,
   "metadata": {},
   "outputs": [],
   "source": [
    "import pandas as pd\n",
    "import numpy as np\n",
    "\n",
    "import matplotlib.pyplot as plt\n",
    "from numpy.random import RandomState\n",
    "\n",
    "from sklearn.model_selection import train_test_split, cross_val_score\n",
    "from sklearn.tree import DecisionTreeRegressor\n",
    "from sklearn.ensemble import RandomForestRegressor\n",
    "from sklearn.linear_model import LinearRegression\n",
    "from sklearn.metrics import mean_absolute_error, make_scorer\n",
    "from sklearn.dummy import DummyRegressor\n",
    "\n",
    "import warnings\n",
    "warnings.filterwarnings(\"ignore\")"
   ]
  },
  {
   "cell_type": "markdown",
   "metadata": {},
   "source": [
    "### Открытие файлов и общая информация"
   ]
  },
  {
   "cell_type": "code",
   "execution_count": 2,
   "metadata": {},
   "outputs": [],
   "source": [
    "df_train = pd.read_csv('/datasets/gold_recovery_train_new.csv')\n",
    "df_test = pd.read_csv('/datasets/gold_recovery_test_new.csv')\n",
    "df_full = pd.read_csv('/datasets/gold_recovery_full_new.csv')"
   ]
  },
  {
   "cell_type": "markdown",
   "metadata": {},
   "source": [
    "#### Информация о df_train"
   ]
  },
  {
   "cell_type": "code",
   "execution_count": 3,
   "metadata": {},
   "outputs": [
    {
     "data": {
      "text/html": [
       "<div>\n",
       "<style scoped>\n",
       "    .dataframe tbody tr th:only-of-type {\n",
       "        vertical-align: middle;\n",
       "    }\n",
       "\n",
       "    .dataframe tbody tr th {\n",
       "        vertical-align: top;\n",
       "    }\n",
       "\n",
       "    .dataframe thead th {\n",
       "        text-align: right;\n",
       "    }\n",
       "</style>\n",
       "<table border=\"1\" class=\"dataframe\">\n",
       "  <thead>\n",
       "    <tr style=\"text-align: right;\">\n",
       "      <th></th>\n",
       "      <th>date</th>\n",
       "      <th>final.output.concentrate_ag</th>\n",
       "      <th>final.output.concentrate_pb</th>\n",
       "      <th>final.output.concentrate_sol</th>\n",
       "      <th>final.output.concentrate_au</th>\n",
       "      <th>final.output.recovery</th>\n",
       "      <th>final.output.tail_ag</th>\n",
       "      <th>final.output.tail_pb</th>\n",
       "      <th>final.output.tail_sol</th>\n",
       "      <th>final.output.tail_au</th>\n",
       "      <th>...</th>\n",
       "      <th>secondary_cleaner.state.floatbank4_a_air</th>\n",
       "      <th>secondary_cleaner.state.floatbank4_a_level</th>\n",
       "      <th>secondary_cleaner.state.floatbank4_b_air</th>\n",
       "      <th>secondary_cleaner.state.floatbank4_b_level</th>\n",
       "      <th>secondary_cleaner.state.floatbank5_a_air</th>\n",
       "      <th>secondary_cleaner.state.floatbank5_a_level</th>\n",
       "      <th>secondary_cleaner.state.floatbank5_b_air</th>\n",
       "      <th>secondary_cleaner.state.floatbank5_b_level</th>\n",
       "      <th>secondary_cleaner.state.floatbank6_a_air</th>\n",
       "      <th>secondary_cleaner.state.floatbank6_a_level</th>\n",
       "    </tr>\n",
       "  </thead>\n",
       "  <tbody>\n",
       "    <tr>\n",
       "      <th>0</th>\n",
       "      <td>2016-01-15 00:00:00</td>\n",
       "      <td>6.055403</td>\n",
       "      <td>9.889648</td>\n",
       "      <td>5.507324</td>\n",
       "      <td>42.192020</td>\n",
       "      <td>70.541216</td>\n",
       "      <td>10.411962</td>\n",
       "      <td>0.895447</td>\n",
       "      <td>16.904297</td>\n",
       "      <td>2.143149</td>\n",
       "      <td>...</td>\n",
       "      <td>14.016835</td>\n",
       "      <td>-502.488007</td>\n",
       "      <td>12.099931</td>\n",
       "      <td>-504.715942</td>\n",
       "      <td>9.925633</td>\n",
       "      <td>-498.310211</td>\n",
       "      <td>8.079666</td>\n",
       "      <td>-500.470978</td>\n",
       "      <td>14.151341</td>\n",
       "      <td>-605.841980</td>\n",
       "    </tr>\n",
       "    <tr>\n",
       "      <th>1</th>\n",
       "      <td>2016-01-15 01:00:00</td>\n",
       "      <td>6.029369</td>\n",
       "      <td>9.968944</td>\n",
       "      <td>5.257781</td>\n",
       "      <td>42.701629</td>\n",
       "      <td>69.266198</td>\n",
       "      <td>10.462676</td>\n",
       "      <td>0.927452</td>\n",
       "      <td>16.634514</td>\n",
       "      <td>2.224930</td>\n",
       "      <td>...</td>\n",
       "      <td>13.992281</td>\n",
       "      <td>-505.503262</td>\n",
       "      <td>11.950531</td>\n",
       "      <td>-501.331529</td>\n",
       "      <td>10.039245</td>\n",
       "      <td>-500.169983</td>\n",
       "      <td>7.984757</td>\n",
       "      <td>-500.582168</td>\n",
       "      <td>13.998353</td>\n",
       "      <td>-599.787184</td>\n",
       "    </tr>\n",
       "    <tr>\n",
       "      <th>2</th>\n",
       "      <td>2016-01-15 02:00:00</td>\n",
       "      <td>6.055926</td>\n",
       "      <td>10.213995</td>\n",
       "      <td>5.383759</td>\n",
       "      <td>42.657501</td>\n",
       "      <td>68.116445</td>\n",
       "      <td>10.507046</td>\n",
       "      <td>0.953716</td>\n",
       "      <td>16.208849</td>\n",
       "      <td>2.257889</td>\n",
       "      <td>...</td>\n",
       "      <td>14.015015</td>\n",
       "      <td>-502.520901</td>\n",
       "      <td>11.912783</td>\n",
       "      <td>-501.133383</td>\n",
       "      <td>10.070913</td>\n",
       "      <td>-500.129135</td>\n",
       "      <td>8.013877</td>\n",
       "      <td>-500.517572</td>\n",
       "      <td>14.028663</td>\n",
       "      <td>-601.427363</td>\n",
       "    </tr>\n",
       "    <tr>\n",
       "      <th>3</th>\n",
       "      <td>2016-01-15 03:00:00</td>\n",
       "      <td>6.047977</td>\n",
       "      <td>9.977019</td>\n",
       "      <td>4.858634</td>\n",
       "      <td>42.689819</td>\n",
       "      <td>68.347543</td>\n",
       "      <td>10.422762</td>\n",
       "      <td>0.883763</td>\n",
       "      <td>16.532835</td>\n",
       "      <td>2.146849</td>\n",
       "      <td>...</td>\n",
       "      <td>14.036510</td>\n",
       "      <td>-500.857308</td>\n",
       "      <td>11.999550</td>\n",
       "      <td>-501.193686</td>\n",
       "      <td>9.970366</td>\n",
       "      <td>-499.201640</td>\n",
       "      <td>7.977324</td>\n",
       "      <td>-500.255908</td>\n",
       "      <td>14.005551</td>\n",
       "      <td>-599.996129</td>\n",
       "    </tr>\n",
       "    <tr>\n",
       "      <th>4</th>\n",
       "      <td>2016-01-15 04:00:00</td>\n",
       "      <td>6.148599</td>\n",
       "      <td>10.142511</td>\n",
       "      <td>4.939416</td>\n",
       "      <td>42.774141</td>\n",
       "      <td>66.927016</td>\n",
       "      <td>10.360302</td>\n",
       "      <td>0.792826</td>\n",
       "      <td>16.525686</td>\n",
       "      <td>2.055292</td>\n",
       "      <td>...</td>\n",
       "      <td>14.027298</td>\n",
       "      <td>-499.838632</td>\n",
       "      <td>11.953070</td>\n",
       "      <td>-501.053894</td>\n",
       "      <td>9.925709</td>\n",
       "      <td>-501.686727</td>\n",
       "      <td>7.894242</td>\n",
       "      <td>-500.356035</td>\n",
       "      <td>13.996647</td>\n",
       "      <td>-601.496691</td>\n",
       "    </tr>\n",
       "  </tbody>\n",
       "</table>\n",
       "<p>5 rows × 87 columns</p>\n",
       "</div>"
      ],
      "text/plain": [
       "                  date  final.output.concentrate_ag  \\\n",
       "0  2016-01-15 00:00:00                     6.055403   \n",
       "1  2016-01-15 01:00:00                     6.029369   \n",
       "2  2016-01-15 02:00:00                     6.055926   \n",
       "3  2016-01-15 03:00:00                     6.047977   \n",
       "4  2016-01-15 04:00:00                     6.148599   \n",
       "\n",
       "   final.output.concentrate_pb  final.output.concentrate_sol  \\\n",
       "0                     9.889648                      5.507324   \n",
       "1                     9.968944                      5.257781   \n",
       "2                    10.213995                      5.383759   \n",
       "3                     9.977019                      4.858634   \n",
       "4                    10.142511                      4.939416   \n",
       "\n",
       "   final.output.concentrate_au  final.output.recovery  final.output.tail_ag  \\\n",
       "0                    42.192020              70.541216             10.411962   \n",
       "1                    42.701629              69.266198             10.462676   \n",
       "2                    42.657501              68.116445             10.507046   \n",
       "3                    42.689819              68.347543             10.422762   \n",
       "4                    42.774141              66.927016             10.360302   \n",
       "\n",
       "   final.output.tail_pb  final.output.tail_sol  final.output.tail_au  ...  \\\n",
       "0              0.895447              16.904297              2.143149  ...   \n",
       "1              0.927452              16.634514              2.224930  ...   \n",
       "2              0.953716              16.208849              2.257889  ...   \n",
       "3              0.883763              16.532835              2.146849  ...   \n",
       "4              0.792826              16.525686              2.055292  ...   \n",
       "\n",
       "   secondary_cleaner.state.floatbank4_a_air  \\\n",
       "0                                 14.016835   \n",
       "1                                 13.992281   \n",
       "2                                 14.015015   \n",
       "3                                 14.036510   \n",
       "4                                 14.027298   \n",
       "\n",
       "   secondary_cleaner.state.floatbank4_a_level  \\\n",
       "0                                 -502.488007   \n",
       "1                                 -505.503262   \n",
       "2                                 -502.520901   \n",
       "3                                 -500.857308   \n",
       "4                                 -499.838632   \n",
       "\n",
       "   secondary_cleaner.state.floatbank4_b_air  \\\n",
       "0                                 12.099931   \n",
       "1                                 11.950531   \n",
       "2                                 11.912783   \n",
       "3                                 11.999550   \n",
       "4                                 11.953070   \n",
       "\n",
       "   secondary_cleaner.state.floatbank4_b_level  \\\n",
       "0                                 -504.715942   \n",
       "1                                 -501.331529   \n",
       "2                                 -501.133383   \n",
       "3                                 -501.193686   \n",
       "4                                 -501.053894   \n",
       "\n",
       "   secondary_cleaner.state.floatbank5_a_air  \\\n",
       "0                                  9.925633   \n",
       "1                                 10.039245   \n",
       "2                                 10.070913   \n",
       "3                                  9.970366   \n",
       "4                                  9.925709   \n",
       "\n",
       "   secondary_cleaner.state.floatbank5_a_level  \\\n",
       "0                                 -498.310211   \n",
       "1                                 -500.169983   \n",
       "2                                 -500.129135   \n",
       "3                                 -499.201640   \n",
       "4                                 -501.686727   \n",
       "\n",
       "   secondary_cleaner.state.floatbank5_b_air  \\\n",
       "0                                  8.079666   \n",
       "1                                  7.984757   \n",
       "2                                  8.013877   \n",
       "3                                  7.977324   \n",
       "4                                  7.894242   \n",
       "\n",
       "   secondary_cleaner.state.floatbank5_b_level  \\\n",
       "0                                 -500.470978   \n",
       "1                                 -500.582168   \n",
       "2                                 -500.517572   \n",
       "3                                 -500.255908   \n",
       "4                                 -500.356035   \n",
       "\n",
       "   secondary_cleaner.state.floatbank6_a_air  \\\n",
       "0                                 14.151341   \n",
       "1                                 13.998353   \n",
       "2                                 14.028663   \n",
       "3                                 14.005551   \n",
       "4                                 13.996647   \n",
       "\n",
       "   secondary_cleaner.state.floatbank6_a_level  \n",
       "0                                 -605.841980  \n",
       "1                                 -599.787184  \n",
       "2                                 -601.427363  \n",
       "3                                 -599.996129  \n",
       "4                                 -601.496691  \n",
       "\n",
       "[5 rows x 87 columns]"
      ]
     },
     "execution_count": 3,
     "metadata": {},
     "output_type": "execute_result"
    }
   ],
   "source": [
    "df_train.head()"
   ]
  },
  {
   "cell_type": "code",
   "execution_count": 4,
   "metadata": {
    "scrolled": true
   },
   "outputs": [
    {
     "name": "stdout",
     "output_type": "stream",
     "text": [
      "<class 'pandas.core.frame.DataFrame'>\n",
      "RangeIndex: 14149 entries, 0 to 14148\n",
      "Data columns (total 87 columns):\n",
      " #   Column                                              Non-Null Count  Dtype  \n",
      "---  ------                                              --------------  -----  \n",
      " 0   date                                                14149 non-null  object \n",
      " 1   final.output.concentrate_ag                         14148 non-null  float64\n",
      " 2   final.output.concentrate_pb                         14148 non-null  float64\n",
      " 3   final.output.concentrate_sol                        13938 non-null  float64\n",
      " 4   final.output.concentrate_au                         14149 non-null  float64\n",
      " 5   final.output.recovery                               14149 non-null  float64\n",
      " 6   final.output.tail_ag                                14149 non-null  float64\n",
      " 7   final.output.tail_pb                                14049 non-null  float64\n",
      " 8   final.output.tail_sol                               14144 non-null  float64\n",
      " 9   final.output.tail_au                                14149 non-null  float64\n",
      " 10  primary_cleaner.input.sulfate                       14129 non-null  float64\n",
      " 11  primary_cleaner.input.depressant                    14117 non-null  float64\n",
      " 12  primary_cleaner.input.feed_size                     14149 non-null  float64\n",
      " 13  primary_cleaner.input.xanthate                      14049 non-null  float64\n",
      " 14  primary_cleaner.output.concentrate_ag               14149 non-null  float64\n",
      " 15  primary_cleaner.output.concentrate_pb               14063 non-null  float64\n",
      " 16  primary_cleaner.output.concentrate_sol              13863 non-null  float64\n",
      " 17  primary_cleaner.output.concentrate_au               14149 non-null  float64\n",
      " 18  primary_cleaner.output.tail_ag                      14148 non-null  float64\n",
      " 19  primary_cleaner.output.tail_pb                      14134 non-null  float64\n",
      " 20  primary_cleaner.output.tail_sol                     14103 non-null  float64\n",
      " 21  primary_cleaner.output.tail_au                      14149 non-null  float64\n",
      " 22  primary_cleaner.state.floatbank8_a_air              14145 non-null  float64\n",
      " 23  primary_cleaner.state.floatbank8_a_level            14148 non-null  float64\n",
      " 24  primary_cleaner.state.floatbank8_b_air              14145 non-null  float64\n",
      " 25  primary_cleaner.state.floatbank8_b_level            14148 non-null  float64\n",
      " 26  primary_cleaner.state.floatbank8_c_air              14147 non-null  float64\n",
      " 27  primary_cleaner.state.floatbank8_c_level            14148 non-null  float64\n",
      " 28  primary_cleaner.state.floatbank8_d_air              14146 non-null  float64\n",
      " 29  primary_cleaner.state.floatbank8_d_level            14148 non-null  float64\n",
      " 30  rougher.calculation.sulfate_to_au_concentrate       14148 non-null  float64\n",
      " 31  rougher.calculation.floatbank10_sulfate_to_au_feed  14148 non-null  float64\n",
      " 32  rougher.calculation.floatbank11_sulfate_to_au_feed  14148 non-null  float64\n",
      " 33  rougher.calculation.au_pb_ratio                     14149 non-null  float64\n",
      " 34  rougher.input.feed_ag                               14149 non-null  float64\n",
      " 35  rougher.input.feed_pb                               14049 non-null  float64\n",
      " 36  rougher.input.feed_rate                             14141 non-null  float64\n",
      " 37  rougher.input.feed_size                             14005 non-null  float64\n",
      " 38  rougher.input.feed_sol                              14071 non-null  float64\n",
      " 39  rougher.input.feed_au                               14149 non-null  float64\n",
      " 40  rougher.input.floatbank10_sulfate                   14120 non-null  float64\n",
      " 41  rougher.input.floatbank10_xanthate                  14141 non-null  float64\n",
      " 42  rougher.input.floatbank11_sulfate                   14113 non-null  float64\n",
      " 43  rougher.input.floatbank11_xanthate                  13721 non-null  float64\n",
      " 44  rougher.output.concentrate_ag                       14149 non-null  float64\n",
      " 45  rougher.output.concentrate_pb                       14149 non-null  float64\n",
      " 46  rougher.output.concentrate_sol                      14127 non-null  float64\n",
      " 47  rougher.output.concentrate_au                       14149 non-null  float64\n",
      " 48  rougher.output.recovery                             14149 non-null  float64\n",
      " 49  rougher.output.tail_ag                              14148 non-null  float64\n",
      " 50  rougher.output.tail_pb                              14149 non-null  float64\n",
      " 51  rougher.output.tail_sol                             14149 non-null  float64\n",
      " 52  rougher.output.tail_au                              14149 non-null  float64\n",
      " 53  rougher.state.floatbank10_a_air                     14148 non-null  float64\n",
      " 54  rougher.state.floatbank10_a_level                   14148 non-null  float64\n",
      " 55  rougher.state.floatbank10_b_air                     14148 non-null  float64\n",
      " 56  rougher.state.floatbank10_b_level                   14148 non-null  float64\n",
      " 57  rougher.state.floatbank10_c_air                     14148 non-null  float64\n",
      " 58  rougher.state.floatbank10_c_level                   14148 non-null  float64\n",
      " 59  rougher.state.floatbank10_d_air                     14149 non-null  float64\n",
      " 60  rougher.state.floatbank10_d_level                   14149 non-null  float64\n",
      " 61  rougher.state.floatbank10_e_air                     13713 non-null  float64\n",
      " 62  rougher.state.floatbank10_e_level                   14149 non-null  float64\n",
      " 63  rougher.state.floatbank10_f_air                     14149 non-null  float64\n",
      " 64  rougher.state.floatbank10_f_level                   14149 non-null  float64\n",
      " 65  secondary_cleaner.output.tail_ag                    14147 non-null  float64\n",
      " 66  secondary_cleaner.output.tail_pb                    14139 non-null  float64\n",
      " 67  secondary_cleaner.output.tail_sol                   12544 non-null  float64\n",
      " 68  secondary_cleaner.output.tail_au                    14149 non-null  float64\n",
      " 69  secondary_cleaner.state.floatbank2_a_air            13932 non-null  float64\n",
      " 70  secondary_cleaner.state.floatbank2_a_level          14148 non-null  float64\n",
      " 71  secondary_cleaner.state.floatbank2_b_air            14128 non-null  float64\n",
      " 72  secondary_cleaner.state.floatbank2_b_level          14148 non-null  float64\n",
      " 73  secondary_cleaner.state.floatbank3_a_air            14145 non-null  float64\n",
      " 74  secondary_cleaner.state.floatbank3_a_level          14148 non-null  float64\n",
      " 75  secondary_cleaner.state.floatbank3_b_air            14148 non-null  float64\n",
      " 76  secondary_cleaner.state.floatbank3_b_level          14148 non-null  float64\n",
      " 77  secondary_cleaner.state.floatbank4_a_air            14143 non-null  float64\n",
      " 78  secondary_cleaner.state.floatbank4_a_level          14148 non-null  float64\n",
      " 79  secondary_cleaner.state.floatbank4_b_air            14148 non-null  float64\n",
      " 80  secondary_cleaner.state.floatbank4_b_level          14148 non-null  float64\n",
      " 81  secondary_cleaner.state.floatbank5_a_air            14148 non-null  float64\n",
      " 82  secondary_cleaner.state.floatbank5_a_level          14148 non-null  float64\n",
      " 83  secondary_cleaner.state.floatbank5_b_air            14148 non-null  float64\n",
      " 84  secondary_cleaner.state.floatbank5_b_level          14148 non-null  float64\n",
      " 85  secondary_cleaner.state.floatbank6_a_air            14147 non-null  float64\n",
      " 86  secondary_cleaner.state.floatbank6_a_level          14148 non-null  float64\n",
      "dtypes: float64(86), object(1)\n",
      "memory usage: 9.4+ MB\n"
     ]
    }
   ],
   "source": [
    "df_train.info()"
   ]
  },
  {
   "cell_type": "code",
   "execution_count": 5,
   "metadata": {},
   "outputs": [
    {
     "name": "stdout",
     "output_type": "stream",
     "text": [
      "Дубликаты: 0\n"
     ]
    }
   ],
   "source": [
    "print(f'Дубликаты: {df_train.duplicated().sum()}')"
   ]
  },
  {
   "cell_type": "code",
   "execution_count": 6,
   "metadata": {},
   "outputs": [
    {
     "data": {
      "text/plain": [
       "date                                            0\n",
       "final.output.concentrate_ag                     1\n",
       "final.output.concentrate_pb                     1\n",
       "final.output.concentrate_sol                  211\n",
       "final.output.concentrate_au                     0\n",
       "                                             ... \n",
       "secondary_cleaner.state.floatbank5_a_level      1\n",
       "secondary_cleaner.state.floatbank5_b_air        1\n",
       "secondary_cleaner.state.floatbank5_b_level      1\n",
       "secondary_cleaner.state.floatbank6_a_air        2\n",
       "secondary_cleaner.state.floatbank6_a_level      1\n",
       "Length: 87, dtype: int64"
      ]
     },
     "execution_count": 6,
     "metadata": {},
     "output_type": "execute_result"
    }
   ],
   "source": [
    "df_train.isna().sum()"
   ]
  },
  {
   "cell_type": "markdown",
   "metadata": {},
   "source": [
    "#### Информация о df_test"
   ]
  },
  {
   "cell_type": "code",
   "execution_count": 7,
   "metadata": {},
   "outputs": [
    {
     "data": {
      "text/html": [
       "<div>\n",
       "<style scoped>\n",
       "    .dataframe tbody tr th:only-of-type {\n",
       "        vertical-align: middle;\n",
       "    }\n",
       "\n",
       "    .dataframe tbody tr th {\n",
       "        vertical-align: top;\n",
       "    }\n",
       "\n",
       "    .dataframe thead th {\n",
       "        text-align: right;\n",
       "    }\n",
       "</style>\n",
       "<table border=\"1\" class=\"dataframe\">\n",
       "  <thead>\n",
       "    <tr style=\"text-align: right;\">\n",
       "      <th></th>\n",
       "      <th>date</th>\n",
       "      <th>primary_cleaner.input.sulfate</th>\n",
       "      <th>primary_cleaner.input.depressant</th>\n",
       "      <th>primary_cleaner.input.feed_size</th>\n",
       "      <th>primary_cleaner.input.xanthate</th>\n",
       "      <th>primary_cleaner.state.floatbank8_a_air</th>\n",
       "      <th>primary_cleaner.state.floatbank8_a_level</th>\n",
       "      <th>primary_cleaner.state.floatbank8_b_air</th>\n",
       "      <th>primary_cleaner.state.floatbank8_b_level</th>\n",
       "      <th>primary_cleaner.state.floatbank8_c_air</th>\n",
       "      <th>...</th>\n",
       "      <th>secondary_cleaner.state.floatbank4_a_air</th>\n",
       "      <th>secondary_cleaner.state.floatbank4_a_level</th>\n",
       "      <th>secondary_cleaner.state.floatbank4_b_air</th>\n",
       "      <th>secondary_cleaner.state.floatbank4_b_level</th>\n",
       "      <th>secondary_cleaner.state.floatbank5_a_air</th>\n",
       "      <th>secondary_cleaner.state.floatbank5_a_level</th>\n",
       "      <th>secondary_cleaner.state.floatbank5_b_air</th>\n",
       "      <th>secondary_cleaner.state.floatbank5_b_level</th>\n",
       "      <th>secondary_cleaner.state.floatbank6_a_air</th>\n",
       "      <th>secondary_cleaner.state.floatbank6_a_level</th>\n",
       "    </tr>\n",
       "  </thead>\n",
       "  <tbody>\n",
       "    <tr>\n",
       "      <th>0</th>\n",
       "      <td>2016-09-01 00:59:59</td>\n",
       "      <td>210.800909</td>\n",
       "      <td>14.993118</td>\n",
       "      <td>8.080000</td>\n",
       "      <td>1.005021</td>\n",
       "      <td>1398.981301</td>\n",
       "      <td>-500.225577</td>\n",
       "      <td>1399.144926</td>\n",
       "      <td>-499.919735</td>\n",
       "      <td>1400.102998</td>\n",
       "      <td>...</td>\n",
       "      <td>12.023554</td>\n",
       "      <td>-497.795834</td>\n",
       "      <td>8.016656</td>\n",
       "      <td>-501.289139</td>\n",
       "      <td>7.946562</td>\n",
       "      <td>-432.317850</td>\n",
       "      <td>4.872511</td>\n",
       "      <td>-500.037437</td>\n",
       "      <td>26.705889</td>\n",
       "      <td>-499.709414</td>\n",
       "    </tr>\n",
       "    <tr>\n",
       "      <th>1</th>\n",
       "      <td>2016-09-01 01:59:59</td>\n",
       "      <td>215.392455</td>\n",
       "      <td>14.987471</td>\n",
       "      <td>8.080000</td>\n",
       "      <td>0.990469</td>\n",
       "      <td>1398.777912</td>\n",
       "      <td>-500.057435</td>\n",
       "      <td>1398.055362</td>\n",
       "      <td>-499.778182</td>\n",
       "      <td>1396.151033</td>\n",
       "      <td>...</td>\n",
       "      <td>12.058140</td>\n",
       "      <td>-498.695773</td>\n",
       "      <td>8.130979</td>\n",
       "      <td>-499.634209</td>\n",
       "      <td>7.958270</td>\n",
       "      <td>-525.839648</td>\n",
       "      <td>4.878850</td>\n",
       "      <td>-500.162375</td>\n",
       "      <td>25.019940</td>\n",
       "      <td>-499.819438</td>\n",
       "    </tr>\n",
       "    <tr>\n",
       "      <th>2</th>\n",
       "      <td>2016-09-01 02:59:59</td>\n",
       "      <td>215.259946</td>\n",
       "      <td>12.884934</td>\n",
       "      <td>7.786667</td>\n",
       "      <td>0.996043</td>\n",
       "      <td>1398.493666</td>\n",
       "      <td>-500.868360</td>\n",
       "      <td>1398.860436</td>\n",
       "      <td>-499.764529</td>\n",
       "      <td>1398.075709</td>\n",
       "      <td>...</td>\n",
       "      <td>11.962366</td>\n",
       "      <td>-498.767484</td>\n",
       "      <td>8.096893</td>\n",
       "      <td>-500.827423</td>\n",
       "      <td>8.071056</td>\n",
       "      <td>-500.801673</td>\n",
       "      <td>4.905125</td>\n",
       "      <td>-499.828510</td>\n",
       "      <td>24.994862</td>\n",
       "      <td>-500.622559</td>\n",
       "    </tr>\n",
       "    <tr>\n",
       "      <th>3</th>\n",
       "      <td>2016-09-01 03:59:59</td>\n",
       "      <td>215.336236</td>\n",
       "      <td>12.006805</td>\n",
       "      <td>7.640000</td>\n",
       "      <td>0.863514</td>\n",
       "      <td>1399.618111</td>\n",
       "      <td>-498.863574</td>\n",
       "      <td>1397.440120</td>\n",
       "      <td>-499.211024</td>\n",
       "      <td>1400.129303</td>\n",
       "      <td>...</td>\n",
       "      <td>12.033091</td>\n",
       "      <td>-498.350935</td>\n",
       "      <td>8.074946</td>\n",
       "      <td>-499.474407</td>\n",
       "      <td>7.897085</td>\n",
       "      <td>-500.868509</td>\n",
       "      <td>4.931400</td>\n",
       "      <td>-499.963623</td>\n",
       "      <td>24.948919</td>\n",
       "      <td>-498.709987</td>\n",
       "    </tr>\n",
       "    <tr>\n",
       "      <th>4</th>\n",
       "      <td>2016-09-01 04:59:59</td>\n",
       "      <td>199.099327</td>\n",
       "      <td>10.682530</td>\n",
       "      <td>7.530000</td>\n",
       "      <td>0.805575</td>\n",
       "      <td>1401.268123</td>\n",
       "      <td>-500.808305</td>\n",
       "      <td>1398.128818</td>\n",
       "      <td>-499.504543</td>\n",
       "      <td>1402.172226</td>\n",
       "      <td>...</td>\n",
       "      <td>12.025367</td>\n",
       "      <td>-500.786497</td>\n",
       "      <td>8.054678</td>\n",
       "      <td>-500.397500</td>\n",
       "      <td>8.107890</td>\n",
       "      <td>-509.526725</td>\n",
       "      <td>4.957674</td>\n",
       "      <td>-500.360026</td>\n",
       "      <td>25.003331</td>\n",
       "      <td>-500.856333</td>\n",
       "    </tr>\n",
       "  </tbody>\n",
       "</table>\n",
       "<p>5 rows × 53 columns</p>\n",
       "</div>"
      ],
      "text/plain": [
       "                  date  primary_cleaner.input.sulfate  \\\n",
       "0  2016-09-01 00:59:59                     210.800909   \n",
       "1  2016-09-01 01:59:59                     215.392455   \n",
       "2  2016-09-01 02:59:59                     215.259946   \n",
       "3  2016-09-01 03:59:59                     215.336236   \n",
       "4  2016-09-01 04:59:59                     199.099327   \n",
       "\n",
       "   primary_cleaner.input.depressant  primary_cleaner.input.feed_size  \\\n",
       "0                         14.993118                         8.080000   \n",
       "1                         14.987471                         8.080000   \n",
       "2                         12.884934                         7.786667   \n",
       "3                         12.006805                         7.640000   \n",
       "4                         10.682530                         7.530000   \n",
       "\n",
       "   primary_cleaner.input.xanthate  primary_cleaner.state.floatbank8_a_air  \\\n",
       "0                        1.005021                             1398.981301   \n",
       "1                        0.990469                             1398.777912   \n",
       "2                        0.996043                             1398.493666   \n",
       "3                        0.863514                             1399.618111   \n",
       "4                        0.805575                             1401.268123   \n",
       "\n",
       "   primary_cleaner.state.floatbank8_a_level  \\\n",
       "0                               -500.225577   \n",
       "1                               -500.057435   \n",
       "2                               -500.868360   \n",
       "3                               -498.863574   \n",
       "4                               -500.808305   \n",
       "\n",
       "   primary_cleaner.state.floatbank8_b_air  \\\n",
       "0                             1399.144926   \n",
       "1                             1398.055362   \n",
       "2                             1398.860436   \n",
       "3                             1397.440120   \n",
       "4                             1398.128818   \n",
       "\n",
       "   primary_cleaner.state.floatbank8_b_level  \\\n",
       "0                               -499.919735   \n",
       "1                               -499.778182   \n",
       "2                               -499.764529   \n",
       "3                               -499.211024   \n",
       "4                               -499.504543   \n",
       "\n",
       "   primary_cleaner.state.floatbank8_c_air  ...  \\\n",
       "0                             1400.102998  ...   \n",
       "1                             1396.151033  ...   \n",
       "2                             1398.075709  ...   \n",
       "3                             1400.129303  ...   \n",
       "4                             1402.172226  ...   \n",
       "\n",
       "   secondary_cleaner.state.floatbank4_a_air  \\\n",
       "0                                 12.023554   \n",
       "1                                 12.058140   \n",
       "2                                 11.962366   \n",
       "3                                 12.033091   \n",
       "4                                 12.025367   \n",
       "\n",
       "   secondary_cleaner.state.floatbank4_a_level  \\\n",
       "0                                 -497.795834   \n",
       "1                                 -498.695773   \n",
       "2                                 -498.767484   \n",
       "3                                 -498.350935   \n",
       "4                                 -500.786497   \n",
       "\n",
       "   secondary_cleaner.state.floatbank4_b_air  \\\n",
       "0                                  8.016656   \n",
       "1                                  8.130979   \n",
       "2                                  8.096893   \n",
       "3                                  8.074946   \n",
       "4                                  8.054678   \n",
       "\n",
       "   secondary_cleaner.state.floatbank4_b_level  \\\n",
       "0                                 -501.289139   \n",
       "1                                 -499.634209   \n",
       "2                                 -500.827423   \n",
       "3                                 -499.474407   \n",
       "4                                 -500.397500   \n",
       "\n",
       "   secondary_cleaner.state.floatbank5_a_air  \\\n",
       "0                                  7.946562   \n",
       "1                                  7.958270   \n",
       "2                                  8.071056   \n",
       "3                                  7.897085   \n",
       "4                                  8.107890   \n",
       "\n",
       "   secondary_cleaner.state.floatbank5_a_level  \\\n",
       "0                                 -432.317850   \n",
       "1                                 -525.839648   \n",
       "2                                 -500.801673   \n",
       "3                                 -500.868509   \n",
       "4                                 -509.526725   \n",
       "\n",
       "   secondary_cleaner.state.floatbank5_b_air  \\\n",
       "0                                  4.872511   \n",
       "1                                  4.878850   \n",
       "2                                  4.905125   \n",
       "3                                  4.931400   \n",
       "4                                  4.957674   \n",
       "\n",
       "   secondary_cleaner.state.floatbank5_b_level  \\\n",
       "0                                 -500.037437   \n",
       "1                                 -500.162375   \n",
       "2                                 -499.828510   \n",
       "3                                 -499.963623   \n",
       "4                                 -500.360026   \n",
       "\n",
       "   secondary_cleaner.state.floatbank6_a_air  \\\n",
       "0                                 26.705889   \n",
       "1                                 25.019940   \n",
       "2                                 24.994862   \n",
       "3                                 24.948919   \n",
       "4                                 25.003331   \n",
       "\n",
       "   secondary_cleaner.state.floatbank6_a_level  \n",
       "0                                 -499.709414  \n",
       "1                                 -499.819438  \n",
       "2                                 -500.622559  \n",
       "3                                 -498.709987  \n",
       "4                                 -500.856333  \n",
       "\n",
       "[5 rows x 53 columns]"
      ]
     },
     "execution_count": 7,
     "metadata": {},
     "output_type": "execute_result"
    }
   ],
   "source": [
    "df_test.head()"
   ]
  },
  {
   "cell_type": "code",
   "execution_count": 8,
   "metadata": {
    "scrolled": true
   },
   "outputs": [
    {
     "name": "stdout",
     "output_type": "stream",
     "text": [
      "<class 'pandas.core.frame.DataFrame'>\n",
      "RangeIndex: 5290 entries, 0 to 5289\n",
      "Data columns (total 53 columns):\n",
      " #   Column                                      Non-Null Count  Dtype  \n",
      "---  ------                                      --------------  -----  \n",
      " 0   date                                        5290 non-null   object \n",
      " 1   primary_cleaner.input.sulfate               5286 non-null   float64\n",
      " 2   primary_cleaner.input.depressant            5285 non-null   float64\n",
      " 3   primary_cleaner.input.feed_size             5290 non-null   float64\n",
      " 4   primary_cleaner.input.xanthate              5286 non-null   float64\n",
      " 5   primary_cleaner.state.floatbank8_a_air      5290 non-null   float64\n",
      " 6   primary_cleaner.state.floatbank8_a_level    5290 non-null   float64\n",
      " 7   primary_cleaner.state.floatbank8_b_air      5290 non-null   float64\n",
      " 8   primary_cleaner.state.floatbank8_b_level    5290 non-null   float64\n",
      " 9   primary_cleaner.state.floatbank8_c_air      5290 non-null   float64\n",
      " 10  primary_cleaner.state.floatbank8_c_level    5290 non-null   float64\n",
      " 11  primary_cleaner.state.floatbank8_d_air      5290 non-null   float64\n",
      " 12  primary_cleaner.state.floatbank8_d_level    5290 non-null   float64\n",
      " 13  rougher.input.feed_ag                       5290 non-null   float64\n",
      " 14  rougher.input.feed_pb                       5290 non-null   float64\n",
      " 15  rougher.input.feed_rate                     5287 non-null   float64\n",
      " 16  rougher.input.feed_size                     5289 non-null   float64\n",
      " 17  rougher.input.feed_sol                      5269 non-null   float64\n",
      " 18  rougher.input.feed_au                       5290 non-null   float64\n",
      " 19  rougher.input.floatbank10_sulfate           5285 non-null   float64\n",
      " 20  rougher.input.floatbank10_xanthate          5290 non-null   float64\n",
      " 21  rougher.input.floatbank11_sulfate           5282 non-null   float64\n",
      " 22  rougher.input.floatbank11_xanthate          5265 non-null   float64\n",
      " 23  rougher.state.floatbank10_a_air             5290 non-null   float64\n",
      " 24  rougher.state.floatbank10_a_level           5290 non-null   float64\n",
      " 25  rougher.state.floatbank10_b_air             5290 non-null   float64\n",
      " 26  rougher.state.floatbank10_b_level           5290 non-null   float64\n",
      " 27  rougher.state.floatbank10_c_air             5290 non-null   float64\n",
      " 28  rougher.state.floatbank10_c_level           5290 non-null   float64\n",
      " 29  rougher.state.floatbank10_d_air             5290 non-null   float64\n",
      " 30  rougher.state.floatbank10_d_level           5290 non-null   float64\n",
      " 31  rougher.state.floatbank10_e_air             5290 non-null   float64\n",
      " 32  rougher.state.floatbank10_e_level           5290 non-null   float64\n",
      " 33  rougher.state.floatbank10_f_air             5290 non-null   float64\n",
      " 34  rougher.state.floatbank10_f_level           5290 non-null   float64\n",
      " 35  secondary_cleaner.state.floatbank2_a_air    5287 non-null   float64\n",
      " 36  secondary_cleaner.state.floatbank2_a_level  5290 non-null   float64\n",
      " 37  secondary_cleaner.state.floatbank2_b_air    5288 non-null   float64\n",
      " 38  secondary_cleaner.state.floatbank2_b_level  5290 non-null   float64\n",
      " 39  secondary_cleaner.state.floatbank3_a_air    5281 non-null   float64\n",
      " 40  secondary_cleaner.state.floatbank3_a_level  5290 non-null   float64\n",
      " 41  secondary_cleaner.state.floatbank3_b_air    5290 non-null   float64\n",
      " 42  secondary_cleaner.state.floatbank3_b_level  5290 non-null   float64\n",
      " 43  secondary_cleaner.state.floatbank4_a_air    5290 non-null   float64\n",
      " 44  secondary_cleaner.state.floatbank4_a_level  5290 non-null   float64\n",
      " 45  secondary_cleaner.state.floatbank4_b_air    5290 non-null   float64\n",
      " 46  secondary_cleaner.state.floatbank4_b_level  5290 non-null   float64\n",
      " 47  secondary_cleaner.state.floatbank5_a_air    5290 non-null   float64\n",
      " 48  secondary_cleaner.state.floatbank5_a_level  5290 non-null   float64\n",
      " 49  secondary_cleaner.state.floatbank5_b_air    5290 non-null   float64\n",
      " 50  secondary_cleaner.state.floatbank5_b_level  5290 non-null   float64\n",
      " 51  secondary_cleaner.state.floatbank6_a_air    5290 non-null   float64\n",
      " 52  secondary_cleaner.state.floatbank6_a_level  5290 non-null   float64\n",
      "dtypes: float64(52), object(1)\n",
      "memory usage: 2.1+ MB\n"
     ]
    }
   ],
   "source": [
    "df_test.info()"
   ]
  },
  {
   "cell_type": "code",
   "execution_count": 9,
   "metadata": {},
   "outputs": [
    {
     "name": "stdout",
     "output_type": "stream",
     "text": [
      "Дубликаты: 0\n"
     ]
    }
   ],
   "source": [
    "print(f'Дубликаты: {df_test.duplicated().sum()}')"
   ]
  },
  {
   "cell_type": "code",
   "execution_count": 10,
   "metadata": {
    "scrolled": true
   },
   "outputs": [
    {
     "data": {
      "text/plain": [
       "date                                           0\n",
       "primary_cleaner.input.sulfate                  4\n",
       "primary_cleaner.input.depressant               5\n",
       "primary_cleaner.input.feed_size                0\n",
       "primary_cleaner.input.xanthate                 4\n",
       "primary_cleaner.state.floatbank8_a_air         0\n",
       "primary_cleaner.state.floatbank8_a_level       0\n",
       "primary_cleaner.state.floatbank8_b_air         0\n",
       "primary_cleaner.state.floatbank8_b_level       0\n",
       "primary_cleaner.state.floatbank8_c_air         0\n",
       "primary_cleaner.state.floatbank8_c_level       0\n",
       "primary_cleaner.state.floatbank8_d_air         0\n",
       "primary_cleaner.state.floatbank8_d_level       0\n",
       "rougher.input.feed_ag                          0\n",
       "rougher.input.feed_pb                          0\n",
       "rougher.input.feed_rate                        3\n",
       "rougher.input.feed_size                        1\n",
       "rougher.input.feed_sol                        21\n",
       "rougher.input.feed_au                          0\n",
       "rougher.input.floatbank10_sulfate              5\n",
       "rougher.input.floatbank10_xanthate             0\n",
       "rougher.input.floatbank11_sulfate              8\n",
       "rougher.input.floatbank11_xanthate            25\n",
       "rougher.state.floatbank10_a_air                0\n",
       "rougher.state.floatbank10_a_level              0\n",
       "rougher.state.floatbank10_b_air                0\n",
       "rougher.state.floatbank10_b_level              0\n",
       "rougher.state.floatbank10_c_air                0\n",
       "rougher.state.floatbank10_c_level              0\n",
       "rougher.state.floatbank10_d_air                0\n",
       "rougher.state.floatbank10_d_level              0\n",
       "rougher.state.floatbank10_e_air                0\n",
       "rougher.state.floatbank10_e_level              0\n",
       "rougher.state.floatbank10_f_air                0\n",
       "rougher.state.floatbank10_f_level              0\n",
       "secondary_cleaner.state.floatbank2_a_air       3\n",
       "secondary_cleaner.state.floatbank2_a_level     0\n",
       "secondary_cleaner.state.floatbank2_b_air       2\n",
       "secondary_cleaner.state.floatbank2_b_level     0\n",
       "secondary_cleaner.state.floatbank3_a_air       9\n",
       "secondary_cleaner.state.floatbank3_a_level     0\n",
       "secondary_cleaner.state.floatbank3_b_air       0\n",
       "secondary_cleaner.state.floatbank3_b_level     0\n",
       "secondary_cleaner.state.floatbank4_a_air       0\n",
       "secondary_cleaner.state.floatbank4_a_level     0\n",
       "secondary_cleaner.state.floatbank4_b_air       0\n",
       "secondary_cleaner.state.floatbank4_b_level     0\n",
       "secondary_cleaner.state.floatbank5_a_air       0\n",
       "secondary_cleaner.state.floatbank5_a_level     0\n",
       "secondary_cleaner.state.floatbank5_b_air       0\n",
       "secondary_cleaner.state.floatbank5_b_level     0\n",
       "secondary_cleaner.state.floatbank6_a_air       0\n",
       "secondary_cleaner.state.floatbank6_a_level     0\n",
       "dtype: int64"
      ]
     },
     "execution_count": 10,
     "metadata": {},
     "output_type": "execute_result"
    }
   ],
   "source": [
    "df_test.isna().sum()"
   ]
  },
  {
   "cell_type": "markdown",
   "metadata": {},
   "source": [
    "#### Информация о df_full"
   ]
  },
  {
   "cell_type": "code",
   "execution_count": 11,
   "metadata": {},
   "outputs": [
    {
     "data": {
      "text/html": [
       "<div>\n",
       "<style scoped>\n",
       "    .dataframe tbody tr th:only-of-type {\n",
       "        vertical-align: middle;\n",
       "    }\n",
       "\n",
       "    .dataframe tbody tr th {\n",
       "        vertical-align: top;\n",
       "    }\n",
       "\n",
       "    .dataframe thead th {\n",
       "        text-align: right;\n",
       "    }\n",
       "</style>\n",
       "<table border=\"1\" class=\"dataframe\">\n",
       "  <thead>\n",
       "    <tr style=\"text-align: right;\">\n",
       "      <th></th>\n",
       "      <th>date</th>\n",
       "      <th>final.output.concentrate_ag</th>\n",
       "      <th>final.output.concentrate_pb</th>\n",
       "      <th>final.output.concentrate_sol</th>\n",
       "      <th>final.output.concentrate_au</th>\n",
       "      <th>final.output.recovery</th>\n",
       "      <th>final.output.tail_ag</th>\n",
       "      <th>final.output.tail_pb</th>\n",
       "      <th>final.output.tail_sol</th>\n",
       "      <th>final.output.tail_au</th>\n",
       "      <th>...</th>\n",
       "      <th>secondary_cleaner.state.floatbank4_a_air</th>\n",
       "      <th>secondary_cleaner.state.floatbank4_a_level</th>\n",
       "      <th>secondary_cleaner.state.floatbank4_b_air</th>\n",
       "      <th>secondary_cleaner.state.floatbank4_b_level</th>\n",
       "      <th>secondary_cleaner.state.floatbank5_a_air</th>\n",
       "      <th>secondary_cleaner.state.floatbank5_a_level</th>\n",
       "      <th>secondary_cleaner.state.floatbank5_b_air</th>\n",
       "      <th>secondary_cleaner.state.floatbank5_b_level</th>\n",
       "      <th>secondary_cleaner.state.floatbank6_a_air</th>\n",
       "      <th>secondary_cleaner.state.floatbank6_a_level</th>\n",
       "    </tr>\n",
       "  </thead>\n",
       "  <tbody>\n",
       "    <tr>\n",
       "      <th>0</th>\n",
       "      <td>2016-01-15 00:00:00</td>\n",
       "      <td>6.055403</td>\n",
       "      <td>9.889648</td>\n",
       "      <td>5.507324</td>\n",
       "      <td>42.192020</td>\n",
       "      <td>70.541216</td>\n",
       "      <td>10.411962</td>\n",
       "      <td>0.895447</td>\n",
       "      <td>16.904297</td>\n",
       "      <td>2.143149</td>\n",
       "      <td>...</td>\n",
       "      <td>14.016835</td>\n",
       "      <td>-502.488007</td>\n",
       "      <td>12.099931</td>\n",
       "      <td>-504.715942</td>\n",
       "      <td>9.925633</td>\n",
       "      <td>-498.310211</td>\n",
       "      <td>8.079666</td>\n",
       "      <td>-500.470978</td>\n",
       "      <td>14.151341</td>\n",
       "      <td>-605.841980</td>\n",
       "    </tr>\n",
       "    <tr>\n",
       "      <th>1</th>\n",
       "      <td>2016-01-15 01:00:00</td>\n",
       "      <td>6.029369</td>\n",
       "      <td>9.968944</td>\n",
       "      <td>5.257781</td>\n",
       "      <td>42.701629</td>\n",
       "      <td>69.266198</td>\n",
       "      <td>10.462676</td>\n",
       "      <td>0.927452</td>\n",
       "      <td>16.634514</td>\n",
       "      <td>2.224930</td>\n",
       "      <td>...</td>\n",
       "      <td>13.992281</td>\n",
       "      <td>-505.503262</td>\n",
       "      <td>11.950531</td>\n",
       "      <td>-501.331529</td>\n",
       "      <td>10.039245</td>\n",
       "      <td>-500.169983</td>\n",
       "      <td>7.984757</td>\n",
       "      <td>-500.582168</td>\n",
       "      <td>13.998353</td>\n",
       "      <td>-599.787184</td>\n",
       "    </tr>\n",
       "    <tr>\n",
       "      <th>2</th>\n",
       "      <td>2016-01-15 02:00:00</td>\n",
       "      <td>6.055926</td>\n",
       "      <td>10.213995</td>\n",
       "      <td>5.383759</td>\n",
       "      <td>42.657501</td>\n",
       "      <td>68.116445</td>\n",
       "      <td>10.507046</td>\n",
       "      <td>0.953716</td>\n",
       "      <td>16.208849</td>\n",
       "      <td>2.257889</td>\n",
       "      <td>...</td>\n",
       "      <td>14.015015</td>\n",
       "      <td>-502.520901</td>\n",
       "      <td>11.912783</td>\n",
       "      <td>-501.133383</td>\n",
       "      <td>10.070913</td>\n",
       "      <td>-500.129135</td>\n",
       "      <td>8.013877</td>\n",
       "      <td>-500.517572</td>\n",
       "      <td>14.028663</td>\n",
       "      <td>-601.427363</td>\n",
       "    </tr>\n",
       "    <tr>\n",
       "      <th>3</th>\n",
       "      <td>2016-01-15 03:00:00</td>\n",
       "      <td>6.047977</td>\n",
       "      <td>9.977019</td>\n",
       "      <td>4.858634</td>\n",
       "      <td>42.689819</td>\n",
       "      <td>68.347543</td>\n",
       "      <td>10.422762</td>\n",
       "      <td>0.883763</td>\n",
       "      <td>16.532835</td>\n",
       "      <td>2.146849</td>\n",
       "      <td>...</td>\n",
       "      <td>14.036510</td>\n",
       "      <td>-500.857308</td>\n",
       "      <td>11.999550</td>\n",
       "      <td>-501.193686</td>\n",
       "      <td>9.970366</td>\n",
       "      <td>-499.201640</td>\n",
       "      <td>7.977324</td>\n",
       "      <td>-500.255908</td>\n",
       "      <td>14.005551</td>\n",
       "      <td>-599.996129</td>\n",
       "    </tr>\n",
       "    <tr>\n",
       "      <th>4</th>\n",
       "      <td>2016-01-15 04:00:00</td>\n",
       "      <td>6.148599</td>\n",
       "      <td>10.142511</td>\n",
       "      <td>4.939416</td>\n",
       "      <td>42.774141</td>\n",
       "      <td>66.927016</td>\n",
       "      <td>10.360302</td>\n",
       "      <td>0.792826</td>\n",
       "      <td>16.525686</td>\n",
       "      <td>2.055292</td>\n",
       "      <td>...</td>\n",
       "      <td>14.027298</td>\n",
       "      <td>-499.838632</td>\n",
       "      <td>11.953070</td>\n",
       "      <td>-501.053894</td>\n",
       "      <td>9.925709</td>\n",
       "      <td>-501.686727</td>\n",
       "      <td>7.894242</td>\n",
       "      <td>-500.356035</td>\n",
       "      <td>13.996647</td>\n",
       "      <td>-601.496691</td>\n",
       "    </tr>\n",
       "  </tbody>\n",
       "</table>\n",
       "<p>5 rows × 87 columns</p>\n",
       "</div>"
      ],
      "text/plain": [
       "                  date  final.output.concentrate_ag  \\\n",
       "0  2016-01-15 00:00:00                     6.055403   \n",
       "1  2016-01-15 01:00:00                     6.029369   \n",
       "2  2016-01-15 02:00:00                     6.055926   \n",
       "3  2016-01-15 03:00:00                     6.047977   \n",
       "4  2016-01-15 04:00:00                     6.148599   \n",
       "\n",
       "   final.output.concentrate_pb  final.output.concentrate_sol  \\\n",
       "0                     9.889648                      5.507324   \n",
       "1                     9.968944                      5.257781   \n",
       "2                    10.213995                      5.383759   \n",
       "3                     9.977019                      4.858634   \n",
       "4                    10.142511                      4.939416   \n",
       "\n",
       "   final.output.concentrate_au  final.output.recovery  final.output.tail_ag  \\\n",
       "0                    42.192020              70.541216             10.411962   \n",
       "1                    42.701629              69.266198             10.462676   \n",
       "2                    42.657501              68.116445             10.507046   \n",
       "3                    42.689819              68.347543             10.422762   \n",
       "4                    42.774141              66.927016             10.360302   \n",
       "\n",
       "   final.output.tail_pb  final.output.tail_sol  final.output.tail_au  ...  \\\n",
       "0              0.895447              16.904297              2.143149  ...   \n",
       "1              0.927452              16.634514              2.224930  ...   \n",
       "2              0.953716              16.208849              2.257889  ...   \n",
       "3              0.883763              16.532835              2.146849  ...   \n",
       "4              0.792826              16.525686              2.055292  ...   \n",
       "\n",
       "   secondary_cleaner.state.floatbank4_a_air  \\\n",
       "0                                 14.016835   \n",
       "1                                 13.992281   \n",
       "2                                 14.015015   \n",
       "3                                 14.036510   \n",
       "4                                 14.027298   \n",
       "\n",
       "   secondary_cleaner.state.floatbank4_a_level  \\\n",
       "0                                 -502.488007   \n",
       "1                                 -505.503262   \n",
       "2                                 -502.520901   \n",
       "3                                 -500.857308   \n",
       "4                                 -499.838632   \n",
       "\n",
       "   secondary_cleaner.state.floatbank4_b_air  \\\n",
       "0                                 12.099931   \n",
       "1                                 11.950531   \n",
       "2                                 11.912783   \n",
       "3                                 11.999550   \n",
       "4                                 11.953070   \n",
       "\n",
       "   secondary_cleaner.state.floatbank4_b_level  \\\n",
       "0                                 -504.715942   \n",
       "1                                 -501.331529   \n",
       "2                                 -501.133383   \n",
       "3                                 -501.193686   \n",
       "4                                 -501.053894   \n",
       "\n",
       "   secondary_cleaner.state.floatbank5_a_air  \\\n",
       "0                                  9.925633   \n",
       "1                                 10.039245   \n",
       "2                                 10.070913   \n",
       "3                                  9.970366   \n",
       "4                                  9.925709   \n",
       "\n",
       "   secondary_cleaner.state.floatbank5_a_level  \\\n",
       "0                                 -498.310211   \n",
       "1                                 -500.169983   \n",
       "2                                 -500.129135   \n",
       "3                                 -499.201640   \n",
       "4                                 -501.686727   \n",
       "\n",
       "   secondary_cleaner.state.floatbank5_b_air  \\\n",
       "0                                  8.079666   \n",
       "1                                  7.984757   \n",
       "2                                  8.013877   \n",
       "3                                  7.977324   \n",
       "4                                  7.894242   \n",
       "\n",
       "   secondary_cleaner.state.floatbank5_b_level  \\\n",
       "0                                 -500.470978   \n",
       "1                                 -500.582168   \n",
       "2                                 -500.517572   \n",
       "3                                 -500.255908   \n",
       "4                                 -500.356035   \n",
       "\n",
       "   secondary_cleaner.state.floatbank6_a_air  \\\n",
       "0                                 14.151341   \n",
       "1                                 13.998353   \n",
       "2                                 14.028663   \n",
       "3                                 14.005551   \n",
       "4                                 13.996647   \n",
       "\n",
       "   secondary_cleaner.state.floatbank6_a_level  \n",
       "0                                 -605.841980  \n",
       "1                                 -599.787184  \n",
       "2                                 -601.427363  \n",
       "3                                 -599.996129  \n",
       "4                                 -601.496691  \n",
       "\n",
       "[5 rows x 87 columns]"
      ]
     },
     "execution_count": 11,
     "metadata": {},
     "output_type": "execute_result"
    }
   ],
   "source": [
    "df_full.head()"
   ]
  },
  {
   "cell_type": "code",
   "execution_count": 12,
   "metadata": {
    "scrolled": true
   },
   "outputs": [
    {
     "name": "stdout",
     "output_type": "stream",
     "text": [
      "<class 'pandas.core.frame.DataFrame'>\n",
      "RangeIndex: 19439 entries, 0 to 19438\n",
      "Data columns (total 87 columns):\n",
      " #   Column                                              Non-Null Count  Dtype  \n",
      "---  ------                                              --------------  -----  \n",
      " 0   date                                                19439 non-null  object \n",
      " 1   final.output.concentrate_ag                         19438 non-null  float64\n",
      " 2   final.output.concentrate_pb                         19438 non-null  float64\n",
      " 3   final.output.concentrate_sol                        19228 non-null  float64\n",
      " 4   final.output.concentrate_au                         19439 non-null  float64\n",
      " 5   final.output.recovery                               19439 non-null  float64\n",
      " 6   final.output.tail_ag                                19438 non-null  float64\n",
      " 7   final.output.tail_pb                                19338 non-null  float64\n",
      " 8   final.output.tail_sol                               19433 non-null  float64\n",
      " 9   final.output.tail_au                                19439 non-null  float64\n",
      " 10  primary_cleaner.input.sulfate                       19415 non-null  float64\n",
      " 11  primary_cleaner.input.depressant                    19402 non-null  float64\n",
      " 12  primary_cleaner.input.feed_size                     19439 non-null  float64\n",
      " 13  primary_cleaner.input.xanthate                      19335 non-null  float64\n",
      " 14  primary_cleaner.output.concentrate_ag               19439 non-null  float64\n",
      " 15  primary_cleaner.output.concentrate_pb               19323 non-null  float64\n",
      " 16  primary_cleaner.output.concentrate_sol              19069 non-null  float64\n",
      " 17  primary_cleaner.output.concentrate_au               19439 non-null  float64\n",
      " 18  primary_cleaner.output.tail_ag                      19435 non-null  float64\n",
      " 19  primary_cleaner.output.tail_pb                      19418 non-null  float64\n",
      " 20  primary_cleaner.output.tail_sol                     19377 non-null  float64\n",
      " 21  primary_cleaner.output.tail_au                      19439 non-null  float64\n",
      " 22  primary_cleaner.state.floatbank8_a_air              19435 non-null  float64\n",
      " 23  primary_cleaner.state.floatbank8_a_level            19438 non-null  float64\n",
      " 24  primary_cleaner.state.floatbank8_b_air              19435 non-null  float64\n",
      " 25  primary_cleaner.state.floatbank8_b_level            19438 non-null  float64\n",
      " 26  primary_cleaner.state.floatbank8_c_air              19437 non-null  float64\n",
      " 27  primary_cleaner.state.floatbank8_c_level            19438 non-null  float64\n",
      " 28  primary_cleaner.state.floatbank8_d_air              19436 non-null  float64\n",
      " 29  primary_cleaner.state.floatbank8_d_level            19438 non-null  float64\n",
      " 30  rougher.calculation.sulfate_to_au_concentrate       19437 non-null  float64\n",
      " 31  rougher.calculation.floatbank10_sulfate_to_au_feed  19437 non-null  float64\n",
      " 32  rougher.calculation.floatbank11_sulfate_to_au_feed  19437 non-null  float64\n",
      " 33  rougher.calculation.au_pb_ratio                     19439 non-null  float64\n",
      " 34  rougher.input.feed_ag                               19439 non-null  float64\n",
      " 35  rougher.input.feed_pb                               19339 non-null  float64\n",
      " 36  rougher.input.feed_rate                             19428 non-null  float64\n",
      " 37  rougher.input.feed_size                             19294 non-null  float64\n",
      " 38  rougher.input.feed_sol                              19340 non-null  float64\n",
      " 39  rougher.input.feed_au                               19439 non-null  float64\n",
      " 40  rougher.input.floatbank10_sulfate                   19405 non-null  float64\n",
      " 41  rougher.input.floatbank10_xanthate                  19431 non-null  float64\n",
      " 42  rougher.input.floatbank11_sulfate                   19395 non-null  float64\n",
      " 43  rougher.input.floatbank11_xanthate                  18986 non-null  float64\n",
      " 44  rougher.output.concentrate_ag                       19439 non-null  float64\n",
      " 45  rougher.output.concentrate_pb                       19439 non-null  float64\n",
      " 46  rougher.output.concentrate_sol                      19416 non-null  float64\n",
      " 47  rougher.output.concentrate_au                       19439 non-null  float64\n",
      " 48  rougher.output.recovery                             19439 non-null  float64\n",
      " 49  rougher.output.tail_ag                              19438 non-null  float64\n",
      " 50  rougher.output.tail_pb                              19439 non-null  float64\n",
      " 51  rougher.output.tail_sol                             19439 non-null  float64\n",
      " 52  rougher.output.tail_au                              19439 non-null  float64\n",
      " 53  rougher.state.floatbank10_a_air                     19438 non-null  float64\n",
      " 54  rougher.state.floatbank10_a_level                   19438 non-null  float64\n",
      " 55  rougher.state.floatbank10_b_air                     19438 non-null  float64\n",
      " 56  rougher.state.floatbank10_b_level                   19438 non-null  float64\n",
      " 57  rougher.state.floatbank10_c_air                     19438 non-null  float64\n",
      " 58  rougher.state.floatbank10_c_level                   19438 non-null  float64\n",
      " 59  rougher.state.floatbank10_d_air                     19439 non-null  float64\n",
      " 60  rougher.state.floatbank10_d_level                   19439 non-null  float64\n",
      " 61  rougher.state.floatbank10_e_air                     19003 non-null  float64\n",
      " 62  rougher.state.floatbank10_e_level                   19439 non-null  float64\n",
      " 63  rougher.state.floatbank10_f_air                     19439 non-null  float64\n",
      " 64  rougher.state.floatbank10_f_level                   19439 non-null  float64\n",
      " 65  secondary_cleaner.output.tail_ag                    19437 non-null  float64\n",
      " 66  secondary_cleaner.output.tail_pb                    19427 non-null  float64\n",
      " 67  secondary_cleaner.output.tail_sol                   17691 non-null  float64\n",
      " 68  secondary_cleaner.output.tail_au                    19439 non-null  float64\n",
      " 69  secondary_cleaner.state.floatbank2_a_air            19219 non-null  float64\n",
      " 70  secondary_cleaner.state.floatbank2_a_level          19438 non-null  float64\n",
      " 71  secondary_cleaner.state.floatbank2_b_air            19416 non-null  float64\n",
      " 72  secondary_cleaner.state.floatbank2_b_level          19438 non-null  float64\n",
      " 73  secondary_cleaner.state.floatbank3_a_air            19426 non-null  float64\n",
      " 74  secondary_cleaner.state.floatbank3_a_level          19438 non-null  float64\n",
      " 75  secondary_cleaner.state.floatbank3_b_air            19438 non-null  float64\n",
      " 76  secondary_cleaner.state.floatbank3_b_level          19438 non-null  float64\n",
      " 77  secondary_cleaner.state.floatbank4_a_air            19433 non-null  float64\n",
      " 78  secondary_cleaner.state.floatbank4_a_level          19438 non-null  float64\n",
      " 79  secondary_cleaner.state.floatbank4_b_air            19438 non-null  float64\n",
      " 80  secondary_cleaner.state.floatbank4_b_level          19438 non-null  float64\n",
      " 81  secondary_cleaner.state.floatbank5_a_air            19438 non-null  float64\n",
      " 82  secondary_cleaner.state.floatbank5_a_level          19438 non-null  float64\n",
      " 83  secondary_cleaner.state.floatbank5_b_air            19438 non-null  float64\n",
      " 84  secondary_cleaner.state.floatbank5_b_level          19438 non-null  float64\n",
      " 85  secondary_cleaner.state.floatbank6_a_air            19437 non-null  float64\n",
      " 86  secondary_cleaner.state.floatbank6_a_level          19438 non-null  float64\n",
      "dtypes: float64(86), object(1)\n",
      "memory usage: 12.9+ MB\n"
     ]
    }
   ],
   "source": [
    "df_full.info()"
   ]
  },
  {
   "cell_type": "code",
   "execution_count": 13,
   "metadata": {},
   "outputs": [
    {
     "name": "stdout",
     "output_type": "stream",
     "text": [
      "Дубликаты: 0\n"
     ]
    }
   ],
   "source": [
    "print(f'Дубликаты: {df_full.duplicated().sum()}')"
   ]
  },
  {
   "cell_type": "code",
   "execution_count": 14,
   "metadata": {
    "scrolled": true
   },
   "outputs": [
    {
     "data": {
      "text/plain": [
       "date                                            0\n",
       "final.output.concentrate_ag                     1\n",
       "final.output.concentrate_pb                     1\n",
       "final.output.concentrate_sol                  211\n",
       "final.output.concentrate_au                     0\n",
       "                                             ... \n",
       "secondary_cleaner.state.floatbank5_a_level      1\n",
       "secondary_cleaner.state.floatbank5_b_air        1\n",
       "secondary_cleaner.state.floatbank5_b_level      1\n",
       "secondary_cleaner.state.floatbank6_a_air        2\n",
       "secondary_cleaner.state.floatbank6_a_level      1\n",
       "Length: 87, dtype: int64"
      ]
     },
     "execution_count": 14,
     "metadata": {},
     "output_type": "execute_result"
    }
   ],
   "source": [
    "df_full.isna().sum()"
   ]
  },
  {
   "cell_type": "markdown",
   "metadata": {},
   "source": [
    "**Вывод:** отсутсвуют дубликаты, во всех таблицах есть пропуски. Для целевых признаков используется столбцы rougher.output.recovery и final.output.recoveryво всех таблицах есть пропуски. В выборке df_test нет части признаков, которые есть в df_full и df_train. Для столбца date нужно изменить тип данных на datetime."
   ]
  },
  {
   "cell_type": "markdown",
   "metadata": {},
   "source": [
    "### Проверка правильности расчета эффективности обогащения"
   ]
  },
  {
   "cell_type": "code",
   "execution_count": 15,
   "metadata": {},
   "outputs": [],
   "source": [
    "def get_recovery(rougher_output, rougher_input, rougher_tail):\n",
    "    return (rougher_output * (rougher_input - rougher_tail)) / (rougher_input * (rougher_output - rougher_tail)) * 100"
   ]
  },
  {
   "cell_type": "code",
   "execution_count": 16,
   "metadata": {},
   "outputs": [
    {
     "data": {
      "text/plain": [
       "0        87.107763\n",
       "1        86.843261\n",
       "2        86.842308\n",
       "3        87.226430\n",
       "4        86.688794\n",
       "           ...    \n",
       "14144    89.574376\n",
       "14145    87.724007\n",
       "14146    88.890579\n",
       "14147    89.858126\n",
       "14148    89.514960\n",
       "Length: 14149, dtype: float64"
      ]
     },
     "execution_count": 16,
     "metadata": {},
     "output_type": "execute_result"
    }
   ],
   "source": [
    "recovery = get_recovery(df_train['rougher.output.concentrate_au'], df_train['rougher.input.feed_au'], df_train['rougher.output.tail_au'])\n",
    "recovery"
   ]
  },
  {
   "cell_type": "code",
   "execution_count": 17,
   "metadata": {},
   "outputs": [
    {
     "name": "stdout",
     "output_type": "stream",
     "text": [
      "MAE между расчётами и значением признака: 9.73512347450521e-15\n"
     ]
    }
   ],
   "source": [
    "MAE = mean_absolute_error(df_train['rougher.output.recovery'], recovery)\n",
    "print(f'MAE между расчётами и значением признака: {MAE}')"
   ]
  },
  {
   "cell_type": "markdown",
   "metadata": {},
   "source": [
    "MAE между расчётами и значением признака *rougher.output.recovery* крайне мала, значит эффективность обогащения рассчитана правильно."
   ]
  },
  {
   "cell_type": "markdown",
   "metadata": {},
   "source": [
    "### Анализ признаков, недоступных в тестовой выборке"
   ]
  },
  {
   "cell_type": "code",
   "execution_count": 18,
   "metadata": {
    "scrolled": true
   },
   "outputs": [
    {
     "name": "stdout",
     "output_type": "stream",
     "text": [
      "<class 'pandas.core.frame.DataFrame'>\n",
      "RangeIndex: 14149 entries, 0 to 14148\n",
      "Data columns (total 34 columns):\n",
      " #   Column                                              Non-Null Count  Dtype  \n",
      "---  ------                                              --------------  -----  \n",
      " 0   primary_cleaner.output.tail_pb                      14134 non-null  float64\n",
      " 1   rougher.calculation.au_pb_ratio                     14149 non-null  float64\n",
      " 2   rougher.output.tail_pb                              14149 non-null  float64\n",
      " 3   final.output.tail_pb                                14049 non-null  float64\n",
      " 4   primary_cleaner.output.concentrate_au               14149 non-null  float64\n",
      " 5   primary_cleaner.output.concentrate_sol              13863 non-null  float64\n",
      " 6   final.output.concentrate_pb                         14148 non-null  float64\n",
      " 7   rougher.calculation.floatbank10_sulfate_to_au_feed  14148 non-null  float64\n",
      " 8   secondary_cleaner.output.tail_pb                    14139 non-null  float64\n",
      " 9   final.output.recovery                               14149 non-null  float64\n",
      " 10  rougher.output.tail_ag                              14148 non-null  float64\n",
      " 11  rougher.output.recovery                             14149 non-null  float64\n",
      " 12  primary_cleaner.output.tail_au                      14149 non-null  float64\n",
      " 13  primary_cleaner.output.tail_sol                     14103 non-null  float64\n",
      " 14  rougher.output.tail_au                              14149 non-null  float64\n",
      " 15  final.output.concentrate_sol                        13938 non-null  float64\n",
      " 16  rougher.output.concentrate_pb                       14149 non-null  float64\n",
      " 17  rougher.output.concentrate_ag                       14149 non-null  float64\n",
      " 18  rougher.calculation.floatbank11_sulfate_to_au_feed  14148 non-null  float64\n",
      " 19  rougher.output.tail_sol                             14149 non-null  float64\n",
      " 20  secondary_cleaner.output.tail_ag                    14147 non-null  float64\n",
      " 21  final.output.concentrate_ag                         14148 non-null  float64\n",
      " 22  final.output.concentrate_au                         14149 non-null  float64\n",
      " 23  primary_cleaner.output.tail_ag                      14148 non-null  float64\n",
      " 24  final.output.tail_au                                14149 non-null  float64\n",
      " 25  rougher.output.concentrate_sol                      14127 non-null  float64\n",
      " 26  primary_cleaner.output.concentrate_pb               14063 non-null  float64\n",
      " 27  primary_cleaner.output.concentrate_ag               14149 non-null  float64\n",
      " 28  secondary_cleaner.output.tail_sol                   12544 non-null  float64\n",
      " 29  secondary_cleaner.output.tail_au                    14149 non-null  float64\n",
      " 30  final.output.tail_ag                                14149 non-null  float64\n",
      " 31  rougher.calculation.sulfate_to_au_concentrate       14148 non-null  float64\n",
      " 32  final.output.tail_sol                               14144 non-null  float64\n",
      " 33  rougher.output.concentrate_au                       14149 non-null  float64\n",
      "dtypes: float64(34)\n",
      "memory usage: 3.7 MB\n"
     ]
    }
   ],
   "source": [
    "missed = set(df_train.columns) - set(df_test.columns)\n",
    "df_train[missed].info()"
   ]
  },
  {
   "cell_type": "markdown",
   "metadata": {},
   "source": [
    "В df_test отсутствуют 34 признака, 4 из которых расчётные характеристики, остальные - параметры продукта. Также отсутствуют целевые признаки rougher.output.recovery и final.output.recovery, которые в следующих этапах будут нужны для расчета метрики качества."
   ]
  },
  {
   "cell_type": "markdown",
   "metadata": {},
   "source": [
    "### Предобработка данных"
   ]
  },
  {
   "cell_type": "markdown",
   "metadata": {},
   "source": [
    "#### Изменение типа данных столбца date"
   ]
  },
  {
   "cell_type": "code",
   "execution_count": 19,
   "metadata": {},
   "outputs": [
    {
     "name": "stdout",
     "output_type": "stream",
     "text": [
      "datetime64[ns]\n",
      "datetime64[ns]\n",
      "datetime64[ns]\n"
     ]
    }
   ],
   "source": [
    "for df in [df_train, df_test, df_full]:\n",
    "    for column in df:\n",
    "        if 'date' in column:\n",
    "            df[column] = pd.to_datetime(df['date'], format='%Y-%m-%d %H:%M:%S')\n",
    "            print(df['date'].dtypes)"
   ]
  },
  {
   "cell_type": "markdown",
   "metadata": {},
   "source": [
    "#### Обработка пустых значений"
   ]
  },
  {
   "cell_type": "code",
   "execution_count": 20,
   "metadata": {
    "scrolled": true
   },
   "outputs": [
    {
     "name": "stdout",
     "output_type": "stream",
     "text": [
      "secondary_cleaner.output.tail_sol             1605\n",
      "rougher.state.floatbank10_e_air                436\n",
      "rougher.input.floatbank11_xanthate             428\n",
      "primary_cleaner.output.concentrate_sol         286\n",
      "secondary_cleaner.state.floatbank2_a_air       217\n",
      "                                              ... \n",
      "rougher.state.floatbank10_a_air                  1\n",
      "rougher.state.floatbank10_a_level                1\n",
      "rougher.state.floatbank10_b_air                  1\n",
      "rougher.state.floatbank10_b_level                1\n",
      "secondary_cleaner.state.floatbank6_a_level       1\n",
      "Length: 62, dtype: int64\n",
      "--------------------------------------------------------------------\n",
      "rougher.input.floatbank11_xanthate          25\n",
      "rougher.input.feed_sol                      21\n",
      "secondary_cleaner.state.floatbank3_a_air     9\n",
      "rougher.input.floatbank11_sulfate            8\n",
      "primary_cleaner.input.depressant             5\n",
      "rougher.input.floatbank10_sulfate            5\n",
      "primary_cleaner.input.sulfate                4\n",
      "primary_cleaner.input.xanthate               4\n",
      "rougher.input.feed_rate                      3\n",
      "secondary_cleaner.state.floatbank2_a_air     3\n",
      "secondary_cleaner.state.floatbank2_b_air     2\n",
      "rougher.input.feed_size                      1\n",
      "dtype: int64\n",
      "--------------------------------------------------------------------\n",
      "secondary_cleaner.output.tail_sol             1748\n",
      "rougher.input.floatbank11_xanthate             453\n",
      "rougher.state.floatbank10_e_air                436\n",
      "primary_cleaner.output.concentrate_sol         370\n",
      "secondary_cleaner.state.floatbank2_a_air       220\n",
      "                                              ... \n",
      "primary_cleaner.state.floatbank8_c_level         1\n",
      "primary_cleaner.state.floatbank8_b_level         1\n",
      "primary_cleaner.state.floatbank8_a_level         1\n",
      "final.output.tail_ag                             1\n",
      "secondary_cleaner.state.floatbank6_a_level       1\n",
      "Length: 63, dtype: int64\n",
      "--------------------------------------------------------------------\n"
     ]
    }
   ],
   "source": [
    "for df in [df_train, df_test, df_full]:\n",
    "    print(df.isna().sum()[df.isna().sum() != 0].sort_values(ascending=False))\n",
    "    print('--------------------------------------------------------------------')"
   ]
  },
  {
   "cell_type": "code",
   "execution_count": 21,
   "metadata": {
    "scrolled": true
   },
   "outputs": [
    {
     "data": {
      "text/plain": [
       "(5290, 55)"
      ]
     },
     "execution_count": 21,
     "metadata": {},
     "output_type": "execute_result"
    }
   ],
   "source": [
    "df_test = df_test.merge(df_full[['final.output.recovery', 'rougher.output.recovery', 'date']], how='left', on='date')\n",
    "df_test.shape"
   ]
  },
  {
   "cell_type": "code",
   "execution_count": 22,
   "metadata": {},
   "outputs": [
    {
     "data": {
      "text/plain": [
       "(False, False, False)"
      ]
     },
     "execution_count": 22,
     "metadata": {},
     "output_type": "execute_result"
    }
   ],
   "source": [
    "df_train = df_train.fillna(method='bfill')\n",
    "df_test = df_test.fillna(method='bfill')\n",
    "df_full = df_full.fillna(method='bfill')\n",
    "\n",
    "df_train.isna().values.any(), df_test.isna().values.any(), df_full.isna().values.any()"
   ]
  },
  {
   "cell_type": "markdown",
   "metadata": {},
   "source": [
    "**Вывод:**\n",
    "* Для столбца *date* был изменен тип данных на datetime.\n",
    "* Во всех таблицах были пропуски, заполнены следующими пропущенными значениями.\n",
    "* Отсутствовали целевые признаки *rougher.output.recovery* и *final.output.recovery* в *df_test*, добавлены с помощью merge, для индекса использован столбец *date*.\n",
    "* MAE между расчётами и значением признака rougher.output.recovery крайне мала, значит эффективность обогащения рассчитана правильно."
   ]
  },
  {
   "cell_type": "markdown",
   "metadata": {},
   "source": [
    "## Анализ данных"
   ]
  },
  {
   "cell_type": "markdown",
   "metadata": {},
   "source": [
    "### Изменение концентрации металлов"
   ]
  },
  {
   "cell_type": "markdown",
   "metadata": {},
   "source": [
    "#### Концентрация Au"
   ]
  },
  {
   "cell_type": "code",
   "execution_count": 23,
   "metadata": {
    "scrolled": true
   },
   "outputs": [
    {
     "data": {
      "image/png": "[encoded data removed]",
      "text/plain": [
       "<Figure size 1440x720 with 1 Axes>"
      ]
     },
     "metadata": {
      "needs_background": "light"
     },
     "output_type": "display_data"
    }
   ],
   "source": [
    "plt.figure(figsize=(20,10))\n",
    "\n",
    "df_full['rougher.input.feed_au'].hist(bins=25, label='rougher.output.feed', alpha=0.8)\n",
    "df_full['rougher.output.concentrate_au'].hist(bins=25, label='rougher.output', alpha=0.5)\n",
    "df_full['primary_cleaner.output.concentrate_au'].hist(bins=25, label='primary_cleaner.output', alpha=0.5)\n",
    "df_full['final.output.concentrate_au'].hist(bins=25, label='secondary_cleaner.output', alpha=0.5)\n",
    "\n",
    "plt.title('Диаграмма концентрации золота Au', size=25)\n",
    "plt.legend(loc='upper left')\n",
    "plt.xlabel('Значения', size=15)\n",
    "plt.ylabel('Количество результатов', size=15)\n",
    "plt.show()"
   ]
  },
  {
   "cell_type": "code",
   "execution_count": 24,
   "metadata": {},
   "outputs": [
    {
     "data": {
      "text/plain": [
       "rougher.output.concentrate_au            19.772000\n",
       "primary_cleaner.output.concentrate_au    32.119400\n",
       "final.output.concentrate_au              44.076513\n",
       "dtype: float64"
      ]
     },
     "execution_count": 24,
     "metadata": {},
     "output_type": "execute_result"
    }
   ],
   "source": [
    "df_full[['rougher.output.concentrate_au', 'primary_cleaner.output.concentrate_au', 'final.output.concentrate_au']].mean()"
   ]
  },
  {
   "cell_type": "code",
   "execution_count": 25,
   "metadata": {},
   "outputs": [
    {
     "data": {
      "text/plain": [
       "rougher.output.tail_au              1.816391\n",
       "primary_cleaner.output.tail_au      3.914179\n",
       "secondary_cleaner.output.tail_au    4.339625\n",
       "dtype: float64"
      ]
     },
     "execution_count": 25,
     "metadata": {},
     "output_type": "execute_result"
    }
   ],
   "source": [
    "df_full[['rougher.output.tail_au', 'primary_cleaner.output.tail_au', 'secondary_cleaner.output.tail_au']].mean()"
   ]
  },
  {
   "cell_type": "markdown",
   "metadata": {},
   "source": [
    "Доля золота после каждого этапа очистки увеличивается."
   ]
  },
  {
   "cell_type": "markdown",
   "metadata": {},
   "source": [
    "#### Концентрация Ag"
   ]
  },
  {
   "cell_type": "code",
   "execution_count": 26,
   "metadata": {},
   "outputs": [
    {
     "data": {
      "image/png": "[encoded data removed]",
      "text/plain": [
       "<Figure size 1440x720 with 1 Axes>"
      ]
     },
     "metadata": {
      "needs_background": "light"
     },
     "output_type": "display_data"
    }
   ],
   "source": [
    "plt.figure(figsize=(20,10))\n",
    "\n",
    "df_full['rougher.input.feed_ag'].hist(bins=25, label='rougher.output.feed', alpha=0.8)\n",
    "df_full['rougher.output.concentrate_ag'].hist(bins=25, label='rougher.output', alpha=0.5)\n",
    "df_full['primary_cleaner.output.concentrate_ag'].hist(bins=25, label='primary_cleaner.output', alpha=0.5)\n",
    "df_full['final.output.concentrate_ag'].hist(bins=25, label='secondary_cleaner.output', alpha=0.5)\n",
    "\n",
    "plt.title('Диаграмма концентрации серебра Ag', size=25)\n",
    "plt.legend(loc='upper left')\n",
    "plt.xlabel('Значения', size=15)\n",
    "plt.ylabel('Количество результатов', size=15)\n",
    "plt.show()"
   ]
  },
  {
   "cell_type": "code",
   "execution_count": 27,
   "metadata": {},
   "outputs": [
    {
     "data": {
      "text/plain": [
       "rougher.output.concentrate_ag            11.994759\n",
       "primary_cleaner.output.concentrate_ag     8.442408\n",
       "final.output.concentrate_ag               5.168382\n",
       "dtype: float64"
      ]
     },
     "execution_count": 27,
     "metadata": {},
     "output_type": "execute_result"
    }
   ],
   "source": [
    "df_full[['rougher.output.concentrate_ag', 'primary_cleaner.output.concentrate_ag', 'final.output.concentrate_ag']].mean()"
   ]
  },
  {
   "cell_type": "code",
   "execution_count": 28,
   "metadata": {},
   "outputs": [
    {
     "data": {
      "text/plain": [
       "rougher.output.tail_ag               5.589070\n",
       "primary_cleaner.output.tail_ag      16.145110\n",
       "secondary_cleaner.output.tail_ag    14.586431\n",
       "dtype: float64"
      ]
     },
     "execution_count": 28,
     "metadata": {},
     "output_type": "execute_result"
    }
   ],
   "source": [
    "df_full[['rougher.output.tail_ag', 'primary_cleaner.output.tail_ag', 'secondary_cleaner.output.tail_ag']].mean()"
   ]
  },
  {
   "cell_type": "markdown",
   "metadata": {},
   "source": [
    "На этапе флотации концентрация серебра увеличивается, а затем уменьшается. "
   ]
  },
  {
   "cell_type": "markdown",
   "metadata": {},
   "source": [
    "#### Концентрация Pb"
   ]
  },
  {
   "cell_type": "code",
   "execution_count": 29,
   "metadata": {},
   "outputs": [
    {
     "data": {
      "image/png": "[encoded data removed]",
      "text/plain": [
       "<Figure size 1440x720 with 1 Axes>"
      ]
     },
     "metadata": {
      "needs_background": "light"
     },
     "output_type": "display_data"
    }
   ],
   "source": [
    "plt.figure(figsize=(20,10))\n",
    "\n",
    "df_full['rougher.input.feed_pb'].hist(bins=25, label='rougher.output.feed', alpha=0.5)\n",
    "df_full['rougher.output.concentrate_pb'].hist(bins=25, label='rougher.output.concentrate', alpha=0.5)\n",
    "df_full['primary_cleaner.output.concentrate_pb'].hist(bins=25, label='primary_cleaner.output', alpha=0.5)\n",
    "df_full['final.output.concentrate_pb'].hist(bins=25, label='secondary_cleaner.output', alpha=0.5)\n",
    "\n",
    "plt.title('Диаграмма концентрации свинца Pb', size=25)\n",
    "plt.legend(loc='upper left')\n",
    "plt.xlabel('Значения', size=15)\n",
    "plt.ylabel('Количество результатов', size=15)\n",
    "plt.show()"
   ]
  },
  {
   "cell_type": "code",
   "execution_count": 30,
   "metadata": {},
   "outputs": [
    {
     "data": {
      "text/plain": [
       "rougher.output.concentrate_pb            7.606272\n",
       "primary_cleaner.output.concentrate_pb    9.810430\n",
       "final.output.concentrate_pb              9.978817\n",
       "dtype: float64"
      ]
     },
     "execution_count": 30,
     "metadata": {},
     "output_type": "execute_result"
    }
   ],
   "source": [
    "df_full[['rougher.output.concentrate_pb', 'primary_cleaner.output.concentrate_pb', 'final.output.concentrate_pb']].mean()"
   ]
  },
  {
   "cell_type": "code",
   "execution_count": 31,
   "metadata": {},
   "outputs": [
    {
     "data": {
      "text/plain": [
       "rougher.output.tail_pb              0.645782\n",
       "primary_cleaner.output.tail_pb      3.433834\n",
       "secondary_cleaner.output.tail_pb    5.776394\n",
       "dtype: float64"
      ]
     },
     "execution_count": 31,
     "metadata": {},
     "output_type": "execute_result"
    }
   ],
   "source": [
    "df_full[['rougher.output.tail_pb', 'primary_cleaner.output.tail_pb', 'secondary_cleaner.output.tail_pb']].mean()"
   ]
  },
  {
   "cell_type": "markdown",
   "metadata": {},
   "source": [
    "Доля свинца на флотации и после первичной обработки увеличивается, но потом остается на одном уровне."
   ]
  },
  {
   "cell_type": "markdown",
   "metadata": {},
   "source": [
    "### Сравнение распределения размеров гранул сырья на обучающей и тестовой выборках"
   ]
  },
  {
   "cell_type": "code",
   "execution_count": 47,
   "metadata": {},
   "outputs": [
    {
     "data": {
      "image/png": "[encoded data removed]",
      "text/plain": [
       "<Figure size 1440x720 with 1 Axes>"
      ]
     },
     "metadata": {
      "needs_background": "light"
     },
     "output_type": "display_data"
    }
   ],
   "source": [
    "plt.figure(figsize=(20,10))\n",
    "plt.hist(df_train['rougher.input.feed_size'], bins=100, density=True, label='train rougher.input.feed_size', range=(20, 150), alpha=0.5)\n",
    "plt.hist(df_test['rougher.input.feed_size'], bins=100, density=True, label='test rougher.input.feed_size', range=(20, 150), alpha=0.5)\n",
    "\n",
    "plt.title('Распределения размеров гранул сырья на обучающей и тестовой выборках на этапе флотации', size=20)\n",
    "plt.legend(loc='upper left')\n",
    "plt.xlabel('Размер гранул сырья', size=15)\n",
    "plt.ylabel('Количество результатов', size=15)\n",
    "plt.show()"
   ]
  },
  {
   "cell_type": "code",
   "execution_count": 46,
   "metadata": {},
   "outputs": [
    {
     "data": {
      "image/png": "[encoded data removed]",
      "text/plain": [
       "<Figure size 1440x720 with 1 Axes>"
      ]
     },
     "metadata": {
      "needs_background": "light"
     },
     "output_type": "display_data"
    }
   ],
   "source": [
    "plt.figure(figsize=(20,10))\n",
    "plt.hist(df_train['primary_cleaner.input.feed_size'], bins=100, density=True, label='train primary_cleaner.input.feed_size', range=(5, 10), alpha=0.5)\n",
    "plt.hist(df_test['primary_cleaner.input.feed_size'], bins=100, density=True, label='test primary_cleaner.input.feed_size', range=(5, 10), alpha=0.5)\n",
    "\n",
    "plt.title('Распределения размеров гранул сырья на обучающей и тестовой выборках этапе первичной очистки', size=20)\n",
    "plt.legend(loc='upper left')\n",
    "plt.xlabel('Размер гранул сырья', size=15)\n",
    "plt.ylabel('Количество результатов', size=15)\n",
    "plt.show()"
   ]
  },
  {
   "cell_type": "markdown",
   "metadata": {},
   "source": [
    "* Построены графики распределения размеров гранул сырья в этапы флотации и первичной очистки выборок train и test.\n",
    "\n",
    "* Гранулы размером около 50 преобладают в тренировочной выборке, однако для тестовой выборке пик достигается в значении между 40 и 50. Но обе выборки лежат примерно в одном диапазоне.\n",
    "\n",
    "* В целом для этапа первичной очистки особо большой разницы, которая играла бы существенную роль, между выборками в распределении размеров гранул сырья не наблюдается.\n",
    "\n",
    "Следовательно значимых различий между распределениями для выборок не наблюдается. Их можно считать похожими. "
   ]
  },
  {
   "cell_type": "markdown",
   "metadata": {},
   "source": [
    "### Исследование суммарной концентрации всех веществ на разных стадиях"
   ]
  },
  {
   "cell_type": "markdown",
   "metadata": {},
   "source": [
    "#### Датафрейм суммарной концентрации всех веществ на разных стадиях"
   ]
  },
  {
   "cell_type": "code",
   "execution_count": 34,
   "metadata": {},
   "outputs": [
    {
     "data": {
      "text/html": [
       "<div>\n",
       "<style scoped>\n",
       "    .dataframe tbody tr th:only-of-type {\n",
       "        vertical-align: middle;\n",
       "    }\n",
       "\n",
       "    .dataframe tbody tr th {\n",
       "        vertical-align: top;\n",
       "    }\n",
       "\n",
       "    .dataframe thead th {\n",
       "        text-align: right;\n",
       "    }\n",
       "</style>\n",
       "<table border=\"1\" class=\"dataframe\">\n",
       "  <thead>\n",
       "    <tr style=\"text-align: right;\">\n",
       "      <th></th>\n",
       "      <th>rougher.input</th>\n",
       "      <th>rougher.output</th>\n",
       "      <th>primary_cleaner.output</th>\n",
       "      <th>final.output</th>\n",
       "    </tr>\n",
       "  </thead>\n",
       "  <tbody>\n",
       "    <tr>\n",
       "      <th>count</th>\n",
       "      <td>19439.000000</td>\n",
       "      <td>19439.000000</td>\n",
       "      <td>19439.000000</td>\n",
       "      <td>19439.000000</td>\n",
       "    </tr>\n",
       "    <tr>\n",
       "      <th>mean</th>\n",
       "      <td>57.315167</td>\n",
       "      <td>68.178284</td>\n",
       "      <td>60.764414</td>\n",
       "      <td>68.664977</td>\n",
       "    </tr>\n",
       "    <tr>\n",
       "      <th>std</th>\n",
       "      <td>7.225674</td>\n",
       "      <td>12.480460</td>\n",
       "      <td>10.017740</td>\n",
       "      <td>7.420546</td>\n",
       "    </tr>\n",
       "    <tr>\n",
       "      <th>min</th>\n",
       "      <td>0.040000</td>\n",
       "      <td>0.000000</td>\n",
       "      <td>0.000000</td>\n",
       "      <td>0.000000</td>\n",
       "    </tr>\n",
       "    <tr>\n",
       "      <th>25%</th>\n",
       "      <td>53.548524</td>\n",
       "      <td>66.015877</td>\n",
       "      <td>58.928859</td>\n",
       "      <td>67.937390</td>\n",
       "    </tr>\n",
       "    <tr>\n",
       "      <th>50%</th>\n",
       "      <td>57.589795</td>\n",
       "      <td>70.182893</td>\n",
       "      <td>62.497674</td>\n",
       "      <td>69.601920</td>\n",
       "    </tr>\n",
       "    <tr>\n",
       "      <th>75%</th>\n",
       "      <td>61.955432</td>\n",
       "      <td>74.359349</td>\n",
       "      <td>65.666701</td>\n",
       "      <td>71.369393</td>\n",
       "    </tr>\n",
       "    <tr>\n",
       "      <th>max</th>\n",
       "      <td>76.978947</td>\n",
       "      <td>88.140119</td>\n",
       "      <td>80.749343</td>\n",
       "      <td>80.210644</td>\n",
       "    </tr>\n",
       "  </tbody>\n",
       "</table>\n",
       "</div>"
      ],
      "text/plain": [
       "       rougher.input  rougher.output  primary_cleaner.output  final.output\n",
       "count   19439.000000    19439.000000            19439.000000  19439.000000\n",
       "mean       57.315167       68.178284               60.764414     68.664977\n",
       "std         7.225674       12.480460               10.017740      7.420546\n",
       "min         0.040000        0.000000                0.000000      0.000000\n",
       "25%        53.548524       66.015877               58.928859     67.937390\n",
       "50%        57.589795       70.182893               62.497674     69.601920\n",
       "75%        61.955432       74.359349               65.666701     71.369393\n",
       "max        76.978947       88.140119               80.749343     80.210644"
      ]
     },
     "execution_count": 34,
     "metadata": {},
     "output_type": "execute_result"
    }
   ],
   "source": [
    "sum_concentrate = pd.DataFrame()\n",
    "\n",
    "sum_concentrate['rougher.input'] = df_full['rougher.input.feed_ag'] + df_full['rougher.input.feed_pb'] + df_full['rougher.input.feed_sol'] + df_full['rougher.input.feed_au']\n",
    "sum_concentrate['rougher.output'] = df_full['rougher.output.concentrate_ag'] + df_full['rougher.output.concentrate_pb'] + df_full['rougher.output.concentrate_sol'] + df_full['rougher.output.concentrate_au']\n",
    "sum_concentrate['primary_cleaner.output'] = df_full['primary_cleaner.output.concentrate_ag'] + df_full['primary_cleaner.output.concentrate_pb'] + df_full['primary_cleaner.output.concentrate_sol'] + df_full['primary_cleaner.output.concentrate_au']\n",
    "sum_concentrate['final.output'] = df_full['final.output.concentrate_ag'] + df_full['final.output.concentrate_pb'] + df_full['final.output.concentrate_sol'] + df_full['final.output.concentrate_au']\n",
    "\n",
    "sum_concentrate.describe()"
   ]
  },
  {
   "cell_type": "markdown",
   "metadata": {},
   "source": [
    "#### График"
   ]
  },
  {
   "cell_type": "code",
   "execution_count": 35,
   "metadata": {},
   "outputs": [
    {
     "data": {
      "image/png": "[encoded data removed]",
      "text/plain": [
       "<Figure size 1440x720 with 1 Axes>"
      ]
     },
     "metadata": {
      "needs_background": "light"
     },
     "output_type": "display_data"
    }
   ],
   "source": [
    "plt.figure(figsize=(20,10))\n",
    "plt.hist(sum_concentrate['rougher.input'], bins=150, label='rougher.input', range=(0, 90), alpha=0.5)\n",
    "plt.hist(sum_concentrate['rougher.output'], bins=150, label='rougher.output', range=(0, 90), alpha=0.5)\n",
    "plt.hist(sum_concentrate['primary_cleaner.output'], bins=150, label='primary_cleaner.output', range=(0, 90), alpha=0.5)\n",
    "plt.hist(sum_concentrate['final.output'], bins=150, label='final.output', range=(0, 90), alpha=0.5)\n",
    "\n",
    "plt.legend(loc='upper left')\n",
    "plt.title('Распределения суммарной концентрации всех веществ на разных стадиях', size=20)\n",
    "plt.xlabel('Значения', size=15)\n",
    "plt.ylabel('Количество результатов', size=15)\n",
    "plt.show()"
   ]
  },
  {
   "cell_type": "markdown",
   "metadata": {},
   "source": [
    "Наблюдается выбросы около 0. Возможно, это связано с неудачным забором руды, в котором нет металлов. Нужно будет избавиться от этих аномалий."
   ]
  },
  {
   "cell_type": "markdown",
   "metadata": {},
   "source": [
    "#### Удаление аномалий около 0 во всех таблицах"
   ]
  },
  {
   "cell_type": "code",
   "execution_count": 36,
   "metadata": {},
   "outputs": [],
   "source": [
    "df_full = df_full[(df_full['rougher.input.feed_ag'] >= 1) &\n",
    "            (df_full['rougher.input.feed_pb'] >= 1) &\n",
    "            (df_full['rougher.input.feed_sol'] >= 1) &\n",
    "            (df_full['rougher.input.feed_au'] >= 1) &\n",
    "            (df_full['rougher.output.concentrate_ag'] >= 1) &\n",
    "            (df_full['rougher.output.concentrate_pb'] >= 1) &\n",
    "            (df_full['rougher.output.concentrate_sol'] >= 1) &\n",
    "            (df_full['rougher.output.concentrate_au'] >= 1) &\n",
    "            (df_full['primary_cleaner.output.concentrate_ag'] >= 1) &\n",
    "            (df_full['primary_cleaner.output.concentrate_pb'] >= 1) &\n",
    "            (df_full['primary_cleaner.output.concentrate_sol'] >= 1) &\n",
    "            (df_full['primary_cleaner.output.concentrate_au'] >= 1) &\n",
    "            (df_full['final.output.concentrate_ag'] >= 1) &\n",
    "            (df_full['final.output.concentrate_pb'] >= 1) &\n",
    "            (df_full['final.output.concentrate_sol'] >= 1) &\n",
    "            (df_full['final.output.concentrate_au'] >= 1)]\n",
    "\n",
    "df_train = df_train[(df_train['rougher.input.feed_ag'] >= 1) &\n",
    "            (df_train['rougher.input.feed_pb'] >= 1) &\n",
    "            (df_train['rougher.input.feed_sol'] >= 1) &\n",
    "            (df_train['rougher.input.feed_au'] >= 1) &\n",
    "            (df_train['rougher.output.concentrate_ag'] >= 1) &\n",
    "            (df_train['rougher.output.concentrate_pb'] >= 1) &\n",
    "            (df_train['rougher.output.concentrate_sol'] >= 1) &\n",
    "            (df_train['rougher.output.concentrate_au'] >= 1) &\n",
    "            (df_train['primary_cleaner.output.concentrate_ag'] >= 1) &\n",
    "            (df_train['primary_cleaner.output.concentrate_pb'] >= 1) &\n",
    "            (df_train['primary_cleaner.output.concentrate_sol'] >= 1) &\n",
    "            (df_train['primary_cleaner.output.concentrate_au'] >= 1) &\n",
    "            (df_train['final.output.concentrate_ag'] >= 1) &\n",
    "            (df_train['final.output.concentrate_pb'] >= 1) &\n",
    "            (df_train['final.output.concentrate_sol'] >= 1) &\n",
    "            (df_train['final.output.concentrate_au'] >= 1)]\n",
    "\n",
    "df_test = df_test[(df_test['rougher.input.feed_ag'] >= 1) &\n",
    "            (df_test['rougher.input.feed_pb'] >= 1) &\n",
    "            (df_test['rougher.input.feed_sol'] >= 1) &\n",
    "            (df_test['rougher.input.feed_au'] >= 1)]"
   ]
  },
  {
   "cell_type": "markdown",
   "metadata": {},
   "source": [
    "**Вывод:**\n",
    "* Были обнаружены и удалены выбросы в данных.\n",
    "* Построены графики распределения размеров гранул сырья в этапы флотации и первичной очистки выборок train и test, диаграммы концентрации всех металлов.\n",
    "* Доля золота после каждого этапа очистки увеличивается. На этапе флотации концентрация серебра увеличивается, а затем уменьшается. Доля свинца на флотации и после первичной обработки увеличивается, но потом остается на одном уровне."
   ]
  },
  {
   "cell_type": "markdown",
   "metadata": {},
   "source": [
    "## Модель"
   ]
  },
  {
   "cell_type": "markdown",
   "metadata": {},
   "source": [
    "### Разделение обучающей и тестовой выборки на признаки"
   ]
  },
  {
   "cell_type": "code",
   "execution_count": 37,
   "metadata": {},
   "outputs": [],
   "source": [
    "features = list(df_test.columns)[1:-2]\n",
    "target = list(reversed(list(df_test.columns)[-2:]))\n",
    "\n",
    "features_train = df_train[features]\n",
    "target_train = df_train[target]\n",
    "features_test = df_test[features]\n",
    "target_test = df_test[target]"
   ]
  },
  {
   "cell_type": "markdown",
   "metadata": {},
   "source": [
    "### Функции, необходимые для вычисления итоговой sMAPE"
   ]
  },
  {
   "cell_type": "code",
   "execution_count": 38,
   "metadata": {},
   "outputs": [],
   "source": [
    "def get_sMAPE(target, predict):\n",
    "    smape = (1/len(target))*np.sum((np.abs(target - predict))/((np.abs(target)+np.abs(predict))/2))*100\n",
    "    return smape"
   ]
  },
  {
   "cell_type": "code",
   "execution_count": 39,
   "metadata": {},
   "outputs": [],
   "source": [
    "smape_scorer = make_scorer(get_sMAPE, greater_is_better = False)"
   ]
  },
  {
   "cell_type": "code",
   "execution_count": 40,
   "metadata": {},
   "outputs": [],
   "source": [
    "def get_final_sMAPE(rougher, final):\n",
    "    final = 0.25*rougher + 0.75*final\n",
    "    return final"
   ]
  },
  {
   "cell_type": "markdown",
   "metadata": {},
   "source": [
    "### Линейная регрессия"
   ]
  },
  {
   "cell_type": "code",
   "execution_count": 41,
   "metadata": {},
   "outputs": [
    {
     "name": "stdout",
     "output_type": "stream",
     "text": [
      "Результат: 9.679662296716215\n",
      "CPU times: user 1.38 s, sys: 1.5 s, total: 2.88 s\n",
      "Wall time: 2.84 s\n"
     ]
    }
   ],
   "source": [
    "%%time\n",
    "model_lr_rougher = LinearRegression()\n",
    "smape_rougher = cross_val_score(model_lr_rougher, features_train, target_train['rougher.output.recovery'],scoring=smape_scorer,cv=5)\n",
    "final_smape_rougher = smape_rougher.mean()\n",
    "\n",
    "model_lr_final = LinearRegression()\n",
    "smape_final = cross_val_score(model_lr_final, features_train, target_train['final.output.recovery'], scoring=smape_scorer, cv=5)\n",
    "final_smape_final = smape_final.mean()\n",
    "result_smape = abs(get_final_sMAPE(final_smape_rougher, final_smape_final))\n",
    "\n",
    "print(f'Результат: {result_smape}')"
   ]
  },
  {
   "cell_type": "markdown",
   "metadata": {},
   "source": [
    "### Дерево решений"
   ]
  },
  {
   "cell_type": "code",
   "execution_count": 42,
   "metadata": {},
   "outputs": [
    {
     "name": "stdout",
     "output_type": "stream",
     "text": [
      "Лучший результат: 8.617618105543382 с параметром depth=3.\n",
      "CPU times: user 22.7 s, sys: 20.6 ms, total: 22.7 s\n",
      "Wall time: 22.7 s\n"
     ]
    }
   ],
   "source": [
    "%%time\n",
    "state = RandomState(12345)\n",
    "best_result = 100\n",
    "for depth in range(1, 10, 1):\n",
    "    model_dt_rougher = DecisionTreeRegressor(max_depth=depth, random_state=state)\n",
    "    smape_rougher = cross_val_score(model_dt_rougher, features_train, target_train['rougher.output.recovery'], scoring=smape_scorer, cv=5)\n",
    "    final_smape_rougher = smape_rougher.mean()\n",
    "\n",
    "    model_dt_final = DecisionTreeRegressor(max_depth=depth, random_state=state)\n",
    "    smape_final = cross_val_score(model_dt_final, features_train, target_train['final.output.recovery'], scoring=smape_scorer, cv=5)\n",
    "    final_smape_final = smape_final.mean()\n",
    "    result_smape = abs(get_final_sMAPE(final_smape_rougher, final_smape_final))\n",
    "    if result_smape < best_result:\n",
    "        best_result = result_smape\n",
    "        best_depth = depth\n",
    "        \n",
    "print(f'Лучший результат: {best_result} с параметром depth={best_depth}.')"
   ]
  },
  {
   "cell_type": "markdown",
   "metadata": {},
   "source": [
    "### Случайный лес"
   ]
  },
  {
   "cell_type": "code",
   "execution_count": 43,
   "metadata": {},
   "outputs": [
    {
     "name": "stdout",
     "output_type": "stream",
     "text": [
      "Лучший результат: 8.228099201205124 с параметрами n=40 и depth=5.\n",
      "CPU times: user 15min 7s, sys: 801 ms, total: 15min 8s\n",
      "Wall time: 15min 10s\n"
     ]
    }
   ],
   "source": [
    "%%time\n",
    "state = RandomState(12345)\n",
    "best_result = 100000\n",
    "for n in range(10, 100, 30):\n",
    "    for depth in range(2, 12, 3):\n",
    "        model_rf_rougher = RandomForestRegressor(n_estimators=n, max_depth=depth, random_state=state)\n",
    "        smape_rougher = cross_val_score(model_rf_rougher, features_train, target_train['rougher.output.recovery'], scoring=smape_scorer, cv=5)\n",
    "        final_smape_rougher = smape_rougher.mean()\n",
    "\n",
    "        model_rf_final = RandomForestRegressor(n_estimators=n, max_depth=depth, random_state=state)\n",
    "        smape_final = cross_val_score(model_rf_final, features_train, target_train['final.output.recovery'], scoring=smape_scorer, cv=5)\n",
    "        final_smape_final = smape_final.mean()\n",
    "        result_smape = abs(get_final_sMAPE(final_smape_rougher, final_smape_final))\n",
    "        if result_smape < best_result:\n",
    "            best_result = result_smape\n",
    "            best_depth = depth\n",
    "            best_n = n\n",
    "            \n",
    "print(f'Лучший результат: {best_result} с параметрами n={best_n} и depth={best_depth}.')"
   ]
  },
  {
   "cell_type": "markdown",
   "metadata": {},
   "source": [
    "* Лучше всего и дольше всех по времени показал себя ожидаемо случайный лес. Модель достигает совего лучшего результата sMAPE ~ 8.23 c с параметрами *n*=40 и *depth*=5. \n",
    "* Хуже всего отработала модель линейная регрессия. Ее метрика sMAPE ~ 9.68.\n",
    "* Дерево решений показало за среднее время средний результат ~ 8.62 с параметром *depth*=3."
   ]
  },
  {
   "cell_type": "markdown",
   "metadata": {},
   "source": [
    "### Проверка на тестовой выборке"
   ]
  },
  {
   "cell_type": "code",
   "execution_count": 44,
   "metadata": {},
   "outputs": [
    {
     "name": "stdout",
     "output_type": "stream",
     "text": [
      "Результат для тестовой выборки: 9.219813294383359\n"
     ]
    }
   ],
   "source": [
    "state = RandomState(12345)\n",
    "model_test_rougher = RandomForestRegressor(n_estimators=40, max_depth=5, random_state=state)\n",
    "model_test_rougher.fit(features_train, target_train['rougher.output.recovery'])\n",
    "predicted_rougher = model_test_rougher.predict(features_test)\n",
    "smape_test_rougher = get_sMAPE(target_test['rougher.output.recovery'], predicted_rougher)\n",
    "\n",
    "model_test_final = RandomForestRegressor(n_estimators=40, max_depth=5, random_state=state)\n",
    "model_test_final.fit(features_train, target_train['final.output.recovery'])\n",
    "predicted_final = model_test_final.predict(features_test)\n",
    "smape_test_final = get_sMAPE(target_test['final.output.recovery'], predicted_final)\n",
    "\n",
    "final_smape_test = get_final_sMAPE(smape_test_rougher, smape_test_final)\n",
    "print(f'Результат для тестовой выборки: {final_smape_test}')"
   ]
  },
  {
   "cell_type": "markdown",
   "metadata": {},
   "source": [
    "### Проверка на адекватность"
   ]
  },
  {
   "cell_type": "code",
   "execution_count": 45,
   "metadata": {},
   "outputs": [
    {
     "name": "stdout",
     "output_type": "stream",
     "text": [
      "Результат для константной модели: 9.635147126210216\n"
     ]
    }
   ],
   "source": [
    "dummy_rougher = DummyRegressor(strategy=\"mean\")\n",
    "dummy_final = DummyRegressor(strategy=\"mean\")\n",
    "\n",
    "dummy_rougher.fit(features_train, target_train['rougher.output.recovery'])\n",
    "dummy_final.fit(features_train, target_train['final.output.recovery'])\n",
    "dummy_predicted_rougher = dummy_rougher.predict(features_test)\n",
    "dummy_predicted_final = dummy_final.predict(features_test)\n",
    "\n",
    "smape_const_rougher = get_sMAPE(target_test['rougher.output.recovery'], dummy_predicted_rougher)\n",
    "smape_const_final = get_sMAPE(target_test['final.output.recovery'], dummy_predicted_final)\n",
    "final_smape_const = get_final_sMAPE(smape_const_rougher, smape_const_final)\n",
    "print(f'Результат для константной модели: {final_smape_const}')"
   ]
  },
  {
   "cell_type": "markdown",
   "metadata": {},
   "source": [
    "Проверка на адекватность прошла успешно. "
   ]
  },
  {
   "cell_type": "markdown",
   "metadata": {},
   "source": [
    "## Вывод"
   ]
  },
  {
   "cell_type": "markdown",
   "metadata": {},
   "source": [
    "* Во всех таблицах были пропуски, заполнены следующими пропущенными значениями.\n",
    "* Отсутствовали целевые признаки *rougher.output.recovery* и *final.output.recovery* в *df_test*, добавлены с помощью merge, для индекса использован столбец *date*.\n",
    "* MAE между расчётами и значением признака rougher.output.recovery крайне мала, значит эффективность обогащения рассчитана правильно.\n",
    "* Были обнаружены и удалены выбросы в данных.\n",
    "* Построены графики распределения размеров гранул сырья в этапы флотации и первичной очистки выборок train и test, диаграммы концентрации всех металлов.\n",
    "* Хуже всего отработала модель линейная регрессия. Ее метрика sMAPE ~ 9.68.\n",
    "* Дерево решений показало за среднее время средний результат ~ 8.62 с параметром *depth*=3.\n",
    "\n",
    "В качестве прототипа модели машинного обучения для «Цифры» может быть использована **модель случайного леса**. Она дает наилучшую метрику качества при параметрах *n*=40 и *depth*=5. Проверку на адекватность эта модель прошла."
   ]
  },
  {
   "cell_type": "markdown",
   "metadata": {},
   "source": [
    "**P.S.** У меня завтра в 16:00 дедлайн по данному проекту. Я сделаю все возможно, чтобы защитить этот проект до него, за минимально количество попыток!"
   ]
  }
 ],
 "metadata": {
  "ExecuteTimeLog": [
   {
    "duration": 1733,
    "start_time": "2023-04-19T23:30:08.797Z"
   },
   {
    "duration": 3017,
    "start_time": "2023-04-19T23:30:10.533Z"
   },
   {
    "duration": 3,
    "start_time": "2023-04-19T23:35:06.660Z"
   },
   {
    "duration": 162,
    "start_time": "2023-04-19T23:35:38.198Z"
   },
   {
    "duration": 40,
    "start_time": "2023-04-19T23:35:56.881Z"
   },
   {
    "duration": 44,
    "start_time": "2023-04-19T23:36:41.534Z"
   },
   {
    "duration": 3,
    "start_time": "2023-04-19T23:37:03.199Z"
   },
   {
    "duration": 3,
    "start_time": "2023-04-19T23:37:18.029Z"
   },
   {
    "duration": 145,
    "start_time": "2023-04-19T23:37:22.349Z"
   },
   {
    "duration": 144,
    "start_time": "2023-04-19T23:37:58.105Z"
   },
   {
    "duration": 3,
    "start_time": "2023-04-19T23:38:01.566Z"
   },
   {
    "duration": 153,
    "start_time": "2023-04-19T23:38:03.719Z"
   },
   {
    "duration": 22,
    "start_time": "2023-04-20T00:15:10.304Z"
   },
   {
    "duration": 13,
    "start_time": "2023-04-20T00:15:33.474Z"
   },
   {
    "duration": 9,
    "start_time": "2023-04-20T00:16:28.972Z"
   },
   {
    "duration": 110,
    "start_time": "2023-04-20T00:16:35.614Z"
   },
   {
    "duration": 9,
    "start_time": "2023-04-20T00:17:47.944Z"
   },
   {
    "duration": 26,
    "start_time": "2023-04-20T00:21:55.264Z"
   },
   {
    "duration": 12,
    "start_time": "2023-04-20T00:21:55.896Z"
   },
   {
    "duration": 9,
    "start_time": "2023-04-20T00:21:56.604Z"
   },
   {
    "duration": 6,
    "start_time": "2023-04-20T00:21:57.125Z"
   },
   {
    "duration": 24,
    "start_time": "2023-04-20T00:22:08.664Z"
   },
   {
    "duration": 24,
    "start_time": "2023-04-20T00:22:14.269Z"
   },
   {
    "duration": 18,
    "start_time": "2023-04-20T00:22:20.214Z"
   },
   {
    "duration": 98,
    "start_time": "2023-04-20T00:22:21.019Z"
   },
   {
    "duration": 10,
    "start_time": "2023-04-20T00:22:22.451Z"
   },
   {
    "duration": 18,
    "start_time": "2023-04-20T00:26:11.438Z"
   },
   {
    "duration": 12,
    "start_time": "2023-04-20T18:51:58.770Z"
   },
   {
    "duration": 59,
    "start_time": "2023-04-20T18:51:59.271Z"
   },
   {
    "duration": 1663,
    "start_time": "2023-04-20T18:52:11.526Z"
   },
   {
    "duration": 2055,
    "start_time": "2023-04-20T18:52:13.191Z"
   },
   {
    "duration": 28,
    "start_time": "2023-04-20T18:52:15.248Z"
   },
   {
    "duration": 20,
    "start_time": "2023-04-20T18:52:15.278Z"
   },
   {
    "duration": 128,
    "start_time": "2023-04-20T18:52:15.301Z"
   },
   {
    "duration": 9,
    "start_time": "2023-04-20T18:52:15.431Z"
   },
   {
    "duration": 21,
    "start_time": "2023-04-20T18:52:15.442Z"
   },
   {
    "duration": 39,
    "start_time": "2023-04-20T18:52:15.465Z"
   },
   {
    "duration": 22,
    "start_time": "2023-04-20T18:52:15.506Z"
   },
   {
    "duration": 7,
    "start_time": "2023-04-20T18:52:15.532Z"
   },
   {
    "duration": 69,
    "start_time": "2023-04-20T18:52:15.541Z"
   },
   {
    "duration": 33,
    "start_time": "2023-04-20T18:52:15.612Z"
   },
   {
    "duration": 104,
    "start_time": "2023-04-20T18:52:15.647Z"
   },
   {
    "duration": 10,
    "start_time": "2023-04-20T18:52:15.753Z"
   },
   {
    "duration": 3,
    "start_time": "2023-04-20T18:52:19.322Z"
   },
   {
    "duration": 11,
    "start_time": "2023-04-20T18:52:22.105Z"
   },
   {
    "duration": 5,
    "start_time": "2023-04-20T18:52:41.709Z"
   },
   {
    "duration": 14,
    "start_time": "2023-04-20T18:59:41.923Z"
   },
   {
    "duration": 23,
    "start_time": "2023-04-20T19:16:09.209Z"
   },
   {
    "duration": 35,
    "start_time": "2023-04-20T19:16:10.437Z"
   },
   {
    "duration": 88,
    "start_time": "2023-04-20T19:16:18.176Z"
   },
   {
    "duration": 17,
    "start_time": "2023-04-20T19:16:26.251Z"
   },
   {
    "duration": 1690,
    "start_time": "2023-04-20T19:17:36.164Z"
   },
   {
    "duration": 1884,
    "start_time": "2023-04-20T19:17:37.857Z"
   },
   {
    "duration": 25,
    "start_time": "2023-04-20T19:17:39.743Z"
   },
   {
    "duration": 19,
    "start_time": "2023-04-20T19:17:39.771Z"
   },
   {
    "duration": 139,
    "start_time": "2023-04-20T19:17:39.793Z"
   },
   {
    "duration": 9,
    "start_time": "2023-04-20T19:17:39.933Z"
   },
   {
    "duration": 23,
    "start_time": "2023-04-20T19:17:39.943Z"
   },
   {
    "duration": 33,
    "start_time": "2023-04-20T19:17:39.968Z"
   },
   {
    "duration": 25,
    "start_time": "2023-04-20T19:17:40.003Z"
   },
   {
    "duration": 8,
    "start_time": "2023-04-20T19:17:40.031Z"
   },
   {
    "duration": 59,
    "start_time": "2023-04-20T19:17:40.041Z"
   },
   {
    "duration": 20,
    "start_time": "2023-04-20T19:17:40.102Z"
   },
   {
    "duration": 111,
    "start_time": "2023-04-20T19:17:40.124Z"
   },
   {
    "duration": 10,
    "start_time": "2023-04-20T19:17:40.237Z"
   },
   {
    "duration": 4,
    "start_time": "2023-04-20T19:17:40.248Z"
   },
   {
    "duration": 11,
    "start_time": "2023-04-20T19:17:40.253Z"
   },
   {
    "duration": 27,
    "start_time": "2023-04-20T19:17:40.266Z"
   },
   {
    "duration": 35,
    "start_time": "2023-04-20T19:17:40.295Z"
   },
   {
    "duration": 33,
    "start_time": "2023-04-20T19:17:40.331Z"
   },
   {
    "duration": 63,
    "start_time": "2023-04-20T19:17:40.366Z"
   },
   {
    "duration": 134,
    "start_time": "2023-04-20T19:17:40.431Z"
   },
   {
    "duration": 0,
    "start_time": "2023-04-20T19:17:40.566Z"
   },
   {
    "duration": 20,
    "start_time": "2023-04-20T19:18:15.634Z"
   },
   {
    "duration": 22,
    "start_time": "2023-04-20T19:18:26.398Z"
   },
   {
    "duration": 14,
    "start_time": "2023-04-20T19:18:32.819Z"
   },
   {
    "duration": 19,
    "start_time": "2023-04-20T19:18:33.993Z"
   },
   {
    "duration": 9,
    "start_time": "2023-04-20T19:20:13.405Z"
   },
   {
    "duration": 16,
    "start_time": "2023-04-20T19:20:25.707Z"
   },
   {
    "duration": 15,
    "start_time": "2023-04-20T19:40:27.512Z"
   },
   {
    "duration": 17,
    "start_time": "2023-04-20T19:40:28.228Z"
   },
   {
    "duration": 1517,
    "start_time": "2023-04-21T03:12:16.193Z"
   },
   {
    "duration": 3027,
    "start_time": "2023-04-21T03:12:18.352Z"
   },
   {
    "duration": 24,
    "start_time": "2023-04-21T03:12:21.381Z"
   },
   {
    "duration": 37,
    "start_time": "2023-04-21T03:12:21.407Z"
   },
   {
    "duration": 140,
    "start_time": "2023-04-21T03:12:21.447Z"
   },
   {
    "duration": 10,
    "start_time": "2023-04-21T03:12:21.589Z"
   },
   {
    "duration": 20,
    "start_time": "2023-04-21T03:12:22.054Z"
   },
   {
    "duration": 13,
    "start_time": "2023-04-21T03:12:22.571Z"
   },
   {
    "duration": 22,
    "start_time": "2023-04-21T03:12:22.989Z"
   },
   {
    "duration": 8,
    "start_time": "2023-04-21T03:12:23.405Z"
   },
   {
    "duration": 18,
    "start_time": "2023-04-21T03:12:24.289Z"
   },
   {
    "duration": 18,
    "start_time": "2023-04-21T03:12:24.762Z"
   },
   {
    "duration": 92,
    "start_time": "2023-04-21T03:12:25.180Z"
   },
   {
    "duration": 9,
    "start_time": "2023-04-21T03:12:25.619Z"
   },
   {
    "duration": 3,
    "start_time": "2023-04-21T03:12:26.953Z"
   },
   {
    "duration": 7,
    "start_time": "2023-04-21T03:12:28.068Z"
   },
   {
    "duration": 4,
    "start_time": "2023-04-21T03:12:28.685Z"
   },
   {
    "duration": 14,
    "start_time": "2023-04-21T03:12:30.376Z"
   },
   {
    "duration": 4,
    "start_time": "2023-04-21T03:12:31.835Z"
   },
   {
    "duration": 27,
    "start_time": "2023-04-21T03:12:32.320Z"
   },
   {
    "duration": 129,
    "start_time": "2023-04-21T03:12:32.962Z"
   },
   {
    "duration": 17,
    "start_time": "2023-04-21T03:12:33.867Z"
   },
   {
    "duration": 14,
    "start_time": "2023-04-21T03:18:54.887Z"
   },
   {
    "duration": 1408,
    "start_time": "2023-04-21T03:20:10.869Z"
   },
   {
    "duration": 632,
    "start_time": "2023-04-21T03:20:12.279Z"
   },
   {
    "duration": 23,
    "start_time": "2023-04-21T03:20:12.912Z"
   },
   {
    "duration": 19,
    "start_time": "2023-04-21T03:20:12.938Z"
   },
   {
    "duration": 145,
    "start_time": "2023-04-21T03:20:12.972Z"
   },
   {
    "duration": 10,
    "start_time": "2023-04-21T03:20:13.118Z"
   },
   {
    "duration": 27,
    "start_time": "2023-04-21T03:20:13.129Z"
   },
   {
    "duration": 24,
    "start_time": "2023-04-21T03:20:13.157Z"
   },
   {
    "duration": 21,
    "start_time": "2023-04-21T03:20:13.183Z"
   },
   {
    "duration": 7,
    "start_time": "2023-04-21T03:20:13.206Z"
   },
   {
    "duration": 29,
    "start_time": "2023-04-21T03:20:13.214Z"
   },
   {
    "duration": 33,
    "start_time": "2023-04-21T03:20:13.245Z"
   },
   {
    "duration": 113,
    "start_time": "2023-04-21T03:20:13.279Z"
   },
   {
    "duration": 9,
    "start_time": "2023-04-21T03:20:13.394Z"
   },
   {
    "duration": 11,
    "start_time": "2023-04-21T03:20:13.405Z"
   },
   {
    "duration": 33,
    "start_time": "2023-04-21T03:20:13.417Z"
   },
   {
    "duration": 18,
    "start_time": "2023-04-21T03:20:13.451Z"
   },
   {
    "duration": 24,
    "start_time": "2023-04-21T03:20:13.471Z"
   },
   {
    "duration": 17,
    "start_time": "2023-04-21T03:20:13.496Z"
   },
   {
    "duration": 23,
    "start_time": "2023-04-21T03:20:13.515Z"
   },
   {
    "duration": 10,
    "start_time": "2023-04-21T03:20:13.540Z"
   },
   {
    "duration": 33,
    "start_time": "2023-04-21T03:20:13.551Z"
   },
   {
    "duration": 22,
    "start_time": "2023-04-21T03:21:20.833Z"
   },
   {
    "duration": 26,
    "start_time": "2023-04-21T03:21:46.146Z"
   },
   {
    "duration": 287,
    "start_time": "2023-04-21T03:25:11.663Z"
   },
   {
    "duration": 363,
    "start_time": "2023-04-21T03:25:25.682Z"
   },
   {
    "duration": 404,
    "start_time": "2023-04-21T03:26:00.208Z"
   },
   {
    "duration": 373,
    "start_time": "2023-04-21T03:26:14.353Z"
   },
   {
    "duration": 371,
    "start_time": "2023-04-21T03:26:20.877Z"
   },
   {
    "duration": 354,
    "start_time": "2023-04-21T03:26:37.522Z"
   },
   {
    "duration": 7,
    "start_time": "2023-04-21T03:32:47.490Z"
   },
   {
    "duration": 8,
    "start_time": "2023-04-21T03:32:48.339Z"
   },
   {
    "duration": 441,
    "start_time": "2023-04-21T03:32:49.315Z"
   },
   {
    "duration": 8,
    "start_time": "2023-04-21T03:32:54.988Z"
   },
   {
    "duration": 6,
    "start_time": "2023-04-21T03:32:55.667Z"
   },
   {
    "duration": 328,
    "start_time": "2023-04-21T03:32:57.712Z"
   },
   {
    "duration": 8,
    "start_time": "2023-04-21T03:32:58.226Z"
   },
   {
    "duration": 7,
    "start_time": "2023-04-21T03:32:59.289Z"
   },
   {
    "duration": 49,
    "start_time": "2023-04-21T06:29:25.024Z"
   },
   {
    "duration": 7,
    "start_time": "2023-04-21T06:29:37.754Z"
   },
   {
    "duration": 1623,
    "start_time": "2023-04-21T06:30:13.555Z"
   },
   {
    "duration": 1782,
    "start_time": "2023-04-21T06:30:15.180Z"
   },
   {
    "duration": 25,
    "start_time": "2023-04-21T06:30:16.964Z"
   },
   {
    "duration": 18,
    "start_time": "2023-04-21T06:30:16.991Z"
   },
   {
    "duration": 133,
    "start_time": "2023-04-21T06:30:17.013Z"
   },
   {
    "duration": 8,
    "start_time": "2023-04-21T06:30:17.147Z"
   },
   {
    "duration": 31,
    "start_time": "2023-04-21T06:30:17.156Z"
   },
   {
    "duration": 12,
    "start_time": "2023-04-21T06:30:17.189Z"
   },
   {
    "duration": 20,
    "start_time": "2023-04-21T06:30:17.203Z"
   },
   {
    "duration": 7,
    "start_time": "2023-04-21T06:30:17.224Z"
   },
   {
    "duration": 21,
    "start_time": "2023-04-21T06:30:17.232Z"
   },
   {
    "duration": 57,
    "start_time": "2023-04-21T06:30:17.254Z"
   },
   {
    "duration": 114,
    "start_time": "2023-04-21T06:30:17.312Z"
   },
   {
    "duration": 11,
    "start_time": "2023-04-21T06:30:17.429Z"
   },
   {
    "duration": 3,
    "start_time": "2023-04-21T06:30:17.441Z"
   },
   {
    "duration": 15,
    "start_time": "2023-04-21T06:30:17.446Z"
   },
   {
    "duration": 4,
    "start_time": "2023-04-21T06:30:17.463Z"
   },
   {
    "duration": 43,
    "start_time": "2023-04-21T06:30:17.485Z"
   },
   {
    "duration": 14,
    "start_time": "2023-04-21T06:30:17.529Z"
   },
   {
    "duration": 27,
    "start_time": "2023-04-21T06:30:17.545Z"
   },
   {
    "duration": 10,
    "start_time": "2023-04-21T06:30:17.573Z"
   },
   {
    "duration": 44,
    "start_time": "2023-04-21T06:30:17.585Z"
   },
   {
    "duration": 374,
    "start_time": "2023-04-21T06:30:17.630Z"
   },
   {
    "duration": 6,
    "start_time": "2023-04-21T06:30:18.006Z"
   },
   {
    "duration": 6,
    "start_time": "2023-04-21T06:30:18.014Z"
   },
   {
    "duration": 491,
    "start_time": "2023-04-21T06:30:18.021Z"
   },
   {
    "duration": 6,
    "start_time": "2023-04-21T06:30:18.514Z"
   },
   {
    "duration": 16,
    "start_time": "2023-04-21T06:30:18.522Z"
   },
   {
    "duration": 373,
    "start_time": "2023-04-21T06:30:18.540Z"
   },
   {
    "duration": 7,
    "start_time": "2023-04-21T06:30:18.914Z"
   },
   {
    "duration": 8,
    "start_time": "2023-04-21T06:30:18.922Z"
   },
   {
    "duration": 273,
    "start_time": "2023-04-21T06:30:18.932Z"
   },
   {
    "duration": 347,
    "start_time": "2023-04-21T06:30:49.207Z"
   },
   {
    "duration": 283,
    "start_time": "2023-04-21T06:32:02.386Z"
   },
   {
    "duration": 294,
    "start_time": "2023-04-21T06:33:00.335Z"
   },
   {
    "duration": 301,
    "start_time": "2023-04-21T06:35:56.185Z"
   },
   {
    "duration": 429,
    "start_time": "2023-04-21T06:36:02.918Z"
   },
   {
    "duration": 456,
    "start_time": "2023-04-21T06:37:20.654Z"
   },
   {
    "duration": 506,
    "start_time": "2023-04-21T06:39:08.780Z"
   },
   {
    "duration": 461,
    "start_time": "2023-04-21T06:39:46.967Z"
   },
   {
    "duration": 598,
    "start_time": "2023-04-21T06:40:22.155Z"
   },
   {
    "duration": 444,
    "start_time": "2023-04-21T06:42:52.026Z"
   },
   {
    "duration": 453,
    "start_time": "2023-04-21T06:43:04.163Z"
   },
   {
    "duration": 39,
    "start_time": "2023-04-21T07:02:04.213Z"
   },
   {
    "duration": 1129,
    "start_time": "2023-04-21T07:05:25.432Z"
   },
   {
    "duration": 1188,
    "start_time": "2023-04-21T07:07:59.680Z"
   },
   {
    "duration": 32,
    "start_time": "2023-04-21T07:16:17.414Z"
   },
   {
    "duration": 1114,
    "start_time": "2023-04-21T07:20:39.222Z"
   },
   {
    "duration": 1238,
    "start_time": "2023-04-21T07:20:49.322Z"
   },
   {
    "duration": 14,
    "start_time": "2023-04-21T07:48:17.509Z"
   },
   {
    "duration": 9,
    "start_time": "2023-04-21T07:48:26.816Z"
   },
   {
    "duration": 3,
    "start_time": "2023-04-21T07:54:05.620Z"
   },
   {
    "duration": 8,
    "start_time": "2023-04-21T07:54:06.491Z"
   },
   {
    "duration": 3,
    "start_time": "2023-04-21T07:54:16.063Z"
   },
   {
    "duration": 3,
    "start_time": "2023-04-21T07:54:28.353Z"
   },
   {
    "duration": 10,
    "start_time": "2023-04-21T08:21:03.721Z"
   },
   {
    "duration": 11,
    "start_time": "2023-04-21T08:29:47.366Z"
   },
   {
    "duration": 54,
    "start_time": "2023-04-21T08:47:47.226Z"
   },
   {
    "duration": 6,
    "start_time": "2023-04-21T08:47:51.600Z"
   },
   {
    "duration": 2422,
    "start_time": "2023-04-21T08:51:53.767Z"
   },
   {
    "duration": 3728,
    "start_time": "2023-04-21T08:52:12.256Z"
   },
   {
    "duration": 2880,
    "start_time": "2023-04-21T08:52:32.217Z"
   },
   {
    "duration": 15,
    "start_time": "2023-04-21T08:57:54.397Z"
   },
   {
    "duration": 12,
    "start_time": "2023-04-21T08:58:55.376Z"
   },
   {
    "duration": 4,
    "start_time": "2023-04-21T08:59:36.056Z"
   },
   {
    "duration": 385,
    "start_time": "2023-04-21T08:59:44.212Z"
   },
   {
    "duration": 23931,
    "start_time": "2023-04-21T08:59:56.861Z"
   },
   {
    "duration": 3416,
    "start_time": "2023-04-21T09:08:14.731Z"
   },
   {
    "duration": 7064,
    "start_time": "2023-04-21T09:08:48.616Z"
   },
   {
    "duration": 926112,
    "start_time": "2023-04-21T09:09:08.941Z"
   },
   {
    "duration": 2740,
    "start_time": "2023-04-21T09:26:56.456Z"
   },
   {
    "duration": 23492,
    "start_time": "2023-04-21T09:27:00.161Z"
   },
   {
    "duration": 23402,
    "start_time": "2023-04-21T09:27:25.406Z"
   },
   {
    "duration": 2557,
    "start_time": "2023-04-21T09:28:03.136Z"
   },
   {
    "duration": 2855,
    "start_time": "2023-04-21T09:28:12.032Z"
   },
   {
    "duration": 11,
    "start_time": "2023-04-21T10:31:14.381Z"
   },
   {
    "duration": 18,
    "start_time": "2023-04-21T10:31:50.876Z"
   },
   {
    "duration": 7966,
    "start_time": "2023-04-21T10:33:20.285Z"
   },
   {
    "duration": 15916,
    "start_time": "2023-04-21T10:36:52.451Z"
   },
   {
    "duration": 0,
    "start_time": "2023-04-21T10:37:43.470Z"
   },
   {
    "duration": 16259,
    "start_time": "2023-04-21T10:37:52.501Z"
   },
   {
    "duration": 4,
    "start_time": "2023-04-21T10:40:10.921Z"
   },
   {
    "duration": 11,
    "start_time": "2023-04-21T10:42:43.001Z"
   },
   {
    "duration": 4,
    "start_time": "2023-04-21T10:43:00.338Z"
   },
   {
    "duration": 15943,
    "start_time": "2023-04-21T10:43:06.381Z"
   },
   {
    "duration": 17,
    "start_time": "2023-04-21T10:44:17.966Z"
   },
   {
    "duration": 12,
    "start_time": "2023-04-21T10:44:53.960Z"
   },
   {
    "duration": 16133,
    "start_time": "2023-04-21T10:47:02.489Z"
   },
   {
    "duration": 15965,
    "start_time": "2023-04-21T10:48:28.021Z"
   },
   {
    "duration": 10,
    "start_time": "2023-04-21T10:55:25.381Z"
   },
   {
    "duration": 13,
    "start_time": "2023-04-21T10:56:08.141Z"
   },
   {
    "duration": 13,
    "start_time": "2023-04-21T10:56:09.641Z"
   },
   {
    "duration": 9,
    "start_time": "2023-04-21T10:56:23.860Z"
   },
   {
    "duration": 16083,
    "start_time": "2023-04-21T10:56:40.121Z"
   },
   {
    "duration": 3929,
    "start_time": "2023-04-21T10:58:16.824Z"
   },
   {
    "duration": 8,
    "start_time": "2023-04-21T10:58:26.082Z"
   },
   {
    "duration": 10,
    "start_time": "2023-04-21T10:58:27.376Z"
   },
   {
    "duration": 11,
    "start_time": "2023-04-21T10:59:05.360Z"
   },
   {
    "duration": 9949,
    "start_time": "2023-04-21T10:59:10.090Z"
   },
   {
    "duration": 1460,
    "start_time": "2023-04-21T11:00:03.597Z"
   },
   {
    "duration": 736,
    "start_time": "2023-04-21T11:00:05.059Z"
   },
   {
    "duration": 25,
    "start_time": "2023-04-21T11:00:05.796Z"
   },
   {
    "duration": 37,
    "start_time": "2023-04-21T11:00:05.823Z"
   },
   {
    "duration": 140,
    "start_time": "2023-04-21T11:00:05.862Z"
   },
   {
    "duration": 9,
    "start_time": "2023-04-21T11:00:06.004Z"
   },
   {
    "duration": 36,
    "start_time": "2023-04-21T11:00:06.014Z"
   },
   {
    "duration": 44,
    "start_time": "2023-04-21T11:00:06.052Z"
   },
   {
    "duration": 42,
    "start_time": "2023-04-21T11:00:06.098Z"
   },
   {
    "duration": 6,
    "start_time": "2023-04-21T11:00:06.143Z"
   },
   {
    "duration": 69,
    "start_time": "2023-04-21T11:00:06.150Z"
   },
   {
    "duration": 38,
    "start_time": "2023-04-21T11:00:06.221Z"
   },
   {
    "duration": 101,
    "start_time": "2023-04-21T11:00:06.261Z"
   },
   {
    "duration": 10,
    "start_time": "2023-04-21T11:00:06.364Z"
   },
   {
    "duration": 34,
    "start_time": "2023-04-21T11:00:06.376Z"
   },
   {
    "duration": 35,
    "start_time": "2023-04-21T11:00:06.412Z"
   },
   {
    "duration": 14,
    "start_time": "2023-04-21T11:00:06.449Z"
   },
   {
    "duration": 31,
    "start_time": "2023-04-21T11:00:06.465Z"
   },
   {
    "duration": 15,
    "start_time": "2023-04-21T11:00:06.498Z"
   },
   {
    "duration": 51,
    "start_time": "2023-04-21T11:00:06.515Z"
   },
   {
    "duration": 19,
    "start_time": "2023-04-21T11:00:06.568Z"
   },
   {
    "duration": 62,
    "start_time": "2023-04-21T11:00:06.589Z"
   },
   {
    "duration": 401,
    "start_time": "2023-04-21T11:00:06.653Z"
   },
   {
    "duration": 6,
    "start_time": "2023-04-21T11:00:07.056Z"
   },
   {
    "duration": 10,
    "start_time": "2023-04-21T11:00:07.064Z"
   },
   {
    "duration": 387,
    "start_time": "2023-04-21T11:00:07.095Z"
   },
   {
    "duration": 7,
    "start_time": "2023-04-21T11:00:07.485Z"
   },
   {
    "duration": 7,
    "start_time": "2023-04-21T11:00:07.495Z"
   },
   {
    "duration": 498,
    "start_time": "2023-04-21T11:00:07.504Z"
   },
   {
    "duration": 7,
    "start_time": "2023-04-21T11:00:08.003Z"
   },
   {
    "duration": 20,
    "start_time": "2023-04-21T11:00:08.012Z"
   },
   {
    "duration": 503,
    "start_time": "2023-04-21T11:00:08.034Z"
   },
   {
    "duration": 490,
    "start_time": "2023-04-21T11:00:08.539Z"
   },
   {
    "duration": 36,
    "start_time": "2023-04-21T11:00:09.031Z"
   },
   {
    "duration": 1082,
    "start_time": "2023-04-21T11:00:09.068Z"
   },
   {
    "duration": 49,
    "start_time": "2023-04-21T11:00:10.152Z"
   },
   {
    "duration": 13,
    "start_time": "2023-04-21T11:00:10.203Z"
   },
   {
    "duration": 15,
    "start_time": "2023-04-21T11:00:10.218Z"
   },
   {
    "duration": 5,
    "start_time": "2023-04-21T11:00:10.235Z"
   },
   {
    "duration": 12,
    "start_time": "2023-04-21T11:00:10.242Z"
   },
   {
    "duration": 4036,
    "start_time": "2023-04-21T11:00:10.256Z"
   },
   {
    "duration": 23829,
    "start_time": "2023-04-21T11:00:14.384Z"
   },
   {
    "duration": 1308,
    "start_time": "2023-04-21T11:02:01.406Z"
   },
   {
    "duration": 686,
    "start_time": "2023-04-21T11:02:02.716Z"
   },
   {
    "duration": 24,
    "start_time": "2023-04-21T11:02:03.404Z"
   },
   {
    "duration": 17,
    "start_time": "2023-04-21T11:02:03.429Z"
   },
   {
    "duration": 135,
    "start_time": "2023-04-21T11:02:03.448Z"
   },
   {
    "duration": 8,
    "start_time": "2023-04-21T11:02:03.585Z"
   },
   {
    "duration": 35,
    "start_time": "2023-04-21T11:02:03.594Z"
   },
   {
    "duration": 15,
    "start_time": "2023-04-21T11:02:03.630Z"
   },
   {
    "duration": 21,
    "start_time": "2023-04-21T11:02:03.647Z"
   },
   {
    "duration": 20,
    "start_time": "2023-04-21T11:02:03.669Z"
   },
   {
    "duration": 20,
    "start_time": "2023-04-21T11:02:03.690Z"
   },
   {
    "duration": 31,
    "start_time": "2023-04-21T11:02:03.712Z"
   },
   {
    "duration": 106,
    "start_time": "2023-04-21T11:02:03.745Z"
   },
   {
    "duration": 10,
    "start_time": "2023-04-21T11:02:03.854Z"
   },
   {
    "duration": 3,
    "start_time": "2023-04-21T11:02:03.866Z"
   },
   {
    "duration": 11,
    "start_time": "2023-04-21T11:02:03.885Z"
   },
   {
    "duration": 17,
    "start_time": "2023-04-21T11:02:03.897Z"
   },
   {
    "duration": 26,
    "start_time": "2023-04-21T11:02:03.915Z"
   },
   {
    "duration": 13,
    "start_time": "2023-04-21T11:02:03.943Z"
   },
   {
    "duration": 29,
    "start_time": "2023-04-21T11:02:03.958Z"
   },
   {
    "duration": 10,
    "start_time": "2023-04-21T11:02:03.989Z"
   },
   {
    "duration": 37,
    "start_time": "2023-04-21T11:02:04.001Z"
   },
   {
    "duration": 493,
    "start_time": "2023-04-21T11:02:04.039Z"
   },
   {
    "duration": 9,
    "start_time": "2023-04-21T11:02:04.534Z"
   },
   {
    "duration": 9,
    "start_time": "2023-04-21T11:02:04.545Z"
   },
   {
    "duration": 406,
    "start_time": "2023-04-21T11:02:04.556Z"
   },
   {
    "duration": 9,
    "start_time": "2023-04-21T11:02:04.964Z"
   },
   {
    "duration": 8,
    "start_time": "2023-04-21T11:02:04.986Z"
   },
   {
    "duration": 476,
    "start_time": "2023-04-21T11:02:04.996Z"
   },
   {
    "duration": 12,
    "start_time": "2023-04-21T11:02:05.474Z"
   },
   {
    "duration": 7,
    "start_time": "2023-04-21T11:02:05.488Z"
   },
   {
    "duration": 510,
    "start_time": "2023-04-21T11:02:05.497Z"
   },
   {
    "duration": 487,
    "start_time": "2023-04-21T11:02:06.009Z"
   },
   {
    "duration": 31,
    "start_time": "2023-04-21T11:02:06.498Z"
   },
   {
    "duration": 1081,
    "start_time": "2023-04-21T11:02:06.531Z"
   },
   {
    "duration": 30,
    "start_time": "2023-04-21T11:02:07.614Z"
   },
   {
    "duration": 10,
    "start_time": "2023-04-21T11:02:07.646Z"
   },
   {
    "duration": 16,
    "start_time": "2023-04-21T11:02:07.657Z"
   },
   {
    "duration": 11,
    "start_time": "2023-04-21T11:02:07.675Z"
   },
   {
    "duration": 5,
    "start_time": "2023-04-21T11:02:07.688Z"
   },
   {
    "duration": 3091,
    "start_time": "2023-04-21T11:02:07.696Z"
   },
   {
    "duration": 22899,
    "start_time": "2023-04-21T11:02:10.790Z"
   },
   {
    "duration": 1452,
    "start_time": "2023-04-21T11:04:59.171Z"
   },
   {
    "duration": 751,
    "start_time": "2023-04-21T11:05:00.625Z"
   },
   {
    "duration": 26,
    "start_time": "2023-04-21T11:05:01.378Z"
   },
   {
    "duration": 43,
    "start_time": "2023-04-21T11:05:01.406Z"
   },
   {
    "duration": 176,
    "start_time": "2023-04-21T11:05:01.451Z"
   },
   {
    "duration": 8,
    "start_time": "2023-04-21T11:05:01.629Z"
   },
   {
    "duration": 56,
    "start_time": "2023-04-21T11:05:01.639Z"
   },
   {
    "duration": 55,
    "start_time": "2023-04-21T11:05:01.696Z"
   },
   {
    "duration": 121,
    "start_time": "2023-04-21T11:05:01.753Z"
   },
   {
    "duration": 21,
    "start_time": "2023-04-21T11:05:01.877Z"
   },
   {
    "duration": 52,
    "start_time": "2023-04-21T11:05:01.900Z"
   },
   {
    "duration": 33,
    "start_time": "2023-04-21T11:05:01.954Z"
   },
   {
    "duration": 108,
    "start_time": "2023-04-21T11:05:01.989Z"
   },
   {
    "duration": 11,
    "start_time": "2023-04-21T11:05:02.098Z"
   },
   {
    "duration": 27,
    "start_time": "2023-04-21T11:05:02.110Z"
   },
   {
    "duration": 59,
    "start_time": "2023-04-21T11:05:02.139Z"
   },
   {
    "duration": 100,
    "start_time": "2023-04-21T11:05:02.200Z"
   },
   {
    "duration": 136,
    "start_time": "2023-04-21T11:05:02.301Z"
   },
   {
    "duration": 54,
    "start_time": "2023-04-21T11:05:02.439Z"
   },
   {
    "duration": 92,
    "start_time": "2023-04-21T11:05:02.495Z"
   },
   {
    "duration": 33,
    "start_time": "2023-04-21T11:05:02.589Z"
   },
   {
    "duration": 158,
    "start_time": "2023-04-21T11:05:02.623Z"
   },
   {
    "duration": 372,
    "start_time": "2023-04-21T11:05:02.783Z"
   },
   {
    "duration": 7,
    "start_time": "2023-04-21T11:05:03.157Z"
   },
   {
    "duration": 18,
    "start_time": "2023-04-21T11:05:03.165Z"
   },
   {
    "duration": 356,
    "start_time": "2023-04-21T11:05:03.185Z"
   },
   {
    "duration": 7,
    "start_time": "2023-04-21T11:05:03.542Z"
   },
   {
    "duration": 14,
    "start_time": "2023-04-21T11:05:03.552Z"
   },
   {
    "duration": 500,
    "start_time": "2023-04-21T11:05:03.567Z"
   },
   {
    "duration": 16,
    "start_time": "2023-04-21T11:05:04.070Z"
   },
   {
    "duration": 21,
    "start_time": "2023-04-21T11:05:04.089Z"
   },
   {
    "duration": 522,
    "start_time": "2023-04-21T11:05:04.113Z"
   },
   {
    "duration": 490,
    "start_time": "2023-04-21T11:05:04.637Z"
   },
   {
    "duration": 33,
    "start_time": "2023-04-21T11:05:05.129Z"
   },
   {
    "duration": 1062,
    "start_time": "2023-04-21T11:05:05.165Z"
   },
   {
    "duration": 29,
    "start_time": "2023-04-21T11:05:06.228Z"
   },
   {
    "duration": 26,
    "start_time": "2023-04-21T11:05:06.259Z"
   },
   {
    "duration": 16,
    "start_time": "2023-04-21T11:05:06.287Z"
   },
   {
    "duration": 37,
    "start_time": "2023-04-21T11:05:06.305Z"
   },
   {
    "duration": 25,
    "start_time": "2023-04-21T11:05:06.344Z"
   },
   {
    "duration": 2920,
    "start_time": "2023-04-21T11:05:06.371Z"
   },
   {
    "duration": 22856,
    "start_time": "2023-04-21T11:05:09.293Z"
   },
   {
    "duration": 548250,
    "start_time": "2023-04-21T11:05:32.151Z"
   },
   {
    "duration": 9876,
    "start_time": "2023-04-21T11:14:40.403Z"
   },
   {
    "duration": 8,
    "start_time": "2023-04-21T11:14:50.285Z"
   },
   {
    "duration": 8,
    "start_time": "2023-04-21T11:14:50.296Z"
   },
   {
    "duration": 1385,
    "start_time": "2023-04-21T11:15:30.821Z"
   },
   {
    "duration": 731,
    "start_time": "2023-04-21T11:15:32.208Z"
   },
   {
    "duration": 25,
    "start_time": "2023-04-21T11:15:32.941Z"
   },
   {
    "duration": 27,
    "start_time": "2023-04-21T11:15:32.968Z"
   },
   {
    "duration": 129,
    "start_time": "2023-04-21T11:15:32.997Z"
   },
   {
    "duration": 9,
    "start_time": "2023-04-21T11:15:33.127Z"
   },
   {
    "duration": 21,
    "start_time": "2023-04-21T11:15:33.138Z"
   },
   {
    "duration": 32,
    "start_time": "2023-04-21T11:15:33.161Z"
   },
   {
    "duration": 21,
    "start_time": "2023-04-21T11:15:33.195Z"
   },
   {
    "duration": 7,
    "start_time": "2023-04-21T11:15:33.220Z"
   },
   {
    "duration": 20,
    "start_time": "2023-04-21T11:15:33.229Z"
   },
   {
    "duration": 52,
    "start_time": "2023-04-21T11:15:33.251Z"
   },
   {
    "duration": 129,
    "start_time": "2023-04-21T11:15:33.304Z"
   },
   {
    "duration": 10,
    "start_time": "2023-04-21T11:15:33.435Z"
   },
   {
    "duration": 3,
    "start_time": "2023-04-21T11:15:33.447Z"
   },
   {
    "duration": 10,
    "start_time": "2023-04-21T11:15:33.452Z"
   },
   {
    "duration": 24,
    "start_time": "2023-04-21T11:15:33.464Z"
   },
   {
    "duration": 20,
    "start_time": "2023-04-21T11:15:33.490Z"
   },
   {
    "duration": 16,
    "start_time": "2023-04-21T11:15:33.511Z"
   },
   {
    "duration": 27,
    "start_time": "2023-04-21T11:15:33.528Z"
   },
   {
    "duration": 11,
    "start_time": "2023-04-21T11:15:33.585Z"
   },
   {
    "duration": 46,
    "start_time": "2023-04-21T11:15:33.597Z"
   },
   {
    "duration": 452,
    "start_time": "2023-04-21T11:15:33.645Z"
   },
   {
    "duration": 9,
    "start_time": "2023-04-21T11:15:34.100Z"
   },
   {
    "duration": 11,
    "start_time": "2023-04-21T11:15:34.111Z"
   },
   {
    "duration": 441,
    "start_time": "2023-04-21T11:15:34.124Z"
   },
   {
    "duration": 8,
    "start_time": "2023-04-21T11:15:34.566Z"
   },
   {
    "duration": 8,
    "start_time": "2023-04-21T11:15:34.584Z"
   },
   {
    "duration": 479,
    "start_time": "2023-04-21T11:15:34.594Z"
   },
   {
    "duration": 16,
    "start_time": "2023-04-21T11:15:35.075Z"
   },
   {
    "duration": 43,
    "start_time": "2023-04-21T11:15:35.092Z"
   },
   {
    "duration": 458,
    "start_time": "2023-04-21T11:15:35.137Z"
   },
   {
    "duration": 489,
    "start_time": "2023-04-21T11:15:35.596Z"
   },
   {
    "duration": 32,
    "start_time": "2023-04-21T11:15:36.087Z"
   },
   {
    "duration": 1065,
    "start_time": "2023-04-21T11:15:36.121Z"
   },
   {
    "duration": 30,
    "start_time": "2023-04-21T11:15:37.188Z"
   },
   {
    "duration": 10,
    "start_time": "2023-04-21T11:15:37.220Z"
   },
   {
    "duration": 7,
    "start_time": "2023-04-21T11:15:37.231Z"
   },
   {
    "duration": 4,
    "start_time": "2023-04-21T11:15:37.239Z"
   },
   {
    "duration": 4,
    "start_time": "2023-04-21T11:15:37.245Z"
   },
   {
    "duration": 2935,
    "start_time": "2023-04-21T11:15:37.250Z"
   },
   {
    "duration": 22744,
    "start_time": "2023-04-21T11:15:40.187Z"
   },
   {
    "duration": 910755,
    "start_time": "2023-04-21T11:16:02.933Z"
   },
   {
    "duration": 9728,
    "start_time": "2023-04-21T11:31:13.689Z"
   },
   {
    "duration": 11,
    "start_time": "2023-04-21T11:31:23.419Z"
   },
   {
    "duration": 493,
    "start_time": "2023-04-21T13:15:00.196Z"
   },
   {
    "duration": 576,
    "start_time": "2023-04-21T13:15:25.446Z"
   },
   {
    "duration": 64,
    "start_time": "2023-04-21T13:20:08.700Z"
   },
   {
    "duration": 0,
    "start_time": "2023-04-21T13:23:28.627Z"
   }
  ],
  "kernelspec": {
   "display_name": "Python 3 (ipykernel)",
   "language": "python",
   "name": "python3"
  },
  "language_info": {
   "codemirror_mode": {
    "name": "ipython",
    "version": 3
   },
   "file_extension": ".py",
   "mimetype": "text/x-python",
   "name": "python",
   "nbconvert_exporter": "python",
   "pygments_lexer": "ipython3",
   "version": "3.9.15"
  },
  "toc": {
   "base_numbering": 1,
   "nav_menu": {},
   "number_sections": true,
   "sideBar": true,
   "skip_h1_title": true,
   "title_cell": "Содержание",
   "title_sidebar": "Contents",
   "toc_cell": true,
   "toc_position": {
    "height": "calc(100% - 180px)",
    "left": "10px",
    "top": "150px",
    "width": "330px"
   },
   "toc_section_display": true,
   "toc_window_display": true
  }
 },
 "nbformat": 4,
 "nbformat_minor": 2
}
